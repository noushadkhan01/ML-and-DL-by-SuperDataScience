{
  "nbformat": 4,
  "nbformat_minor": 0,
  "metadata": {
    "colab": {
      "name": "SVR_on_Position_salary_dataset.ipynb",
      "version": "0.3.2",
      "provenance": [],
      "include_colab_link": true
    },
    "kernelspec": {
      "name": "python3",
      "display_name": "Python 3"
    }
  },
  "cells": [
    {
      "cell_type": "markdown",
      "metadata": {
        "id": "view-in-github",
        "colab_type": "text"
      },
      "source": [
        "<a href=\"https://colab.research.google.com/github/noushadkhan01/ML-and-DL-by-SuperDataScience/blob/master/Machine-Learning/Part%202%20-%20Regression/Section%207%20-%20Support%20Vector%20Regression%20(SVR)/SVR_on_Position_salary_dataset.ipynb\" target=\"_parent\"><img src=\"https://colab.research.google.com/assets/colab-badge.svg\" alt=\"Open In Colab\"/></a>"
      ]
    },
    {
      "cell_type": "code",
      "metadata": {
        "id": "X_BCkTpctPOR",
        "colab_type": "code",
        "outputId": "2fae3552-9888-4387-b560-2a28a689bd06",
        "colab": {
          "base_uri": "https://localhost:8080/",
          "height": 136
        }
      },
      "source": [
        "!git clone https://github.com/noushadkhan01/ML-and-DL-by-SuperDataScience.git"
      ],
      "execution_count": 1,
      "outputs": [
        {
          "output_type": "stream",
          "text": [
            "Cloning into 'ML-and-DL-by-SuperDataScience'...\n",
            "remote: Enumerating objects: 246, done.\u001b[K\n",
            "remote: Counting objects:   0% (1/246)   \u001b[K\rremote: Counting objects:   1% (3/246)   \u001b[K\rremote: Counting objects:   2% (5/246)   \u001b[K\rremote: Counting objects:   3% (8/246)   \u001b[K\rremote: Counting objects:   4% (10/246)   \u001b[K\rremote: Counting objects:   5% (13/246)   \u001b[K\rremote: Counting objects:   6% (15/246)   \u001b[K\rremote: Counting objects:   7% (18/246)   \u001b[K\rremote: Counting objects:   8% (20/246)   \u001b[K\rremote: Counting objects:   9% (23/246)   \u001b[K\rremote: Counting objects:  10% (25/246)   \u001b[K\rremote: Counting objects:  11% (28/246)   \u001b[K\rremote: Counting objects:  12% (30/246)   \u001b[K\rremote: Counting objects:  13% (32/246)   \u001b[K\rremote: Counting objects:  14% (35/246)   \u001b[K\rremote: Counting objects:  15% (37/246)   \u001b[K\rremote: Counting objects:  16% (40/246)   \u001b[K\rremote: Counting objects:  17% (42/246)   \u001b[K\rremote: Counting objects:  18% (45/246)   \u001b[K\rremote: Counting objects:  19% (47/246)   \u001b[K\rremote: Counting objects:  20% (50/246)   \u001b[K\rremote: Counting objects:  21% (52/246)   \u001b[K\rremote: Counting objects:  22% (55/246)   \u001b[K\rremote: Counting objects:  23% (57/246)   \u001b[K\rremote: Counting objects:  24% (60/246)   \u001b[K\rremote: Counting objects:  25% (62/246)   \u001b[K\rremote: Counting objects:  26% (64/246)   \u001b[K\rremote: Counting objects:  27% (67/246)   \u001b[K\rremote: Counting objects:  28% (69/246)   \u001b[K\rremote: Counting objects:  29% (72/246)   \u001b[K\rremote: Counting objects:  30% (74/246)   \u001b[K\rremote: Counting objects:  31% (77/246)   \u001b[K\rremote: Counting objects:  32% (79/246)   \u001b[K\rremote: Counting objects:  33% (82/246)   \u001b[K\rremote: Counting objects:  34% (84/246)   \u001b[K\rremote: Counting objects:  35% (87/246)   \u001b[K\rremote: Counting objects:  36% (89/246)   \u001b[K\rremote: Counting objects:  37% (92/246)   \u001b[K\rremote: Counting objects:  38% (94/246)   \u001b[K\rremote: Counting objects:  39% (96/246)   \u001b[K\rremote: Counting objects:  40% (99/246)   \u001b[K\rremote: Counting objects:  41% (101/246)   \u001b[K\rremote: Counting objects:  42% (104/246)   \u001b[K\rremote: Counting objects:  43% (106/246)   \u001b[K\rremote: Counting objects:  44% (109/246)   \u001b[K\rremote: Counting objects:  45% (111/246)   \u001b[K\rremote: Counting objects:  46% (114/246)   \u001b[K\rremote: Counting objects:  47% (116/246)   \u001b[K\rremote: Counting objects:  48% (119/246)   \u001b[K\rremote: Counting objects:  49% (121/246)   \u001b[K\rremote: Counting objects:  50% (123/246)   \u001b[K\rremote: Counting objects:  51% (126/246)   \u001b[K\rremote: Counting objects:  52% (128/246)   \u001b[K\rremote: Counting objects:  53% (131/246)   \u001b[K\rremote: Counting objects:  54% (133/246)   \u001b[K\rremote: Counting objects:  55% (136/246)   \u001b[K\rremote: Counting objects:  56% (138/246)   \u001b[K\rremote: Counting objects:  57% (141/246)   \u001b[K\rremote: Counting objects:  58% (143/246)   \u001b[K\rremote: Counting objects:  59% (146/246)   \u001b[K\rremote: Counting objects:  60% (148/246)   \u001b[K\rremote: Counting objects:  61% (151/246)   \u001b[K\rremote: Counting objects:  62% (153/246)   \u001b[K\rremote: Counting objects:  63% (155/246)   \u001b[K\rremote: Counting objects:  64% (158/246)   \u001b[K\rremote: Counting objects:  65% (160/246)   \u001b[K\rremote: Counting objects:  66% (163/246)   \u001b[K\rremote: Counting objects:  67% (165/246)   \u001b[K\rremote: Counting objects:  68% (168/246)   \u001b[K\rremote: Counting objects:  69% (170/246)   \u001b[K\rremote: Counting objects:  70% (173/246)   \u001b[K\rremote: Counting objects:  71% (175/246)   \u001b[K\rremote: Counting objects:  72% (178/246)   \u001b[K\rremote: Counting objects:  73% (180/246)   \u001b[K\rremote: Counting objects:  74% (183/246)   \u001b[K\rremote: Counting objects:  75% (185/246)   \u001b[K\rremote: Counting objects:  76% (187/246)   \u001b[K\rremote: Counting objects:  77% (190/246)   \u001b[K\rremote: Counting objects:  78% (192/246)   \u001b[K\rremote: Counting objects:  79% (195/246)   \u001b[K\rremote: Counting objects:  80% (197/246)   \u001b[K\rremote: Counting objects:  81% (200/246)   \u001b[K\rremote: Counting objects:  82% (202/246)   \u001b[K\rremote: Counting objects:  83% (205/246)   \u001b[K\rremote: Counting objects:  84% (207/246)   \u001b[K\rremote: Counting objects:  85% (210/246)   \u001b[K\rremote: Counting objects:  86% (212/246)   \u001b[K\rremote: Counting objects:  87% (215/246)   \u001b[K\rremote: Counting objects:  88% (217/246)   \u001b[K\rremote: Counting objects:  89% (219/246)   \u001b[K\rremote: Counting objects:  90% (222/246)   \u001b[K\rremote: Counting objects:  91% (224/246)   \u001b[K\rremote: Counting objects:  92% (227/246)   \u001b[K\rremote: Counting objects:  93% (229/246)   \u001b[K\rremote: Counting objects:  94% (232/246)   \u001b[K\rremote: Counting objects:  95% (234/246)   \u001b[K\rremote: Counting objects:  96% (237/246)   \u001b[K\rremote: Counting objects:  97% (239/246)   \u001b[K\rremote: Counting objects:  98% (242/246)   \u001b[K\rremote: Counting objects:  99% (244/246)   \u001b[K\rremote: Counting objects: 100% (246/246)   \u001b[K\rremote: Counting objects: 100% (246/246), done.\u001b[K\n",
            "remote: Compressing objects: 100% (189/189), done.\u001b[K\n",
            "remote: Total 246 (delta 75), reused 199 (delta 53), pack-reused 0\u001b[K\n",
            "Receiving objects: 100% (246/246), 25.12 MiB | 20.98 MiB/s, done.\n",
            "Resolving deltas: 100% (75/75), done.\n"
          ],
          "name": "stdout"
        }
      ]
    },
    {
      "cell_type": "code",
      "metadata": {
        "id": "i5OE_YGatTpS",
        "colab_type": "code",
        "outputId": "02037ed9-16ee-4645-8cfa-77a96cdb9085",
        "colab": {
          "base_uri": "https://localhost:8080/",
          "height": 34
        }
      },
      "source": [
        "%cd ML-and-DL-by-SuperDataScience/Machine-Learning/Part 2 - Regression/Section 7 - Support Vector Regression (SVR)/"
      ],
      "execution_count": 2,
      "outputs": [
        {
          "output_type": "stream",
          "text": [
            "/content/ML-and-DL-by-SuperDataScience/Machine-Learning/Part 2 - Regression/Section 7 - Support Vector Regression (SVR)\n"
          ],
          "name": "stdout"
        }
      ]
    },
    {
      "cell_type": "code",
      "metadata": {
        "id": "mTWE1w8ttZTT",
        "colab_type": "code",
        "outputId": "e21d6161-e24c-4b81-9b68-32f9f1669646",
        "colab": {
          "base_uri": "https://localhost:8080/",
          "height": 51
        }
      },
      "source": [
        "!ls"
      ],
      "execution_count": 3,
      "outputs": [
        {
          "output_type": "stream",
          "text": [
            "Position_Salaries.csv\tregression_template.R  svr.R\n",
            "regression_template.py\tsvr.py\n"
          ],
          "name": "stdout"
        }
      ]
    },
    {
      "cell_type": "code",
      "metadata": {
        "id": "PxwgW6UBtaN4",
        "colab_type": "code",
        "colab": {}
      },
      "source": [
        "import pandas as pd\n",
        "import numpy as np\n",
        "import matplotlib.pyplot as plt\n",
        "import seaborn as sns\n",
        "%matplotlib inline"
      ],
      "execution_count": 0,
      "outputs": []
    },
    {
      "cell_type": "code",
      "metadata": {
        "id": "9ZcDXnGDtkcu",
        "colab_type": "code",
        "outputId": "b867bc82-8f2e-48f5-fc7b-4654c89d3e81",
        "colab": {
          "base_uri": "https://localhost:8080/",
          "height": 204
        }
      },
      "source": [
        "df = pd.read_csv('Position_Salaries.csv')\n",
        "df.head()"
      ],
      "execution_count": 5,
      "outputs": [
        {
          "output_type": "execute_result",
          "data": {
            "text/html": [
              "<div>\n",
              "<style scoped>\n",
              "    .dataframe tbody tr th:only-of-type {\n",
              "        vertical-align: middle;\n",
              "    }\n",
              "\n",
              "    .dataframe tbody tr th {\n",
              "        vertical-align: top;\n",
              "    }\n",
              "\n",
              "    .dataframe thead th {\n",
              "        text-align: right;\n",
              "    }\n",
              "</style>\n",
              "<table border=\"1\" class=\"dataframe\">\n",
              "  <thead>\n",
              "    <tr style=\"text-align: right;\">\n",
              "      <th></th>\n",
              "      <th>Position</th>\n",
              "      <th>Level</th>\n",
              "      <th>Salary</th>\n",
              "    </tr>\n",
              "  </thead>\n",
              "  <tbody>\n",
              "    <tr>\n",
              "      <th>0</th>\n",
              "      <td>Business Analyst</td>\n",
              "      <td>1</td>\n",
              "      <td>45000</td>\n",
              "    </tr>\n",
              "    <tr>\n",
              "      <th>1</th>\n",
              "      <td>Junior Consultant</td>\n",
              "      <td>2</td>\n",
              "      <td>50000</td>\n",
              "    </tr>\n",
              "    <tr>\n",
              "      <th>2</th>\n",
              "      <td>Senior Consultant</td>\n",
              "      <td>3</td>\n",
              "      <td>60000</td>\n",
              "    </tr>\n",
              "    <tr>\n",
              "      <th>3</th>\n",
              "      <td>Manager</td>\n",
              "      <td>4</td>\n",
              "      <td>80000</td>\n",
              "    </tr>\n",
              "    <tr>\n",
              "      <th>4</th>\n",
              "      <td>Country Manager</td>\n",
              "      <td>5</td>\n",
              "      <td>110000</td>\n",
              "    </tr>\n",
              "  </tbody>\n",
              "</table>\n",
              "</div>"
            ],
            "text/plain": [
              "            Position  Level  Salary\n",
              "0   Business Analyst      1   45000\n",
              "1  Junior Consultant      2   50000\n",
              "2  Senior Consultant      3   60000\n",
              "3            Manager      4   80000\n",
              "4    Country Manager      5  110000"
            ]
          },
          "metadata": {
            "tags": []
          },
          "execution_count": 5
        }
      ]
    },
    {
      "cell_type": "code",
      "metadata": {
        "id": "_FJtEPVtttyX",
        "colab_type": "code",
        "outputId": "8ab08da4-a080-478e-910b-1752db7d1ee9",
        "colab": {
          "base_uri": "https://localhost:8080/",
          "height": 153
        }
      },
      "source": [
        "df.info()"
      ],
      "execution_count": 6,
      "outputs": [
        {
          "output_type": "stream",
          "text": [
            "<class 'pandas.core.frame.DataFrame'>\n",
            "RangeIndex: 10 entries, 0 to 9\n",
            "Data columns (total 3 columns):\n",
            "Position    10 non-null object\n",
            "Level       10 non-null int64\n",
            "Salary      10 non-null int64\n",
            "dtypes: int64(2), object(1)\n",
            "memory usage: 320.0+ bytes\n"
          ],
          "name": "stdout"
        }
      ]
    },
    {
      "cell_type": "markdown",
      "metadata": {
        "id": "PYXGoH1ytuxI",
        "colab_type": "text"
      },
      "source": [
        "# Train Model without Position for better visualisation"
      ]
    },
    {
      "cell_type": "code",
      "metadata": {
        "id": "0ymIh8UnuKO8",
        "colab_type": "code",
        "colab": {}
      },
      "source": [
        "from sklearn.linear_model import LinearRegression\n",
        "from sklearn.preprocessing import PolynomialFeatures\n",
        "from sklearn.svm import SVR\n",
        "from sklearn.preprocessing import StandardScaler"
      ],
      "execution_count": 0,
      "outputs": []
    },
    {
      "cell_type": "code",
      "metadata": {
        "id": "amjXBX5jhxMA",
        "colab_type": "code",
        "colab": {
          "base_uri": "https://localhost:8080/",
          "height": 34
        },
        "outputId": "f2301ddf-8b94-4a06-d94e-d5a5d3cd31b8"
      },
      "source": [
        "y.ndim"
      ],
      "execution_count": 19,
      "outputs": [
        {
          "output_type": "execute_result",
          "data": {
            "text/plain": [
              "1"
            ]
          },
          "metadata": {
            "tags": []
          },
          "execution_count": 19
        }
      ]
    },
    {
      "cell_type": "code",
      "metadata": {
        "id": "38NMle3kujV8",
        "colab_type": "code",
        "colab": {}
      },
      "source": [
        "def my_visualisation(X, y, kernel, penalty, degree, evaluate = 6.5, scaling = False):\n",
        "  evaluate = np.array([[evaluate]])\n",
        "  if scaling:\n",
        "    sc_X = StandardScaler()\n",
        "    sc_y = StandardScaler()\n",
        "    X = sc_X.fit_transform(X)\n",
        "    y = sc_y.fit_transform(y)\n",
        "    evaluate = sc_X.transform(evaluate)\n",
        " \n",
        "  model = SVR(C = penalty, kernel = kernel, degree = degree).fit(X, y)\n",
        "  plt.figure(figsize = (10, 5))\n",
        "  plt.scatter(X, y, color = 'green')\n",
        "  plt.plot(X, model.predict(X), c = 'blue')\n",
        "  plt.scatter(evaluate, model.predict(evaluate), c = 'red', marker = 'o')\n",
        "  plt.title('SVR')\n",
        "  plt.show()"
      ],
      "execution_count": 0,
      "outputs": []
    },
    {
      "cell_type": "code",
      "metadata": {
        "id": "5EEBtsaLvo0s",
        "colab_type": "code",
        "outputId": "e258c0f3-899b-4879-efd6-83266fb95ae1",
        "colab": {
          "base_uri": "https://localhost:8080/",
          "height": 111
        }
      },
      "source": [
        "X = df[['Level']]\n",
        "X.head(2)"
      ],
      "execution_count": 15,
      "outputs": [
        {
          "output_type": "execute_result",
          "data": {
            "text/html": [
              "<div>\n",
              "<style scoped>\n",
              "    .dataframe tbody tr th:only-of-type {\n",
              "        vertical-align: middle;\n",
              "    }\n",
              "\n",
              "    .dataframe tbody tr th {\n",
              "        vertical-align: top;\n",
              "    }\n",
              "\n",
              "    .dataframe thead th {\n",
              "        text-align: right;\n",
              "    }\n",
              "</style>\n",
              "<table border=\"1\" class=\"dataframe\">\n",
              "  <thead>\n",
              "    <tr style=\"text-align: right;\">\n",
              "      <th></th>\n",
              "      <th>Level</th>\n",
              "    </tr>\n",
              "  </thead>\n",
              "  <tbody>\n",
              "    <tr>\n",
              "      <th>0</th>\n",
              "      <td>1</td>\n",
              "    </tr>\n",
              "    <tr>\n",
              "      <th>1</th>\n",
              "      <td>2</td>\n",
              "    </tr>\n",
              "  </tbody>\n",
              "</table>\n",
              "</div>"
            ],
            "text/plain": [
              "   Level\n",
              "0      1\n",
              "1      2"
            ]
          },
          "metadata": {
            "tags": []
          },
          "execution_count": 15
        }
      ]
    },
    {
      "cell_type": "code",
      "metadata": {
        "id": "WuJbF8iRvz-x",
        "colab_type": "code",
        "outputId": "3bed0811-2e19-448e-e760-f624f65d22a9",
        "colab": {
          "base_uri": "https://localhost:8080/",
          "height": 359
        }
      },
      "source": [
        "y = df[['Salary']]\n",
        "y"
      ],
      "execution_count": 23,
      "outputs": [
        {
          "output_type": "execute_result",
          "data": {
            "text/html": [
              "<div>\n",
              "<style scoped>\n",
              "    .dataframe tbody tr th:only-of-type {\n",
              "        vertical-align: middle;\n",
              "    }\n",
              "\n",
              "    .dataframe tbody tr th {\n",
              "        vertical-align: top;\n",
              "    }\n",
              "\n",
              "    .dataframe thead th {\n",
              "        text-align: right;\n",
              "    }\n",
              "</style>\n",
              "<table border=\"1\" class=\"dataframe\">\n",
              "  <thead>\n",
              "    <tr style=\"text-align: right;\">\n",
              "      <th></th>\n",
              "      <th>Salary</th>\n",
              "    </tr>\n",
              "  </thead>\n",
              "  <tbody>\n",
              "    <tr>\n",
              "      <th>0</th>\n",
              "      <td>45000</td>\n",
              "    </tr>\n",
              "    <tr>\n",
              "      <th>1</th>\n",
              "      <td>50000</td>\n",
              "    </tr>\n",
              "    <tr>\n",
              "      <th>2</th>\n",
              "      <td>60000</td>\n",
              "    </tr>\n",
              "    <tr>\n",
              "      <th>3</th>\n",
              "      <td>80000</td>\n",
              "    </tr>\n",
              "    <tr>\n",
              "      <th>4</th>\n",
              "      <td>110000</td>\n",
              "    </tr>\n",
              "    <tr>\n",
              "      <th>5</th>\n",
              "      <td>150000</td>\n",
              "    </tr>\n",
              "    <tr>\n",
              "      <th>6</th>\n",
              "      <td>200000</td>\n",
              "    </tr>\n",
              "    <tr>\n",
              "      <th>7</th>\n",
              "      <td>300000</td>\n",
              "    </tr>\n",
              "    <tr>\n",
              "      <th>8</th>\n",
              "      <td>500000</td>\n",
              "    </tr>\n",
              "    <tr>\n",
              "      <th>9</th>\n",
              "      <td>1000000</td>\n",
              "    </tr>\n",
              "  </tbody>\n",
              "</table>\n",
              "</div>"
            ],
            "text/plain": [
              "    Salary\n",
              "0    45000\n",
              "1    50000\n",
              "2    60000\n",
              "3    80000\n",
              "4   110000\n",
              "5   150000\n",
              "6   200000\n",
              "7   300000\n",
              "8   500000\n",
              "9  1000000"
            ]
          },
          "metadata": {
            "tags": []
          },
          "execution_count": 23
        }
      ]
    },
    {
      "cell_type": "markdown",
      "metadata": {
        "id": "tFlvMvtrhLmV",
        "colab_type": "text"
      },
      "source": [
        "##without scaling"
      ]
    },
    {
      "cell_type": "code",
      "metadata": {
        "id": "c844cVNQw225",
        "colab_type": "code",
        "outputId": "d8770be4-b1ff-43cc-b50e-3a802fa4a309",
        "colab": {
          "base_uri": "https://localhost:8080/",
          "height": 424
        }
      },
      "source": [
        "my_visualisation(X, y, kernel = 'rbf', penalty = 1.5, degree = 3, evaluate = 6.5)"
      ],
      "execution_count": 25,
      "outputs": [
        {
          "output_type": "stream",
          "text": [
            "/usr/local/lib/python3.6/dist-packages/sklearn/utils/validation.py:724: DataConversionWarning: A column-vector y was passed when a 1d array was expected. Please change the shape of y to (n_samples, ), for example using ravel().\n",
            "  y = column_or_1d(y, warn=True)\n",
            "/usr/local/lib/python3.6/dist-packages/sklearn/svm/base.py:193: FutureWarning: The default value of gamma will change from 'auto' to 'scale' in version 0.22 to account better for unscaled features. Set gamma explicitly to 'auto' or 'scale' to avoid this warning.\n",
            "  \"avoid this warning.\", FutureWarning)\n"
          ],
          "name": "stderr"
        },
        {
          "output_type": "display_data",
          "data": {
            "image/png": "[encoded data removed]",
            "text/plain": [
              "<Figure size 720x360 with 1 Axes>"
            ]
          },
          "metadata": {
            "tags": []
          }
        }
      ]
    },
    {
      "cell_type": "markdown",
      "metadata": {
        "id": "pScyJ7AehPat",
        "colab_type": "text"
      },
      "source": [
        "##with scaling"
      ]
    },
    {
      "cell_type": "code",
      "metadata": {
        "id": "3mnVeDXOhUB6",
        "colab_type": "code",
        "colab": {
          "base_uri": "https://localhost:8080/",
          "height": 390
        },
        "outputId": "99780d2d-296b-4c64-fa6f-46a5abf3d469"
      },
      "source": [
        "my_visualisation(X, y, kernel = 'rbf', penalty = 1.5, degree = 3, evaluate = 6.5, scaling = True)"
      ],
      "execution_count": 26,
      "outputs": [
        {
          "output_type": "stream",
          "text": [
            "/usr/local/lib/python3.6/dist-packages/sklearn/utils/validation.py:724: DataConversionWarning: A column-vector y was passed when a 1d array was expected. Please change the shape of y to (n_samples, ), for example using ravel().\n",
            "  y = column_or_1d(y, warn=True)\n"
          ],
          "name": "stderr"
        },
        {
          "output_type": "display_data",
          "data": {
            "image/png": "[encoded data removed]",
            "text/plain": [
              "<Figure size 720x360 with 1 Axes>"
            ]
          },
          "metadata": {
            "tags": []
          }
        }
      ]
    },
    {
      "cell_type": "markdown",
      "metadata": {
        "id": "k6XphHypnoZ5",
        "colab_type": "text"
      },
      "source": [
        "### Linear Kernel"
      ]
    },
    {
      "cell_type": "code",
      "metadata": {
        "id": "JNZXJIh8w5dy",
        "colab_type": "code",
        "outputId": "487f2959-b9af-490d-ad17-7a81d03a0124",
        "colab": {
          "base_uri": "https://localhost:8080/",
          "height": 390
        }
      },
      "source": [
        "my_visualisation(X, y, kernel = 'linear', penalty = 1.5, degree = 3, evaluate = 6.5, scaling = True)"
      ],
      "execution_count": 37,
      "outputs": [
        {
          "output_type": "stream",
          "text": [
            "/usr/local/lib/python3.6/dist-packages/sklearn/utils/validation.py:724: DataConversionWarning: A column-vector y was passed when a 1d array was expected. Please change the shape of y to (n_samples, ), for example using ravel().\n",
            "  y = column_or_1d(y, warn=True)\n"
          ],
          "name": "stderr"
        },
        {
          "output_type": "display_data",
          "data": {
            "image/png": "[encoded data removed]",
            "text/plain": [
              "<Figure size 720x360 with 1 Axes>"
            ]
          },
          "metadata": {
            "tags": []
          }
        }
      ]
    },
    {
      "cell_type": "code",
      "metadata": {
        "id": "Zzi0QaYCx_8G",
        "colab_type": "code",
        "outputId": "9dd736e9-c39a-490c-d9a9-00f6e80d29cf",
        "colab": {
          "base_uri": "https://localhost:8080/",
          "height": 390
        }
      },
      "source": [
        "my_visualisation(X, y, kernel = 'poly', penalty = 1.5, degree = 3, evaluate = 6.5, scaling = True)"
      ],
      "execution_count": 29,
      "outputs": [
        {
          "output_type": "stream",
          "text": [
            "/usr/local/lib/python3.6/dist-packages/sklearn/utils/validation.py:724: DataConversionWarning: A column-vector y was passed when a 1d array was expected. Please change the shape of y to (n_samples, ), for example using ravel().\n",
            "  y = column_or_1d(y, warn=True)\n"
          ],
          "name": "stderr"
        },
        {
          "output_type": "display_data",
          "data": {
            "image/png": "[encoded data removed]",
            "text/plain": [
              "<Figure size 720x360 with 1 Axes>"
            ]
          },
          "metadata": {
            "tags": []
          }
        }
      ]
    },
    {
      "cell_type": "code",
      "metadata": {
        "id": "M0dyggJ_yD2c",
        "colab_type": "code",
        "outputId": "f65da6ea-03c2-43f1-989d-f79c9dc2d2f0",
        "colab": {
          "base_uri": "https://localhost:8080/",
          "height": 390
        }
      },
      "source": [
        "my_visualisation(X, y, kernel = 'poly', penalty = .5, degree = 3, evaluate = 6.5, scaling = True)"
      ],
      "execution_count": 35,
      "outputs": [
        {
          "output_type": "stream",
          "text": [
            "/usr/local/lib/python3.6/dist-packages/sklearn/utils/validation.py:724: DataConversionWarning: A column-vector y was passed when a 1d array was expected. Please change the shape of y to (n_samples, ), for example using ravel().\n",
            "  y = column_or_1d(y, warn=True)\n"
          ],
          "name": "stderr"
        },
        {
          "output_type": "display_data",
          "data": {
            "image/png": "[encoded data removed]",
            "text/plain": [
              "<Figure size 720x360 with 1 Axes>"
            ]
          },
          "metadata": {
            "tags": []
          }
        }
      ]
    },
    {
      "cell_type": "code",
      "metadata": {
        "id": "JOFMJcuYzyyh",
        "colab_type": "code",
        "colab": {}
      },
      "source": [
        ""
      ],
      "execution_count": 0,
      "outputs": []
    }
  ]
}