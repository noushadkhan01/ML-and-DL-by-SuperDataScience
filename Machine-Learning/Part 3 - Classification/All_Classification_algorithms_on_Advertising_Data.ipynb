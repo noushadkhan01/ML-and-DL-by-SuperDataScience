{
  "nbformat": 4,
  "nbformat_minor": 0,
  "metadata": {
    "colab": {
      "name": "Copy of All Classification algorithms on Advertising Data.ipynb",
      "version": "0.3.2",
      "provenance": [],
      "collapsed_sections": [
        "kOQTCuizmKsU",
        "dNP2qOGO9J6B",
        "3rPMUd4u85S6",
        "-koOxSNZ4Cip",
        "RCFec9IYiA4y",
        "a43pXtG2CCu7",
        "K4QSG3xloc_s",
        "7o9DXG_nMTZ3",
        "uh84OGeba-xy",
        "2mR4jm0gK_Ik",
        "cx3puxOtkSB6",
        "CPkS2lXMqnk3",
        "5zNItA-dC3_B",
        "yHWyGMMCq9Ql",
        "5l-1qiZClGDW",
        "MXdyZJ2mrJxF",
        "n0Haz9fcHiyo",
        "T0yFCvq-GljG"
      ],
      "toc_visible": true,
      "include_colab_link": true
    },
    "kernelspec": {
      "name": "python3",
      "display_name": "Python 3"
    },
    "accelerator": "GPU"
  },
  "cells": [
    {
      "cell_type": "markdown",
      "metadata": {
        "id": "view-in-github",
        "colab_type": "text"
      },
      "source": [
        "<a href=\"https://colab.research.google.com/github/noushadkhan01/ML-and-DL-by-SuperDataScience/blob/master/Machine-Learning/Part%203%20-%20Classification/All_Classification_algorithms_on_Advertising_Data.ipynb\" target=\"_parent\"><img src=\"https://colab.research.google.com/assets/colab-badge.svg\" alt=\"Open In Colab\"/></a>"
      ]
    },
    {
      "cell_type": "code",
      "metadata": {
        "id": "MtFegVk87wgf",
        "colab_type": "code",
        "colab": {}
      },
      "source": [
        "import pandas as pd\n",
        "import seaborn as sns\n",
        "import numpy as np\n",
        "import matplotlib.pyplot as plt\n",
        "%matplotlib inline"
      ],
      "execution_count": 0,
      "outputs": []
    },
    {
      "cell_type": "code",
      "metadata": {
        "id": "PRVGuCdav3ys",
        "colab_type": "code",
        "colab": {
          "base_uri": "https://localhost:8080/",
          "height": 119
        },
        "outputId": "9ec2a818-8d5e-45df-de1b-de2b67e00402"
      },
      "source": [
        "!git clone https://github.com/noushadkhan01/my_methods"
      ],
      "execution_count": 4,
      "outputs": [
        {
          "output_type": "stream",
          "text": [
            "Cloning into 'my_methods'...\n",
            "remote: Enumerating objects: 14, done.\u001b[K\n",
            "remote: Counting objects:   7% (1/14)   \u001b[K\rremote: Counting objects:  14% (2/14)   \u001b[K\rremote: Counting objects:  21% (3/14)   \u001b[K\rremote: Counting objects:  28% (4/14)   \u001b[K\rremote: Counting objects:  35% (5/14)   \u001b[K\rremote: Counting objects:  42% (6/14)   \u001b[K\rremote: Counting objects:  50% (7/14)   \u001b[K\rremote: Counting objects:  57% (8/14)   \u001b[K\rremote: Counting objects:  64% (9/14)   \u001b[K\rremote: Counting objects:  71% (10/14)   \u001b[K\rremote: Counting objects:  78% (11/14)   \u001b[K\rremote: Counting objects:  85% (12/14)   \u001b[K\rremote: Counting objects:  92% (13/14)   \u001b[K\rremote: Counting objects: 100% (14/14)   \u001b[K\rremote: Counting objects: 100% (14/14), done.\u001b[K\n",
            "remote: Compressing objects:   8% (1/12)   \u001b[K\rremote: Compressing objects:  16% (2/12)   \u001b[K\rremote: Compressing objects:  25% (3/12)   \u001b[K\rremote: Compressing objects:  33% (4/12)   \u001b[K\rremote: Compressing objects:  41% (5/12)   \u001b[K\rremote: Compressing objects:  50% (6/12)   \u001b[K\rremote: Compressing objects:  58% (7/12)   \u001b[K\rremote: Compressing objects:  66% (8/12)   \u001b[K\rremote: Compressing objects:  75% (9/12)   \u001b[K\rremote: Compressing objects:  83% (10/12)   \u001b[K\rremote: Compressing objects:  91% (11/12)   \u001b[K\rremote: Compressing objects: 100% (12/12)   \u001b[K\rremote: Compressing objects: 100% (12/12), done.\u001b[K\n",
            "remote: Total 14 (delta 2), reused 0 (delta 0), pack-reused 0\u001b[K\n",
            "Unpacking objects:   7% (1/14)   \rUnpacking objects:  14% (2/14)   \rUnpacking objects:  21% (3/14)   \rUnpacking objects:  28% (4/14)   \rUnpacking objects:  35% (5/14)   \rUnpacking objects:  42% (6/14)   \rUnpacking objects:  50% (7/14)   \rUnpacking objects:  57% (8/14)   \rUnpacking objects:  64% (9/14)   \rUnpacking objects:  71% (10/14)   \rUnpacking objects:  78% (11/14)   \rUnpacking objects:  85% (12/14)   \rUnpacking objects:  92% (13/14)   \rUnpacking objects: 100% (14/14)   \rUnpacking objects: 100% (14/14), done.\n"
          ],
          "name": "stdout"
        }
      ]
    },
    {
      "cell_type": "code",
      "metadata": {
        "id": "0UCI8AXwwGmw",
        "colab_type": "code",
        "colab": {
          "base_uri": "https://localhost:8080/",
          "height": 34
        },
        "outputId": "6f932f02-57e3-415c-a684-8a064c6bbc8b"
      },
      "source": [
        "%cd my_methods\n",
        "from visualise_classifier_performance import visualise_classifier_performance"
      ],
      "execution_count": 5,
      "outputs": [
        {
          "output_type": "stream",
          "text": [
            "/content/my_methods\n"
          ],
          "name": "stdout"
        }
      ]
    },
    {
      "cell_type": "code",
      "metadata": {
        "id": "HyvdOpRywPPs",
        "colab_type": "code",
        "colab": {
          "base_uri": "https://localhost:8080/",
          "height": 34
        },
        "outputId": "0fd2f5e1-1b18-4173-a6a6-1044f5d8c6de"
      },
      "source": [
        "%cd ../"
      ],
      "execution_count": 6,
      "outputs": [
        {
          "output_type": "stream",
          "text": [
            "/content\n"
          ],
          "name": "stdout"
        }
      ]
    },
    {
      "cell_type": "markdown",
      "metadata": {
        "id": "kOQTCuizmKsU",
        "colab_type": "text"
      },
      "source": [
        "# Read Data"
      ]
    },
    {
      "cell_type": "code",
      "metadata": {
        "id": "X4ifCuIK8H0z",
        "colab_type": "code",
        "outputId": "22cd40c8-07af-4e67-d163-cfa510fc327f",
        "colab": {
          "base_uri": "https://localhost:8080/",
          "height": 204
        }
      },
      "source": [
        "df = pd.read_csv('https://bit.ly/2U2dZq6')\n",
        "df.head()"
      ],
      "execution_count": 0,
      "outputs": [
        {
          "output_type": "execute_result",
          "data": {
            "text/html": [
              "<div>\n",
              "<style scoped>\n",
              "    .dataframe tbody tr th:only-of-type {\n",
              "        vertical-align: middle;\n",
              "    }\n",
              "\n",
              "    .dataframe tbody tr th {\n",
              "        vertical-align: top;\n",
              "    }\n",
              "\n",
              "    .dataframe thead th {\n",
              "        text-align: right;\n",
              "    }\n",
              "</style>\n",
              "<table border=\"1\" class=\"dataframe\">\n",
              "  <thead>\n",
              "    <tr style=\"text-align: right;\">\n",
              "      <th></th>\n",
              "      <th>User ID</th>\n",
              "      <th>Gender</th>\n",
              "      <th>Age</th>\n",
              "      <th>EstimatedSalary</th>\n",
              "      <th>Purchased</th>\n",
              "    </tr>\n",
              "  </thead>\n",
              "  <tbody>\n",
              "    <tr>\n",
              "      <th>0</th>\n",
              "      <td>15624510</td>\n",
              "      <td>Male</td>\n",
              "      <td>19</td>\n",
              "      <td>19000</td>\n",
              "      <td>0</td>\n",
              "    </tr>\n",
              "    <tr>\n",
              "      <th>1</th>\n",
              "      <td>15810944</td>\n",
              "      <td>Male</td>\n",
              "      <td>35</td>\n",
              "      <td>20000</td>\n",
              "      <td>0</td>\n",
              "    </tr>\n",
              "    <tr>\n",
              "      <th>2</th>\n",
              "      <td>15668575</td>\n",
              "      <td>Female</td>\n",
              "      <td>26</td>\n",
              "      <td>43000</td>\n",
              "      <td>0</td>\n",
              "    </tr>\n",
              "    <tr>\n",
              "      <th>3</th>\n",
              "      <td>15603246</td>\n",
              "      <td>Female</td>\n",
              "      <td>27</td>\n",
              "      <td>57000</td>\n",
              "      <td>0</td>\n",
              "    </tr>\n",
              "    <tr>\n",
              "      <th>4</th>\n",
              "      <td>15804002</td>\n",
              "      <td>Male</td>\n",
              "      <td>19</td>\n",
              "      <td>76000</td>\n",
              "      <td>0</td>\n",
              "    </tr>\n",
              "  </tbody>\n",
              "</table>\n",
              "</div>"
            ],
            "text/plain": [
              "    User ID  Gender  Age  EstimatedSalary  Purchased\n",
              "0  15624510    Male   19            19000          0\n",
              "1  15810944    Male   35            20000          0\n",
              "2  15668575  Female   26            43000          0\n",
              "3  15603246  Female   27            57000          0\n",
              "4  15804002    Male   19            76000          0"
            ]
          },
          "metadata": {
            "tags": []
          },
          "execution_count": 45
        }
      ]
    },
    {
      "cell_type": "markdown",
      "metadata": {
        "id": "dNP2qOGO9J6B",
        "colab_type": "text"
      },
      "source": [
        "# Train Test Split"
      ]
    },
    {
      "cell_type": "code",
      "metadata": {
        "id": "A682-lq-IDoq",
        "colab_type": "code",
        "outputId": "83e0ecd0-5d3c-4252-b43f-87dc875d39a7",
        "colab": {
          "base_uri": "https://localhost:8080/",
          "height": 34
        }
      },
      "source": [
        "def preprocessing(all_data = False):\n",
        "  import pandas as pd\n",
        "  df = pd.read_csv('https://bit.ly/2U2dZq6')\n",
        "  X = df.iloc[:, 2:-1]\n",
        "  y = df.Purchased\n",
        "  from sklearn.model_selection import train_test_split  \n",
        "  X_train, X_test, y_train, y_test = train_test_split(X, y, test_size = .25, random_state = 0)\n",
        "  if all_data:\n",
        "    return X, y, X_train, X_test, y_train, y_test\n",
        "  return X_train, X_test, y_train, y_test\n",
        "X, y, X_train, X_test, y_train, y_test = preprocessing(True)\n",
        "X_train.shape, X_test.shape, y_train.shape, y_test.shape"
      ],
      "execution_count": 7,
      "outputs": [
        {
          "output_type": "execute_result",
          "data": {
            "text/plain": [
              "((300, 2), (100, 2), (300,), (100,))"
            ]
          },
          "metadata": {
            "tags": []
          },
          "execution_count": 7
        }
      ]
    },
    {
      "cell_type": "code",
      "metadata": {
        "id": "95EXq5JifXJ0",
        "colab_type": "code",
        "outputId": "a713b930-e150-44fc-f45e-28a9f48aa3b6",
        "colab": {
          "base_uri": "https://localhost:8080/",
          "height": 34
        }
      },
      "source": [
        "X.shape, y.shape"
      ],
      "execution_count": 8,
      "outputs": [
        {
          "output_type": "execute_result",
          "data": {
            "text/plain": [
              "((400, 2), (400,))"
            ]
          },
          "metadata": {
            "tags": []
          },
          "execution_count": 8
        }
      ]
    },
    {
      "cell_type": "markdown",
      "metadata": {
        "id": "3rPMUd4u85S6",
        "colab_type": "text"
      },
      "source": [
        "# Feature_scaling"
      ]
    },
    {
      "cell_type": "code",
      "metadata": {
        "id": "NiQ2zF-lJZ8J",
        "colab_type": "code",
        "colab": {}
      },
      "source": [
        "def scaling(X_train = X_train, X_test = X_test, all_data = False):\n",
        "  from sklearn.preprocessing import StandardScaler  \n",
        "  sc = StandardScaler()\n",
        "  X_train_scaled = sc.fit_transform(X_train)\n",
        "  if not all_data:\n",
        "    X_test_scaled = sc.transform(X_test)\n",
        "    return X_train_scaled, X_test_scaled\n",
        "  return X_train_scaled\n",
        "\n",
        "X_train_scaled, X_test_scaled = scaling()"
      ],
      "execution_count": 0,
      "outputs": []
    },
    {
      "cell_type": "code",
      "metadata": {
        "id": "AbthN78Cnv19",
        "colab_type": "code",
        "colab": {}
      },
      "source": [
        "X_train_scaled, X_test_scaled = scaling()"
      ],
      "execution_count": 0,
      "outputs": []
    },
    {
      "cell_type": "code",
      "metadata": {
        "id": "ipIONDQ3fjnu",
        "colab_type": "code",
        "outputId": "8bbbab19-b5a3-4e5f-d286-16b9d9b3b64d",
        "colab": {
          "base_uri": "https://localhost:8080/",
          "height": 51
        }
      },
      "source": [
        "X_scaled = scaling(X, all_data = True)\n",
        "X_scaled[:2]"
      ],
      "execution_count": 11,
      "outputs": [
        {
          "output_type": "execute_result",
          "data": {
            "text/plain": [
              "array([[-1.78179743, -1.49004624],\n",
              "       [-0.25358736, -1.46068138]])"
            ]
          },
          "metadata": {
            "tags": []
          },
          "execution_count": 11
        }
      ]
    },
    {
      "cell_type": "code",
      "metadata": {
        "id": "ZQ0As3Oehhkv",
        "colab_type": "code",
        "outputId": "12238f6a-f5fe-4c5a-d51e-80d4e5fb0259",
        "colab": {
          "base_uri": "https://localhost:8080/",
          "height": 34
        }
      },
      "source": [
        "X_scaled.shape"
      ],
      "execution_count": 12,
      "outputs": [
        {
          "output_type": "execute_result",
          "data": {
            "text/plain": [
              "(400, 2)"
            ]
          },
          "metadata": {
            "tags": []
          },
          "execution_count": 12
        }
      ]
    },
    {
      "cell_type": "markdown",
      "metadata": {
        "id": "84ANaMgQ9kU9",
        "colab_type": "text"
      },
      "source": [
        "# Train_Model"
      ]
    },
    {
      "cell_type": "markdown",
      "metadata": {
        "id": "-koOxSNZ4Cip",
        "colab_type": "text"
      },
      "source": [
        "## functions we are using for all models"
      ]
    },
    {
      "cell_type": "markdown",
      "metadata": {
        "id": "xEf3DPNRh8JZ",
        "colab_type": "text"
      },
      "source": [
        "### for printing the model results"
      ]
    },
    {
      "cell_type": "code",
      "metadata": {
        "id": "DliLFpAS23Uo",
        "colab_type": "code",
        "colab": {}
      },
      "source": [
        "def model_fit(X_train, X_test, model):\n",
        "  from sklearn.metrics import confusion_matrix, classification_report\n",
        "  model.fit(X_train, y_train)\n",
        "  print(F' Train score is {model.score(X_train, y_train)}')\n",
        "  print('\\n')\n",
        "  print(f'Test score is {model.score(X_test, y_test)}')\n",
        "  print('\\n\\n')\n",
        "  y_pred = model.predict(X_test)\n",
        "  print(f'Train confusion matrix is \\n {confusion_matrix(y_train, model.predict(X_train))}\\n')\n",
        "  print(f'Test confusion matrix is \\n {confusion_matrix(y_test, y_pred)}')\n",
        "  print('\\n\\n')\n",
        "  print(f'Test Set classification report is \\n {classification_report(y_test, y_pred)}')\n",
        "  return model"
      ],
      "execution_count": 0,
      "outputs": []
    },
    {
      "cell_type": "markdown",
      "metadata": {
        "id": "nY0wGpfyh3ku",
        "colab_type": "text"
      },
      "source": [
        "### Cross_validation"
      ]
    },
    {
      "cell_type": "code",
      "metadata": {
        "id": "hSIt8QuSfp2G",
        "colab_type": "code",
        "colab": {}
      },
      "source": [
        "def cross_validation(X, y, model, cv = 10, out = True):\n",
        "  from sklearn.model_selection import cross_val_score\n",
        "  cross_val_scores = cross_val_score(model, X, y, cv = cv)\n",
        "  mean = np.mean(cross_val_scores)\n",
        "  if out:\n",
        "    print(f'{cv} fold cross-validation for -- {model.__class__.__name__}-- Model \\n\\n')\n",
        "    print(f'cross validation score for {cv} fold cross-validation is:-- \\n {cross_val_scores}\\n\\n')\n",
        "    print(f'variance in scores for {cv} fold cross-validationn for {model.__class__.__name__}:-- {cross_val_scores.std()}\\n\\n')\n",
        "    return f'Mean for {cv} fold cross-validation score:-- {mean}'\n",
        "  return mean"
      ],
      "execution_count": 0,
      "outputs": []
    },
    {
      "cell_type": "markdown",
      "metadata": {
        "id": "a43pXtG2CCu7",
        "colab_type": "text"
      },
      "source": [
        "## 1.1 LogisticRegression"
      ]
    },
    {
      "cell_type": "markdown",
      "metadata": {
        "id": "xIApWwqjg_CP",
        "colab_type": "text"
      },
      "source": [
        "##### cross_validation"
      ]
    },
    {
      "cell_type": "code",
      "metadata": {
        "id": "Vycm49ythBbD",
        "colab_type": "code",
        "outputId": "9d1fa43c-6853-4413-8b39-34edbbee43fa",
        "colab": {
          "base_uri": "https://localhost:8080/",
          "height": 221
        }
      },
      "source": [
        "import warnings\n",
        "warnings.filterwarnings('ignore')\n",
        "model = LogisticRegression()\n",
        "cross_validation(X_scaled, y, model)"
      ],
      "execution_count": 21,
      "outputs": [
        {
          "output_type": "stream",
          "text": [
            "10 fold cross-validation for -- LogisticRegression-- Model \n",
            "\n",
            "\n",
            "cross validation score for 10 fold cross-validation is:-- \n",
            " [0.65853659 0.70731707 0.97560976 0.95       0.95       0.9\n",
            " 0.825      0.76923077 0.76923077 0.71794872]\n",
            "\n",
            "\n",
            "variance in scores for 10 fold cross-validationn for LogisticRegression:-- 0.10896074785365382\n",
            "\n",
            "\n"
          ],
          "name": "stdout"
        },
        {
          "output_type": "execute_result",
          "data": {
            "text/plain": [
              "'Mean for 10 fold cross-validation score:-- 0.8222873671044402'"
            ]
          },
          "metadata": {
            "tags": []
          },
          "execution_count": 21
        }
      ]
    },
    {
      "cell_type": "code",
      "metadata": {
        "id": "CtshsPGK9iNS",
        "colab_type": "code",
        "outputId": "a0df0c71-38dc-4db0-a54a-d7ca016b2fab",
        "colab": {
          "base_uri": "https://localhost:8080/",
          "height": 476
        }
      },
      "source": [
        "from sklearn.linear_model import LogisticRegression\n",
        "from sklearn.metrics import confusion_matrix, classification_report\n",
        "model = LogisticRegression(random_state = 0)\n",
        "model = model_fit(X_train_scaled, X_test_scaled, model)"
      ],
      "execution_count": 22,
      "outputs": [
        {
          "output_type": "stream",
          "text": [
            " Train score is 0.8233333333333334\n",
            "\n",
            "\n",
            "Test score is 0.89\n",
            "\n",
            "\n",
            "\n",
            "Train confusion matrix is \n",
            " [[172  17]\n",
            " [ 36  75]]\n",
            "\n",
            "Test confusion matrix is \n",
            " [[65  3]\n",
            " [ 8 24]]\n",
            "\n",
            "\n",
            "\n",
            "Test Set classification report is \n",
            "               precision    recall  f1-score   support\n",
            "\n",
            "           0       0.89      0.96      0.92        68\n",
            "           1       0.89      0.75      0.81        32\n",
            "\n",
            "    accuracy                           0.89       100\n",
            "   macro avg       0.89      0.85      0.87       100\n",
            "weighted avg       0.89      0.89      0.89       100\n",
            "\n"
          ],
          "name": "stdout"
        }
      ]
    },
    {
      "cell_type": "code",
      "metadata": {
        "id": "KhoZGPoR-fC0",
        "colab_type": "code",
        "colab": {}
      },
      "source": [
        "y_proba = model.predict_proba(X_test_scaled)"
      ],
      "execution_count": 0,
      "outputs": []
    },
    {
      "cell_type": "code",
      "metadata": {
        "id": "GSW1n84F-lQH",
        "colab_type": "code",
        "outputId": "f9cc5524-e517-4e72-9af4-3f95b924b773",
        "colab": {
          "base_uri": "https://localhost:8080/",
          "height": 51
        }
      },
      "source": [
        "y_proba[:2]"
      ],
      "execution_count": 24,
      "outputs": [
        {
          "output_type": "execute_result",
          "data": {
            "text/plain": [
              "array([[0.8835313 , 0.1164687 ],\n",
              "       [0.82871699, 0.17128301]])"
            ]
          },
          "metadata": {
            "tags": []
          },
          "execution_count": 24
        }
      ]
    },
    {
      "cell_type": "code",
      "metadata": {
        "id": "2eNbns0qoM_S",
        "colab_type": "code",
        "outputId": "de92d349-779c-40bb-ef12-daa87c0a96b5",
        "colab": {
          "base_uri": "https://localhost:8080/",
          "height": 266
        }
      },
      "source": [
        "y_max_proba = [np.max(i) for i in y_proba]\n",
        "plt.hist(y_max_proba, bins = 20)\n",
        "plt.show()"
      ],
      "execution_count": 0,
      "outputs": [
        {
          "output_type": "display_data",
          "data": {
            "image/png": "[encoded data removed]",
            "text/plain": [
              "<matplotlib.figure.Figure at 0x7f3db5433128>"
            ]
          },
          "metadata": {
            "tags": []
          }
        }
      ]
    },
    {
      "cell_type": "markdown",
      "metadata": {
        "id": "K4QSG3xloc_s",
        "colab_type": "text"
      },
      "source": [
        "##### Visualisation"
      ]
    },
    {
      "cell_type": "code",
      "metadata": {
        "id": "TYPsnBqgoypT",
        "colab_type": "code",
        "outputId": "fc5d685f-ae57-47be-c504-f9299f07f46d",
        "colab": {
          "base_uri": "https://localhost:8080/",
          "height": 831
        }
      },
      "source": [
        "visualise_classifier_performance(X_train_scaled, X_test_scaled,y_train, y_test, model,important_parameter = 'solver', classifier_parameters = True)"
      ],
      "execution_count": 27,
      "outputs": [
        {
          "output_type": "stream",
          "text": [
            "'c' argument looks like a single numeric RGB or RGBA sequence, which should be avoided as value-mapping will have precedence in case its length matches with 'x' & 'y'.  Please use a 2-D array with a single row if you really want to specify the same RGB or RGBA value for all points.\n",
            "'c' argument looks like a single numeric RGB or RGBA sequence, which should be avoided as value-mapping will have precedence in case its length matches with 'x' & 'y'.  Please use a 2-D array with a single row if you really want to specify the same RGB or RGBA value for all points.\n"
          ],
          "name": "stderr"
        },
        {
          "output_type": "stream",
          "text": [
            "LogisticRegression Classifier \n",
            "\n",
            "LogisticRegression(C=1.0, class_weight=None, dual=False, fit_intercept=True,\n",
            "                   intercept_scaling=1, l1_ratio=None, max_iter=100,\n",
            "                   multi_class='warn', n_jobs=None, penalty='l2',\n",
            "                   random_state=0, solver='warn', tol=0.0001, verbose=0,\n",
            "                   warm_start=False)\n",
            "\n",
            "\n",
            "\n"
          ],
          "name": "stdout"
        },
        {
          "output_type": "display_data",
          "data": {
            "image/png": "[encoded data removed]",
            "text/plain": [
              "<Figure size 432x288 with 1 Axes>"
            ]
          },
          "metadata": {
            "tags": []
          }
        },
        {
          "output_type": "stream",
          "text": [
            "'c' argument looks like a single numeric RGB or RGBA sequence, which should be avoided as value-mapping will have precedence in case its length matches with 'x' & 'y'.  Please use a 2-D array with a single row if you really want to specify the same RGB or RGBA value for all points.\n",
            "'c' argument looks like a single numeric RGB or RGBA sequence, which should be avoided as value-mapping will have precedence in case its length matches with 'x' & 'y'.  Please use a 2-D array with a single row if you really want to specify the same RGB or RGBA value for all points.\n"
          ],
          "name": "stderr"
        },
        {
          "output_type": "display_data",
          "data": {
            "image/png": "[encoded data removed]",
            "text/plain": [
              "<Figure size 432x288 with 1 Axes>"
            ]
          },
          "metadata": {
            "tags": []
          }
        }
      ]
    },
    {
      "cell_type": "markdown",
      "metadata": {
        "id": "mHaXWrYdCGNR",
        "colab_type": "text"
      },
      "source": [
        "### 1.2 LogisticRegression with PolynomialFeatures"
      ]
    },
    {
      "cell_type": "code",
      "metadata": {
        "id": "iRcZzDGgCL9_",
        "colab_type": "code",
        "outputId": "8463d144-ad8e-492b-b41b-c7275717b33a",
        "colab": {
          "base_uri": "https://localhost:8080/",
          "height": 476
        }
      },
      "source": [
        "from sklearn.preprocessing import PolynomialFeatures\n",
        "from sklearn.metrics import confusion_matrix, classification_report\n",
        "poly = PolynomialFeatures(6)\n",
        "X_train_poly = poly.fit_transform(X_train_scaled)\n",
        "X_test_poly = poly.fit_transform(X_test_scaled)\n",
        "lrmodel = LogisticRegression()\n",
        "model = model_fit(X_train_poly, X_test_poly, lrmodel)"
      ],
      "execution_count": 33,
      "outputs": [
        {
          "output_type": "stream",
          "text": [
            " Train score is 0.8966666666666666\n",
            "\n",
            "\n",
            "Test score is 0.92\n",
            "\n",
            "\n",
            "\n",
            "Train confusion matrix is \n",
            " [[175  14]\n",
            " [ 17  94]]\n",
            "\n",
            "Test confusion matrix is \n",
            " [[64  4]\n",
            " [ 4 28]]\n",
            "\n",
            "\n",
            "\n",
            "Test Set classification report is \n",
            "               precision    recall  f1-score   support\n",
            "\n",
            "           0       0.94      0.94      0.94        68\n",
            "           1       0.88      0.88      0.88        32\n",
            "\n",
            "    accuracy                           0.92       100\n",
            "   macro avg       0.91      0.91      0.91       100\n",
            "weighted avg       0.92      0.92      0.92       100\n",
            "\n"
          ],
          "name": "stdout"
        }
      ]
    },
    {
      "cell_type": "markdown",
      "metadata": {
        "colab_type": "text",
        "id": "FLDYeKgXiW9k"
      },
      "source": [
        "###### **cross_validation for polynomial Features**"
      ]
    },
    {
      "cell_type": "markdown",
      "metadata": {
        "id": "DavHP8Pry20R",
        "colab_type": "text"
      },
      "source": [
        "**Cross Validation for polynomial feature**"
      ]
    },
    {
      "cell_type": "code",
      "metadata": {
        "colab_type": "code",
        "outputId": "279cd331-3d70-4b67-a97b-717b9b7d2a02",
        "id": "hS9pn4c0iW9m",
        "colab": {
          "base_uri": "https://localhost:8080/",
          "height": 221
        }
      },
      "source": [
        "model = LogisticRegression()\n",
        "from sklearn.preprocessing import PolynomialFeatures\n",
        "X_poly = PolynomialFeatures(3).fit_transform(X_scaled)\n",
        "cross_validation(X_poly, y, model)"
      ],
      "execution_count": 29,
      "outputs": [
        {
          "output_type": "stream",
          "text": [
            "10 fold cross-validation for -- LogisticRegression-- Model \n",
            "\n",
            "\n",
            "cross validation score for 10 fold cross-validation is:-- \n",
            " [0.97560976 0.85365854 0.87804878 0.975      0.95       0.875\n",
            " 0.825      0.79487179 0.87179487 0.94871795]\n",
            "\n",
            "\n",
            "variance in scores for 10 fold cross-validationn for LogisticRegression:-- 0.06055461868961714\n",
            "\n",
            "\n"
          ],
          "name": "stdout"
        },
        {
          "output_type": "execute_result",
          "data": {
            "text/plain": [
              "'Mean for 10 fold cross-validation score:-- 0.8947701688555348'"
            ]
          },
          "metadata": {
            "tags": []
          },
          "execution_count": 29
        }
      ]
    },
    {
      "cell_type": "markdown",
      "metadata": {
        "id": "7o9DXG_nMTZ3",
        "colab_type": "text"
      },
      "source": [
        "##### probability of y_test"
      ]
    },
    {
      "cell_type": "code",
      "metadata": {
        "id": "wdKXj6OTMWXC",
        "colab_type": "code",
        "colab": {}
      },
      "source": [
        "y_test_proba = lrmodel.predict_proba(X_test_poly)"
      ],
      "execution_count": 0,
      "outputs": []
    },
    {
      "cell_type": "code",
      "metadata": {
        "id": "iXlLhO5yMea8",
        "colab_type": "code",
        "outputId": "9874b3c9-12ee-4c85-9ea2-e63050825159",
        "colab": {
          "base_uri": "https://localhost:8080/",
          "height": 51
        }
      },
      "source": [
        "y_test_proba[:2]"
      ],
      "execution_count": 35,
      "outputs": [
        {
          "output_type": "execute_result",
          "data": {
            "text/plain": [
              "array([[0.92179931, 0.07820069],\n",
              "       [0.94143201, 0.05856799]])"
            ]
          },
          "metadata": {
            "tags": []
          },
          "execution_count": 35
        }
      ]
    },
    {
      "cell_type": "code",
      "metadata": {
        "id": "Z4AQr2zkMlPy",
        "colab_type": "code",
        "outputId": "81a28e06-48d1-45d8-b760-1917ad88b436",
        "colab": {
          "base_uri": "https://localhost:8080/",
          "height": 34
        }
      },
      "source": [
        "y_max_proba = [np.max(i) for i in y_test_proba]\n",
        "y_max_proba[:2]"
      ],
      "execution_count": 36,
      "outputs": [
        {
          "output_type": "execute_result",
          "data": {
            "text/plain": [
              "[0.9217993143434112, 0.941432009710901]"
            ]
          },
          "metadata": {
            "tags": []
          },
          "execution_count": 36
        }
      ]
    },
    {
      "cell_type": "code",
      "metadata": {
        "id": "C26cFHDmMwXN",
        "colab_type": "code",
        "outputId": "aef4340f-ff11-42ec-e5dc-5316fb76a07a",
        "colab": {
          "base_uri": "https://localhost:8080/",
          "height": 269
        }
      },
      "source": [
        "plt.hist(y_max_proba)\n",
        "plt.show()"
      ],
      "execution_count": 37,
      "outputs": [
        {
          "output_type": "display_data",
          "data": {
            "image/png": "[encoded data removed]",
            "text/plain": [
              "<Figure size 432x288 with 1 Axes>"
            ]
          },
          "metadata": {
            "tags": []
          }
        }
      ]
    },
    {
      "cell_type": "markdown",
      "metadata": {
        "id": "2mR4jm0gK_Ik",
        "colab_type": "text"
      },
      "source": [
        "## 2. KNN"
      ]
    },
    {
      "cell_type": "markdown",
      "metadata": {
        "id": "33c2q0Q2rNBA",
        "colab_type": "text"
      },
      "source": [
        "### Graph Train score, Test Score vs. n_neighbors Without scaling features"
      ]
    },
    {
      "cell_type": "code",
      "metadata": {
        "id": "6X6BdbCgHjCK",
        "colab_type": "code",
        "outputId": "a6755d23-1d91-43f5-9cba-ae78d82c224b",
        "colab": {
          "base_uri": "https://localhost:8080/",
          "height": 323
        }
      },
      "source": [
        "def plotting(X_train, X_test):\n",
        "  from sklearn.neighbors import KNeighborsClassifier\n",
        "  x = range(1,30)\n",
        "  t = []\n",
        "  s = []\n",
        "  for i in x:\n",
        "    model = KNeighborsClassifier(n_neighbors = i)\n",
        "    model.fit(X_train, y_train)\n",
        "    s.append(model.score(X_test, y_test))\n",
        "    t.append(model.score(X_train, y_train))\n",
        "\n",
        "  plt.figure(figsize =(10, 5))\n",
        "  plt.plot(x, t, c = 'r', label = 'Train score')\n",
        "  plt.plot(x, s, c = 'g', label = 'Test score')\n",
        "  plt.xticks(x)          \n",
        "  plt.legend()    \n",
        "  plt.grid()\n",
        "  plt.grid()\n",
        "  plt.show()\n",
        "plotting(X_train, X_test)"
      ],
      "execution_count": 39,
      "outputs": [
        {
          "output_type": "display_data",
          "data": {
            "image/png": "[encoded data removed]",
            "text/plain": [
              "<Figure size 720x360 with 1 Axes>"
            ]
          },
          "metadata": {
            "tags": []
          }
        }
      ]
    },
    {
      "cell_type": "markdown",
      "metadata": {
        "id": "Szxj_6dWIR_Y",
        "colab_type": "text"
      },
      "source": [
        "### Graph Train Score, Test Score vs. n_neighbors After Scaling the Features"
      ]
    },
    {
      "cell_type": "code",
      "metadata": {
        "colab_type": "code",
        "id": "N-O-Uu2yH0-f",
        "colab": {}
      },
      "source": [
        "X_train_scaled, X_test_scaled = scaling()"
      ],
      "execution_count": 0,
      "outputs": []
    },
    {
      "cell_type": "code",
      "metadata": {
        "id": "Mbn3liKpL7So",
        "colab_type": "code",
        "outputId": "4ef73df6-b6ba-4af7-9175-bf5692ec66bf",
        "colab": {
          "base_uri": "https://localhost:8080/",
          "height": 323
        }
      },
      "source": [
        "plotting(X_train_scaled, X_test_scaled)"
      ],
      "execution_count": 41,
      "outputs": [
        {
          "output_type": "display_data",
          "data": {
            "image/png": "[encoded data removed]",
            "text/plain": [
              "<Figure size 720x360 with 1 Axes>"
            ]
          },
          "metadata": {
            "tags": []
          }
        }
      ]
    },
    {
      "cell_type": "markdown",
      "metadata": {
        "id": "cx3puxOtkSB6",
        "colab_type": "text"
      },
      "source": [
        "###K-NN classifier Graph for polynomialFeatures of degree 6"
      ]
    },
    {
      "cell_type": "code",
      "metadata": {
        "id": "oOEwJLOrkCpZ",
        "colab_type": "code",
        "outputId": "cda073c6-ec05-4b06-bc06-6e6a875a739a",
        "colab": {
          "base_uri": "https://localhost:8080/",
          "height": 323
        }
      },
      "source": [
        "plotting(X_train_poly, X_test_poly)"
      ],
      "execution_count": 42,
      "outputs": [
        {
          "output_type": "display_data",
          "data": {
            "image/png": "[encoded data removed]",
            "text/plain": [
              "<Figure size 720x360 with 1 Axes>"
            ]
          },
          "metadata": {
            "tags": []
          }
        }
      ]
    },
    {
      "cell_type": "markdown",
      "metadata": {
        "id": "3UBgMEf0OaVa",
        "colab_type": "text"
      },
      "source": [
        "### model for n_neighbors = 3"
      ]
    },
    {
      "cell_type": "code",
      "metadata": {
        "id": "EHXaQNsHKLSY",
        "colab_type": "code",
        "outputId": "7f989443-0530-470a-97e9-2d51e3ab883c",
        "colab": {
          "base_uri": "https://localhost:8080/",
          "height": 476
        }
      },
      "source": [
        "from sklearn.neighbors import KNeighborsClassifier\n",
        "model = KNeighborsClassifier(n_neighbors = 3)\n",
        "model.fit(X_train_scaled, y_train)\n",
        "modele = model_fit(X_train_scaled, X_test_scaled, model)"
      ],
      "execution_count": 44,
      "outputs": [
        {
          "output_type": "stream",
          "text": [
            " Train score is 0.9133333333333333\n",
            "\n",
            "\n",
            "Test score is 0.93\n",
            "\n",
            "\n",
            "\n",
            "Train confusion matrix is \n",
            " [[174  15]\n",
            " [ 11 100]]\n",
            "\n",
            "Test confusion matrix is \n",
            " [[64  4]\n",
            " [ 3 29]]\n",
            "\n",
            "\n",
            "\n",
            "Test Set classification report is \n",
            "               precision    recall  f1-score   support\n",
            "\n",
            "           0       0.96      0.94      0.95        68\n",
            "           1       0.88      0.91      0.89        32\n",
            "\n",
            "    accuracy                           0.93       100\n",
            "   macro avg       0.92      0.92      0.92       100\n",
            "weighted avg       0.93      0.93      0.93       100\n",
            "\n"
          ],
          "name": "stdout"
        }
      ]
    },
    {
      "cell_type": "markdown",
      "metadata": {
        "id": "ID_mSzISjHXp",
        "colab_type": "text"
      },
      "source": [
        "#### **Cross Validation for for linear Features with n_neighbors = 3**"
      ]
    },
    {
      "cell_type": "code",
      "metadata": {
        "colab_type": "code",
        "outputId": "5ed3bbb6-30b5-4261-c487-0ef898dd5110",
        "id": "tpRQcSqpjL5f",
        "colab": {
          "base_uri": "https://localhost:8080/",
          "height": 221
        }
      },
      "source": [
        "from sklearn.neighbors import KNeighborsClassifier\n",
        "model = KNeighborsClassifier(3)\n",
        "cross_validation(X_scaled, y, model)"
      ],
      "execution_count": 45,
      "outputs": [
        {
          "output_type": "stream",
          "text": [
            "10 fold cross-validation for -- KNeighborsClassifier-- Model \n",
            "\n",
            "\n",
            "cross validation score for 10 fold cross-validation is:-- \n",
            " [1.         0.80487805 0.90243902 1.         0.975      0.825\n",
            " 0.875      0.79487179 0.87179487 0.8974359 ]\n",
            "\n",
            "\n",
            "variance in scores for 10 fold cross-validationn for KNeighborsClassifier:-- 0.07245418711799607\n",
            "\n",
            "\n"
          ],
          "name": "stdout"
        },
        {
          "output_type": "execute_result",
          "data": {
            "text/plain": [
              "'Mean for 10 fold cross-validation score:-- 0.8946419637273296'"
            ]
          },
          "metadata": {
            "tags": []
          },
          "execution_count": 45
        }
      ]
    },
    {
      "cell_type": "markdown",
      "metadata": {
        "id": "b8uib8GzjBfq",
        "colab_type": "text"
      },
      "source": [
        "#### **Cross Validation for polynomialFeatures of degree 3 and n_neighbors = 3**"
      ]
    },
    {
      "cell_type": "code",
      "metadata": {
        "colab_type": "code",
        "outputId": "5cc8cf90-8d4e-4854-bacb-3314e928ea2e",
        "id": "xvpQs2kHiwJF",
        "colab": {
          "base_uri": "https://localhost:8080/",
          "height": 221
        }
      },
      "source": [
        "from sklearn.neighbors import KNeighborsClassifier\n",
        "model = KNeighborsClassifier(3)\n",
        "cross_validation(X_poly, y, model)"
      ],
      "execution_count": 0,
      "outputs": [
        {
          "output_type": "stream",
          "text": [
            "10 fold cross-validation for -- KNeighborsClassifier-- Model \n",
            "\n",
            "\n",
            "cross validation score for 10 fold cross-validation is:-- \n",
            " [1.         0.80487805 0.90243902 1.         0.975      0.825\n",
            " 0.825      0.79487179 0.84615385 0.92307692]\n",
            "\n",
            "\n",
            "variance in scores for 10 fold cross-validationn for KNeighborsClassifier:-- 0.07703254991607365\n",
            "\n",
            "\n"
          ],
          "name": "stdout"
        },
        {
          "output_type": "execute_result",
          "data": {
            "text/plain": [
              "'Mean for 10 fold cross-validation score:-- 0.8896419637273295'"
            ]
          },
          "metadata": {
            "tags": []
          },
          "execution_count": 21
        }
      ]
    },
    {
      "cell_type": "markdown",
      "metadata": {
        "id": "7QL257XsOeQB",
        "colab_type": "text"
      },
      "source": [
        "### model for n_neighbors = 11"
      ]
    },
    {
      "cell_type": "markdown",
      "metadata": {
        "colab_type": "text",
        "id": "pg0nVk2AkkD8"
      },
      "source": [
        "\n",
        "#### cross_validation for Scaled Linear Features n_neighbors = 5"
      ]
    },
    {
      "cell_type": "code",
      "metadata": {
        "colab_type": "code",
        "outputId": "262a5a5f-a738-49ab-901c-6d36ae320281",
        "id": "VP4zeTfTkkEB",
        "colab": {
          "base_uri": "https://localhost:8080/",
          "height": 221
        }
      },
      "source": [
        "from sklearn.neighbors import KNeighborsClassifier\n",
        "model = KNeighborsClassifier(5)\n",
        "cross_validation(X_scaled, y, model)"
      ],
      "execution_count": 46,
      "outputs": [
        {
          "output_type": "stream",
          "text": [
            "10 fold cross-validation for -- KNeighborsClassifier-- Model \n",
            "\n",
            "\n",
            "cross validation score for 10 fold cross-validation is:-- \n",
            " [1.         0.80487805 0.90243902 1.         0.975      0.825\n",
            " 0.85       0.82051282 0.8974359  0.94871795]\n",
            "\n",
            "\n",
            "variance in scores for 10 fold cross-validationn for KNeighborsClassifier:-- 0.07172505651318489\n",
            "\n",
            "\n"
          ],
          "name": "stdout"
        },
        {
          "output_type": "execute_result",
          "data": {
            "text/plain": [
              "'Mean for 10 fold cross-validation score:-- 0.9023983739837398'"
            ]
          },
          "metadata": {
            "tags": []
          },
          "execution_count": 46
        }
      ]
    },
    {
      "cell_type": "code",
      "metadata": {
        "id": "ge--jos4ONtZ",
        "colab_type": "code",
        "outputId": "07f6c6ba-2646-44ce-ab1d-796c5852cd6c",
        "colab": {
          "base_uri": "https://localhost:8080/",
          "height": 476
        }
      },
      "source": [
        "from sklearn.neighbors import KNeighborsClassifier\n",
        "from sklearn.metrics import confusion_matrix, classification_report\n",
        "model = KNeighborsClassifier(n_neighbors = 5)\n",
        "model = model_fit(X_train_scaled, X_test_scaled, model)"
      ],
      "execution_count": 50,
      "outputs": [
        {
          "output_type": "stream",
          "text": [
            " Train score is 0.91\n",
            "\n",
            "\n",
            "Test score is 0.93\n",
            "\n",
            "\n",
            "\n",
            "Train confusion matrix is \n",
            " [[172  17]\n",
            " [ 10 101]]\n",
            "\n",
            "Test confusion matrix is \n",
            " [[64  4]\n",
            " [ 3 29]]\n",
            "\n",
            "\n",
            "\n",
            "Test Set classification report is \n",
            "               precision    recall  f1-score   support\n",
            "\n",
            "           0       0.96      0.94      0.95        68\n",
            "           1       0.88      0.91      0.89        32\n",
            "\n",
            "    accuracy                           0.93       100\n",
            "   macro avg       0.92      0.92      0.92       100\n",
            "weighted avg       0.93      0.93      0.93       100\n",
            "\n"
          ],
          "name": "stdout"
        }
      ]
    },
    {
      "cell_type": "markdown",
      "metadata": {
        "id": "CPkS2lXMqnk3",
        "colab_type": "text"
      },
      "source": [
        "#### Visualisation"
      ]
    },
    {
      "cell_type": "code",
      "metadata": {
        "id": "rhRTGhRsqpRc",
        "colab_type": "code",
        "outputId": "be9fe0c6-1ca9-4f50-aef1-25c05f525d2b",
        "colab": {
          "base_uri": "https://localhost:8080/",
          "height": 695
        }
      },
      "source": [
        "visualise_classifier_performance(X_train_scaled, X_test_scaled,y_train, y_test, model, important_parameter = 'n_neighbors')"
      ],
      "execution_count": 51,
      "outputs": [
        {
          "output_type": "stream",
          "text": [
            "KNeighborsClassifier Classifier \n",
            "\n"
          ],
          "name": "stdout"
        },
        {
          "output_type": "stream",
          "text": [
            "'c' argument looks like a single numeric RGB or RGBA sequence, which should be avoided as value-mapping will have precedence in case its length matches with 'x' & 'y'.  Please use a 2-D array with a single row if you really want to specify the same RGB or RGBA value for all points.\n",
            "'c' argument looks like a single numeric RGB or RGBA sequence, which should be avoided as value-mapping will have precedence in case its length matches with 'x' & 'y'.  Please use a 2-D array with a single row if you really want to specify the same RGB or RGBA value for all points.\n"
          ],
          "name": "stderr"
        },
        {
          "output_type": "display_data",
          "data": {
            "image/png": "[encoded data removed]",
            "text/plain": [
              "<Figure size 432x288 with 1 Axes>"
            ]
          },
          "metadata": {
            "tags": []
          }
        },
        {
          "output_type": "stream",
          "text": [
            "'c' argument looks like a single numeric RGB or RGBA sequence, which should be avoided as value-mapping will have precedence in case its length matches with 'x' & 'y'.  Please use a 2-D array with a single row if you really want to specify the same RGB or RGBA value for all points.\n",
            "'c' argument looks like a single numeric RGB or RGBA sequence, which should be avoided as value-mapping will have precedence in case its length matches with 'x' & 'y'.  Please use a 2-D array with a single row if you really want to specify the same RGB or RGBA value for all points.\n"
          ],
          "name": "stderr"
        },
        {
          "output_type": "display_data",
          "data": {
            "image/png": "[encoded data removed]",
            "text/plain": [
              "<Figure size 432x288 with 1 Axes>"
            ]
          },
          "metadata": {
            "tags": []
          }
        }
      ]
    },
    {
      "cell_type": "markdown",
      "metadata": {
        "id": "5zNItA-dC3_B",
        "colab_type": "text"
      },
      "source": [
        "## 3. SVC"
      ]
    },
    {
      "cell_type": "code",
      "metadata": {
        "id": "0HQ0z18hEbMC",
        "colab_type": "code",
        "colab": {}
      },
      "source": [
        "from sklearn.svm import SVC\n",
        "from sklearn.metrics import confusion_matrix, classification_report"
      ],
      "execution_count": 0,
      "outputs": []
    },
    {
      "cell_type": "markdown",
      "metadata": {
        "id": "j8WIiLXOByzW",
        "colab_type": "text"
      },
      "source": [
        "### 3.1 Linear SVC"
      ]
    },
    {
      "cell_type": "markdown",
      "metadata": {
        "colab_type": "text",
        "id": "XnwJL1Syk2HW"
      },
      "source": [
        "#### cross_validation"
      ]
    },
    {
      "cell_type": "code",
      "metadata": {
        "colab_type": "code",
        "outputId": "c742a2a7-f305-4676-c63a-87569e88c82c",
        "id": "gkOHYxmnk2HY",
        "colab": {
          "base_uri": "https://localhost:8080/",
          "height": 221
        }
      },
      "source": [
        "from sklearn.svm import SVC\n",
        "model = SVC(kernel = 'linear')\n",
        "cross_validation(X_scaled, y, model)"
      ],
      "execution_count": 58,
      "outputs": [
        {
          "output_type": "stream",
          "text": [
            "10 fold cross-validation for -- SVC-- Model \n",
            "\n",
            "\n",
            "cross validation score for 10 fold cross-validation is:-- \n",
            " [0.65853659 0.70731707 0.97560976 0.95       0.925      0.9\n",
            " 0.825      0.76923077 0.79487179 0.66666667]\n",
            "\n",
            "\n",
            "variance in scores for 10 fold cross-validationn for SVC:-- 0.11134416125496528\n",
            "\n",
            "\n"
          ],
          "name": "stdout"
        },
        {
          "output_type": "execute_result",
          "data": {
            "text/plain": [
              "'Mean for 10 fold cross-validation score:-- 0.8172232645403377'"
            ]
          },
          "metadata": {
            "tags": []
          },
          "execution_count": 58
        }
      ]
    },
    {
      "cell_type": "code",
      "metadata": {
        "id": "3wSvUAfFEfch",
        "colab_type": "code",
        "outputId": "20db18a3-36ef-4796-aed5-1591832d9459",
        "colab": {
          "base_uri": "https://localhost:8080/",
          "height": 476
        }
      },
      "source": [
        "model = SVC(kernel = 'linear')\n",
        "model.fit(X_train_scaled, y_train)\n",
        "model = model_fit(X_train_scaled, X_test_scaled, model)"
      ],
      "execution_count": 59,
      "outputs": [
        {
          "output_type": "stream",
          "text": [
            " Train score is 0.8233333333333334\n",
            "\n",
            "\n",
            "Test score is 0.9\n",
            "\n",
            "\n",
            "\n",
            "Train confusion matrix is \n",
            " [[173  16]\n",
            " [ 37  74]]\n",
            "\n",
            "Test confusion matrix is \n",
            " [[66  2]\n",
            " [ 8 24]]\n",
            "\n",
            "\n",
            "\n",
            "Test Set classification report is \n",
            "               precision    recall  f1-score   support\n",
            "\n",
            "           0       0.89      0.97      0.93        68\n",
            "           1       0.92      0.75      0.83        32\n",
            "\n",
            "    accuracy                           0.90       100\n",
            "   macro avg       0.91      0.86      0.88       100\n",
            "weighted avg       0.90      0.90      0.90       100\n",
            "\n"
          ],
          "name": "stdout"
        }
      ]
    },
    {
      "cell_type": "markdown",
      "metadata": {
        "id": "yHWyGMMCq9Ql",
        "colab_type": "text"
      },
      "source": [
        "#### Visualisation"
      ]
    },
    {
      "cell_type": "code",
      "metadata": {
        "id": "UZte4Qd4q5E4",
        "colab_type": "code",
        "outputId": "d9f94aba-f273-411d-8c86-0682ca233048",
        "colab": {
          "base_uri": "https://localhost:8080/",
          "height": 695
        }
      },
      "source": [
        "visualise_classifier_performance(X_train_scaled, X_test_scaled,y_train, y_test, model, important_parameter = 'kernel')"
      ],
      "execution_count": 60,
      "outputs": [
        {
          "output_type": "stream",
          "text": [
            "SVC Classifier \n",
            "\n"
          ],
          "name": "stdout"
        },
        {
          "output_type": "stream",
          "text": [
            "'c' argument looks like a single numeric RGB or RGBA sequence, which should be avoided as value-mapping will have precedence in case its length matches with 'x' & 'y'.  Please use a 2-D array with a single row if you really want to specify the same RGB or RGBA value for all points.\n",
            "'c' argument looks like a single numeric RGB or RGBA sequence, which should be avoided as value-mapping will have precedence in case its length matches with 'x' & 'y'.  Please use a 2-D array with a single row if you really want to specify the same RGB or RGBA value for all points.\n"
          ],
          "name": "stderr"
        },
        {
          "output_type": "display_data",
          "data": {
            "image/png": "[encoded data removed]",
            "text/plain": [
              "<Figure size 432x288 with 1 Axes>"
            ]
          },
          "metadata": {
            "tags": []
          }
        },
        {
          "output_type": "stream",
          "text": [
            "'c' argument looks like a single numeric RGB or RGBA sequence, which should be avoided as value-mapping will have precedence in case its length matches with 'x' & 'y'.  Please use a 2-D array with a single row if you really want to specify the same RGB or RGBA value for all points.\n",
            "'c' argument looks like a single numeric RGB or RGBA sequence, which should be avoided as value-mapping will have precedence in case its length matches with 'x' & 'y'.  Please use a 2-D array with a single row if you really want to specify the same RGB or RGBA value for all points.\n"
          ],
          "name": "stderr"
        },
        {
          "output_type": "display_data",
          "data": {
            "image/png": "[encoded data removed]",
            "text/plain": [
              "<Figure size 432x288 with 1 Axes>"
            ]
          },
          "metadata": {
            "tags": []
          }
        }
      ]
    },
    {
      "cell_type": "markdown",
      "metadata": {
        "id": "MbOrPMkuEmZQ",
        "colab_type": "text"
      },
      "source": [
        "### 3.2 rbf SVC"
      ]
    },
    {
      "cell_type": "markdown",
      "metadata": {
        "colab_type": "text",
        "id": "5l-1qiZClGDW"
      },
      "source": [
        "#### cross_validation"
      ]
    },
    {
      "cell_type": "code",
      "metadata": {
        "colab_type": "code",
        "outputId": "8cfe2fe1-5e25-4243-e442-81943e0cba12",
        "id": "RsNHvp-JlGDZ",
        "colab": {
          "base_uri": "https://localhost:8080/",
          "height": 221
        }
      },
      "source": [
        "from sklearn.svm import SVC\n",
        "model = SVC()\n",
        "cross_validation(X_scaled, y, model)"
      ],
      "execution_count": 61,
      "outputs": [
        {
          "output_type": "stream",
          "text": [
            "10 fold cross-validation for -- SVC-- Model \n",
            "\n",
            "\n",
            "cross validation score for 10 fold cross-validation is:-- \n",
            " [1.         0.85365854 0.90243902 1.         0.95       0.875\n",
            " 0.85       0.79487179 0.87179487 0.94871795]\n",
            "\n",
            "\n",
            "variance in scores for 10 fold cross-validationn for SVC:-- 0.06464002482773204\n",
            "\n",
            "\n"
          ],
          "name": "stdout"
        },
        {
          "output_type": "execute_result",
          "data": {
            "text/plain": [
              "'Mean for 10 fold cross-validation score:-- 0.9046482176360225'"
            ]
          },
          "metadata": {
            "tags": []
          },
          "execution_count": 61
        }
      ]
    },
    {
      "cell_type": "code",
      "metadata": {
        "id": "tMoRe9fhCAKF",
        "colab_type": "code",
        "outputId": "5639658d-1d5d-41b4-f445-24d1bf8c9cf4",
        "colab": {
          "base_uri": "https://localhost:8080/",
          "height": 476
        }
      },
      "source": [
        "model = SVC(kernel = 'rbf')\n",
        "model.fit(X_train_scaled, y_train)\n",
        "modele = model_fit(X_train_scaled, X_test_scaled, model)"
      ],
      "execution_count": 62,
      "outputs": [
        {
          "output_type": "stream",
          "text": [
            " Train score is 0.9133333333333333\n",
            "\n",
            "\n",
            "Test score is 0.93\n",
            "\n",
            "\n",
            "\n",
            "Train confusion matrix is \n",
            " [[171  18]\n",
            " [  8 103]]\n",
            "\n",
            "Test confusion matrix is \n",
            " [[64  4]\n",
            " [ 3 29]]\n",
            "\n",
            "\n",
            "\n",
            "Test Set classification report is \n",
            "               precision    recall  f1-score   support\n",
            "\n",
            "           0       0.96      0.94      0.95        68\n",
            "           1       0.88      0.91      0.89        32\n",
            "\n",
            "    accuracy                           0.93       100\n",
            "   macro avg       0.92      0.92      0.92       100\n",
            "weighted avg       0.93      0.93      0.93       100\n",
            "\n"
          ],
          "name": "stdout"
        }
      ]
    },
    {
      "cell_type": "markdown",
      "metadata": {
        "id": "MXdyZJ2mrJxF",
        "colab_type": "text"
      },
      "source": [
        "#### Visualisation"
      ]
    },
    {
      "cell_type": "code",
      "metadata": {
        "id": "v4bF77-yrLOb",
        "colab_type": "code",
        "outputId": "d598a96a-dd0c-4149-cf5c-90722a3e89d9",
        "colab": {
          "base_uri": "https://localhost:8080/",
          "height": 695
        }
      },
      "source": [
        "visualise_classifier_performance(X_train_scaled, X_test_scaled,y_train, y_test, model, important_parameter = 'kernel')"
      ],
      "execution_count": 63,
      "outputs": [
        {
          "output_type": "stream",
          "text": [
            "SVC Classifier \n",
            "\n"
          ],
          "name": "stdout"
        },
        {
          "output_type": "stream",
          "text": [
            "'c' argument looks like a single numeric RGB or RGBA sequence, which should be avoided as value-mapping will have precedence in case its length matches with 'x' & 'y'.  Please use a 2-D array with a single row if you really want to specify the same RGB or RGBA value for all points.\n",
            "'c' argument looks like a single numeric RGB or RGBA sequence, which should be avoided as value-mapping will have precedence in case its length matches with 'x' & 'y'.  Please use a 2-D array with a single row if you really want to specify the same RGB or RGBA value for all points.\n"
          ],
          "name": "stderr"
        },
        {
          "output_type": "display_data",
          "data": {
            "image/png": "[encoded data removed]",
            "text/plain": [
              "<Figure size 432x288 with 1 Axes>"
            ]
          },
          "metadata": {
            "tags": []
          }
        },
        {
          "output_type": "stream",
          "text": [
            "'c' argument looks like a single numeric RGB or RGBA sequence, which should be avoided as value-mapping will have precedence in case its length matches with 'x' & 'y'.  Please use a 2-D array with a single row if you really want to specify the same RGB or RGBA value for all points.\n",
            "'c' argument looks like a single numeric RGB or RGBA sequence, which should be avoided as value-mapping will have precedence in case its length matches with 'x' & 'y'.  Please use a 2-D array with a single row if you really want to specify the same RGB or RGBA value for all points.\n"
          ],
          "name": "stderr"
        },
        {
          "output_type": "display_data",
          "data": {
            "image/png": "[encoded data removed]",
            "text/plain": [
              "<Figure size 432x288 with 1 Axes>"
            ]
          },
          "metadata": {
            "tags": []
          }
        }
      ]
    },
    {
      "cell_type": "markdown",
      "metadata": {
        "id": "n0Haz9fcHiyo",
        "colab_type": "text"
      },
      "source": [
        "### 3.3 GridSearchCV"
      ]
    },
    {
      "cell_type": "code",
      "metadata": {
        "id": "8_jJUkKvCF51",
        "colab_type": "code",
        "colab": {}
      },
      "source": [
        "from sklearn.model_selection import GridSearchCV"
      ],
      "execution_count": 0,
      "outputs": []
    },
    {
      "cell_type": "markdown",
      "metadata": {
        "id": "0sRzfrQCCWig",
        "colab_type": "text"
      },
      "source": [
        "class sklearn.svm.SVC(C=1.0, kernel=’rbf’, degree=3, gamma=’auto_deprecated’, coef0=0.0, shrinking=True, probability=False, tol=0.001, cache_size=200, class_weight=None, verbose=False, max_iter=-1, decision_function_shape=’ovr’, random_state=None)"
      ]
    },
    {
      "cell_type": "code",
      "metadata": {
        "id": "jNOGSxvICP88",
        "colab_type": "code",
        "outputId": "1a306c8a-21ce-4f3a-a395-376bd88b468c",
        "colab": {
          "base_uri": "https://localhost:8080/",
          "height": 340
        }
      },
      "source": [
        "param_grid = {'C':np.linspace(0.1, 3, 20), 'kernel': ['linear', 'rbf', 'poly'], 'gamma': np.linspace(0.1, 3, 20)}\n",
        "grid = GridSearchCV(SVC(), param_grid = param_grid, cv = 3, scoring = 'accuracy',verbose = 1)\n",
        "grid.fit(X_train_scaled, y_train)"
      ],
      "execution_count": 65,
      "outputs": [
        {
          "output_type": "stream",
          "text": [
            "Fitting 3 folds for each of 1200 candidates, totalling 3600 fits\n"
          ],
          "name": "stdout"
        },
        {
          "output_type": "stream",
          "text": [
            "[Parallel(n_jobs=1)]: Using backend SequentialBackend with 1 concurrent workers.\n",
            "[Parallel(n_jobs=1)]: Done 3600 out of 3600 | elapsed:   17.0s finished\n"
          ],
          "name": "stderr"
        },
        {
          "output_type": "execute_result",
          "data": {
            "text/plain": [
              "GridSearchCV(cv=3, error_score='raise-deprecating',\n",
              "             estimator=SVC(C=1.0, cache_size=200, class_weight=None, coef0=0.0,\n",
              "                           decision_function_shape='ovr', degree=3,\n",
              "                           gamma='auto_deprecated', kernel='rbf', max_iter=-1,\n",
              "                           probability=False, random_state=None, shrinking=True,\n",
              "                           tol=0.001, verbose=False),\n",
              "             iid='warn', n_jobs=None,\n",
              "             param_grid={'C': array([0.1       , 0.25263158, 0.40526316, 0...\n",
              "       2.38947368, 2.54210526, 2.69473684, 2.84736842, 3.        ]),\n",
              "                         'gamma': array([0.1       , 0.25263158, 0.40526316, 0.55789474, 0.71052632,\n",
              "       0.86315789, 1.01578947, 1.16842105, 1.32105263, 1.47368421,\n",
              "       1.62631579, 1.77894737, 1.93157895, 2.08421053, 2.23684211,\n",
              "       2.38947368, 2.54210526, 2.69473684, 2.84736842, 3.        ]),\n",
              "                         'kernel': ['linear', 'rbf', 'poly']},\n",
              "             pre_dispatch='2*n_jobs', refit=True, return_train_score=False,\n",
              "             scoring='accuracy', verbose=1)"
            ]
          },
          "metadata": {
            "tags": []
          },
          "execution_count": 65
        }
      ]
    },
    {
      "cell_type": "code",
      "metadata": {
        "id": "xHeOVoRVDvSv",
        "colab_type": "code",
        "outputId": "aa0f66af-5c12-4f76-a853-1acba6f7761d",
        "colab": {
          "base_uri": "https://localhost:8080/",
          "height": 34
        }
      },
      "source": [
        "grid.best_params_"
      ],
      "execution_count": 66,
      "outputs": [
        {
          "output_type": "execute_result",
          "data": {
            "text/plain": [
              "{'C': 2.694736842105263, 'gamma': 0.8631578947368421, 'kernel': 'rbf'}"
            ]
          },
          "metadata": {
            "tags": []
          },
          "execution_count": 66
        }
      ]
    },
    {
      "cell_type": "code",
      "metadata": {
        "id": "JKSED6F6FGPr",
        "colab_type": "code",
        "outputId": "906344ac-6b22-4527-dd9f-65d30274094d",
        "colab": {
          "base_uri": "https://localhost:8080/",
          "height": 34
        }
      },
      "source": [
        "grid.best_score_"
      ],
      "execution_count": 67,
      "outputs": [
        {
          "output_type": "execute_result",
          "data": {
            "text/plain": [
              "0.9166666666666666"
            ]
          },
          "metadata": {
            "tags": []
          },
          "execution_count": 67
        }
      ]
    },
    {
      "cell_type": "code",
      "metadata": {
        "id": "mymbCuIOFCaV",
        "colab_type": "code",
        "outputId": "63d825d2-db56-4fbe-985d-fe81eef5b274",
        "colab": {
          "base_uri": "https://localhost:8080/",
          "height": 85
        }
      },
      "source": [
        "model = grid.best_estimator_\n",
        "model"
      ],
      "execution_count": 68,
      "outputs": [
        {
          "output_type": "execute_result",
          "data": {
            "text/plain": [
              "SVC(C=2.694736842105263, cache_size=200, class_weight=None, coef0=0.0,\n",
              "    decision_function_shape='ovr', degree=3, gamma=0.8631578947368421,\n",
              "    kernel='rbf', max_iter=-1, probability=False, random_state=None,\n",
              "    shrinking=True, tol=0.001, verbose=False)"
            ]
          },
          "metadata": {
            "tags": []
          },
          "execution_count": 68
        }
      ]
    },
    {
      "cell_type": "code",
      "metadata": {
        "id": "c4MtdOBbFfUG",
        "colab_type": "code",
        "outputId": "7a778bc1-bf1c-47bc-cb93-3176c916b1a3",
        "colab": {
          "base_uri": "https://localhost:8080/",
          "height": 476
        }
      },
      "source": [
        "model = model_fit(X_train_scaled, X_test_scaled, model)"
      ],
      "execution_count": 70,
      "outputs": [
        {
          "output_type": "stream",
          "text": [
            " Train score is 0.9133333333333333\n",
            "\n",
            "\n",
            "Test score is 0.93\n",
            "\n",
            "\n",
            "\n",
            "Train confusion matrix is \n",
            " [[171  18]\n",
            " [  8 103]]\n",
            "\n",
            "Test confusion matrix is \n",
            " [[64  4]\n",
            " [ 3 29]]\n",
            "\n",
            "\n",
            "\n",
            "Test Set classification report is \n",
            "               precision    recall  f1-score   support\n",
            "\n",
            "           0       0.96      0.94      0.95        68\n",
            "           1       0.88      0.91      0.89        32\n",
            "\n",
            "    accuracy                           0.93       100\n",
            "   macro avg       0.92      0.92      0.92       100\n",
            "weighted avg       0.93      0.93      0.93       100\n",
            "\n"
          ],
          "name": "stdout"
        }
      ]
    },
    {
      "cell_type": "markdown",
      "metadata": {
        "id": "T0yFCvq-GljG",
        "colab_type": "text"
      },
      "source": [
        "## 4. DecisionTreeClassifier\n",
        "**decision tree classifier is not based on Euclidean distance so we don't need to do feature scaling but for graphical boundary we need feature scaling for computation**"
      ]
    },
    {
      "cell_type": "code",
      "metadata": {
        "id": "76vmMkbfHuJ4",
        "colab_type": "code",
        "outputId": "288da8ed-9401-44ad-e672-e8a4632e0e0d",
        "colab": {
          "base_uri": "https://localhost:8080/",
          "height": 442
        }
      },
      "source": [
        "from sklearn.tree import DecisionTreeClassifier\n",
        "model = DecisionTreeClassifier()\n",
        "model = model_fit(X_train_scaled, X_test_scaled, model)"
      ],
      "execution_count": 0,
      "outputs": [
        {
          "output_type": "stream",
          "text": [
            " Train score is 1.0\n",
            "\n",
            "\n",
            "Test score is 0.9\n",
            "\n",
            "\n",
            "\n",
            "Train confusion matrix is \n",
            " [[189   0]\n",
            " [  0 111]]\n",
            "\n",
            "Test confusion matrix is \n",
            " [[62  6]\n",
            " [ 4 28]]\n",
            "\n",
            "\n",
            "\n",
            "classification report is \n",
            "              precision    recall  f1-score   support\n",
            "\n",
            "          0       0.94      0.91      0.93        68\n",
            "          1       0.82      0.88      0.85        32\n",
            "\n",
            "avg / total       0.90      0.90      0.90       100\n",
            "\n"
          ],
          "name": "stdout"
        }
      ]
    },
    {
      "cell_type": "code",
      "metadata": {
        "id": "jY7_g1O2KghP",
        "colab_type": "code",
        "outputId": "902bccd2-4165-48c6-826a-677247fe7e60",
        "colab": {
          "base_uri": "https://localhost:8080/",
          "height": 68
        }
      },
      "source": [
        "try:\n",
        "  graph(X_train, X_test, model)\n",
        "except Exception as e:\n",
        "  print(f'{type(e).__name__}:-- {e}')"
      ],
      "execution_count": 0,
      "outputs": [
        {
          "output_type": "stream",
          "text": [
            "DecisionTreeClassifier Model \n",
            "\n",
            "TypeError:-- unhashable type: 'slice'\n"
          ],
          "name": "stdout"
        }
      ]
    },
    {
      "cell_type": "markdown",
      "metadata": {
        "id": "mAZFdGoFqaHZ",
        "colab_type": "text"
      },
      "source": [
        "**^^it's an overfitting model so we will understand restrict DecisionTree classifier to learn more by max_depth parameter**"
      ]
    },
    {
      "cell_type": "markdown",
      "metadata": {
        "id": "p0fa13l0u53R",
        "colab_type": "text"
      },
      "source": [
        "### Graph Train score, Test score vs. max_depth for Decision Tree Classifier to visualise overfitting"
      ]
    },
    {
      "cell_type": "code",
      "metadata": {
        "id": "4ODr4RP3nQiW",
        "colab_type": "code",
        "outputId": "3a1c7a14-8964-4230-b902-fe31158b1f00",
        "colab": {
          "base_uri": "https://localhost:8080/",
          "height": 320
        }
      },
      "source": [
        "def plotting_d(X_train, X_test):\n",
        "  from sklearn.tree import DecisionTreeClassifier\n",
        "  x = range(1,30)\n",
        "  t = []\n",
        "  s = []\n",
        "  for i in x:\n",
        "    model = DecisionTreeClassifier(max_depth = i)\n",
        "    model.fit(X_train, y_train)\n",
        "    s.append(model.score(X_test, y_test))\n",
        "    t.append(model.score(X_train, y_train))\n",
        "\n",
        "  plt.figure(figsize =(10, 5))\n",
        "  plt.plot(x, t, c = 'r', label = 'Train score')\n",
        "  plt.plot(x, s, c = 'g', label = 'Test score')\n",
        "  plt.xticks(x)          \n",
        "  plt.legend()    \n",
        "  plt.grid()\n",
        "  plt.grid()\n",
        "  plt.show()\n",
        "plotting(X_train_scaled, X_test_scaled)"
      ],
      "execution_count": 0,
      "outputs": [
        {
          "output_type": "display_data",
          "data": {
            "image/png": "[encoded data removed]",
            "text/plain": [
              "<matplotlib.figure.Figure at 0x7fb8c981b080>"
            ]
          },
          "metadata": {
            "tags": []
          }
        }
      ]
    },
    {
      "cell_type": "code",
      "metadata": {
        "id": "_n0FtPN5prHt",
        "colab_type": "code",
        "outputId": "542de400-5040-48bd-8c0a-130a6c3d7e3c",
        "colab": {
          "base_uri": "https://localhost:8080/",
          "height": 442
        }
      },
      "source": [
        "model = DecisionTreeClassifier(max_depth = 5)\n",
        "model = model_fit(X_train_scaled, X_test_scaled, model)"
      ],
      "execution_count": 0,
      "outputs": [
        {
          "output_type": "stream",
          "text": [
            " Train score is 0.9433333333333334\n",
            "\n",
            "\n",
            "Test score is 0.95\n",
            "\n",
            "\n",
            "\n",
            "Train confusion matrix is \n",
            " [[182   7]\n",
            " [ 10 101]]\n",
            "\n",
            "Test confusion matrix is \n",
            " [[66  2]\n",
            " [ 3 29]]\n",
            "\n",
            "\n",
            "\n",
            "classification report is \n",
            "              precision    recall  f1-score   support\n",
            "\n",
            "          0       0.96      0.97      0.96        68\n",
            "          1       0.94      0.91      0.92        32\n",
            "\n",
            "avg / total       0.95      0.95      0.95       100\n",
            "\n"
          ],
          "name": "stdout"
        }
      ]
    },
    {
      "cell_type": "markdown",
      "metadata": {
        "id": "OtVEJfwauNzR",
        "colab_type": "text"
      },
      "source": [
        "### Visualisation Decision boundary"
      ]
    },
    {
      "cell_type": "code",
      "metadata": {
        "id": "uE2mwQ9vqIYC",
        "colab_type": "code",
        "outputId": "eb20725b-5625-47ee-cba7-03401880829d",
        "colab": {
          "base_uri": "https://localhost:8080/",
          "height": 605
        }
      },
      "source": [
        "graph(X_train_scaled, X_test_scaled, model)"
      ],
      "execution_count": 0,
      "outputs": [
        {
          "output_type": "stream",
          "text": [
            "DecisionTreeClassifier Model \n",
            "\n"
          ],
          "name": "stdout"
        },
        {
          "output_type": "display_data",
          "data": {
            "image/png": "[encoded data removed]",
            "text/plain": [
              "<matplotlib.figure.Figure at 0x7fd0f67988d0>"
            ]
          },
          "metadata": {
            "tags": []
          }
        },
        {
          "output_type": "display_data",
          "data": {
            "image/png": "[encoded data removed]",
            "text/plain": [
              "<matplotlib.figure.Figure at 0x7fd0f6773cf8>"
            ]
          },
          "metadata": {
            "tags": []
          }
        }
      ]
    },
    {
      "cell_type": "markdown",
      "metadata": {
        "colab_type": "text",
        "id": "a0lRDB1Tq7wi"
      },
      "source": [
        "### cross_validation for max_depth = 5"
      ]
    },
    {
      "cell_type": "code",
      "metadata": {
        "colab_type": "code",
        "outputId": "3afcfb4c-0215-4e8b-d085-5e7341571a68",
        "id": "yrHRHWYpq7wl",
        "colab": {
          "base_uri": "https://localhost:8080/",
          "height": 221
        }
      },
      "source": [
        "from sklearn.tree import DecisionTreeClassifier\n",
        "model = DecisionTreeClassifier(max_depth = 5, random_state = 0)\n",
        "cross_validation(X_scaled, y, model)"
      ],
      "execution_count": 0,
      "outputs": [
        {
          "output_type": "stream",
          "text": [
            "10 fold cross-validation for -- DecisionTreeClassifier-- Model \n",
            "\n",
            "\n",
            "cross validation score for 10 fold cross-validation is:-- \n",
            " [0.95121951 0.75609756 0.92682927 0.95       0.95       0.875\n",
            " 0.825      0.84615385 0.74358974 0.94871795]\n",
            "\n",
            "\n",
            "variance in scores for 10 fold cross-validationn for DecisionTreeClassifier:-- 0.0773740638187005\n",
            "\n",
            "\n"
          ],
          "name": "stdout"
        },
        {
          "output_type": "execute_result",
          "data": {
            "text/plain": [
              "'Mean for 10 fold cross-validation score:-- 0.8772607879924953'"
            ]
          },
          "metadata": {
            "tags": []
          },
          "execution_count": 78
        }
      ]
    },
    {
      "cell_type": "markdown",
      "metadata": {
        "id": "vXQXT2hmuhWo",
        "colab_type": "text"
      },
      "source": [
        "### graph for cross_validation score vs. max_depth for decision tree"
      ]
    },
    {
      "cell_type": "code",
      "metadata": {
        "id": "x8KTqWhwrGaV",
        "colab_type": "code",
        "outputId": "b19694ae-5927-4195-efe6-1f96590ee4c7",
        "colab": {
          "base_uri": "https://localhost:8080/",
          "height": 268
        }
      },
      "source": [
        "x = range(3, 30)\n",
        "score = []\n",
        "for i in x:\n",
        "  model = DecisionTreeClassifier(max_depth = i, random_state = 0)\n",
        "  score.append(cross_validation(X_scaled, y, model, out = False))\n",
        "\n",
        "plt.plot(figsize = (15, 7))\n",
        "plt.plot(x, score)\n",
        "plt.xticks(x)\n",
        "plt.grid()\n",
        "plt.show()"
      ],
      "execution_count": 0,
      "outputs": [
        {
          "output_type": "display_data",
          "data": {
            "image/png": "[encoded data removed]",
            "text/plain": [
              "<matplotlib.figure.Figure at 0x7fb8c95e7898>"
            ]
          },
          "metadata": {
            "tags": []
          }
        }
      ]
    },
    {
      "cell_type": "markdown",
      "metadata": {
        "id": "RNMW5vWEs_cP",
        "colab_type": "text"
      },
      "source": [
        "## 5. RandomForestClassifier"
      ]
    },
    {
      "cell_type": "code",
      "metadata": {
        "id": "0G3fBiwgvXq6",
        "colab_type": "code",
        "colab": {}
      },
      "source": [
        "from sklearn.ensemble import RandomForestClassifier"
      ],
      "execution_count": 0,
      "outputs": []
    },
    {
      "cell_type": "code",
      "metadata": {
        "id": "ixBVNv8IvjHH",
        "colab_type": "code",
        "outputId": "3ab5d791-e808-40a6-f317-86733b08e9c4",
        "colab": {
          "base_uri": "https://localhost:8080/",
          "height": 442
        }
      },
      "source": [
        "model = RandomForestClassifier(n_estimators = 10, max_depth = 5)\n",
        "model = model_fit(X_train_scaled, X_test_scaled, model)"
      ],
      "execution_count": 0,
      "outputs": [
        {
          "output_type": "stream",
          "text": [
            " Train score is 0.9366666666666666\n",
            "\n",
            "\n",
            "Test score is 0.94\n",
            "\n",
            "\n",
            "\n",
            "Train confusion matrix is \n",
            " [[176  13]\n",
            " [  6 105]]\n",
            "\n",
            "Test confusion matrix is \n",
            " [[65  3]\n",
            " [ 3 29]]\n",
            "\n",
            "\n",
            "\n",
            "classification report is \n",
            "              precision    recall  f1-score   support\n",
            "\n",
            "          0       0.96      0.96      0.96        68\n",
            "          1       0.91      0.91      0.91        32\n",
            "\n",
            "avg / total       0.94      0.94      0.94       100\n",
            "\n"
          ],
          "name": "stdout"
        }
      ]
    },
    {
      "cell_type": "markdown",
      "metadata": {
        "id": "-aBSTnv4uYHq",
        "colab_type": "text"
      },
      "source": [
        "#### Visualisation of Decision Boundary"
      ]
    },
    {
      "cell_type": "code",
      "metadata": {
        "id": "evX2u5kKv4WQ",
        "colab_type": "code",
        "outputId": "65698a06-382a-4d39-b579-08c26a52b6e4",
        "colab": {
          "base_uri": "https://localhost:8080/",
          "height": 605
        }
      },
      "source": [
        "graph(X_train_scaled, X_test_scaled, model)"
      ],
      "execution_count": 0,
      "outputs": [
        {
          "output_type": "stream",
          "text": [
            "RandomForestClassifier Model \n",
            "\n"
          ],
          "name": "stdout"
        },
        {
          "output_type": "display_data",
          "data": {
            "image/png": "[encoded data removed]",
            "text/plain": [
              "<matplotlib.figure.Figure at 0x7fb8c9330ef0>"
            ]
          },
          "metadata": {
            "tags": []
          }
        },
        {
          "output_type": "display_data",
          "data": {
            "image/png": "[encoded data removed]",
            "text/plain": [
              "<matplotlib.figure.Figure at 0x7fb8c97fd978>"
            ]
          },
          "metadata": {
            "tags": []
          }
        }
      ]
    },
    {
      "cell_type": "markdown",
      "metadata": {
        "id": "k8h2IJM3wb7O",
        "colab_type": "text"
      },
      "source": [
        "### cross validation"
      ]
    },
    {
      "cell_type": "code",
      "metadata": {
        "id": "wZfYONaNxJwY",
        "colab_type": "code",
        "outputId": "3ec3a8be-3385-49f1-ce55-2d3447f33614",
        "colab": {
          "base_uri": "https://localhost:8080/",
          "height": 221
        }
      },
      "source": [
        "model = RandomForestClassifier(n_estimators = 10, max_depth = 5)\n",
        "cross_validation(X_scaled, y, model)"
      ],
      "execution_count": 0,
      "outputs": [
        {
          "output_type": "stream",
          "text": [
            "10 fold cross-validation for -- RandomForestClassifier-- Model \n",
            "\n",
            "\n",
            "cross validation score for 10 fold cross-validation is:-- \n",
            " [1.         0.75609756 0.90243902 1.         0.975      0.825\n",
            " 0.825      0.79487179 0.87179487 0.94871795]\n",
            "\n",
            "\n",
            "variance in scores for 10 fold cross-validationn for RandomForestClassifier:-- 0.08413564983358852\n",
            "\n",
            "\n"
          ],
          "name": "stdout"
        },
        {
          "output_type": "execute_result",
          "data": {
            "text/plain": [
              "'Mean for 10 fold cross-validation score:-- 0.8898921200750468'"
            ]
          },
          "metadata": {
            "tags": []
          },
          "execution_count": 98
        }
      ]
    },
    {
      "cell_type": "markdown",
      "metadata": {
        "id": "1z4Igkg6wGKn",
        "colab_type": "text"
      },
      "source": [
        "## NaiveBayesClassifier"
      ]
    },
    {
      "cell_type": "code",
      "metadata": {
        "id": "4H_jlP3zyt-D",
        "colab_type": "code",
        "outputId": "3946e8ce-48ab-4712-c326-e11324f49951",
        "colab": {
          "base_uri": "https://localhost:8080/",
          "height": 442
        }
      },
      "source": [
        "from sklearn.naive_bayes import GaussianNB\n",
        "model = GaussianNB()\n",
        "model = model_fit(X_train_scaled, X_test_scaled, model)"
      ],
      "execution_count": 0,
      "outputs": [
        {
          "output_type": "stream",
          "text": [
            " Train score is 0.8833333333333333\n",
            "\n",
            "\n",
            "Test score is 0.9\n",
            "\n",
            "\n",
            "\n",
            "Train confusion matrix is \n",
            " [[174  15]\n",
            " [ 20  91]]\n",
            "\n",
            "Test confusion matrix is \n",
            " [[65  3]\n",
            " [ 7 25]]\n",
            "\n",
            "\n",
            "\n",
            "classification report is \n",
            "              precision    recall  f1-score   support\n",
            "\n",
            "          0       0.90      0.96      0.93        68\n",
            "          1       0.89      0.78      0.83        32\n",
            "\n",
            "avg / total       0.90      0.90      0.90       100\n",
            "\n"
          ],
          "name": "stdout"
        }
      ]
    },
    {
      "cell_type": "markdown",
      "metadata": {
        "id": "W_s65pA48Q9w",
        "colab_type": "text"
      },
      "source": [
        "### graph to see decision boundaries"
      ]
    },
    {
      "cell_type": "code",
      "metadata": {
        "id": "yQwO_StV8WPA",
        "colab_type": "code",
        "outputId": "7356c0cc-777e-47db-9e90-a3dc1f095b2b",
        "colab": {
          "base_uri": "https://localhost:8080/",
          "height": 605
        }
      },
      "source": [
        "graph(X_train_scaled, X_test_scaled, model)"
      ],
      "execution_count": 0,
      "outputs": [
        {
          "output_type": "stream",
          "text": [
            "GaussianNB Model \n",
            "\n"
          ],
          "name": "stdout"
        },
        {
          "output_type": "display_data",
          "data": {
            "image/png": "[encoded data removed]",
            "text/plain": [
              "<matplotlib.figure.Figure at 0x7fd0f68afd68>"
            ]
          },
          "metadata": {
            "tags": []
          }
        },
        {
          "output_type": "display_data",
          "data": {
            "image/png": "[encoded data removed]",
            "text/plain": [
              "<matplotlib.figure.Figure at 0x7fd0f6821fd0>"
            ]
          },
          "metadata": {
            "tags": []
          }
        }
      ]
    },
    {
      "cell_type": "markdown",
      "metadata": {
        "id": "GgpHfrym8Otq",
        "colab_type": "text"
      },
      "source": [
        "### cross_vaidation"
      ]
    },
    {
      "cell_type": "code",
      "metadata": {
        "id": "hL3a20fs5aRY",
        "colab_type": "code",
        "outputId": "c310ac88-1fa6-4f2d-d011-68f8a820e779",
        "colab": {
          "base_uri": "https://localhost:8080/",
          "height": 221
        }
      },
      "source": [
        "from sklearn.naive_bayes import GaussianNB\n",
        "model = GaussianNB()\n",
        "cross_validation(X_scaled, y, model)"
      ],
      "execution_count": 0,
      "outputs": [
        {
          "output_type": "stream",
          "text": [
            "10 fold cross-validation for -- GaussianNB-- Model \n",
            "\n",
            "\n",
            "cross validation score for 10 fold cross-validation is:-- \n",
            " [0.82926829 0.7804878  0.95121951 0.975      0.95       0.9\n",
            " 0.8        0.79487179 0.87179487 0.92307692]\n",
            "\n",
            "\n",
            "variance in scores for 10 fold cross-validationn for GaussianNB:-- 0.06883632982248508\n",
            "\n",
            "\n"
          ],
          "name": "stdout"
        },
        {
          "output_type": "execute_result",
          "data": {
            "text/plain": [
              "'Mean for 10 fold cross-validation score:-- 0.8775719199499689'"
            ]
          },
          "metadata": {
            "tags": []
          },
          "execution_count": 24
        }
      ]
    },
    {
      "cell_type": "code",
      "metadata": {
        "id": "uTXV1dJU8aJf",
        "colab_type": "code",
        "colab": {}
      },
      "source": [
        ""
      ],
      "execution_count": 0,
      "outputs": []
    }
  ]
}