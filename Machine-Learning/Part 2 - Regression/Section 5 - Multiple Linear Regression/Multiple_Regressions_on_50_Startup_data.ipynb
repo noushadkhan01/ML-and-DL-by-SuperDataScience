{
  "nbformat": 4,
  "nbformat_minor": 0,
  "metadata": {
    "colab": {
      "name": "Multiple Regressions on 50 Startup data.ipynb",
      "version": "0.3.2",
      "provenance": [],
      "collapsed_sections": [],
      "include_colab_link": true
    },
    "kernelspec": {
      "name": "python3",
      "display_name": "Python 3"
    }
  },
  "cells": [
    {
      "cell_type": "markdown",
      "metadata": {
        "id": "view-in-github",
        "colab_type": "text"
      },
      "source": [
        "<a href=\"https://colab.research.google.com/github/noushadkhan01/ML-and-DL-by-SuperDataScience/blob/master/Machine-Learning/Part%202%20-%20Regression/Section%205%20-%20Multiple%20Linear%20Regression/Multiple_Regressions_on_50_Startup_data.ipynb\" target=\"_parent\"><img src=\"https://colab.research.google.com/assets/colab-badge.svg\" alt=\"Open In Colab\"/></a>"
      ]
    },
    {
      "cell_type": "code",
      "metadata": {
        "id": "DtW10oavLtrs",
        "colab_type": "code",
        "outputId": "8af9db68-cf78-4459-a423-f252c0ebb87f",
        "colab": {
          "base_uri": "https://localhost:8080/",
          "height": 136
        }
      },
      "source": [
        "!git clone https://github.com/noushadkhan01/ML-and-DL-by-SuperDataScience.git"
      ],
      "execution_count": 0,
      "outputs": [
        {
          "output_type": "stream",
          "text": [
            "Cloning into 'ML-and-DL-by-SuperDataScience'...\n",
            "remote: Enumerating objects: 211, done.\u001b[K\n",
            "remote: Counting objects:   0% (1/211)   \u001b[K\rremote: Counting objects:   1% (3/211)   \u001b[K\rremote: Counting objects:   2% (5/211)   \u001b[K\rremote: Counting objects:   3% (7/211)   \u001b[K\rremote: Counting objects:   4% (9/211)   \u001b[K\rremote: Counting objects:   5% (11/211)   \u001b[K\rremote: Counting objects:   6% (13/211)   \u001b[K\rremote: Counting objects:   7% (15/211)   \u001b[K\rremote: Counting objects:   8% (17/211)   \u001b[K\rremote: Counting objects:   9% (19/211)   \u001b[K\rremote: Counting objects:  10% (22/211)   \u001b[K\rremote: Counting objects:  11% (24/211)   \u001b[K\rremote: Counting objects:  12% (26/211)   \u001b[K\rremote: Counting objects:  13% (28/211)   \u001b[K\rremote: Counting objects:  14% (30/211)   \u001b[K\rremote: Counting objects:  15% (32/211)   \u001b[K\rremote: Counting objects:  16% (34/211)   \u001b[K\rremote: Counting objects:  17% (36/211)   \u001b[K\rremote: Counting objects:  18% (38/211)   \u001b[K\rremote: Counting objects:  19% (41/211)   \u001b[K\rremote: Counting objects:  20% (43/211)   \u001b[K\rremote: Counting objects:  21% (45/211)   \u001b[K\rremote: Counting objects:  22% (47/211)   \u001b[K\rremote: Counting objects:  23% (49/211)   \u001b[K\rremote: Counting objects:  24% (51/211)   \u001b[K\rremote: Counting objects:  25% (53/211)   \u001b[K\rremote: Counting objects:  26% (55/211)   \u001b[K\rremote: Counting objects:  27% (57/211)   \u001b[K\rremote: Counting objects:  28% (60/211)   \u001b[K\rremote: Counting objects:  29% (62/211)   \u001b[K\rremote: Counting objects:  30% (64/211)   \u001b[K\rremote: Counting objects:  31% (66/211)   \u001b[K\rremote: Counting objects:  32% (68/211)   \u001b[K\rremote: Counting objects:  33% (70/211)   \u001b[K\rremote: Counting objects:  34% (72/211)   \u001b[K\rremote: Counting objects:  35% (74/211)   \u001b[K\rremote: Counting objects:  36% (76/211)   \u001b[K\rremote: Counting objects:  37% (79/211)   \u001b[K\rremote: Counting objects:  38% (81/211)   \u001b[K\rremote: Counting objects:  39% (83/211)   \u001b[K\rremote: Counting objects:  40% (85/211)   \u001b[K\rremote: Counting objects:  41% (87/211)   \u001b[K\rremote: Counting objects:  42% (89/211)   \u001b[K\rremote: Counting objects:  43% (91/211)   \u001b[K\rremote: Counting objects:  44% (93/211)   \u001b[K\rremote: Counting objects:  45% (95/211)   \u001b[K\rremote: Counting objects:  46% (98/211)   \u001b[K\rremote: Counting objects:  47% (100/211)   \u001b[K\rremote: Counting objects:  48% (102/211)   \u001b[K\rremote: Counting objects:  49% (104/211)   \u001b[K\rremote: Counting objects:  50% (106/211)   \u001b[K\rremote: Counting objects:  51% (108/211)   \u001b[K\rremote: Counting objects:  52% (110/211)   \u001b[K\rremote: Counting objects:  53% (112/211)   \u001b[K\rremote: Counting objects:  54% (114/211)   \u001b[K\rremote: Counting objects:  55% (117/211)   \u001b[K\rremote: Counting objects:  56% (119/211)   \u001b[K\rremote: Counting objects:  57% (121/211)   \u001b[K\rremote: Counting objects:  58% (123/211)   \u001b[K\rremote: Counting objects:  59% (125/211)   \u001b[K\rremote: Counting objects:  60% (127/211)   \u001b[K\rremote: Counting objects:  61% (129/211)   \u001b[K\rremote: Counting objects:  62% (131/211)   \u001b[K\rremote: Counting objects:  63% (133/211)   \u001b[K\rremote: Counting objects:  64% (136/211)   \u001b[K\rremote: Counting objects:  65% (138/211)   \u001b[K\rremote: Counting objects:  66% (140/211)   \u001b[K\rremote: Counting objects:  67% (142/211)   \u001b[K\rremote: Counting objects:  68% (144/211)   \u001b[K\rremote: Counting objects:  69% (146/211)   \u001b[K\rremote: Counting objects:  70% (148/211)   \u001b[K\rremote: Counting objects:  71% (150/211)   \u001b[K\rremote: Counting objects:  72% (152/211)   \u001b[K\rremote: Counting objects:  73% (155/211)   \u001b[K\rremote: Counting objects:  74% (157/211)   \u001b[K\rremote: Counting objects:  75% (159/211)   \u001b[K\rremote: Counting objects:  76% (161/211)   \u001b[K\rremote: Counting objects:  77% (163/211)   \u001b[K\rremote: Counting objects:  78% (165/211)   \u001b[K\rremote: Counting objects:  79% (167/211)   \u001b[K\rremote: Counting objects:  80% (169/211)   \u001b[K\rremote: Counting objects:  81% (171/211)   \u001b[K\rremote: Counting objects:  82% (174/211)   \u001b[K\rremote: Counting objects:  83% (176/211)   \u001b[K\rremote: Counting objects:  84% (178/211)   \u001b[K\rremote: Counting objects:  85% (180/211)   \u001b[K\rremote: Counting objects:  86% (182/211)   \u001b[K\rremote: Counting objects:  87% (184/211)   \u001b[K\rremote: Counting objects:  88% (186/211)   \u001b[K\rremote: Counting objects:  89% (188/211)   \u001b[K\rremote: Counting objects:  90% (190/211)   \u001b[K\rremote: Counting objects:  91% (193/211)   \u001b[K\rremote: Counting objects:  92% (195/211)   \u001b[K\rremote: Counting objects:  93% (197/211)   \u001b[K\rremote: Counting objects:  94% (199/211)   \u001b[K\rremote: Counting objects:  95% (201/211)   \u001b[K\rremote: Counting objects:  96% (203/211)   \u001b[K\rremote: Counting objects:  97% (205/211)   \u001b[K\rremote: Counting objects:  98% (207/211)   \u001b[K\rremote: Counting objects:  99% (209/211)   \u001b[K\rremote: Counting objects: 100% (211/211)   \u001b[K\rremote: Counting objects: 100% (211/211), done.\u001b[K\n",
            "remote: Compressing objects: 100% (155/155), done.\u001b[K\n",
            "remote: Total 211 (delta 57), reused 201 (delta 53), pack-reused 0\u001b[K\n",
            "Receiving objects: 100% (211/211), 24.79 MiB | 19.07 MiB/s, done.\n",
            "Resolving deltas: 100% (57/57), done.\n"
          ],
          "name": "stdout"
        }
      ]
    },
    {
      "cell_type": "code",
      "metadata": {
        "id": "tQIGRV4WMD52",
        "colab_type": "code",
        "outputId": "6848ddd9-e14f-4db8-dfb4-4b66ac1eb2f5",
        "colab": {
          "base_uri": "https://localhost:8080/",
          "height": 34
        }
      },
      "source": [
        "%cd ML-and-DL-by-SuperDataScience/Machine-Learning/Part 2 - Regression/Section 5 - Multiple Linear Regression/"
      ],
      "execution_count": 0,
      "outputs": [
        {
          "output_type": "stream",
          "text": [
            "/content/ML-and-DL-by-SuperDataScience/Machine-Learning/Part 2 - Regression/Section 5 - Multiple Linear Regression\n"
          ],
          "name": "stdout"
        }
      ]
    },
    {
      "cell_type": "code",
      "metadata": {
        "id": "_0Heki7FMTD3",
        "colab_type": "code",
        "outputId": "de65507b-1a60-49a2-ac2d-d9e4ddbe9502",
        "colab": {
          "base_uri": "https://localhost:8080/",
          "height": 68
        }
      },
      "source": [
        "!ls"
      ],
      "execution_count": 0,
      "outputs": [
        {
          "output_type": "stream",
          "text": [
            "50_Startups.csv\t\t\tmultiple_linear_regression.py\n",
            "data_preprocessing_template.py\tmultiple_linear_regression.R\n",
            "data_preprocessing_template.R\n"
          ],
          "name": "stdout"
        }
      ]
    },
    {
      "cell_type": "code",
      "metadata": {
        "id": "j2jgztRJMT5N",
        "colab_type": "code",
        "colab": {}
      },
      "source": [
        "import pandas as pd\n",
        "import matplotlib.pyplot as plt\n",
        "import seaborn as sns\n",
        "import numpy as np\n",
        "%matplotlib inline"
      ],
      "execution_count": 0,
      "outputs": []
    },
    {
      "cell_type": "code",
      "metadata": {
        "id": "nBSsz2yVMgLv",
        "colab_type": "code",
        "outputId": "35f27de9-47db-404a-d927-471b62521230",
        "colab": {
          "base_uri": "https://localhost:8080/",
          "height": 204
        }
      },
      "source": [
        "df = pd.read_csv('50_Startups.csv')\n",
        "df.head()"
      ],
      "execution_count": 0,
      "outputs": [
        {
          "output_type": "execute_result",
          "data": {
            "text/html": [
              "<div>\n",
              "<style scoped>\n",
              "    .dataframe tbody tr th:only-of-type {\n",
              "        vertical-align: middle;\n",
              "    }\n",
              "\n",
              "    .dataframe tbody tr th {\n",
              "        vertical-align: top;\n",
              "    }\n",
              "\n",
              "    .dataframe thead th {\n",
              "        text-align: right;\n",
              "    }\n",
              "</style>\n",
              "<table border=\"1\" class=\"dataframe\">\n",
              "  <thead>\n",
              "    <tr style=\"text-align: right;\">\n",
              "      <th></th>\n",
              "      <th>R&amp;D Spend</th>\n",
              "      <th>Administration</th>\n",
              "      <th>Marketing Spend</th>\n",
              "      <th>State</th>\n",
              "      <th>Profit</th>\n",
              "    </tr>\n",
              "  </thead>\n",
              "  <tbody>\n",
              "    <tr>\n",
              "      <th>0</th>\n",
              "      <td>165349.20</td>\n",
              "      <td>136897.80</td>\n",
              "      <td>471784.10</td>\n",
              "      <td>New York</td>\n",
              "      <td>192261.83</td>\n",
              "    </tr>\n",
              "    <tr>\n",
              "      <th>1</th>\n",
              "      <td>162597.70</td>\n",
              "      <td>151377.59</td>\n",
              "      <td>443898.53</td>\n",
              "      <td>California</td>\n",
              "      <td>191792.06</td>\n",
              "    </tr>\n",
              "    <tr>\n",
              "      <th>2</th>\n",
              "      <td>153441.51</td>\n",
              "      <td>101145.55</td>\n",
              "      <td>407934.54</td>\n",
              "      <td>Florida</td>\n",
              "      <td>191050.39</td>\n",
              "    </tr>\n",
              "    <tr>\n",
              "      <th>3</th>\n",
              "      <td>144372.41</td>\n",
              "      <td>118671.85</td>\n",
              "      <td>383199.62</td>\n",
              "      <td>New York</td>\n",
              "      <td>182901.99</td>\n",
              "    </tr>\n",
              "    <tr>\n",
              "      <th>4</th>\n",
              "      <td>142107.34</td>\n",
              "      <td>91391.77</td>\n",
              "      <td>366168.42</td>\n",
              "      <td>Florida</td>\n",
              "      <td>166187.94</td>\n",
              "    </tr>\n",
              "  </tbody>\n",
              "</table>\n",
              "</div>"
            ],
            "text/plain": [
              "   R&D Spend  Administration  Marketing Spend       State     Profit\n",
              "0  165349.20       136897.80        471784.10    New York  192261.83\n",
              "1  162597.70       151377.59        443898.53  California  191792.06\n",
              "2  153441.51       101145.55        407934.54     Florida  191050.39\n",
              "3  144372.41       118671.85        383199.62    New York  182901.99\n",
              "4  142107.34        91391.77        366168.42     Florida  166187.94"
            ]
          },
          "metadata": {
            "tags": []
          },
          "execution_count": 7
        }
      ]
    },
    {
      "cell_type": "markdown",
      "metadata": {
        "id": "g8r4ELBf71IJ",
        "colab_type": "text"
      },
      "source": [
        "## Evaluation Set"
      ]
    },
    {
      "cell_type": "code",
      "metadata": {
        "id": "80KN6aTM73sD",
        "colab_type": "code",
        "outputId": "d9532317-a43f-4f2d-c6e7-309a39d80b5f",
        "colab": {
          "base_uri": "https://localhost:8080/",
          "height": 111
        }
      },
      "source": [
        "np.random.seed(2)\n",
        "evaluation = df.loc[np.random.randint(0, len(df), 2, )]\n",
        "evaluation"
      ],
      "execution_count": 0,
      "outputs": [
        {
          "output_type": "execute_result",
          "data": {
            "text/html": [
              "<div>\n",
              "<style scoped>\n",
              "    .dataframe tbody tr th:only-of-type {\n",
              "        vertical-align: middle;\n",
              "    }\n",
              "\n",
              "    .dataframe tbody tr th {\n",
              "        vertical-align: top;\n",
              "    }\n",
              "\n",
              "    .dataframe thead th {\n",
              "        text-align: right;\n",
              "    }\n",
              "</style>\n",
              "<table border=\"1\" class=\"dataframe\">\n",
              "  <thead>\n",
              "    <tr style=\"text-align: right;\">\n",
              "      <th></th>\n",
              "      <th>R&amp;D Spend</th>\n",
              "      <th>Administration</th>\n",
              "      <th>Marketing Spend</th>\n",
              "      <th>State</th>\n",
              "      <th>Profit</th>\n",
              "    </tr>\n",
              "  </thead>\n",
              "  <tbody>\n",
              "    <tr>\n",
              "      <th>40</th>\n",
              "      <td>28754.33</td>\n",
              "      <td>118546.05</td>\n",
              "      <td>172795.67</td>\n",
              "      <td>California</td>\n",
              "      <td>78239.91</td>\n",
              "    </tr>\n",
              "    <tr>\n",
              "      <th>15</th>\n",
              "      <td>114523.61</td>\n",
              "      <td>122616.84</td>\n",
              "      <td>261776.23</td>\n",
              "      <td>New York</td>\n",
              "      <td>129917.04</td>\n",
              "    </tr>\n",
              "  </tbody>\n",
              "</table>\n",
              "</div>"
            ],
            "text/plain": [
              "    R&D Spend  Administration  Marketing Spend       State     Profit\n",
              "40   28754.33       118546.05        172795.67  California   78239.91\n",
              "15  114523.61       122616.84        261776.23    New York  129917.04"
            ]
          },
          "metadata": {
            "tags": []
          },
          "execution_count": 8
        }
      ]
    },
    {
      "cell_type": "code",
      "metadata": {
        "id": "q15c_WHE-kG-",
        "colab_type": "code",
        "outputId": "b2bc88e3-6458-4c92-d8c6-36c64703984a",
        "colab": {
          "base_uri": "https://localhost:8080/",
          "height": 34
        }
      },
      "source": [
        "evaluation.index.values"
      ],
      "execution_count": 0,
      "outputs": [
        {
          "output_type": "execute_result",
          "data": {
            "text/plain": [
              "array([40, 15])"
            ]
          },
          "metadata": {
            "tags": []
          },
          "execution_count": 9
        }
      ]
    },
    {
      "cell_type": "code",
      "metadata": {
        "id": "xxCyahqC8yjm",
        "colab_type": "code",
        "outputId": "032cddcb-acaa-4c27-af05-725040226937",
        "colab": {
          "base_uri": "https://localhost:8080/",
          "height": 34
        }
      },
      "source": [
        "df = df.drop(evaluation.index.values)\n",
        "df.shape"
      ],
      "execution_count": 0,
      "outputs": [
        {
          "output_type": "execute_result",
          "data": {
            "text/plain": [
              "(48, 5)"
            ]
          },
          "metadata": {
            "tags": []
          },
          "execution_count": 10
        }
      ]
    },
    {
      "cell_type": "code",
      "metadata": {
        "id": "hpKg7_BhMmgH",
        "colab_type": "code",
        "outputId": "4642a90a-d532-4e06-8311-245c20632c66",
        "colab": {
          "base_uri": "https://localhost:8080/",
          "height": 80
        }
      },
      "source": [
        "X = df.drop('Profit', axis = 1)\n",
        "X.head(1)"
      ],
      "execution_count": 0,
      "outputs": [
        {
          "output_type": "execute_result",
          "data": {
            "text/html": [
              "<div>\n",
              "<style scoped>\n",
              "    .dataframe tbody tr th:only-of-type {\n",
              "        vertical-align: middle;\n",
              "    }\n",
              "\n",
              "    .dataframe tbody tr th {\n",
              "        vertical-align: top;\n",
              "    }\n",
              "\n",
              "    .dataframe thead th {\n",
              "        text-align: right;\n",
              "    }\n",
              "</style>\n",
              "<table border=\"1\" class=\"dataframe\">\n",
              "  <thead>\n",
              "    <tr style=\"text-align: right;\">\n",
              "      <th></th>\n",
              "      <th>R&amp;D Spend</th>\n",
              "      <th>Administration</th>\n",
              "      <th>Marketing Spend</th>\n",
              "      <th>State</th>\n",
              "    </tr>\n",
              "  </thead>\n",
              "  <tbody>\n",
              "    <tr>\n",
              "      <th>0</th>\n",
              "      <td>165349.2</td>\n",
              "      <td>136897.8</td>\n",
              "      <td>471784.1</td>\n",
              "      <td>New York</td>\n",
              "    </tr>\n",
              "  </tbody>\n",
              "</table>\n",
              "</div>"
            ],
            "text/plain": [
              "   R&D Spend  Administration  Marketing Spend     State\n",
              "0   165349.2        136897.8         471784.1  New York"
            ]
          },
          "metadata": {
            "tags": []
          },
          "execution_count": 11
        }
      ]
    },
    {
      "cell_type": "markdown",
      "metadata": {
        "id": "pyVu18f4Bzzz",
        "colab_type": "text"
      },
      "source": [
        "## visualisation"
      ]
    },
    {
      "cell_type": "code",
      "metadata": {
        "id": "9KF68F-sB50f",
        "colab_type": "code",
        "colab": {}
      },
      "source": [
        "import seaborn as sns"
      ],
      "execution_count": 0,
      "outputs": []
    },
    {
      "cell_type": "code",
      "metadata": {
        "id": "OR0uMbSzB7eu",
        "colab_type": "code",
        "outputId": "655d89ee-3a8d-43bc-8e7a-e8493c9c69c7",
        "colab": {
          "base_uri": "https://localhost:8080/",
          "height": 746
        }
      },
      "source": [
        "sns.pairplot(df)"
      ],
      "execution_count": 0,
      "outputs": [
        {
          "output_type": "execute_result",
          "data": {
            "text/plain": [
              "<seaborn.axisgrid.PairGrid at 0x7fbe988dc3c8>"
            ]
          },
          "metadata": {
            "tags": []
          },
          "execution_count": 13
        },
        {
          "output_type": "display_data",
          "data": {
            "image/png": "[encoded data removed]",
            "text/plain": [
              "<Figure size 720x720 with 20 Axes>"
            ]
          },
          "metadata": {
            "tags": []
          }
        }
      ]
    },
    {
      "cell_type": "code",
      "metadata": {
        "id": "hhdNRgDnC4cI",
        "colab_type": "code",
        "outputId": "bac0de4b-2d82-4a6f-e1a9-a521f8d98ddd",
        "colab": {
          "base_uri": "https://localhost:8080/",
          "height": 300
        }
      },
      "source": [
        "sns.boxplot('R&D Spend', data = df)"
      ],
      "execution_count": 0,
      "outputs": [
        {
          "output_type": "execute_result",
          "data": {
            "text/plain": [
              "<matplotlib.axes._subplots.AxesSubplot at 0x7fbe950ffe80>"
            ]
          },
          "metadata": {
            "tags": []
          },
          "execution_count": 14
        },
        {
          "output_type": "display_data",
          "data": {
            "image/png": "[encoded data removed]",
            "text/plain": [
              "<Figure size 432x288 with 1 Axes>"
            ]
          },
          "metadata": {
            "tags": []
          }
        }
      ]
    },
    {
      "cell_type": "code",
      "metadata": {
        "id": "gpA200zdCGLe",
        "colab_type": "code",
        "outputId": "bf048144-4e79-4bc5-b0fa-31cb8ccadbb9",
        "colab": {
          "base_uri": "https://localhost:8080/",
          "height": 731
        }
      },
      "source": [
        "for i in df.columns[:-2]:\n",
        "  sns.boxplot(y = i, data = df)\n",
        "  plt.show()"
      ],
      "execution_count": 0,
      "outputs": [
        {
          "output_type": "display_data",
          "data": {
            "image/png": "[encoded data removed]",
            "text/plain": [
              "<Figure size 432x288 with 1 Axes>"
            ]
          },
          "metadata": {
            "tags": []
          }
        },
        {
          "output_type": "display_data",
          "data": {
            "image/png": "[encoded data removed]",
            "text/plain": [
              "<Figure size 432x288 with 1 Axes>"
            ]
          },
          "metadata": {
            "tags": []
          }
        },
        {
          "output_type": "display_data",
          "data": {
            "image/png": "[encoded data removed]",
            "text/plain": [
              "<Figure size 432x288 with 1 Axes>"
            ]
          },
          "metadata": {
            "tags": []
          }
        }
      ]
    },
    {
      "cell_type": "markdown",
      "metadata": {
        "id": "8m7YCmxlGwjG",
        "colab_type": "text"
      },
      "source": [
        "## train_test_split"
      ]
    },
    {
      "cell_type": "code",
      "metadata": {
        "id": "QgLvgANRG6Hc",
        "colab_type": "code",
        "outputId": "ac1c500e-5619-4947-a787-bfcf6102a21b",
        "colab": {
          "base_uri": "https://localhost:8080/",
          "height": 80
        }
      },
      "source": [
        "X = df.drop('Profit', 1)\n",
        "X.head(1)"
      ],
      "execution_count": 0,
      "outputs": [
        {
          "output_type": "execute_result",
          "data": {
            "text/html": [
              "<div>\n",
              "<style scoped>\n",
              "    .dataframe tbody tr th:only-of-type {\n",
              "        vertical-align: middle;\n",
              "    }\n",
              "\n",
              "    .dataframe tbody tr th {\n",
              "        vertical-align: top;\n",
              "    }\n",
              "\n",
              "    .dataframe thead th {\n",
              "        text-align: right;\n",
              "    }\n",
              "</style>\n",
              "<table border=\"1\" class=\"dataframe\">\n",
              "  <thead>\n",
              "    <tr style=\"text-align: right;\">\n",
              "      <th></th>\n",
              "      <th>R&amp;D Spend</th>\n",
              "      <th>Administration</th>\n",
              "      <th>Marketing Spend</th>\n",
              "      <th>State</th>\n",
              "    </tr>\n",
              "  </thead>\n",
              "  <tbody>\n",
              "    <tr>\n",
              "      <th>0</th>\n",
              "      <td>165349.2</td>\n",
              "      <td>136897.8</td>\n",
              "      <td>471784.1</td>\n",
              "      <td>New York</td>\n",
              "    </tr>\n",
              "  </tbody>\n",
              "</table>\n",
              "</div>"
            ],
            "text/plain": [
              "   R&D Spend  Administration  Marketing Spend     State\n",
              "0   165349.2        136897.8         471784.1  New York"
            ]
          },
          "metadata": {
            "tags": []
          },
          "execution_count": 16
        }
      ]
    },
    {
      "cell_type": "code",
      "metadata": {
        "id": "P695E5rDHGcS",
        "colab_type": "code",
        "outputId": "f6a63ab4-c3f8-40b0-ccd8-5294b4568fa0",
        "colab": {
          "base_uri": "https://localhost:8080/",
          "height": 68
        }
      },
      "source": [
        "y = df.Profit\n",
        "y[:2]"
      ],
      "execution_count": 0,
      "outputs": [
        {
          "output_type": "execute_result",
          "data": {
            "text/plain": [
              "0    192261.83\n",
              "1    191792.06\n",
              "Name: Profit, dtype: float64"
            ]
          },
          "metadata": {
            "tags": []
          },
          "execution_count": 17
        }
      ]
    },
    {
      "cell_type": "markdown",
      "metadata": {
        "id": "-sFmK2oLlFyy",
        "colab_type": "text"
      },
      "source": [
        "## dummy_variable"
      ]
    },
    {
      "cell_type": "code",
      "metadata": {
        "id": "AqwhnVK-HMOI",
        "colab_type": "code",
        "colab": {}
      },
      "source": [
        "from sklearn.preprocessing import LabelEncoder, OneHotEncoder"
      ],
      "execution_count": 0,
      "outputs": []
    },
    {
      "cell_type": "code",
      "metadata": {
        "id": "GMuMkviwHVLl",
        "colab_type": "code",
        "outputId": "45e19f08-c3e6-42bc-e4d6-4a3746a9ec5a",
        "colab": {
          "base_uri": "https://localhost:8080/",
          "height": 204
        }
      },
      "source": [
        "le = LabelEncoder()\n",
        "X.iloc[:, 3] = le.fit_transform(X.iloc[:, 3])\n",
        "X.head()"
      ],
      "execution_count": 0,
      "outputs": [
        {
          "output_type": "execute_result",
          "data": {
            "text/html": [
              "<div>\n",
              "<style scoped>\n",
              "    .dataframe tbody tr th:only-of-type {\n",
              "        vertical-align: middle;\n",
              "    }\n",
              "\n",
              "    .dataframe tbody tr th {\n",
              "        vertical-align: top;\n",
              "    }\n",
              "\n",
              "    .dataframe thead th {\n",
              "        text-align: right;\n",
              "    }\n",
              "</style>\n",
              "<table border=\"1\" class=\"dataframe\">\n",
              "  <thead>\n",
              "    <tr style=\"text-align: right;\">\n",
              "      <th></th>\n",
              "      <th>R&amp;D Spend</th>\n",
              "      <th>Administration</th>\n",
              "      <th>Marketing Spend</th>\n",
              "      <th>State</th>\n",
              "    </tr>\n",
              "  </thead>\n",
              "  <tbody>\n",
              "    <tr>\n",
              "      <th>0</th>\n",
              "      <td>165349.20</td>\n",
              "      <td>136897.80</td>\n",
              "      <td>471784.10</td>\n",
              "      <td>2</td>\n",
              "    </tr>\n",
              "    <tr>\n",
              "      <th>1</th>\n",
              "      <td>162597.70</td>\n",
              "      <td>151377.59</td>\n",
              "      <td>443898.53</td>\n",
              "      <td>0</td>\n",
              "    </tr>\n",
              "    <tr>\n",
              "      <th>2</th>\n",
              "      <td>153441.51</td>\n",
              "      <td>101145.55</td>\n",
              "      <td>407934.54</td>\n",
              "      <td>1</td>\n",
              "    </tr>\n",
              "    <tr>\n",
              "      <th>3</th>\n",
              "      <td>144372.41</td>\n",
              "      <td>118671.85</td>\n",
              "      <td>383199.62</td>\n",
              "      <td>2</td>\n",
              "    </tr>\n",
              "    <tr>\n",
              "      <th>4</th>\n",
              "      <td>142107.34</td>\n",
              "      <td>91391.77</td>\n",
              "      <td>366168.42</td>\n",
              "      <td>1</td>\n",
              "    </tr>\n",
              "  </tbody>\n",
              "</table>\n",
              "</div>"
            ],
            "text/plain": [
              "   R&D Spend  Administration  Marketing Spend  State\n",
              "0  165349.20       136897.80        471784.10      2\n",
              "1  162597.70       151377.59        443898.53      0\n",
              "2  153441.51       101145.55        407934.54      1\n",
              "3  144372.41       118671.85        383199.62      2\n",
              "4  142107.34        91391.77        366168.42      1"
            ]
          },
          "metadata": {
            "tags": []
          },
          "execution_count": 19
        }
      ]
    },
    {
      "cell_type": "code",
      "metadata": {
        "id": "iaJF9cOgVRRu",
        "colab_type": "code",
        "outputId": "35cf8bc0-3ad4-477d-b089-9c3adb9730d9",
        "colab": {
          "base_uri": "https://localhost:8080/",
          "height": 139
        }
      },
      "source": [
        "ohe = OneHotEncoder(categorical_features = [3], sparse = False, )\n",
        "X = ohe.fit_transform(X)"
      ],
      "execution_count": 0,
      "outputs": [
        {
          "output_type": "stream",
          "text": [
            "/usr/local/lib/python3.6/dist-packages/sklearn/preprocessing/_encoders.py:414: FutureWarning: The handling of integer data will change in version 0.22. Currently, the categories are determined based on the range [0, max(values)], while in the future they will be determined based on the unique values.\n",
            "If you want the future behaviour and silence this warning, you can specify \"categories='auto'\".\n",
            "In case you used a LabelEncoder before this OneHotEncoder to convert the categories to integers, then you can now use the OneHotEncoder directly.\n",
            "  warnings.warn(msg, FutureWarning)\n",
            "/usr/local/lib/python3.6/dist-packages/sklearn/preprocessing/_encoders.py:450: DeprecationWarning: The 'categorical_features' keyword is deprecated in version 0.20 and will be removed in 0.22. You can use the ColumnTransformer instead.\n",
            "  \"use the ColumnTransformer instead.\", DeprecationWarning)\n"
          ],
          "name": "stderr"
        }
      ]
    },
    {
      "cell_type": "code",
      "metadata": {
        "id": "c5SW2wjlO1Vm",
        "colab_type": "code",
        "outputId": "bbf68e01-8d4d-4b70-ae11-11747c6ff59e",
        "colab": {
          "base_uri": "https://localhost:8080/",
          "height": 119
        }
      },
      "source": [
        "X[:3]"
      ],
      "execution_count": 0,
      "outputs": [
        {
          "output_type": "execute_result",
          "data": {
            "text/plain": [
              "array([[0.0000000e+00, 0.0000000e+00, 1.0000000e+00, 1.6534920e+05,\n",
              "        1.3689780e+05, 4.7178410e+05],\n",
              "       [1.0000000e+00, 0.0000000e+00, 0.0000000e+00, 1.6259770e+05,\n",
              "        1.5137759e+05, 4.4389853e+05],\n",
              "       [0.0000000e+00, 1.0000000e+00, 0.0000000e+00, 1.5344151e+05,\n",
              "        1.0114555e+05, 4.0793454e+05]])"
            ]
          },
          "metadata": {
            "tags": []
          },
          "execution_count": 21
        }
      ]
    },
    {
      "cell_type": "markdown",
      "metadata": {
        "id": "JNaiN8GOcffg",
        "colab_type": "text"
      },
      "source": [
        "### drop first"
      ]
    },
    {
      "cell_type": "code",
      "metadata": {
        "id": "ECU7sedjchz6",
        "colab_type": "code",
        "outputId": "df64caa0-a810-4855-e0cd-3801630247f1",
        "colab": {
          "base_uri": "https://localhost:8080/",
          "height": 51
        }
      },
      "source": [
        "X = X[:, 1:]\n",
        "X[:1]"
      ],
      "execution_count": 0,
      "outputs": [
        {
          "output_type": "execute_result",
          "data": {
            "text/plain": [
              "array([[0.000000e+00, 1.000000e+00, 1.653492e+05, 1.368978e+05,\n",
              "        4.717841e+05]])"
            ]
          },
          "metadata": {
            "tags": []
          },
          "execution_count": 22
        }
      ]
    },
    {
      "cell_type": "code",
      "metadata": {
        "id": "sCNN_tpClWjS",
        "colab_type": "code",
        "colab": {}
      },
      "source": [
        "y = df.iloc[:, -1:].values"
      ],
      "execution_count": 0,
      "outputs": []
    },
    {
      "cell_type": "code",
      "metadata": {
        "id": "mtDwUNSadtLf",
        "colab_type": "code",
        "outputId": "1380ebe8-1ab0-4787-c628-92577698157d",
        "colab": {
          "base_uri": "https://localhost:8080/",
          "height": 51
        }
      },
      "source": [
        "y[:2]"
      ],
      "execution_count": 0,
      "outputs": [
        {
          "output_type": "execute_result",
          "data": {
            "text/plain": [
              "array([[192261.83],\n",
              "       [191792.06]])"
            ]
          },
          "metadata": {
            "tags": []
          },
          "execution_count": 24
        }
      ]
    },
    {
      "cell_type": "code",
      "metadata": {
        "id": "TewxbIXXlgir",
        "colab_type": "code",
        "colab": {}
      },
      "source": [
        "from sklearn.model_selection import train_test_split"
      ],
      "execution_count": 0,
      "outputs": []
    },
    {
      "cell_type": "code",
      "metadata": {
        "id": "Te-0NQ7Vljt2",
        "colab_type": "code",
        "colab": {}
      },
      "source": [
        "X_train, X_test, y_train, y_test = train_test_split(X, y, test_size = .2, random_state = 0)"
      ],
      "execution_count": 0,
      "outputs": []
    },
    {
      "cell_type": "code",
      "metadata": {
        "id": "cIaleKVOc8bd",
        "colab_type": "code",
        "outputId": "666c441e-8885-43a9-fe03-e53b4fb47c89",
        "colab": {
          "base_uri": "https://localhost:8080/",
          "height": 85
        }
      },
      "source": [
        "X_train[[2, 3]]"
      ],
      "execution_count": 0,
      "outputs": [
        {
          "output_type": "execute_result",
          "data": {
            "text/plain": [
              "array([[0.0000000e+00, 0.0000000e+00, 4.6426070e+04, 1.5769392e+05,\n",
              "        2.1079767e+05],\n",
              "       [1.0000000e+00, 0.0000000e+00, 6.6051520e+04, 1.8264556e+05,\n",
              "        1.1814820e+05]])"
            ]
          },
          "metadata": {
            "tags": []
          },
          "execution_count": 27
        }
      ]
    },
    {
      "cell_type": "code",
      "metadata": {
        "id": "k1-joyYfeDcT",
        "colab_type": "code",
        "outputId": "0bcdabc9-2a6f-42c5-b42f-7cf0c5e14647",
        "colab": {
          "base_uri": "https://localhost:8080/",
          "height": 51
        }
      },
      "source": [
        "y_train[:2]"
      ],
      "execution_count": 0,
      "outputs": [
        {
          "output_type": "execute_result",
          "data": {
            "text/plain": [
              "array([[144259.4 ],\n",
              "       [ 97427.84]])"
            ]
          },
          "metadata": {
            "tags": []
          },
          "execution_count": 28
        }
      ]
    },
    {
      "cell_type": "markdown",
      "metadata": {
        "id": "mi84rN_9eEXa",
        "colab_type": "text"
      },
      "source": [
        "# Train model"
      ]
    },
    {
      "cell_type": "code",
      "metadata": {
        "id": "6RR4mc29f4Gn",
        "colab_type": "code",
        "colab": {}
      },
      "source": [
        "from sklearn.linear_model import LinearRegression"
      ],
      "execution_count": 0,
      "outputs": []
    },
    {
      "cell_type": "code",
      "metadata": {
        "id": "t9leCowHf7WU",
        "colab_type": "code",
        "outputId": "02742160-804e-4642-b122-0bab373a6ef9",
        "colab": {
          "base_uri": "https://localhost:8080/",
          "height": 34
        }
      },
      "source": [
        "reg = LinearRegression()\n",
        "reg.fit(X_train, y_train)\n",
        "reg.score(X_train, y_train)"
      ],
      "execution_count": 0,
      "outputs": [
        {
          "output_type": "execute_result",
          "data": {
            "text/plain": [
              "0.9541394310086445"
            ]
          },
          "metadata": {
            "tags": []
          },
          "execution_count": 30
        }
      ]
    },
    {
      "cell_type": "code",
      "metadata": {
        "id": "F_sF4e_lgpGM",
        "colab_type": "code",
        "outputId": "bfbfae33-ddb3-49d7-8173-b6355131b7f2",
        "colab": {
          "base_uri": "https://localhost:8080/",
          "height": 34
        }
      },
      "source": [
        "reg.score(X_test, y_test)"
      ],
      "execution_count": 0,
      "outputs": [
        {
          "output_type": "execute_result",
          "data": {
            "text/plain": [
              "0.9436149440330112"
            ]
          },
          "metadata": {
            "tags": []
          },
          "execution_count": 31
        }
      ]
    },
    {
      "cell_type": "markdown",
      "metadata": {
        "id": "kqFhmOlLgrOe",
        "colab_type": "text"
      },
      "source": [
        "# Predict for unseen Dataset"
      ]
    },
    {
      "cell_type": "code",
      "metadata": {
        "id": "LyJyAvWFgzLa",
        "colab_type": "code",
        "outputId": "ba1604c2-4fe3-4d28-d384-cbbb921fa329",
        "colab": {
          "base_uri": "https://localhost:8080/",
          "height": 111
        }
      },
      "source": [
        "evaluation"
      ],
      "execution_count": 0,
      "outputs": [
        {
          "output_type": "execute_result",
          "data": {
            "text/html": [
              "<div>\n",
              "<style scoped>\n",
              "    .dataframe tbody tr th:only-of-type {\n",
              "        vertical-align: middle;\n",
              "    }\n",
              "\n",
              "    .dataframe tbody tr th {\n",
              "        vertical-align: top;\n",
              "    }\n",
              "\n",
              "    .dataframe thead th {\n",
              "        text-align: right;\n",
              "    }\n",
              "</style>\n",
              "<table border=\"1\" class=\"dataframe\">\n",
              "  <thead>\n",
              "    <tr style=\"text-align: right;\">\n",
              "      <th></th>\n",
              "      <th>R&amp;D Spend</th>\n",
              "      <th>Administration</th>\n",
              "      <th>Marketing Spend</th>\n",
              "      <th>State</th>\n",
              "      <th>Profit</th>\n",
              "    </tr>\n",
              "  </thead>\n",
              "  <tbody>\n",
              "    <tr>\n",
              "      <th>40</th>\n",
              "      <td>28754.33</td>\n",
              "      <td>118546.05</td>\n",
              "      <td>172795.67</td>\n",
              "      <td>California</td>\n",
              "      <td>78239.91</td>\n",
              "    </tr>\n",
              "    <tr>\n",
              "      <th>15</th>\n",
              "      <td>114523.61</td>\n",
              "      <td>122616.84</td>\n",
              "      <td>261776.23</td>\n",
              "      <td>New York</td>\n",
              "      <td>129917.04</td>\n",
              "    </tr>\n",
              "  </tbody>\n",
              "</table>\n",
              "</div>"
            ],
            "text/plain": [
              "    R&D Spend  Administration  Marketing Spend       State     Profit\n",
              "40   28754.33       118546.05        172795.67  California   78239.91\n",
              "15  114523.61       122616.84        261776.23    New York  129917.04"
            ]
          },
          "metadata": {
            "tags": []
          },
          "execution_count": 32
        }
      ]
    },
    {
      "cell_type": "code",
      "metadata": {
        "id": "zSXMThn9g0Au",
        "colab_type": "code",
        "outputId": "759a08b0-ee12-4021-c82e-f080760c2d8a",
        "colab": {
          "base_uri": "https://localhost:8080/",
          "height": 111
        }
      },
      "source": [
        "evaluation_X = evaluation.drop('Profit', 1)\n",
        "evaluation_X"
      ],
      "execution_count": 0,
      "outputs": [
        {
          "output_type": "execute_result",
          "data": {
            "text/html": [
              "<div>\n",
              "<style scoped>\n",
              "    .dataframe tbody tr th:only-of-type {\n",
              "        vertical-align: middle;\n",
              "    }\n",
              "\n",
              "    .dataframe tbody tr th {\n",
              "        vertical-align: top;\n",
              "    }\n",
              "\n",
              "    .dataframe thead th {\n",
              "        text-align: right;\n",
              "    }\n",
              "</style>\n",
              "<table border=\"1\" class=\"dataframe\">\n",
              "  <thead>\n",
              "    <tr style=\"text-align: right;\">\n",
              "      <th></th>\n",
              "      <th>R&amp;D Spend</th>\n",
              "      <th>Administration</th>\n",
              "      <th>Marketing Spend</th>\n",
              "      <th>State</th>\n",
              "    </tr>\n",
              "  </thead>\n",
              "  <tbody>\n",
              "    <tr>\n",
              "      <th>40</th>\n",
              "      <td>28754.33</td>\n",
              "      <td>118546.05</td>\n",
              "      <td>172795.67</td>\n",
              "      <td>California</td>\n",
              "    </tr>\n",
              "    <tr>\n",
              "      <th>15</th>\n",
              "      <td>114523.61</td>\n",
              "      <td>122616.84</td>\n",
              "      <td>261776.23</td>\n",
              "      <td>New York</td>\n",
              "    </tr>\n",
              "  </tbody>\n",
              "</table>\n",
              "</div>"
            ],
            "text/plain": [
              "    R&D Spend  Administration  Marketing Spend       State\n",
              "40   28754.33       118546.05        172795.67  California\n",
              "15  114523.61       122616.84        261776.23    New York"
            ]
          },
          "metadata": {
            "tags": []
          },
          "execution_count": 33
        }
      ]
    },
    {
      "cell_type": "code",
      "metadata": {
        "id": "sHJ7S_Kig94W",
        "colab_type": "code",
        "colab": {}
      },
      "source": [
        "evaluation_y = evaluation.Profit"
      ],
      "execution_count": 0,
      "outputs": []
    },
    {
      "cell_type": "code",
      "metadata": {
        "id": "Fo_AwuYahDsa",
        "colab_type": "code",
        "outputId": "a251a347-3311-4185-9810-448c69b74b7b",
        "colab": {
          "base_uri": "https://localhost:8080/",
          "height": 111
        }
      },
      "source": [
        "evaluation_X.iloc[:, 3] = le.transform(evaluation_X.iloc[:, 3])\n",
        "evaluation_X"
      ],
      "execution_count": 0,
      "outputs": [
        {
          "output_type": "execute_result",
          "data": {
            "text/html": [
              "<div>\n",
              "<style scoped>\n",
              "    .dataframe tbody tr th:only-of-type {\n",
              "        vertical-align: middle;\n",
              "    }\n",
              "\n",
              "    .dataframe tbody tr th {\n",
              "        vertical-align: top;\n",
              "    }\n",
              "\n",
              "    .dataframe thead th {\n",
              "        text-align: right;\n",
              "    }\n",
              "</style>\n",
              "<table border=\"1\" class=\"dataframe\">\n",
              "  <thead>\n",
              "    <tr style=\"text-align: right;\">\n",
              "      <th></th>\n",
              "      <th>R&amp;D Spend</th>\n",
              "      <th>Administration</th>\n",
              "      <th>Marketing Spend</th>\n",
              "      <th>State</th>\n",
              "    </tr>\n",
              "  </thead>\n",
              "  <tbody>\n",
              "    <tr>\n",
              "      <th>40</th>\n",
              "      <td>28754.33</td>\n",
              "      <td>118546.05</td>\n",
              "      <td>172795.67</td>\n",
              "      <td>0</td>\n",
              "    </tr>\n",
              "    <tr>\n",
              "      <th>15</th>\n",
              "      <td>114523.61</td>\n",
              "      <td>122616.84</td>\n",
              "      <td>261776.23</td>\n",
              "      <td>2</td>\n",
              "    </tr>\n",
              "  </tbody>\n",
              "</table>\n",
              "</div>"
            ],
            "text/plain": [
              "    R&D Spend  Administration  Marketing Spend  State\n",
              "40   28754.33       118546.05        172795.67      0\n",
              "15  114523.61       122616.84        261776.23      2"
            ]
          },
          "metadata": {
            "tags": []
          },
          "execution_count": 35
        }
      ]
    },
    {
      "cell_type": "code",
      "metadata": {
        "id": "2_KQPXgdhSfk",
        "colab_type": "code",
        "outputId": "91457c11-8cec-4f10-b978-8f89aadc1696",
        "colab": {
          "base_uri": "https://localhost:8080/",
          "height": 85
        }
      },
      "source": [
        "evaluation_X = ohe.transform(evaluation_X)\n",
        "evaluation_X"
      ],
      "execution_count": 0,
      "outputs": [
        {
          "output_type": "execute_result",
          "data": {
            "text/plain": [
              "array([[1.0000000e+00, 0.0000000e+00, 0.0000000e+00, 2.8754330e+04,\n",
              "        1.1854605e+05, 1.7279567e+05],\n",
              "       [0.0000000e+00, 0.0000000e+00, 1.0000000e+00, 1.1452361e+05,\n",
              "        1.2261684e+05, 2.6177623e+05]])"
            ]
          },
          "metadata": {
            "tags": []
          },
          "execution_count": 36
        }
      ]
    },
    {
      "cell_type": "code",
      "metadata": {
        "id": "gTXmkElAhl4g",
        "colab_type": "code",
        "colab": {}
      },
      "source": [
        "evaluation_X = evaluation_X[:, 1:]"
      ],
      "execution_count": 0,
      "outputs": []
    },
    {
      "cell_type": "code",
      "metadata": {
        "id": "2zrgBb7FhrbH",
        "colab_type": "code",
        "outputId": "9d0e4b1c-932a-4329-fee6-d4034345c832",
        "colab": {
          "base_uri": "https://localhost:8080/",
          "height": 34
        }
      },
      "source": [
        "reg.score(evaluation_X, evaluation_y)"
      ],
      "execution_count": 0,
      "outputs": [
        {
          "output_type": "execute_result",
          "data": {
            "text/plain": [
              "0.7576735087074449"
            ]
          },
          "metadata": {
            "tags": []
          },
          "execution_count": 38
        }
      ]
    },
    {
      "cell_type": "code",
      "metadata": {
        "id": "8Fw0NMjkh4A3",
        "colab_type": "code",
        "outputId": "a66bd68e-e05a-4967-b795-232e2ef70a64",
        "colab": {
          "base_uri": "https://localhost:8080/",
          "height": 51
        }
      },
      "source": [
        "reg.predict(evaluation_X)"
      ],
      "execution_count": 0,
      "outputs": [
        {
          "output_type": "execute_result",
          "data": {
            "text/plain": [
              "array([[ 73752.4288435 ],\n",
              "       [147336.34199933]])"
            ]
          },
          "metadata": {
            "tags": []
          },
          "execution_count": 39
        }
      ]
    },
    {
      "cell_type": "code",
      "metadata": {
        "id": "BAL01ymsh9b3",
        "colab_type": "code",
        "outputId": "7573d0b2-b3cf-4af3-85cc-045e437b3205",
        "colab": {
          "base_uri": "https://localhost:8080/",
          "height": 68
        }
      },
      "source": [
        "evaluation_y"
      ],
      "execution_count": 0,
      "outputs": [
        {
          "output_type": "execute_result",
          "data": {
            "text/plain": [
              "40     78239.91\n",
              "15    129917.04\n",
              "Name: Profit, dtype: float64"
            ]
          },
          "metadata": {
            "tags": []
          },
          "execution_count": 40
        }
      ]
    },
    {
      "cell_type": "markdown",
      "metadata": {
        "id": "6qNbMef54TQF",
        "colab_type": "text"
      },
      "source": [
        "# Backward Elimination"
      ]
    },
    {
      "cell_type": "code",
      "metadata": {
        "id": "yveFljQH5-wl",
        "colab_type": "code",
        "outputId": "e62b4700-2bc0-4750-d563-098238a97953",
        "colab": {
          "base_uri": "https://localhost:8080/",
          "height": 51
        }
      },
      "source": [
        "!pip install scipy==1.2"
      ],
      "execution_count": 0,
      "outputs": [
        {
          "output_type": "stream",
          "text": [
            "Requirement already satisfied: scipy==1.2 in /usr/local/lib/python3.6/dist-packages (1.2.0)\n",
            "Requirement already satisfied: numpy>=1.8.2 in /usr/local/lib/python3.6/dist-packages (from scipy==1.2) (1.16.3)\n"
          ],
          "name": "stdout"
        }
      ]
    },
    {
      "cell_type": "code",
      "metadata": {
        "id": "93RPHGQD4WDO",
        "colab_type": "code",
        "colab": {}
      },
      "source": [
        "import statsmodels.formula.api as sm"
      ],
      "execution_count": 0,
      "outputs": []
    },
    {
      "cell_type": "markdown",
      "metadata": {
        "id": "384AiQGi4bPK",
        "colab_type": "text"
      },
      "source": [
        "## Step-1"
      ]
    },
    {
      "cell_type": "markdown",
      "metadata": {
        "id": "VS6W_sR26zwz",
        "colab_type": "text"
      },
      "source": [
        "**first we need to create a constant column to get an intercept to our model because the model we are creating by statsmodel do not create intercept by default**"
      ]
    },
    {
      "cell_type": "code",
      "metadata": {
        "id": "X3JaAID57Qi0",
        "colab_type": "code",
        "outputId": "bf2a1138-409d-489b-d58c-6d5e346a7331",
        "colab": {
          "base_uri": "https://localhost:8080/",
          "height": 85
        }
      },
      "source": [
        "X = np.append(np.ones((len(X), 1)).astype(int), values = X, axis = 1)\n",
        "X[:2]"
      ],
      "execution_count": 0,
      "outputs": [
        {
          "output_type": "execute_result",
          "data": {
            "text/plain": [
              "array([[1.0000000e+00, 0.0000000e+00, 1.0000000e+00, 1.6534920e+05,\n",
              "        1.3689780e+05, 4.7178410e+05],\n",
              "       [1.0000000e+00, 0.0000000e+00, 0.0000000e+00, 1.6259770e+05,\n",
              "        1.5137759e+05, 4.4389853e+05]])"
            ]
          },
          "metadata": {
            "tags": []
          },
          "execution_count": 42
        }
      ]
    },
    {
      "cell_type": "markdown",
      "metadata": {
        "id": "P_Ae9HyI8LER",
        "colab_type": "text"
      },
      "source": [
        "### optimal features for our model"
      ]
    },
    {
      "cell_type": "code",
      "metadata": {
        "id": "vCq4UWYu7u5l",
        "colab_type": "code",
        "outputId": "a0123ee8-ce95-4135-983a-74c2e3f4c489",
        "colab": {
          "base_uri": "https://localhost:8080/",
          "height": 51
        }
      },
      "source": [
        "X_opt = X[:, [0, 1, 2, 3, 4, 5]]\n",
        "X_opt[:1]"
      ],
      "execution_count": 0,
      "outputs": [
        {
          "output_type": "execute_result",
          "data": {
            "text/plain": [
              "array([[1.000000e+00, 0.000000e+00, 1.000000e+00, 1.653492e+05,\n",
              "        1.368978e+05, 4.717841e+05]])"
            ]
          },
          "metadata": {
            "tags": []
          },
          "execution_count": 88
        }
      ]
    },
    {
      "cell_type": "markdown",
      "metadata": {
        "id": "gGfmV3Hq8RVp",
        "colab_type": "text"
      },
      "source": [
        "## Create model with all variables"
      ]
    },
    {
      "cell_type": "code",
      "metadata": {
        "id": "TgpkxUH68JHy",
        "colab_type": "code",
        "colab": {}
      },
      "source": [
        "def regressor_OLS(X_opt):\n",
        "  regressor_OLS = sm.OLS(endog = y, exog = X_opt).fit()\n",
        "  print(regressor_OLS.summary())\n",
        "  return regressor_OLS"
      ],
      "execution_count": 0,
      "outputs": []
    },
    {
      "cell_type": "code",
      "metadata": {
        "id": "afhvizi29zx0",
        "colab_type": "code",
        "outputId": "5072a164-adf5-48a1-9204-e88319109c13",
        "colab": {
          "base_uri": "https://localhost:8080/",
          "height": 561
        }
      },
      "source": [
        "regressor_OLS(X_opt)"
      ],
      "execution_count": 0,
      "outputs": [
        {
          "output_type": "stream",
          "text": [
            "                            OLS Regression Results                            \n",
            "==============================================================================\n",
            "Dep. Variable:                      y   R-squared:                       0.954\n",
            "Model:                            OLS   Adj. R-squared:                  0.948\n",
            "Method:                 Least Squares   F-statistic:                     172.9\n",
            "Date:                Wed, 29 May 2019   Prob (F-statistic):           7.08e-27\n",
            "Time:                        06:54:46   Log-Likelihood:                -503.43\n",
            "No. Observations:                  48   AIC:                             1019.\n",
            "Df Residuals:                      42   BIC:                             1030.\n",
            "Df Model:                           5                                         \n",
            "Covariance Type:            nonrobust                                         \n",
            "==============================================================================\n",
            "                 coef    std err          t      P>|t|      [0.025      0.975]\n",
            "------------------------------------------------------------------------------\n",
            "const       4.998e+04   6781.711      7.370      0.000    3.63e+04    6.37e+04\n",
            "x1           374.9981   3365.719      0.111      0.912   -6417.297    7167.293\n",
            "x2          1142.6569   3289.802      0.347      0.730   -5496.432    7781.746\n",
            "x3             0.8187      0.047     17.580      0.000       0.725       0.913\n",
            "x4            -0.0316      0.051     -0.613      0.543      -0.135       0.072\n",
            "x5             0.0249      0.017      1.469      0.149      -0.009       0.059\n",
            "==============================================================================\n",
            "Omnibus:                       14.187   Durbin-Watson:                   1.385\n",
            "Prob(Omnibus):                  0.001   Jarque-Bera (JB):               20.579\n",
            "Skew:                          -0.912   Prob(JB):                     3.40e-05\n",
            "Kurtosis:                       5.638   Cond. No.                     1.43e+06\n",
            "==============================================================================\n",
            "\n",
            "Warnings:\n",
            "[1] Standard Errors assume that the covariance matrix of the errors is correctly specified.\n",
            "[2] The condition number is large, 1.43e+06. This might indicate that there are\n",
            "strong multicollinearity or other numerical problems.\n"
          ],
          "name": "stdout"
        },
        {
          "output_type": "execute_result",
          "data": {
            "text/plain": [
              "<statsmodels.regression.linear_model.RegressionResultsWrapper at 0x7fbe9186e8d0>"
            ]
          },
          "metadata": {
            "tags": []
          },
          "execution_count": 90
        }
      ]
    },
    {
      "cell_type": "markdown",
      "metadata": {
        "id": "9qrjcfH38lBy",
        "colab_type": "text"
      },
      "source": [
        "## Step-3:\n",
        "  "
      ]
    },
    {
      "cell_type": "markdown",
      "metadata": {
        "id": "8P76zYhw88BL",
        "colab_type": "text"
      },
      "source": [
        "**Drop feature with highest p value greater than Significance Leval(SL)**"
      ]
    },
    {
      "cell_type": "code",
      "metadata": {
        "id": "gaeunI649LgW",
        "colab_type": "code",
        "outputId": "ee5fe1e2-574a-479f-fdca-b34a8019fa65",
        "colab": {
          "base_uri": "https://localhost:8080/",
          "height": 544
        }
      },
      "source": [
        "X_opt = X[:, [0, 2, 3, 4, 5]]\n",
        "regressor_OLS(X_opt)"
      ],
      "execution_count": 0,
      "outputs": [
        {
          "output_type": "stream",
          "text": [
            "                            OLS Regression Results                            \n",
            "==============================================================================\n",
            "Dep. Variable:                      y   R-squared:                       0.954\n",
            "Model:                            OLS   Adj. R-squared:                  0.949\n",
            "Method:                 Least Squares   F-statistic:                     221.2\n",
            "Date:                Wed, 29 May 2019   Prob (F-statistic):           4.47e-28\n",
            "Time:                        06:54:56   Log-Likelihood:                -503.44\n",
            "No. Observations:                  48   AIC:                             1017.\n",
            "Df Residuals:                      43   BIC:                             1026.\n",
            "Df Model:                           4                                         \n",
            "Covariance Type:            nonrobust                                         \n",
            "==============================================================================\n",
            "                 coef    std err          t      P>|t|      [0.025      0.975]\n",
            "------------------------------------------------------------------------------\n",
            "const       5.009e+04   6637.013      7.547      0.000    3.67e+04    6.35e+04\n",
            "x1           959.7888   2818.199      0.341      0.735   -4723.651    6643.229\n",
            "x2             0.8184      0.046     17.809      0.000       0.726       0.911\n",
            "x3            -0.0313      0.051     -0.616      0.541      -0.134       0.071\n",
            "x4             0.0253      0.017      1.533      0.133      -0.008       0.059\n",
            "==============================================================================\n",
            "Omnibus:                       14.414   Durbin-Watson:                   1.385\n",
            "Prob(Omnibus):                  0.001   Jarque-Bera (JB):               21.395\n",
            "Skew:                          -0.915   Prob(JB):                     2.26e-05\n",
            "Kurtosis:                       5.711   Cond. No.                     1.40e+06\n",
            "==============================================================================\n",
            "\n",
            "Warnings:\n",
            "[1] Standard Errors assume that the covariance matrix of the errors is correctly specified.\n",
            "[2] The condition number is large, 1.4e+06. This might indicate that there are\n",
            "strong multicollinearity or other numerical problems.\n"
          ],
          "name": "stdout"
        },
        {
          "output_type": "execute_result",
          "data": {
            "text/plain": [
              "<statsmodels.regression.linear_model.RegressionResultsWrapper at 0x7fbe91737e80>"
            ]
          },
          "metadata": {
            "tags": []
          },
          "execution_count": 91
        }
      ]
    },
    {
      "cell_type": "code",
      "metadata": {
        "id": "Tm38bg0O-Dc6",
        "colab_type": "code",
        "outputId": "182af9b5-efc5-4c1b-d30c-88a4300e3048",
        "colab": {
          "base_uri": "https://localhost:8080/",
          "height": 510
        }
      },
      "source": [
        "X_opt = X[:, [0, 3, 4, 5]]\n",
        "opt_regressor = regressor_OLS(X_opt)"
      ],
      "execution_count": 0,
      "outputs": [
        {
          "output_type": "stream",
          "text": [
            "                            OLS Regression Results                            \n",
            "==============================================================================\n",
            "Dep. Variable:                      y   R-squared:                       0.954\n",
            "Model:                            OLS   Adj. R-squared:                  0.950\n",
            "Method:                 Least Squares   F-statistic:                     301.0\n",
            "Date:                Wed, 29 May 2019   Prob (F-statistic):           2.50e-29\n",
            "Time:                        06:55:06   Log-Likelihood:                -503.50\n",
            "No. Observations:                  48   AIC:                             1015.\n",
            "Df Residuals:                      44   BIC:                             1022.\n",
            "Df Model:                           3                                         \n",
            "Covariance Type:            nonrobust                                         \n",
            "==============================================================================\n",
            "                 coef    std err          t      P>|t|      [0.025      0.975]\n",
            "------------------------------------------------------------------------------\n",
            "const       5.048e+04   6471.112      7.801      0.000    3.74e+04    6.35e+04\n",
            "x1             0.8193      0.045     18.042      0.000       0.728       0.911\n",
            "x2            -0.0317      0.050     -0.630      0.532      -0.133       0.070\n",
            "x3             0.0249      0.016      1.526      0.134      -0.008       0.058\n",
            "==============================================================================\n",
            "Omnibus:                       14.931   Durbin-Watson:                   1.403\n",
            "Prob(Omnibus):                  0.001   Jarque-Bera (JB):               23.295\n",
            "Skew:                          -0.922   Prob(JB):                     8.74e-06\n",
            "Kurtosis:                       5.872   Cond. No.                     1.38e+06\n",
            "==============================================================================\n",
            "\n",
            "Warnings:\n",
            "[1] Standard Errors assume that the covariance matrix of the errors is correctly specified.\n",
            "[2] The condition number is large, 1.38e+06. This might indicate that there are\n",
            "strong multicollinearity or other numerical problems.\n"
          ],
          "name": "stdout"
        }
      ]
    },
    {
      "cell_type": "code",
      "metadata": {
        "id": "Yap-JT_m-cf6",
        "colab_type": "code",
        "outputId": "657be1e4-20da-4dbf-9255-49aa685956d6",
        "colab": {
          "base_uri": "https://localhost:8080/",
          "height": 493
        }
      },
      "source": [
        "X_opt = X_opt[:, [0, 1, 3]]\n",
        "opt_regressor = regressor_OLS(X_opt)"
      ],
      "execution_count": 0,
      "outputs": [
        {
          "output_type": "stream",
          "text": [
            "                            OLS Regression Results                            \n",
            "==============================================================================\n",
            "Dep. Variable:                      y   R-squared:                       0.953\n",
            "Model:                            OLS   Adj. R-squared:                  0.951\n",
            "Method:                 Least Squares   F-statistic:                     457.4\n",
            "Date:                Wed, 29 May 2019   Prob (F-statistic):           1.25e-30\n",
            "Time:                        06:55:10   Log-Likelihood:                -503.72\n",
            "No. Observations:                  48   AIC:                             1013.\n",
            "Df Residuals:                      45   BIC:                             1019.\n",
            "Df Model:                           2                                         \n",
            "Covariance Type:            nonrobust                                         \n",
            "==============================================================================\n",
            "                 coef    std err          t      P>|t|      [0.025      0.975]\n",
            "------------------------------------------------------------------------------\n",
            "const       4.677e+04   2678.544     17.462      0.000    4.14e+04    5.22e+04\n",
            "x1             0.8082      0.042     19.450      0.000       0.724       0.892\n",
            "x2             0.0281      0.015      1.829      0.074      -0.003       0.059\n",
            "==============================================================================\n",
            "Omnibus:                       14.821   Durbin-Watson:                   1.383\n",
            "Prob(Omnibus):                  0.001   Jarque-Bera (JB):               23.017\n",
            "Skew:                          -0.917   Prob(JB):                     1.00e-05\n",
            "Kurtosis:                       5.854   Cond. No.                     5.29e+05\n",
            "==============================================================================\n",
            "\n",
            "Warnings:\n",
            "[1] Standard Errors assume that the covariance matrix of the errors is correctly specified.\n",
            "[2] The condition number is large, 5.29e+05. This might indicate that there are\n",
            "strong multicollinearity or other numerical problems.\n"
          ],
          "name": "stdout"
        }
      ]
    },
    {
      "cell_type": "markdown",
      "metadata": {
        "id": "XO1PigCcWK4H",
        "colab_type": "text"
      },
      "source": [
        "#Backward Elimination by Recursive function"
      ]
    },
    {
      "cell_type": "code",
      "metadata": {
        "id": "hK5SkY-3Apwy",
        "colab_type": "code",
        "colab": {}
      },
      "source": [
        "def my_regressor_OLS(X_opt, SL = 0.08):\n",
        "  regressor_OLS = sm.OLS(endog = y, exog = X_opt).fit()\n",
        "  pvalues = regressor_OLS.pvalues\n",
        "  if pvalues.max() > SL:\n",
        "    max_pval_col = pvalues.argmax()\n",
        "    X_opt = np.delete(X_opt, max_pval_col, 1)\n",
        "    return my_regressor_OLS(X_opt)\n",
        "  return regressor_OLS"
      ],
      "execution_count": 0,
      "outputs": []
    },
    {
      "cell_type": "code",
      "metadata": {
        "id": "Cdr2GgMZDTaY",
        "colab_type": "code",
        "colab": {}
      },
      "source": [
        "opt_regressor = my_regressor_OLS(X)"
      ],
      "execution_count": 0,
      "outputs": []
    },
    {
      "cell_type": "code",
      "metadata": {
        "id": "w1BC0nz9Fvcd",
        "colab_type": "code",
        "outputId": "ab3cbe18-ac2b-46a0-f60f-60336c368df0",
        "colab": {
          "base_uri": "https://localhost:8080/",
          "height": 499
        }
      },
      "source": [
        "opt_regressor.summary()"
      ],
      "execution_count": 0,
      "outputs": [
        {
          "output_type": "execute_result",
          "data": {
            "text/html": [
              "<table class=\"simpletable\">\n",
              "<caption>OLS Regression Results</caption>\n",
              "<tr>\n",
              "  <th>Dep. Variable:</th>            <td>y</td>        <th>  R-squared:         </th> <td>   0.953</td>\n",
              "</tr>\n",
              "<tr>\n",
              "  <th>Model:</th>                   <td>OLS</td>       <th>  Adj. R-squared:    </th> <td>   0.951</td>\n",
              "</tr>\n",
              "<tr>\n",
              "  <th>Method:</th>             <td>Least Squares</td>  <th>  F-statistic:       </th> <td>   457.4</td>\n",
              "</tr>\n",
              "<tr>\n",
              "  <th>Date:</th>             <td>Wed, 29 May 2019</td> <th>  Prob (F-statistic):</th> <td>1.25e-30</td>\n",
              "</tr>\n",
              "<tr>\n",
              "  <th>Time:</th>                 <td>06:53:19</td>     <th>  Log-Likelihood:    </th> <td> -503.72</td>\n",
              "</tr>\n",
              "<tr>\n",
              "  <th>No. Observations:</th>      <td>    48</td>      <th>  AIC:               </th> <td>   1013.</td>\n",
              "</tr>\n",
              "<tr>\n",
              "  <th>Df Residuals:</th>          <td>    45</td>      <th>  BIC:               </th> <td>   1019.</td>\n",
              "</tr>\n",
              "<tr>\n",
              "  <th>Df Model:</th>              <td>     2</td>      <th>                     </th>     <td> </td>   \n",
              "</tr>\n",
              "<tr>\n",
              "  <th>Covariance Type:</th>      <td>nonrobust</td>    <th>                     </th>     <td> </td>   \n",
              "</tr>\n",
              "</table>\n",
              "<table class=\"simpletable\">\n",
              "<tr>\n",
              "    <td></td>       <th>coef</th>     <th>std err</th>      <th>t</th>      <th>P>|t|</th>  <th>[0.025</th>    <th>0.975]</th>  \n",
              "</tr>\n",
              "<tr>\n",
              "  <th>const</th> <td> 4.677e+04</td> <td> 2678.544</td> <td>   17.462</td> <td> 0.000</td> <td> 4.14e+04</td> <td> 5.22e+04</td>\n",
              "</tr>\n",
              "<tr>\n",
              "  <th>x1</th>    <td>    0.8082</td> <td>    0.042</td> <td>   19.450</td> <td> 0.000</td> <td>    0.724</td> <td>    0.892</td>\n",
              "</tr>\n",
              "<tr>\n",
              "  <th>x2</th>    <td>    0.0281</td> <td>    0.015</td> <td>    1.829</td> <td> 0.074</td> <td>   -0.003</td> <td>    0.059</td>\n",
              "</tr>\n",
              "</table>\n",
              "<table class=\"simpletable\">\n",
              "<tr>\n",
              "  <th>Omnibus:</th>       <td>14.821</td> <th>  Durbin-Watson:     </th> <td>   1.383</td>\n",
              "</tr>\n",
              "<tr>\n",
              "  <th>Prob(Omnibus):</th> <td> 0.001</td> <th>  Jarque-Bera (JB):  </th> <td>  23.017</td>\n",
              "</tr>\n",
              "<tr>\n",
              "  <th>Skew:</th>          <td>-0.917</td> <th>  Prob(JB):          </th> <td>1.00e-05</td>\n",
              "</tr>\n",
              "<tr>\n",
              "  <th>Kurtosis:</th>      <td> 5.854</td> <th>  Cond. No.          </th> <td>5.29e+05</td>\n",
              "</tr>\n",
              "</table><br/><br/>Warnings:<br/>[1] Standard Errors assume that the covariance matrix of the errors is correctly specified.<br/>[2] The condition number is large, 5.29e+05. This might indicate that there are<br/>strong multicollinearity or other numerical problems."
            ],
            "text/plain": [
              "<class 'statsmodels.iolib.summary.Summary'>\n",
              "\"\"\"\n",
              "                            OLS Regression Results                            \n",
              "==============================================================================\n",
              "Dep. Variable:                      y   R-squared:                       0.953\n",
              "Model:                            OLS   Adj. R-squared:                  0.951\n",
              "Method:                 Least Squares   F-statistic:                     457.4\n",
              "Date:                Wed, 29 May 2019   Prob (F-statistic):           1.25e-30\n",
              "Time:                        06:53:19   Log-Likelihood:                -503.72\n",
              "No. Observations:                  48   AIC:                             1013.\n",
              "Df Residuals:                      45   BIC:                             1019.\n",
              "Df Model:                           2                                         \n",
              "Covariance Type:            nonrobust                                         \n",
              "==============================================================================\n",
              "                 coef    std err          t      P>|t|      [0.025      0.975]\n",
              "------------------------------------------------------------------------------\n",
              "const       4.677e+04   2678.544     17.462      0.000    4.14e+04    5.22e+04\n",
              "x1             0.8082      0.042     19.450      0.000       0.724       0.892\n",
              "x2             0.0281      0.015      1.829      0.074      -0.003       0.059\n",
              "==============================================================================\n",
              "Omnibus:                       14.821   Durbin-Watson:                   1.383\n",
              "Prob(Omnibus):                  0.001   Jarque-Bera (JB):               23.017\n",
              "Skew:                          -0.917   Prob(JB):                     1.00e-05\n",
              "Kurtosis:                       5.854   Cond. No.                     5.29e+05\n",
              "==============================================================================\n",
              "\n",
              "Warnings:\n",
              "[1] Standard Errors assume that the covariance matrix of the errors is correctly specified.\n",
              "[2] The condition number is large, 5.29e+05. This might indicate that there are\n",
              "strong multicollinearity or other numerical problems.\n",
              "\"\"\""
            ]
          },
          "metadata": {
            "tags": []
          },
          "execution_count": 85
        }
      ]
    },
    {
      "cell_type": "markdown",
      "metadata": {
        "id": "mliPnxTYZaEJ",
        "colab_type": "text"
      },
      "source": [
        "By this we got that the most significan features are '**R & D spend** and **Marketing spend'**"
      ]
    },
    {
      "cell_type": "markdown",
      "metadata": {
        "id": "1yY4b2A6DdII",
        "colab_type": "text"
      },
      "source": [
        "# correlation matrix"
      ]
    },
    {
      "cell_type": "code",
      "metadata": {
        "id": "G5pXVfjpY7af",
        "colab_type": "code",
        "outputId": "2277f0a5-bf9c-4530-f6b2-f8463388f445",
        "colab": {
          "base_uri": "https://localhost:8080/",
          "height": 173
        }
      },
      "source": [
        "df.corr()"
      ],
      "execution_count": 0,
      "outputs": [
        {
          "output_type": "execute_result",
          "data": {
            "text/html": [
              "<div>\n",
              "<style scoped>\n",
              "    .dataframe tbody tr th:only-of-type {\n",
              "        vertical-align: middle;\n",
              "    }\n",
              "\n",
              "    .dataframe tbody tr th {\n",
              "        vertical-align: top;\n",
              "    }\n",
              "\n",
              "    .dataframe thead th {\n",
              "        text-align: right;\n",
              "    }\n",
              "</style>\n",
              "<table border=\"1\" class=\"dataframe\">\n",
              "  <thead>\n",
              "    <tr style=\"text-align: right;\">\n",
              "      <th></th>\n",
              "      <th>R&amp;D Spend</th>\n",
              "      <th>Administration</th>\n",
              "      <th>Marketing Spend</th>\n",
              "      <th>Profit</th>\n",
              "    </tr>\n",
              "  </thead>\n",
              "  <tbody>\n",
              "    <tr>\n",
              "      <th>R&amp;D Spend</th>\n",
              "      <td>1.000000</td>\n",
              "      <td>0.243551</td>\n",
              "      <td>0.725514</td>\n",
              "      <td>0.974490</td>\n",
              "    </tr>\n",
              "    <tr>\n",
              "      <th>Administration</th>\n",
              "      <td>0.243551</td>\n",
              "      <td>1.000000</td>\n",
              "      <td>-0.033269</td>\n",
              "      <td>0.200467</td>\n",
              "    </tr>\n",
              "    <tr>\n",
              "      <th>Marketing Spend</th>\n",
              "      <td>0.725514</td>\n",
              "      <td>-0.033269</td>\n",
              "      <td>1.000000</td>\n",
              "      <td>0.747638</td>\n",
              "    </tr>\n",
              "    <tr>\n",
              "      <th>Profit</th>\n",
              "      <td>0.974490</td>\n",
              "      <td>0.200467</td>\n",
              "      <td>0.747638</td>\n",
              "      <td>1.000000</td>\n",
              "    </tr>\n",
              "  </tbody>\n",
              "</table>\n",
              "</div>"
            ],
            "text/plain": [
              "                 R&D Spend  Administration  Marketing Spend    Profit\n",
              "R&D Spend         1.000000        0.243551         0.725514  0.974490\n",
              "Administration    0.243551        1.000000        -0.033269  0.200467\n",
              "Marketing Spend   0.725514       -0.033269         1.000000  0.747638\n",
              "Profit            0.974490        0.200467         0.747638  1.000000"
            ]
          },
          "metadata": {
            "tags": []
          },
          "execution_count": 94
        }
      ]
    },
    {
      "cell_type": "code",
      "metadata": {
        "id": "YE_Z8r12Y855",
        "colab_type": "code",
        "outputId": "8a5f770c-3ce9-4e8d-e3c9-1e2cee1a592a",
        "colab": {
          "base_uri": "https://localhost:8080/",
          "height": 80
        }
      },
      "source": [
        "df.head(1)"
      ],
      "execution_count": 0,
      "outputs": [
        {
          "output_type": "execute_result",
          "data": {
            "text/html": [
              "<div>\n",
              "<style scoped>\n",
              "    .dataframe tbody tr th:only-of-type {\n",
              "        vertical-align: middle;\n",
              "    }\n",
              "\n",
              "    .dataframe tbody tr th {\n",
              "        vertical-align: top;\n",
              "    }\n",
              "\n",
              "    .dataframe thead th {\n",
              "        text-align: right;\n",
              "    }\n",
              "</style>\n",
              "<table border=\"1\" class=\"dataframe\">\n",
              "  <thead>\n",
              "    <tr style=\"text-align: right;\">\n",
              "      <th></th>\n",
              "      <th>R&amp;D Spend</th>\n",
              "      <th>Administration</th>\n",
              "      <th>Marketing Spend</th>\n",
              "      <th>State</th>\n",
              "      <th>Profit</th>\n",
              "    </tr>\n",
              "  </thead>\n",
              "  <tbody>\n",
              "    <tr>\n",
              "      <th>0</th>\n",
              "      <td>165349.2</td>\n",
              "      <td>136897.8</td>\n",
              "      <td>471784.1</td>\n",
              "      <td>New York</td>\n",
              "      <td>192261.83</td>\n",
              "    </tr>\n",
              "  </tbody>\n",
              "</table>\n",
              "</div>"
            ],
            "text/plain": [
              "   R&D Spend  Administration  Marketing Spend     State     Profit\n",
              "0   165349.2        136897.8         471784.1  New York  192261.83"
            ]
          },
          "metadata": {
            "tags": []
          },
          "execution_count": 95
        }
      ]
    },
    {
      "cell_type": "markdown",
      "metadata": {
        "colab_type": "text",
        "id": "OH4hfSGRZ5OF"
      },
      "source": [
        "By this we also got that the most significan features are '**R & D spend** and **Marketing spend'** with respect to profit"
      ]
    },
    {
      "cell_type": "code",
      "metadata": {
        "id": "riUaBVsxbFls",
        "colab_type": "code",
        "outputId": "7ff03517-4257-4d80-e27d-5cfca4928402",
        "colab": {
          "base_uri": "https://localhost:8080/",
          "height": 85
        }
      },
      "source": [
        "evaluation_X"
      ],
      "execution_count": 0,
      "outputs": [
        {
          "output_type": "execute_result",
          "data": {
            "text/plain": [
              "array([[0.0000000e+00, 0.0000000e+00, 2.8754330e+04, 1.1854605e+05,\n",
              "        1.7279567e+05],\n",
              "       [0.0000000e+00, 1.0000000e+00, 1.1452361e+05, 1.2261684e+05,\n",
              "        2.6177623e+05]])"
            ]
          },
          "metadata": {
            "tags": []
          },
          "execution_count": 102
        }
      ]
    },
    {
      "cell_type": "code",
      "metadata": {
        "id": "BixbryKFbJPM",
        "colab_type": "code",
        "outputId": "56eb99b8-235a-4405-804e-39c45186b86d",
        "colab": {
          "base_uri": "https://localhost:8080/",
          "height": 85
        }
      },
      "source": [
        "evaluation_X = np.append(np.ones((len(evaluation_X), 1)).astype(int), values = evaluation_X, axis = 1)\n",
        "evaluation_X[:2]"
      ],
      "execution_count": 0,
      "outputs": [
        {
          "output_type": "execute_result",
          "data": {
            "text/plain": [
              "array([[1.0000000e+00, 0.0000000e+00, 0.0000000e+00, 2.8754330e+04,\n",
              "        1.1854605e+05, 1.7279567e+05],\n",
              "       [1.0000000e+00, 0.0000000e+00, 1.0000000e+00, 1.1452361e+05,\n",
              "        1.2261684e+05, 2.6177623e+05]])"
            ]
          },
          "metadata": {
            "tags": []
          },
          "execution_count": 103
        }
      ]
    },
    {
      "cell_type": "markdown",
      "metadata": {
        "id": "vkTzb5BdZ_jW",
        "colab_type": "text"
      },
      "source": [
        "remove columns 1, 2, 4"
      ]
    },
    {
      "cell_type": "code",
      "metadata": {
        "id": "iUEUbUmgclSc",
        "colab_type": "code",
        "outputId": "801735dd-407b-446f-b92b-d3d3d38635f6",
        "colab": {
          "base_uri": "https://localhost:8080/",
          "height": 51
        }
      },
      "source": [
        "evaluation_X = np.delete(evaluation_X, [2, 4], 1)\n",
        "evaluation_X"
      ],
      "execution_count": 0,
      "outputs": [
        {
          "output_type": "execute_result",
          "data": {
            "text/plain": [
              "array([[1.0000000e+00, 0.0000000e+00, 2.8754330e+04, 1.7279567e+05],\n",
              "       [1.0000000e+00, 0.0000000e+00, 1.1452361e+05, 2.6177623e+05]])"
            ]
          },
          "metadata": {
            "tags": []
          },
          "execution_count": 104
        }
      ]
    },
    {
      "cell_type": "code",
      "metadata": {
        "id": "ZR4mCHPGcvmq",
        "colab_type": "code",
        "outputId": "463ab9ff-51ed-44ba-de75-ffc3e8499191",
        "colab": {
          "base_uri": "https://localhost:8080/",
          "height": 51
        }
      },
      "source": [
        "evaluation_X = np.delete(evaluation_X, [1], 1)\n",
        "evaluation_X"
      ],
      "execution_count": 0,
      "outputs": [
        {
          "output_type": "execute_result",
          "data": {
            "text/plain": [
              "array([[1.0000000e+00, 2.8754330e+04, 1.7279567e+05],\n",
              "       [1.0000000e+00, 1.1452361e+05, 2.6177623e+05]])"
            ]
          },
          "metadata": {
            "tags": []
          },
          "execution_count": 105
        }
      ]
    },
    {
      "cell_type": "code",
      "metadata": {
        "id": "K-TtBmLUdIrl",
        "colab_type": "code",
        "colab": {}
      },
      "source": [
        "y_evaluation_ols = opt_regressor.predict(evaluation_X)"
      ],
      "execution_count": 0,
      "outputs": []
    },
    {
      "cell_type": "code",
      "metadata": {
        "id": "X2RPJ5dOdcHM",
        "colab_type": "code",
        "outputId": "485b5194-7382-4e1b-9b0c-a3f554261843",
        "colab": {
          "base_uri": "https://localhost:8080/",
          "height": 34
        }
      },
      "source": [
        "y_evaluation_ols"
      ],
      "execution_count": 0,
      "outputs": [
        {
          "output_type": "execute_result",
          "data": {
            "text/plain": [
              "array([ 74864.65802953, 146681.62609026])"
            ]
          },
          "metadata": {
            "tags": []
          },
          "execution_count": 107
        }
      ]
    },
    {
      "cell_type": "code",
      "metadata": {
        "id": "VeeS_kmOddx_",
        "colab_type": "code",
        "outputId": "82e33db5-5b26-4dbb-e420-6c85ece0dd6f",
        "colab": {
          "base_uri": "https://localhost:8080/",
          "height": 68
        }
      },
      "source": [
        "evaluation_y"
      ],
      "execution_count": 0,
      "outputs": [
        {
          "output_type": "execute_result",
          "data": {
            "text/plain": [
              "40     78239.91\n",
              "15    129917.04\n",
              "Name: Profit, dtype: float64"
            ]
          },
          "metadata": {
            "tags": []
          },
          "execution_count": 108
        }
      ]
    },
    {
      "cell_type": "code",
      "metadata": {
        "id": "9lr5y67OdixW",
        "colab_type": "code",
        "colab": {}
      },
      "source": [
        "from sklearn.metrics import r2_score"
      ],
      "execution_count": 0,
      "outputs": []
    },
    {
      "cell_type": "code",
      "metadata": {
        "id": "8tHlSpFYeAV_",
        "colab_type": "code",
        "outputId": "24b36647-8176-436a-c0b3-ac180f6cb5e2",
        "colab": {
          "base_uri": "https://localhost:8080/",
          "height": 34
        }
      },
      "source": [
        "r2_score(evaluation_y, y_evaluation_ols)"
      ],
      "execution_count": 0,
      "outputs": [
        {
          "output_type": "execute_result",
          "data": {
            "text/plain": [
              "0.780984196841873"
            ]
          },
          "metadata": {
            "tags": []
          },
          "execution_count": 110
        }
      ]
    },
    {
      "cell_type": "markdown",
      "metadata": {
        "id": "nRTBLC67eEon",
        "colab_type": "text"
      },
      "source": [
        "**slightly increased**"
      ]
    }
  ]
}