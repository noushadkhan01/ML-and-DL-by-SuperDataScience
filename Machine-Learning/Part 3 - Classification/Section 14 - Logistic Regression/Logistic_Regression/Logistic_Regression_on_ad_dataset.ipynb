{
  "nbformat": 4,
  "nbformat_minor": 0,
  "metadata": {
    "colab": {
      "name": "Logistic Regression on ad dataset.ipynb",
      "version": "0.3.2",
      "provenance": [],
      "collapsed_sections": [],
      "include_colab_link": true
    },
    "kernelspec": {
      "name": "python3",
      "display_name": "Python 3"
    }
  },
  "cells": [
    {
      "cell_type": "markdown",
      "metadata": {
        "id": "view-in-github",
        "colab_type": "text"
      },
      "source": [
        "<a href=\"https://colab.research.google.com/github/noushadkhan01/ML-and-DL-by-SuperDataScience/blob/master/Machine-Learning/Part%203%20-%20Classification/Section%2014%20-%20Logistic%20Regression/Logistic_Regression/Logistic_Regression_on_ad_dataset.ipynb\" target=\"_parent\"><img src=\"https://colab.research.google.com/assets/colab-badge.svg\" alt=\"Open In Colab\"/></a>"
      ]
    },
    {
      "cell_type": "code",
      "metadata": {
        "id": "Meqf1ORPBtGy",
        "colab_type": "code",
        "outputId": "29851da5-0dcc-4afb-8b62-3b1f5c968138",
        "colab": {
          "base_uri": "https://localhost:8080/",
          "height": 136
        }
      },
      "source": [
        "!git clone https://github.com/noushadkhan01/ML-and-DL-by-SuperDataScience.git"
      ],
      "execution_count": 45,
      "outputs": [
        {
          "output_type": "stream",
          "text": [
            "Cloning into 'ML-and-DL-by-SuperDataScience'...\n",
            "remote: Enumerating objects: 310, done.\u001b[K\n",
            "remote: Counting objects:   0% (1/310)   \u001b[K\rremote: Counting objects:   1% (4/310)   \u001b[K\rremote: Counting objects:   2% (7/310)   \u001b[K\rremote: Counting objects:   3% (10/310)   \u001b[K\rremote: Counting objects:   4% (13/310)   \u001b[K\rremote: Counting objects:   5% (16/310)   \u001b[K\rremote: Counting objects:   6% (19/310)   \u001b[K\rremote: Counting objects:   7% (22/310)   \u001b[K\rremote: Counting objects:   8% (25/310)   \u001b[K\rremote: Counting objects:   9% (28/310)   \u001b[K\rremote: Counting objects:  10% (31/310)   \u001b[K\rremote: Counting objects:  11% (35/310)   \u001b[K\rremote: Counting objects:  12% (38/310)   \u001b[K\rremote: Counting objects:  13% (41/310)   \u001b[K\rremote: Counting objects:  14% (44/310)   \u001b[K\rremote: Counting objects:  15% (47/310)   \u001b[K\rremote: Counting objects:  16% (50/310)   \u001b[K\rremote: Counting objects:  17% (53/310)   \u001b[K\rremote: Counting objects:  18% (56/310)   \u001b[K\rremote: Counting objects:  19% (59/310)   \u001b[K\rremote: Counting objects:  20% (62/310)   \u001b[K\rremote: Counting objects:  21% (66/310)   \u001b[K\rremote: Counting objects:  22% (69/310)   \u001b[K\rremote: Counting objects:  23% (72/310)   \u001b[K\rremote: Counting objects:  24% (75/310)   \u001b[K\rremote: Counting objects:  25% (78/310)   \u001b[K\rremote: Counting objects:  26% (81/310)   \u001b[K\rremote: Counting objects:  27% (84/310)   \u001b[K\rremote: Counting objects:  28% (87/310)   \u001b[K\rremote: Counting objects:  29% (90/310)   \u001b[K\rremote: Counting objects:  30% (93/310)   \u001b[K\rremote: Counting objects:  31% (97/310)   \u001b[K\rremote: Counting objects:  32% (100/310)   \u001b[K\rremote: Counting objects:  33% (103/310)   \u001b[K\rremote: Counting objects:  34% (106/310)   \u001b[K\rremote: Counting objects:  35% (109/310)   \u001b[K\rremote: Counting objects:  36% (112/310)   \u001b[K\rremote: Counting objects:  37% (115/310)   \u001b[K\rremote: Counting objects:  38% (118/310)   \u001b[K\rremote: Counting objects:  39% (121/310)   \u001b[K\rremote: Counting objects:  40% (124/310)   \u001b[K\rremote: Counting objects:  41% (128/310)   \u001b[K\rremote: Counting objects:  42% (131/310)   \u001b[K\rremote: Counting objects:  43% (134/310)   \u001b[K\rremote: Counting objects:  44% (137/310)   \u001b[K\rremote: Counting objects:  45% (140/310)   \u001b[K\rremote: Counting objects:  46% (143/310)   \u001b[K\rremote: Counting objects:  47% (146/310)   \u001b[K\rremote: Counting objects:  48% (149/310)   \u001b[K\rremote: Counting objects:  49% (152/310)   \u001b[K\rremote: Counting objects:  50% (155/310)   \u001b[K\rremote: Counting objects:  51% (159/310)   \u001b[K\rremote: Counting objects:  52% (162/310)   \u001b[K\rremote: Counting objects:  53% (165/310)   \u001b[K\rremote: Counting objects:  54% (168/310)   \u001b[K\rremote: Counting objects:  55% (171/310)   \u001b[K\rremote: Counting objects:  56% (174/310)   \u001b[K\rremote: Counting objects:  57% (177/310)   \u001b[K\rremote: Counting objects:  58% (180/310)   \u001b[K\rremote: Counting objects:  59% (183/310)   \u001b[K\rremote: Counting objects:  60% (186/310)   \u001b[K\rremote: Counting objects:  61% (190/310)   \u001b[K\rremote: Counting objects:  62% (193/310)   \u001b[K\rremote: Counting objects:  63% (196/310)   \u001b[K\rremote: Counting objects:  64% (199/310)   \u001b[K\rremote: Counting objects:  65% (202/310)   \u001b[K\rremote: Counting objects:  66% (205/310)   \u001b[K\rremote: Counting objects:  67% (208/310)   \u001b[K\rremote: Counting objects:  68% (211/310)   \u001b[K\rremote: Counting objects:  69% (214/310)   \u001b[K\rremote: Counting objects:  70% (217/310)   \u001b[K\rremote: Counting objects:  71% (221/310)   \u001b[K\rremote: Counting objects:  72% (224/310)   \u001b[K\rremote: Counting objects:  73% (227/310)   \u001b[K\rremote: Counting objects:  74% (230/310)   \u001b[K\rremote: Counting objects:  75% (233/310)   \u001b[K\rremote: Counting objects:  76% (236/310)   \u001b[K\rremote: Counting objects:  77% (239/310)   \u001b[K\rremote: Counting objects:  78% (242/310)   \u001b[K\rremote: Counting objects:  79% (245/310)   \u001b[K\rremote: Counting objects:  80% (248/310)   \u001b[K\rremote: Counting objects:  81% (252/310)   \u001b[K\rremote: Counting objects:  82% (255/310)   \u001b[K\rremote: Counting objects:  83% (258/310)   \u001b[K\rremote: Counting objects:  84% (261/310)   \u001b[K\rremote: Counting objects:  85% (264/310)   \u001b[K\rremote: Counting objects:  86% (267/310)   \u001b[K\rremote: Counting objects:  87% (270/310)   \u001b[K\rremote: Counting objects:  88% (273/310)   \u001b[K\rremote: Counting objects:  89% (276/310)   \u001b[K\rremote: Counting objects:  90% (279/310)   \u001b[K\rremote: Counting objects:  91% (283/310)   \u001b[K\rremote: Counting objects:  92% (286/310)   \u001b[K\rremote: Counting objects:  93% (289/310)   \u001b[K\rremote: Counting objects:  94% (292/310)   \u001b[K\rremote: Counting objects:  95% (295/310)   \u001b[K\rremote: Counting objects:  96% (298/310)   \u001b[K\rremote: Counting objects:  97% (301/310)   \u001b[K\rremote: Counting objects:  98% (304/310)   \u001b[K\rremote: Counting objects:  99% (307/310)   \u001b[K\rremote: Counting objects: 100% (310/310)   \u001b[K\rremote: Counting objects: 100% (310/310), done.\u001b[K\n",
            "remote: Compressing objects: 100% (251/251), done.\u001b[K\n",
            "remote: Total 310 (delta 109), reused 194 (delta 53), pack-reused 0\u001b[K\n",
            "Receiving objects: 100% (310/310), 25.24 MiB | 22.83 MiB/s, done.\n",
            "Resolving deltas: 100% (109/109), done.\n"
          ],
          "name": "stdout"
        }
      ]
    },
    {
      "cell_type": "markdown",
      "metadata": {
        "id": "2-kVDLKvMi9S",
        "colab_type": "text"
      },
      "source": [
        "#get all methods"
      ]
    },
    {
      "cell_type": "code",
      "metadata": {
        "id": "O5v9uBkhMqMh",
        "colab_type": "code",
        "outputId": "4510343a-4d4b-440f-8ee9-d490be43b8ee",
        "colab": {
          "base_uri": "https://localhost:8080/",
          "height": 54
        }
      },
      "source": [
        "%cd ML-and-DL-by-SuperDataScience/my_methods\n",
        "from my_dummy_variable import MyDummyVariable"
      ],
      "execution_count": 46,
      "outputs": [
        {
          "output_type": "stream",
          "text": [
            "/content/ML-and-DL-by-SuperDataScience/Machine-Learning/Part 3 - Classification/Section 14 - Logistic Regression/Logistic_Regression/ML-and-DL-by-SuperDataScience/my_methods\n"
          ],
          "name": "stdout"
        }
      ]
    },
    {
      "cell_type": "code",
      "metadata": {
        "id": "-wCH4SYeM3n0",
        "colab_type": "code",
        "outputId": "96e58c00-4913-413b-b9a4-c5d78a391709",
        "colab": {
          "base_uri": "https://localhost:8080/",
          "height": 54
        }
      },
      "source": [
        "%cd ../"
      ],
      "execution_count": 47,
      "outputs": [
        {
          "output_type": "stream",
          "text": [
            "/content/ML-and-DL-by-SuperDataScience/Machine-Learning/Part 3 - Classification/Section 14 - Logistic Regression/Logistic_Regression/ML-and-DL-by-SuperDataScience\n"
          ],
          "name": "stdout"
        }
      ]
    },
    {
      "cell_type": "code",
      "metadata": {
        "id": "ayGBuSwIBwwo",
        "colab_type": "code",
        "outputId": "2e21a4b5-d6eb-45c2-9e7c-1e52c123a815",
        "colab": {
          "base_uri": "https://localhost:8080/",
          "height": 88
        }
      },
      "source": [
        "%cd Machine-Learning/Part 3 - Classification/Section 14 - Logistic Regression/Logistic_Regression/\n",
        "!ls"
      ],
      "execution_count": 48,
      "outputs": [
        {
          "output_type": "stream",
          "text": [
            "/content/ML-and-DL-by-SuperDataScience/Machine-Learning/Part 3 - Classification/Section 14 - Logistic Regression/Logistic_Regression/ML-and-DL-by-SuperDataScience/Machine-Learning/Part 3 - Classification/Section 14 - Logistic Regression/Logistic_Regression\n",
            "Logistic_Regression_on_ad_dataset.ipynb  logistic_regression.R\n",
            "logistic_regression.py\t\t\t Social_Network_Ads.csv\n"
          ],
          "name": "stdout"
        }
      ]
    },
    {
      "cell_type": "code",
      "metadata": {
        "id": "GtWpkNO2CN7-",
        "colab_type": "code",
        "colab": {}
      },
      "source": [
        "import pandas as pd\n",
        "import numpy as np\n",
        "import matplotlib.pyplot as plt\n",
        "%matplotlib inline\n",
        "import seaborn as sns"
      ],
      "execution_count": 0,
      "outputs": []
    },
    {
      "cell_type": "code",
      "metadata": {
        "id": "h4toRopuB9Ws",
        "colab_type": "code",
        "outputId": "61a0b4c9-135d-436f-ad6c-54039b64c13c",
        "colab": {
          "base_uri": "https://localhost:8080/",
          "height": 204
        }
      },
      "source": [
        "df = pd.read_csv('Social_Network_Ads.csv')\n",
        "df.head()"
      ],
      "execution_count": 50,
      "outputs": [
        {
          "output_type": "execute_result",
          "data": {
            "text/html": [
              "<div>\n",
              "<style scoped>\n",
              "    .dataframe tbody tr th:only-of-type {\n",
              "        vertical-align: middle;\n",
              "    }\n",
              "\n",
              "    .dataframe tbody tr th {\n",
              "        vertical-align: top;\n",
              "    }\n",
              "\n",
              "    .dataframe thead th {\n",
              "        text-align: right;\n",
              "    }\n",
              "</style>\n",
              "<table border=\"1\" class=\"dataframe\">\n",
              "  <thead>\n",
              "    <tr style=\"text-align: right;\">\n",
              "      <th></th>\n",
              "      <th>User ID</th>\n",
              "      <th>Gender</th>\n",
              "      <th>Age</th>\n",
              "      <th>EstimatedSalary</th>\n",
              "      <th>Purchased</th>\n",
              "    </tr>\n",
              "  </thead>\n",
              "  <tbody>\n",
              "    <tr>\n",
              "      <th>0</th>\n",
              "      <td>15624510</td>\n",
              "      <td>Male</td>\n",
              "      <td>19</td>\n",
              "      <td>19000</td>\n",
              "      <td>0</td>\n",
              "    </tr>\n",
              "    <tr>\n",
              "      <th>1</th>\n",
              "      <td>15810944</td>\n",
              "      <td>Male</td>\n",
              "      <td>35</td>\n",
              "      <td>20000</td>\n",
              "      <td>0</td>\n",
              "    </tr>\n",
              "    <tr>\n",
              "      <th>2</th>\n",
              "      <td>15668575</td>\n",
              "      <td>Female</td>\n",
              "      <td>26</td>\n",
              "      <td>43000</td>\n",
              "      <td>0</td>\n",
              "    </tr>\n",
              "    <tr>\n",
              "      <th>3</th>\n",
              "      <td>15603246</td>\n",
              "      <td>Female</td>\n",
              "      <td>27</td>\n",
              "      <td>57000</td>\n",
              "      <td>0</td>\n",
              "    </tr>\n",
              "    <tr>\n",
              "      <th>4</th>\n",
              "      <td>15804002</td>\n",
              "      <td>Male</td>\n",
              "      <td>19</td>\n",
              "      <td>76000</td>\n",
              "      <td>0</td>\n",
              "    </tr>\n",
              "  </tbody>\n",
              "</table>\n",
              "</div>"
            ],
            "text/plain": [
              "    User ID  Gender  Age  EstimatedSalary  Purchased\n",
              "0  15624510    Male   19            19000          0\n",
              "1  15810944    Male   35            20000          0\n",
              "2  15668575  Female   26            43000          0\n",
              "3  15603246  Female   27            57000          0\n",
              "4  15804002    Male   19            76000          0"
            ]
          },
          "metadata": {
            "tags": []
          },
          "execution_count": 50
        }
      ]
    },
    {
      "cell_type": "code",
      "metadata": {
        "id": "vHJZf49lCL0K",
        "colab_type": "code",
        "outputId": "e468d219-416b-4816-ecc1-9705b9b99d48",
        "colab": {
          "base_uri": "https://localhost:8080/",
          "height": 187
        }
      },
      "source": [
        "df.info()"
      ],
      "execution_count": 51,
      "outputs": [
        {
          "output_type": "stream",
          "text": [
            "<class 'pandas.core.frame.DataFrame'>\n",
            "RangeIndex: 400 entries, 0 to 399\n",
            "Data columns (total 5 columns):\n",
            "User ID            400 non-null int64\n",
            "Gender             400 non-null object\n",
            "Age                400 non-null int64\n",
            "EstimatedSalary    400 non-null int64\n",
            "Purchased          400 non-null int64\n",
            "dtypes: int64(4), object(1)\n",
            "memory usage: 15.7+ KB\n"
          ],
          "name": "stdout"
        }
      ]
    },
    {
      "cell_type": "code",
      "metadata": {
        "id": "1TGY3usgCcHX",
        "colab_type": "code",
        "outputId": "e6e09baa-94b8-4b8e-acbc-94380a86733d",
        "colab": {
          "base_uri": "https://localhost:8080/",
          "height": 297
        }
      },
      "source": [
        "df.describe()"
      ],
      "execution_count": 52,
      "outputs": [
        {
          "output_type": "execute_result",
          "data": {
            "text/html": [
              "<div>\n",
              "<style scoped>\n",
              "    .dataframe tbody tr th:only-of-type {\n",
              "        vertical-align: middle;\n",
              "    }\n",
              "\n",
              "    .dataframe tbody tr th {\n",
              "        vertical-align: top;\n",
              "    }\n",
              "\n",
              "    .dataframe thead th {\n",
              "        text-align: right;\n",
              "    }\n",
              "</style>\n",
              "<table border=\"1\" class=\"dataframe\">\n",
              "  <thead>\n",
              "    <tr style=\"text-align: right;\">\n",
              "      <th></th>\n",
              "      <th>User ID</th>\n",
              "      <th>Age</th>\n",
              "      <th>EstimatedSalary</th>\n",
              "      <th>Purchased</th>\n",
              "    </tr>\n",
              "  </thead>\n",
              "  <tbody>\n",
              "    <tr>\n",
              "      <th>count</th>\n",
              "      <td>4.000000e+02</td>\n",
              "      <td>400.000000</td>\n",
              "      <td>400.000000</td>\n",
              "      <td>400.000000</td>\n",
              "    </tr>\n",
              "    <tr>\n",
              "      <th>mean</th>\n",
              "      <td>1.569154e+07</td>\n",
              "      <td>37.655000</td>\n",
              "      <td>69742.500000</td>\n",
              "      <td>0.357500</td>\n",
              "    </tr>\n",
              "    <tr>\n",
              "      <th>std</th>\n",
              "      <td>7.165832e+04</td>\n",
              "      <td>10.482877</td>\n",
              "      <td>34096.960282</td>\n",
              "      <td>0.479864</td>\n",
              "    </tr>\n",
              "    <tr>\n",
              "      <th>min</th>\n",
              "      <td>1.556669e+07</td>\n",
              "      <td>18.000000</td>\n",
              "      <td>15000.000000</td>\n",
              "      <td>0.000000</td>\n",
              "    </tr>\n",
              "    <tr>\n",
              "      <th>25%</th>\n",
              "      <td>1.562676e+07</td>\n",
              "      <td>29.750000</td>\n",
              "      <td>43000.000000</td>\n",
              "      <td>0.000000</td>\n",
              "    </tr>\n",
              "    <tr>\n",
              "      <th>50%</th>\n",
              "      <td>1.569434e+07</td>\n",
              "      <td>37.000000</td>\n",
              "      <td>70000.000000</td>\n",
              "      <td>0.000000</td>\n",
              "    </tr>\n",
              "    <tr>\n",
              "      <th>75%</th>\n",
              "      <td>1.575036e+07</td>\n",
              "      <td>46.000000</td>\n",
              "      <td>88000.000000</td>\n",
              "      <td>1.000000</td>\n",
              "    </tr>\n",
              "    <tr>\n",
              "      <th>max</th>\n",
              "      <td>1.581524e+07</td>\n",
              "      <td>60.000000</td>\n",
              "      <td>150000.000000</td>\n",
              "      <td>1.000000</td>\n",
              "    </tr>\n",
              "  </tbody>\n",
              "</table>\n",
              "</div>"
            ],
            "text/plain": [
              "            User ID         Age  EstimatedSalary   Purchased\n",
              "count  4.000000e+02  400.000000       400.000000  400.000000\n",
              "mean   1.569154e+07   37.655000     69742.500000    0.357500\n",
              "std    7.165832e+04   10.482877     34096.960282    0.479864\n",
              "min    1.556669e+07   18.000000     15000.000000    0.000000\n",
              "25%    1.562676e+07   29.750000     43000.000000    0.000000\n",
              "50%    1.569434e+07   37.000000     70000.000000    0.000000\n",
              "75%    1.575036e+07   46.000000     88000.000000    1.000000\n",
              "max    1.581524e+07   60.000000    150000.000000    1.000000"
            ]
          },
          "metadata": {
            "tags": []
          },
          "execution_count": 52
        }
      ]
    },
    {
      "cell_type": "markdown",
      "metadata": {
        "id": "tpvpYzzVCvDP",
        "colab_type": "text"
      },
      "source": [
        "#Data Preprocessing"
      ]
    },
    {
      "cell_type": "markdown",
      "metadata": {
        "id": "_1IWfhrAC0GZ",
        "colab_type": "text"
      },
      "source": [
        "as we can see **User ID** is not an important column so we drop it"
      ]
    },
    {
      "cell_type": "code",
      "metadata": {
        "id": "asKRejdiYyUd",
        "colab_type": "code",
        "outputId": "b2d1261b-060d-4508-8fc7-8dcbe9e88966",
        "colab": {
          "base_uri": "https://localhost:8080/",
          "height": 142
        }
      },
      "source": [
        "evaluation = df.loc[np.random.randint(0, len(df), 3)]\n",
        "evaluation"
      ],
      "execution_count": 53,
      "outputs": [
        {
          "output_type": "execute_result",
          "data": {
            "text/html": [
              "<div>\n",
              "<style scoped>\n",
              "    .dataframe tbody tr th:only-of-type {\n",
              "        vertical-align: middle;\n",
              "    }\n",
              "\n",
              "    .dataframe tbody tr th {\n",
              "        vertical-align: top;\n",
              "    }\n",
              "\n",
              "    .dataframe thead th {\n",
              "        text-align: right;\n",
              "    }\n",
              "</style>\n",
              "<table border=\"1\" class=\"dataframe\">\n",
              "  <thead>\n",
              "    <tr style=\"text-align: right;\">\n",
              "      <th></th>\n",
              "      <th>User ID</th>\n",
              "      <th>Gender</th>\n",
              "      <th>Age</th>\n",
              "      <th>EstimatedSalary</th>\n",
              "      <th>Purchased</th>\n",
              "    </tr>\n",
              "  </thead>\n",
              "  <tbody>\n",
              "    <tr>\n",
              "      <th>244</th>\n",
              "      <td>15586996</td>\n",
              "      <td>Female</td>\n",
              "      <td>41</td>\n",
              "      <td>72000</td>\n",
              "      <td>0</td>\n",
              "    </tr>\n",
              "    <tr>\n",
              "      <th>83</th>\n",
              "      <td>15711218</td>\n",
              "      <td>Male</td>\n",
              "      <td>35</td>\n",
              "      <td>88000</td>\n",
              "      <td>0</td>\n",
              "    </tr>\n",
              "    <tr>\n",
              "      <th>347</th>\n",
              "      <td>15768151</td>\n",
              "      <td>Female</td>\n",
              "      <td>54</td>\n",
              "      <td>108000</td>\n",
              "      <td>1</td>\n",
              "    </tr>\n",
              "  </tbody>\n",
              "</table>\n",
              "</div>"
            ],
            "text/plain": [
              "      User ID  Gender  Age  EstimatedSalary  Purchased\n",
              "244  15586996  Female   41            72000          0\n",
              "83   15711218    Male   35            88000          0\n",
              "347  15768151  Female   54           108000          1"
            ]
          },
          "metadata": {
            "tags": []
          },
          "execution_count": 53
        }
      ]
    },
    {
      "cell_type": "code",
      "metadata": {
        "id": "8idffRkjZS5p",
        "colab_type": "code",
        "outputId": "80bc424e-5a29-4d3e-f535-f577b567b378",
        "colab": {
          "base_uri": "https://localhost:8080/",
          "height": 34
        }
      },
      "source": [
        "df = df.drop(evaluation.index.values)\n",
        "X.shape"
      ],
      "execution_count": 54,
      "outputs": [
        {
          "output_type": "execute_result",
          "data": {
            "text/plain": [
              "(397, 3)"
            ]
          },
          "metadata": {
            "tags": []
          },
          "execution_count": 54
        }
      ]
    },
    {
      "cell_type": "code",
      "metadata": {
        "id": "Km7Q1Q3xDA9L",
        "colab_type": "code",
        "outputId": "6e8cddd5-b6d9-4860-c3de-d6edb4088974",
        "colab": {
          "base_uri": "https://localhost:8080/",
          "height": 204
        }
      },
      "source": [
        "X = df.drop(['User ID', 'Purchased'], axis = 1)\n",
        "X.head()"
      ],
      "execution_count": 55,
      "outputs": [
        {
          "output_type": "execute_result",
          "data": {
            "text/html": [
              "<div>\n",
              "<style scoped>\n",
              "    .dataframe tbody tr th:only-of-type {\n",
              "        vertical-align: middle;\n",
              "    }\n",
              "\n",
              "    .dataframe tbody tr th {\n",
              "        vertical-align: top;\n",
              "    }\n",
              "\n",
              "    .dataframe thead th {\n",
              "        text-align: right;\n",
              "    }\n",
              "</style>\n",
              "<table border=\"1\" class=\"dataframe\">\n",
              "  <thead>\n",
              "    <tr style=\"text-align: right;\">\n",
              "      <th></th>\n",
              "      <th>Gender</th>\n",
              "      <th>Age</th>\n",
              "      <th>EstimatedSalary</th>\n",
              "    </tr>\n",
              "  </thead>\n",
              "  <tbody>\n",
              "    <tr>\n",
              "      <th>0</th>\n",
              "      <td>Male</td>\n",
              "      <td>19</td>\n",
              "      <td>19000</td>\n",
              "    </tr>\n",
              "    <tr>\n",
              "      <th>1</th>\n",
              "      <td>Male</td>\n",
              "      <td>35</td>\n",
              "      <td>20000</td>\n",
              "    </tr>\n",
              "    <tr>\n",
              "      <th>2</th>\n",
              "      <td>Female</td>\n",
              "      <td>26</td>\n",
              "      <td>43000</td>\n",
              "    </tr>\n",
              "    <tr>\n",
              "      <th>3</th>\n",
              "      <td>Female</td>\n",
              "      <td>27</td>\n",
              "      <td>57000</td>\n",
              "    </tr>\n",
              "    <tr>\n",
              "      <th>4</th>\n",
              "      <td>Male</td>\n",
              "      <td>19</td>\n",
              "      <td>76000</td>\n",
              "    </tr>\n",
              "  </tbody>\n",
              "</table>\n",
              "</div>"
            ],
            "text/plain": [
              "   Gender  Age  EstimatedSalary\n",
              "0    Male   19            19000\n",
              "1    Male   35            20000\n",
              "2  Female   26            43000\n",
              "3  Female   27            57000\n",
              "4    Male   19            76000"
            ]
          },
          "metadata": {
            "tags": []
          },
          "execution_count": 55
        }
      ]
    },
    {
      "cell_type": "code",
      "metadata": {
        "id": "0cm-AGhbDL2s",
        "colab_type": "code",
        "colab": {
          "base_uri": "https://localhost:8080/",
          "height": 68
        },
        "outputId": "6d83242b-cfe1-45b6-f24c-9931a068221f"
      },
      "source": [
        "y = df.Purchased\n",
        "y[:2]"
      ],
      "execution_count": 56,
      "outputs": [
        {
          "output_type": "execute_result",
          "data": {
            "text/plain": [
              "0    0\n",
              "1    0\n",
              "Name: Purchased, dtype: int64"
            ]
          },
          "metadata": {
            "tags": []
          },
          "execution_count": 56
        }
      ]
    },
    {
      "cell_type": "code",
      "metadata": {
        "id": "6jcI8FZ0aPIM",
        "colab_type": "code",
        "outputId": "4afed56d-4ca2-41fc-fdcb-6834d1ae459e",
        "colab": {
          "base_uri": "https://localhost:8080/",
          "height": 80
        }
      },
      "source": [
        "X.head(1)"
      ],
      "execution_count": 57,
      "outputs": [
        {
          "output_type": "execute_result",
          "data": {
            "text/html": [
              "<div>\n",
              "<style scoped>\n",
              "    .dataframe tbody tr th:only-of-type {\n",
              "        vertical-align: middle;\n",
              "    }\n",
              "\n",
              "    .dataframe tbody tr th {\n",
              "        vertical-align: top;\n",
              "    }\n",
              "\n",
              "    .dataframe thead th {\n",
              "        text-align: right;\n",
              "    }\n",
              "</style>\n",
              "<table border=\"1\" class=\"dataframe\">\n",
              "  <thead>\n",
              "    <tr style=\"text-align: right;\">\n",
              "      <th></th>\n",
              "      <th>Gender</th>\n",
              "      <th>Age</th>\n",
              "      <th>EstimatedSalary</th>\n",
              "    </tr>\n",
              "  </thead>\n",
              "  <tbody>\n",
              "    <tr>\n",
              "      <th>0</th>\n",
              "      <td>Male</td>\n",
              "      <td>19</td>\n",
              "      <td>19000</td>\n",
              "    </tr>\n",
              "  </tbody>\n",
              "</table>\n",
              "</div>"
            ],
            "text/plain": [
              "  Gender  Age  EstimatedSalary\n",
              "0   Male   19            19000"
            ]
          },
          "metadata": {
            "tags": []
          },
          "execution_count": 57
        }
      ]
    },
    {
      "cell_type": "markdown",
      "metadata": {
        "id": "jCQdHP6RDeol",
        "colab_type": "text"
      },
      "source": [
        "## Dummy variable"
      ]
    },
    {
      "cell_type": "code",
      "metadata": {
        "id": "0rlpd_45NbB5",
        "colab_type": "code",
        "colab": {}
      },
      "source": [
        "ohe = MyDummyVariable()"
      ],
      "execution_count": 0,
      "outputs": []
    },
    {
      "cell_type": "code",
      "metadata": {
        "id": "IhG060fiNh39",
        "colab_type": "code",
        "outputId": "58ad2dcb-2540-4686-9ea9-2b9fa367b526",
        "colab": {
          "base_uri": "https://localhost:8080/",
          "height": 51
        }
      },
      "source": [
        "X = ohe.fit_transform(X)\n",
        "X[:2]"
      ],
      "execution_count": 59,
      "outputs": [
        {
          "output_type": "execute_result",
          "data": {
            "text/plain": [
              "array([[1.0e+00, 1.9e+01, 1.9e+04],\n",
              "       [1.0e+00, 3.5e+01, 2.0e+04]])"
            ]
          },
          "metadata": {
            "tags": []
          },
          "execution_count": 59
        }
      ]
    },
    {
      "cell_type": "code",
      "metadata": {
        "id": "zeqs6PX3NraL",
        "colab_type": "code",
        "outputId": "4e01ad1e-4e88-4806-833a-74d7a47aafeb",
        "colab": {
          "base_uri": "https://localhost:8080/",
          "height": 142
        }
      },
      "source": [
        "evaluation"
      ],
      "execution_count": 60,
      "outputs": [
        {
          "output_type": "execute_result",
          "data": {
            "text/html": [
              "<div>\n",
              "<style scoped>\n",
              "    .dataframe tbody tr th:only-of-type {\n",
              "        vertical-align: middle;\n",
              "    }\n",
              "\n",
              "    .dataframe tbody tr th {\n",
              "        vertical-align: top;\n",
              "    }\n",
              "\n",
              "    .dataframe thead th {\n",
              "        text-align: right;\n",
              "    }\n",
              "</style>\n",
              "<table border=\"1\" class=\"dataframe\">\n",
              "  <thead>\n",
              "    <tr style=\"text-align: right;\">\n",
              "      <th></th>\n",
              "      <th>User ID</th>\n",
              "      <th>Gender</th>\n",
              "      <th>Age</th>\n",
              "      <th>EstimatedSalary</th>\n",
              "      <th>Purchased</th>\n",
              "    </tr>\n",
              "  </thead>\n",
              "  <tbody>\n",
              "    <tr>\n",
              "      <th>244</th>\n",
              "      <td>15586996</td>\n",
              "      <td>Female</td>\n",
              "      <td>41</td>\n",
              "      <td>72000</td>\n",
              "      <td>0</td>\n",
              "    </tr>\n",
              "    <tr>\n",
              "      <th>83</th>\n",
              "      <td>15711218</td>\n",
              "      <td>Male</td>\n",
              "      <td>35</td>\n",
              "      <td>88000</td>\n",
              "      <td>0</td>\n",
              "    </tr>\n",
              "    <tr>\n",
              "      <th>347</th>\n",
              "      <td>15768151</td>\n",
              "      <td>Female</td>\n",
              "      <td>54</td>\n",
              "      <td>108000</td>\n",
              "      <td>1</td>\n",
              "    </tr>\n",
              "  </tbody>\n",
              "</table>\n",
              "</div>"
            ],
            "text/plain": [
              "      User ID  Gender  Age  EstimatedSalary  Purchased\n",
              "244  15586996  Female   41            72000          0\n",
              "83   15711218    Male   35            88000          0\n",
              "347  15768151  Female   54           108000          1"
            ]
          },
          "metadata": {
            "tags": []
          },
          "execution_count": 60
        }
      ]
    },
    {
      "cell_type": "code",
      "metadata": {
        "id": "ZHKJFBtVNyd6",
        "colab_type": "code",
        "outputId": "fc3869a7-eadb-4472-dd02-cdf9320c39e2",
        "colab": {
          "base_uri": "https://localhost:8080/",
          "height": 142
        }
      },
      "source": [
        "evaluation_X = evaluation.drop(['User ID', 'Purchased'], axis = 1)\n",
        "evaluation_X"
      ],
      "execution_count": 61,
      "outputs": [
        {
          "output_type": "execute_result",
          "data": {
            "text/html": [
              "<div>\n",
              "<style scoped>\n",
              "    .dataframe tbody tr th:only-of-type {\n",
              "        vertical-align: middle;\n",
              "    }\n",
              "\n",
              "    .dataframe tbody tr th {\n",
              "        vertical-align: top;\n",
              "    }\n",
              "\n",
              "    .dataframe thead th {\n",
              "        text-align: right;\n",
              "    }\n",
              "</style>\n",
              "<table border=\"1\" class=\"dataframe\">\n",
              "  <thead>\n",
              "    <tr style=\"text-align: right;\">\n",
              "      <th></th>\n",
              "      <th>Gender</th>\n",
              "      <th>Age</th>\n",
              "      <th>EstimatedSalary</th>\n",
              "    </tr>\n",
              "  </thead>\n",
              "  <tbody>\n",
              "    <tr>\n",
              "      <th>244</th>\n",
              "      <td>Female</td>\n",
              "      <td>41</td>\n",
              "      <td>72000</td>\n",
              "    </tr>\n",
              "    <tr>\n",
              "      <th>83</th>\n",
              "      <td>Male</td>\n",
              "      <td>35</td>\n",
              "      <td>88000</td>\n",
              "    </tr>\n",
              "    <tr>\n",
              "      <th>347</th>\n",
              "      <td>Female</td>\n",
              "      <td>54</td>\n",
              "      <td>108000</td>\n",
              "    </tr>\n",
              "  </tbody>\n",
              "</table>\n",
              "</div>"
            ],
            "text/plain": [
              "     Gender  Age  EstimatedSalary\n",
              "244  Female   41            72000\n",
              "83     Male   35            88000\n",
              "347  Female   54           108000"
            ]
          },
          "metadata": {
            "tags": []
          },
          "execution_count": 61
        }
      ]
    },
    {
      "cell_type": "code",
      "metadata": {
        "id": "joJ9rZ_UOHpn",
        "colab_type": "code",
        "outputId": "07b999db-a7f9-429b-cc5f-9738382a4b8c",
        "colab": {
          "base_uri": "https://localhost:8080/",
          "height": 68
        }
      },
      "source": [
        "evaluation_X = ohe.transform(evaluation_X)\n",
        "evaluation_X"
      ],
      "execution_count": 62,
      "outputs": [
        {
          "output_type": "execute_result",
          "data": {
            "text/plain": [
              "array([[0.00e+00, 4.10e+01, 7.20e+04],\n",
              "       [1.00e+00, 3.50e+01, 8.80e+04],\n",
              "       [0.00e+00, 5.40e+01, 1.08e+05]])"
            ]
          },
          "metadata": {
            "tags": []
          },
          "execution_count": 62
        }
      ]
    },
    {
      "cell_type": "code",
      "metadata": {
        "id": "JVK9ZrH3N8U6",
        "colab_type": "code",
        "outputId": "eaac1fa8-4764-4a49-a868-7ea2553a39c1",
        "colab": {
          "base_uri": "https://localhost:8080/",
          "height": 85
        }
      },
      "source": [
        "evaluation_y = evaluation.Purchased\n",
        "evaluation_y"
      ],
      "execution_count": 63,
      "outputs": [
        {
          "output_type": "execute_result",
          "data": {
            "text/plain": [
              "244    0\n",
              "83     0\n",
              "347    1\n",
              "Name: Purchased, dtype: int64"
            ]
          },
          "metadata": {
            "tags": []
          },
          "execution_count": 63
        }
      ]
    },
    {
      "cell_type": "markdown",
      "metadata": {
        "id": "1GiZai1nAWPm",
        "colab_type": "text"
      },
      "source": [
        "#Visualisation"
      ]
    },
    {
      "cell_type": "code",
      "metadata": {
        "id": "LXWKZLk-AYQJ",
        "colab_type": "code",
        "colab": {}
      },
      "source": [
        "import seaborn as sns"
      ],
      "execution_count": 0,
      "outputs": []
    },
    {
      "cell_type": "code",
      "metadata": {
        "id": "3LVSWUBcAm-E",
        "colab_type": "code",
        "colab": {
          "base_uri": "https://localhost:8080/",
          "height": 34
        },
        "outputId": "1e57d8f5-c948-4c69-f007-034377cfb7b4"
      },
      "source": [
        "df.columns"
      ],
      "execution_count": 65,
      "outputs": [
        {
          "output_type": "execute_result",
          "data": {
            "text/plain": [
              "Index(['User ID', 'Gender', 'Age', 'EstimatedSalary', 'Purchased'], dtype='object')"
            ]
          },
          "metadata": {
            "tags": []
          },
          "execution_count": 65
        }
      ]
    },
    {
      "cell_type": "code",
      "metadata": {
        "id": "3xARZ_nDAZpH",
        "colab_type": "code",
        "colab": {
          "base_uri": "https://localhost:8080/",
          "height": 300
        },
        "outputId": "2f7ad151-ac0c-4c7c-cdd7-07ea3e6871de"
      },
      "source": [
        "sns.distplot(df.EstimatedSalary, bins = 20)"
      ],
      "execution_count": 66,
      "outputs": [
        {
          "output_type": "execute_result",
          "data": {
            "text/plain": [
              "<matplotlib.axes._subplots.AxesSubplot at 0x7f9279a7e668>"
            ]
          },
          "metadata": {
            "tags": []
          },
          "execution_count": 66
        },
        {
          "output_type": "display_data",
          "data": {
            "image/png": "[encoded data removed]",
            "text/plain": [
              "<Figure size 432x288 with 1 Axes>"
            ]
          },
          "metadata": {
            "tags": []
          }
        }
      ]
    },
    {
      "cell_type": "code",
      "metadata": {
        "id": "tj5du8mqA0Zh",
        "colab_type": "code",
        "colab": {
          "base_uri": "https://localhost:8080/",
          "height": 272
        },
        "outputId": "30214865-b922-4105-a01c-bf40cb1c6a49"
      },
      "source": [
        "sns.boxplot(x = 'EstimatedSalary', orient = 'vertical', hue = 'Gender', data = df)"
      ],
      "execution_count": 67,
      "outputs": [
        {
          "output_type": "execute_result",
          "data": {
            "text/plain": [
              "<matplotlib.axes._subplots.AxesSubplot at 0x7f92799fb860>"
            ]
          },
          "metadata": {
            "tags": []
          },
          "execution_count": 67
        },
        {
          "output_type": "display_data",
          "data": {
            "image/png": "[encoded data removed]",
            "text/plain": [
              "<Figure size 432x288 with 1 Axes>"
            ]
          },
          "metadata": {
            "tags": []
          }
        }
      ]
    },
    {
      "cell_type": "code",
      "metadata": {
        "id": "ih2ZGtJ0BzDd",
        "colab_type": "code",
        "colab": {
          "base_uri": "https://localhost:8080/",
          "height": 272
        },
        "outputId": "78419ff2-f3d8-4737-b388-152c3ed9cc2b"
      },
      "source": [
        "sns.boxplot(x = 'Age', orient = 'vertical', data = df)"
      ],
      "execution_count": 68,
      "outputs": [
        {
          "output_type": "execute_result",
          "data": {
            "text/plain": [
              "<matplotlib.axes._subplots.AxesSubplot at 0x7f927beb6828>"
            ]
          },
          "metadata": {
            "tags": []
          },
          "execution_count": 68
        },
        {
          "output_type": "display_data",
          "data": {
            "image/png": "[encoded data removed]",
            "text/plain": [
              "<Figure size 432x288 with 1 Axes>"
            ]
          },
          "metadata": {
            "tags": []
          }
        }
      ]
    },
    {
      "cell_type": "markdown",
      "metadata": {
        "id": "XqoI5A46CAZ8",
        "colab_type": "text"
      },
      "source": [
        "#Build Model"
      ]
    },
    {
      "cell_type": "code",
      "metadata": {
        "id": "tQoAbCMGOFjl",
        "colab_type": "code",
        "colab": {}
      },
      "source": [
        "from sklearn.linear_model import LogisticRegression"
      ],
      "execution_count": 0,
      "outputs": []
    },
    {
      "cell_type": "code",
      "metadata": {
        "id": "qbM0ONyvCXSo",
        "colab_type": "code",
        "colab": {}
      },
      "source": [
        "from sklearn.model_selection import train_test_split"
      ],
      "execution_count": 0,
      "outputs": []
    },
    {
      "cell_type": "code",
      "metadata": {
        "id": "0YdI9QdICa0i",
        "colab_type": "code",
        "colab": {
          "base_uri": "https://localhost:8080/",
          "height": 34
        },
        "outputId": "f30899b9-ea71-43f6-f71f-7bf9069e00a3"
      },
      "source": [
        "X_train, X_test, y_train, y_test = train_test_split(X, y, test_size = .2, random_state  = 0)\n",
        "X_train.shape, X_test.shape, y_train.shape, y_test.shape"
      ],
      "execution_count": 75,
      "outputs": [
        {
          "output_type": "execute_result",
          "data": {
            "text/plain": [
              "((317, 3), (80, 3), (317,), (80,))"
            ]
          },
          "metadata": {
            "tags": []
          },
          "execution_count": 75
        }
      ]
    },
    {
      "cell_type": "code",
      "metadata": {
        "id": "9lJFaERvCC1D",
        "colab_type": "code",
        "colab": {
          "base_uri": "https://localhost:8080/",
          "height": 156
        },
        "outputId": "9a3d3f8a-3186-4036-89b8-93ee919c75b2"
      },
      "source": [
        "model = LogisticRegression(C = 10)\n",
        "model.fit(X_train, y_train)"
      ],
      "execution_count": 76,
      "outputs": [
        {
          "output_type": "stream",
          "text": [
            "/usr/local/lib/python3.6/dist-packages/sklearn/linear_model/logistic.py:432: FutureWarning: Default solver will be changed to 'lbfgs' in 0.22. Specify a solver to silence this warning.\n",
            "  FutureWarning)\n"
          ],
          "name": "stderr"
        },
        {
          "output_type": "execute_result",
          "data": {
            "text/plain": [
              "LogisticRegression(C=10, class_weight=None, dual=False, fit_intercept=True,\n",
              "                   intercept_scaling=1, l1_ratio=None, max_iter=100,\n",
              "                   multi_class='warn', n_jobs=None, penalty='l2',\n",
              "                   random_state=None, solver='warn', tol=0.0001, verbose=0,\n",
              "                   warm_start=False)"
            ]
          },
          "metadata": {
            "tags": []
          },
          "execution_count": 76
        }
      ]
    },
    {
      "cell_type": "code",
      "metadata": {
        "id": "5JG8381ZFNZ0",
        "colab_type": "code",
        "colab": {}
      },
      "source": [
        "from sklearn.metrics import classification_report, confusion_matrix"
      ],
      "execution_count": 0,
      "outputs": []
    },
    {
      "cell_type": "markdown",
      "metadata": {
        "id": "evdpOZocGd5x",
        "colab_type": "text"
      },
      "source": [
        "## Training dataset evaluation"
      ]
    },
    {
      "cell_type": "code",
      "metadata": {
        "id": "Z-AYRejMFrYR",
        "colab_type": "code",
        "colab": {
          "base_uri": "https://localhost:8080/",
          "height": 170
        },
        "outputId": "738d9a88-36f6-4d56-b622-2187df9e938d"
      },
      "source": [
        "#training classification report\n",
        "\n",
        "print(classification_report(y_train, model.predict(X_train)))"
      ],
      "execution_count": 84,
      "outputs": [
        {
          "output_type": "stream",
          "text": [
            "              precision    recall  f1-score   support\n",
            "\n",
            "           0       0.83      0.92      0.87       197\n",
            "           1       0.84      0.69      0.76       120\n",
            "\n",
            "    accuracy                           0.83       317\n",
            "   macro avg       0.83      0.81      0.82       317\n",
            "weighted avg       0.83      0.83      0.83       317\n",
            "\n"
          ],
          "name": "stdout"
        }
      ]
    },
    {
      "cell_type": "code",
      "metadata": {
        "id": "0WJik-8DF1lt",
        "colab_type": "code",
        "colab": {
          "base_uri": "https://localhost:8080/",
          "height": 51
        },
        "outputId": "e75f38f5-e491-4414-ca40-acee80bddd80"
      },
      "source": [
        "#confusion matrix\n",
        "confusion_matrix(y_train, model.predict(X_train))"
      ],
      "execution_count": 85,
      "outputs": [
        {
          "output_type": "execute_result",
          "data": {
            "text/plain": [
              "array([[181,  16],\n",
              "       [ 37,  83]])"
            ]
          },
          "metadata": {
            "tags": []
          },
          "execution_count": 85
        }
      ]
    },
    {
      "cell_type": "markdown",
      "metadata": {
        "id": "Mkqr66w0Grj4",
        "colab_type": "text"
      },
      "source": [
        "## Test set evaluation"
      ]
    },
    {
      "cell_type": "code",
      "metadata": {
        "id": "n92LR1GbGwhi",
        "colab_type": "code",
        "colab": {
          "base_uri": "https://localhost:8080/",
          "height": 170
        },
        "outputId": "0d5b1f24-bc67-4f03-92b9-f7793c0ed1df"
      },
      "source": [
        "print(classification_report(y_test, model.predict(X_test)))"
      ],
      "execution_count": 87,
      "outputs": [
        {
          "output_type": "stream",
          "text": [
            "              precision    recall  f1-score   support\n",
            "\n",
            "           0       0.89      0.93      0.91        58\n",
            "           1       0.79      0.68      0.73        22\n",
            "\n",
            "    accuracy                           0.86        80\n",
            "   macro avg       0.84      0.81      0.82        80\n",
            "weighted avg       0.86      0.86      0.86        80\n",
            "\n"
          ],
          "name": "stdout"
        }
      ]
    },
    {
      "cell_type": "code",
      "metadata": {
        "id": "_K4q11gRG2tg",
        "colab_type": "code",
        "colab": {
          "base_uri": "https://localhost:8080/",
          "height": 51
        },
        "outputId": "da55bb72-43e2-40df-acb9-ae7e4bdd7089"
      },
      "source": [
        "confusion_matrix(y_test, model.predict(X_test))"
      ],
      "execution_count": 88,
      "outputs": [
        {
          "output_type": "execute_result",
          "data": {
            "text/plain": [
              "array([[54,  4],\n",
              "       [ 7, 15]])"
            ]
          },
          "metadata": {
            "tags": []
          },
          "execution_count": 88
        }
      ]
    },
    {
      "cell_type": "code",
      "metadata": {
        "id": "QbHF812VG9hb",
        "colab_type": "code",
        "colab": {}
      },
      "source": [
        ""
      ],
      "execution_count": 0,
      "outputs": []
    }
  ]
}