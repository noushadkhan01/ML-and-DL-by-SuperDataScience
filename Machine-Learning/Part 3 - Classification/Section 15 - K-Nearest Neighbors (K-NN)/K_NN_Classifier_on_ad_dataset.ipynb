{
  "nbformat": 4,
  "nbformat_minor": 0,
  "metadata": {
    "colab": {
      "name": "K-NN Classifier on ad dataset.ipynb",
      "version": "0.3.2",
      "provenance": [],
      "collapsed_sections": [],
      "include_colab_link": true
    },
    "kernelspec": {
      "name": "python3",
      "display_name": "Python 3"
    }
  },
  "cells": [
    {
      "cell_type": "markdown",
      "metadata": {
        "id": "view-in-github",
        "colab_type": "text"
      },
      "source": [
        "<a href=\"https://colab.research.google.com/github/noushadkhan01/ML-and-DL-by-SuperDataScience/blob/master/Machine-Learning/Part%203%20-%20Classification/Section%2015%20-%20K-Nearest%20Neighbors%20(K-NN)/K_NN_Classifier_on_ad_dataset.ipynb\" target=\"_parent\"><img src=\"https://colab.research.google.com/assets/colab-badge.svg\" alt=\"Open In Colab\"/></a>"
      ]
    },
    {
      "cell_type": "code",
      "metadata": {
        "id": "Meqf1ORPBtGy",
        "colab_type": "code",
        "outputId": "e1fcd0f5-6e54-427a-f81c-29fcfc3b6ee6",
        "colab": {
          "base_uri": "https://localhost:8080/",
          "height": 136
        }
      },
      "source": [
        "!git clone https://github.com/noushadkhan01/ML-and-DL-by-SuperDataScience.git"
      ],
      "execution_count": 9,
      "outputs": [
        {
          "output_type": "stream",
          "text": [
            "Cloning into 'ML-and-DL-by-SuperDataScience'...\n",
            "remote: Enumerating objects: 334, done.\u001b[K\n",
            "remote: Counting objects:   0% (1/334)   \u001b[K\rremote: Counting objects:   1% (4/334)   \u001b[K\rremote: Counting objects:   2% (7/334)   \u001b[K\rremote: Counting objects:   3% (11/334)   \u001b[K\rremote: Counting objects:   4% (14/334)   \u001b[K\rremote: Counting objects:   5% (17/334)   \u001b[K\rremote: Counting objects:   6% (21/334)   \u001b[K\rremote: Counting objects:   7% (24/334)   \u001b[K\rremote: Counting objects:   8% (27/334)   \u001b[K\rremote: Counting objects:   9% (31/334)   \u001b[K\rremote: Counting objects:  10% (34/334)   \u001b[K\rremote: Counting objects:  11% (37/334)   \u001b[K\rremote: Counting objects:  12% (41/334)   \u001b[K\rremote: Counting objects:  13% (44/334)   \u001b[K\rremote: Counting objects:  14% (47/334)   \u001b[K\rremote: Counting objects:  15% (51/334)   \u001b[K\rremote: Counting objects:  16% (54/334)   \u001b[K\rremote: Counting objects:  17% (57/334)   \u001b[K\rremote: Counting objects:  18% (61/334)   \u001b[K\rremote: Counting objects:  19% (64/334)   \u001b[K\rremote: Counting objects:  20% (67/334)   \u001b[K\rremote: Counting objects:  21% (71/334)   \u001b[K\rremote: Counting objects:  22% (74/334)   \u001b[K\rremote: Counting objects:  23% (77/334)   \u001b[K\rremote: Counting objects:  24% (81/334)   \u001b[K\rremote: Counting objects:  25% (84/334)   \u001b[K\rremote: Counting objects:  26% (87/334)   \u001b[K\rremote: Counting objects:  27% (91/334)   \u001b[K\rremote: Counting objects:  28% (94/334)   \u001b[K\rremote: Counting objects:  29% (97/334)   \u001b[K\rremote: Counting objects:  30% (101/334)   \u001b[K\rremote: Counting objects:  31% (104/334)   \u001b[K\rremote: Counting objects:  32% (107/334)   \u001b[K\rremote: Counting objects:  33% (111/334)   \u001b[K\rremote: Counting objects:  34% (114/334)   \u001b[K\rremote: Counting objects:  35% (117/334)   \u001b[K\rremote: Counting objects:  36% (121/334)   \u001b[K\rremote: Counting objects:  37% (124/334)   \u001b[K\rremote: Counting objects:  38% (127/334)   \u001b[K\rremote: Counting objects:  39% (131/334)   \u001b[K\rremote: Counting objects:  40% (134/334)   \u001b[K\rremote: Counting objects:  41% (137/334)   \u001b[K\rremote: Counting objects:  42% (141/334)   \u001b[K\rremote: Counting objects:  43% (144/334)   \u001b[K\rremote: Counting objects:  44% (147/334)   \u001b[K\rremote: Counting objects:  45% (151/334)   \u001b[K\rremote: Counting objects:  46% (154/334)   \u001b[K\rremote: Counting objects:  47% (157/334)   \u001b[K\rremote: Counting objects:  48% (161/334)   \u001b[K\rremote: Counting objects:  49% (164/334)   \u001b[K\rremote: Counting objects:  50% (167/334)   \u001b[K\rremote: Counting objects:  51% (171/334)   \u001b[K\rremote: Counting objects:  52% (174/334)   \u001b[K\rremote: Counting objects:  53% (178/334)   \u001b[K\rremote: Counting objects:  54% (181/334)   \u001b[K\rremote: Counting objects:  55% (184/334)   \u001b[K\rremote: Counting objects:  56% (188/334)   \u001b[K\rremote: Counting objects:  57% (191/334)   \u001b[K\rremote: Counting objects:  58% (194/334)   \u001b[K\rremote: Counting objects:  59% (198/334)   \u001b[K\rremote: Counting objects:  60% (201/334)   \u001b[K\rremote: Counting objects:  61% (204/334)   \u001b[K\rremote: Counting objects:  62% (208/334)   \u001b[K\rremote: Counting objects:  63% (211/334)   \u001b[K\rremote: Counting objects:  64% (214/334)   \u001b[K\rremote: Counting objects:  65% (218/334)   \u001b[K\rremote: Counting objects:  66% (221/334)   \u001b[K\rremote: Counting objects:  67% (224/334)   \u001b[K\rremote: Counting objects:  68% (228/334)   \u001b[K\rremote: Counting objects:  69% (231/334)   \u001b[K\rremote: Counting objects:  70% (234/334)   \u001b[K\rremote: Counting objects:  71% (238/334)   \u001b[K\rremote: Counting objects:  72% (241/334)   \u001b[K\rremote: Counting objects:  73% (244/334)   \u001b[K\rremote: Counting objects:  74% (248/334)   \u001b[K\rremote: Counting objects:  75% (251/334)   \u001b[K\rremote: Counting objects:  76% (254/334)   \u001b[K\rremote: Counting objects:  77% (258/334)   \u001b[K\rremote: Counting objects:  78% (261/334)   \u001b[K\rremote: Counting objects:  79% (264/334)   \u001b[K\rremote: Counting objects:  80% (268/334)   \u001b[K\rremote: Counting objects:  81% (271/334)   \u001b[K\rremote: Counting objects:  82% (274/334)   \u001b[K\rremote: Counting objects:  83% (278/334)   \u001b[K\rremote: Counting objects:  84% (281/334)   \u001b[K\rremote: Counting objects:  85% (284/334)   \u001b[K\rremote: Counting objects:  86% (288/334)   \u001b[K\rremote: Counting objects:  87% (291/334)   \u001b[K\rremote: Counting objects:  88% (294/334)   \u001b[K\rremote: Counting objects:  89% (298/334)   \u001b[K\rremote: Counting objects:  90% (301/334)   \u001b[K\rremote: Counting objects:  91% (304/334)   \u001b[K\rremote: Counting objects:  92% (308/334)   \u001b[K\rremote: Counting objects:  93% (311/334)   \u001b[K\rremote: Counting objects:  94% (314/334)   \u001b[K\rremote: Counting objects:  95% (318/334)   \u001b[K\rremote: Counting objects:  96% (321/334)   \u001b[K\rremote: Counting objects:  97% (324/334)   \u001b[K\rremote: Counting objects:  98% (328/334)   \u001b[K\rremote: Counting objects:  99% (331/334)   \u001b[K\rremote: Counting objects: 100% (334/334)   \u001b[K\rremote: Counting objects: 100% (334/334), done.\u001b[K\n",
            "remote: Compressing objects: 100% (272/272), done.\u001b[K\n",
            "remote: Total 334 (delta 122), reused 194 (delta 53), pack-reused 0\u001b[K\n",
            "Receiving objects: 100% (334/334), 25.32 MiB | 20.13 MiB/s, done.\n",
            "Resolving deltas: 100% (122/122), done.\n"
          ],
          "name": "stdout"
        }
      ]
    },
    {
      "cell_type": "markdown",
      "metadata": {
        "id": "2-kVDLKvMi9S",
        "colab_type": "text"
      },
      "source": [
        "#Get my methods need for this project"
      ]
    },
    {
      "cell_type": "code",
      "metadata": {
        "id": "O5v9uBkhMqMh",
        "colab_type": "code",
        "outputId": "ae19c6a7-51dc-43e9-aa44-5a71924e0b3a",
        "colab": {
          "base_uri": "https://localhost:8080/",
          "height": 54
        }
      },
      "source": [
        "%cd ML-and-DL-by-SuperDataScience/my_methods\n",
        "from my_dummy_variable import MyDummyVariable\n",
        "from visualise_classifier_performance import visualise_classifier_performance"
      ],
      "execution_count": 10,
      "outputs": [
        {
          "output_type": "stream",
          "text": [
            "/content/ML-and-DL-by-SuperDataScience/Machine-Learning/Part 3 - Classification/Section 15 - K-Nearest Neighbors (K-NN)/ML-and-DL-by-SuperDataScience/my_methods\n"
          ],
          "name": "stdout"
        }
      ]
    },
    {
      "cell_type": "code",
      "metadata": {
        "id": "-wCH4SYeM3n0",
        "colab_type": "code",
        "outputId": "7ae98116-b03f-456d-8858-c102715ce504",
        "colab": {
          "base_uri": "https://localhost:8080/",
          "height": 34
        }
      },
      "source": [
        "%cd ../"
      ],
      "execution_count": 11,
      "outputs": [
        {
          "output_type": "stream",
          "text": [
            "/content/ML-and-DL-by-SuperDataScience/Machine-Learning/Part 3 - Classification/Section 15 - K-Nearest Neighbors (K-NN)/ML-and-DL-by-SuperDataScience\n"
          ],
          "name": "stdout"
        }
      ]
    },
    {
      "cell_type": "code",
      "metadata": {
        "id": "ayGBuSwIBwwo",
        "colab_type": "code",
        "outputId": "5092610c-6ac9-4f2e-b053-5eb821750b35",
        "colab": {
          "base_uri": "https://localhost:8080/",
          "height": 88
        }
      },
      "source": [
        "%cd Machine-Learning/Part 3 - Classification/Section 15 - K-Nearest Neighbors (K-NN)/\n",
        "!ls"
      ],
      "execution_count": 12,
      "outputs": [
        {
          "output_type": "stream",
          "text": [
            "/content/ML-and-DL-by-SuperDataScience/Machine-Learning/Part 3 - Classification/Section 15 - K-Nearest Neighbors (K-NN)/ML-and-DL-by-SuperDataScience/Machine-Learning/Part 3 - Classification/Section 15 - K-Nearest Neighbors (K-NN)\n",
            "classification_template.py  knn.py  Social_Network_Ads.csv\n",
            "classification_template.R   knn.R\n"
          ],
          "name": "stdout"
        }
      ]
    },
    {
      "cell_type": "code",
      "metadata": {
        "id": "GtWpkNO2CN7-",
        "colab_type": "code",
        "colab": {}
      },
      "source": [
        "import pandas as pd\n",
        "import numpy as np\n",
        "import matplotlib.pyplot as plt\n",
        "%matplotlib inline\n",
        "import seaborn as sns"
      ],
      "execution_count": 0,
      "outputs": []
    },
    {
      "cell_type": "code",
      "metadata": {
        "id": "h4toRopuB9Ws",
        "colab_type": "code",
        "outputId": "97d0762c-83d1-415e-a575-6b0c67d0031d",
        "colab": {
          "base_uri": "https://localhost:8080/",
          "height": 204
        }
      },
      "source": [
        "df = pd.read_csv('Social_Network_Ads.csv')\n",
        "df.head()"
      ],
      "execution_count": 14,
      "outputs": [
        {
          "output_type": "execute_result",
          "data": {
            "text/html": [
              "<div>\n",
              "<style scoped>\n",
              "    .dataframe tbody tr th:only-of-type {\n",
              "        vertical-align: middle;\n",
              "    }\n",
              "\n",
              "    .dataframe tbody tr th {\n",
              "        vertical-align: top;\n",
              "    }\n",
              "\n",
              "    .dataframe thead th {\n",
              "        text-align: right;\n",
              "    }\n",
              "</style>\n",
              "<table border=\"1\" class=\"dataframe\">\n",
              "  <thead>\n",
              "    <tr style=\"text-align: right;\">\n",
              "      <th></th>\n",
              "      <th>User ID</th>\n",
              "      <th>Gender</th>\n",
              "      <th>Age</th>\n",
              "      <th>EstimatedSalary</th>\n",
              "      <th>Purchased</th>\n",
              "    </tr>\n",
              "  </thead>\n",
              "  <tbody>\n",
              "    <tr>\n",
              "      <th>0</th>\n",
              "      <td>15624510</td>\n",
              "      <td>Male</td>\n",
              "      <td>19</td>\n",
              "      <td>19000</td>\n",
              "      <td>0</td>\n",
              "    </tr>\n",
              "    <tr>\n",
              "      <th>1</th>\n",
              "      <td>15810944</td>\n",
              "      <td>Male</td>\n",
              "      <td>35</td>\n",
              "      <td>20000</td>\n",
              "      <td>0</td>\n",
              "    </tr>\n",
              "    <tr>\n",
              "      <th>2</th>\n",
              "      <td>15668575</td>\n",
              "      <td>Female</td>\n",
              "      <td>26</td>\n",
              "      <td>43000</td>\n",
              "      <td>0</td>\n",
              "    </tr>\n",
              "    <tr>\n",
              "      <th>3</th>\n",
              "      <td>15603246</td>\n",
              "      <td>Female</td>\n",
              "      <td>27</td>\n",
              "      <td>57000</td>\n",
              "      <td>0</td>\n",
              "    </tr>\n",
              "    <tr>\n",
              "      <th>4</th>\n",
              "      <td>15804002</td>\n",
              "      <td>Male</td>\n",
              "      <td>19</td>\n",
              "      <td>76000</td>\n",
              "      <td>0</td>\n",
              "    </tr>\n",
              "  </tbody>\n",
              "</table>\n",
              "</div>"
            ],
            "text/plain": [
              "    User ID  Gender  Age  EstimatedSalary  Purchased\n",
              "0  15624510    Male   19            19000          0\n",
              "1  15810944    Male   35            20000          0\n",
              "2  15668575  Female   26            43000          0\n",
              "3  15603246  Female   27            57000          0\n",
              "4  15804002    Male   19            76000          0"
            ]
          },
          "metadata": {
            "tags": []
          },
          "execution_count": 14
        }
      ]
    },
    {
      "cell_type": "code",
      "metadata": {
        "id": "vHJZf49lCL0K",
        "colab_type": "code",
        "outputId": "d5b6bd08-bcb4-422f-c729-53893e0362a9",
        "colab": {
          "base_uri": "https://localhost:8080/",
          "height": 187
        }
      },
      "source": [
        "df.info()"
      ],
      "execution_count": 15,
      "outputs": [
        {
          "output_type": "stream",
          "text": [
            "<class 'pandas.core.frame.DataFrame'>\n",
            "RangeIndex: 400 entries, 0 to 399\n",
            "Data columns (total 5 columns):\n",
            "User ID            400 non-null int64\n",
            "Gender             400 non-null object\n",
            "Age                400 non-null int64\n",
            "EstimatedSalary    400 non-null int64\n",
            "Purchased          400 non-null int64\n",
            "dtypes: int64(4), object(1)\n",
            "memory usage: 15.7+ KB\n"
          ],
          "name": "stdout"
        }
      ]
    },
    {
      "cell_type": "code",
      "metadata": {
        "id": "1TGY3usgCcHX",
        "colab_type": "code",
        "outputId": "3e37e22c-f04e-4f4b-99f1-db53067e7387",
        "colab": {
          "base_uri": "https://localhost:8080/",
          "height": 297
        }
      },
      "source": [
        "df.describe()"
      ],
      "execution_count": 16,
      "outputs": [
        {
          "output_type": "execute_result",
          "data": {
            "text/html": [
              "<div>\n",
              "<style scoped>\n",
              "    .dataframe tbody tr th:only-of-type {\n",
              "        vertical-align: middle;\n",
              "    }\n",
              "\n",
              "    .dataframe tbody tr th {\n",
              "        vertical-align: top;\n",
              "    }\n",
              "\n",
              "    .dataframe thead th {\n",
              "        text-align: right;\n",
              "    }\n",
              "</style>\n",
              "<table border=\"1\" class=\"dataframe\">\n",
              "  <thead>\n",
              "    <tr style=\"text-align: right;\">\n",
              "      <th></th>\n",
              "      <th>User ID</th>\n",
              "      <th>Age</th>\n",
              "      <th>EstimatedSalary</th>\n",
              "      <th>Purchased</th>\n",
              "    </tr>\n",
              "  </thead>\n",
              "  <tbody>\n",
              "    <tr>\n",
              "      <th>count</th>\n",
              "      <td>4.000000e+02</td>\n",
              "      <td>400.000000</td>\n",
              "      <td>400.000000</td>\n",
              "      <td>400.000000</td>\n",
              "    </tr>\n",
              "    <tr>\n",
              "      <th>mean</th>\n",
              "      <td>1.569154e+07</td>\n",
              "      <td>37.655000</td>\n",
              "      <td>69742.500000</td>\n",
              "      <td>0.357500</td>\n",
              "    </tr>\n",
              "    <tr>\n",
              "      <th>std</th>\n",
              "      <td>7.165832e+04</td>\n",
              "      <td>10.482877</td>\n",
              "      <td>34096.960282</td>\n",
              "      <td>0.479864</td>\n",
              "    </tr>\n",
              "    <tr>\n",
              "      <th>min</th>\n",
              "      <td>1.556669e+07</td>\n",
              "      <td>18.000000</td>\n",
              "      <td>15000.000000</td>\n",
              "      <td>0.000000</td>\n",
              "    </tr>\n",
              "    <tr>\n",
              "      <th>25%</th>\n",
              "      <td>1.562676e+07</td>\n",
              "      <td>29.750000</td>\n",
              "      <td>43000.000000</td>\n",
              "      <td>0.000000</td>\n",
              "    </tr>\n",
              "    <tr>\n",
              "      <th>50%</th>\n",
              "      <td>1.569434e+07</td>\n",
              "      <td>37.000000</td>\n",
              "      <td>70000.000000</td>\n",
              "      <td>0.000000</td>\n",
              "    </tr>\n",
              "    <tr>\n",
              "      <th>75%</th>\n",
              "      <td>1.575036e+07</td>\n",
              "      <td>46.000000</td>\n",
              "      <td>88000.000000</td>\n",
              "      <td>1.000000</td>\n",
              "    </tr>\n",
              "    <tr>\n",
              "      <th>max</th>\n",
              "      <td>1.581524e+07</td>\n",
              "      <td>60.000000</td>\n",
              "      <td>150000.000000</td>\n",
              "      <td>1.000000</td>\n",
              "    </tr>\n",
              "  </tbody>\n",
              "</table>\n",
              "</div>"
            ],
            "text/plain": [
              "            User ID         Age  EstimatedSalary   Purchased\n",
              "count  4.000000e+02  400.000000       400.000000  400.000000\n",
              "mean   1.569154e+07   37.655000     69742.500000    0.357500\n",
              "std    7.165832e+04   10.482877     34096.960282    0.479864\n",
              "min    1.556669e+07   18.000000     15000.000000    0.000000\n",
              "25%    1.562676e+07   29.750000     43000.000000    0.000000\n",
              "50%    1.569434e+07   37.000000     70000.000000    0.000000\n",
              "75%    1.575036e+07   46.000000     88000.000000    1.000000\n",
              "max    1.581524e+07   60.000000    150000.000000    1.000000"
            ]
          },
          "metadata": {
            "tags": []
          },
          "execution_count": 16
        }
      ]
    },
    {
      "cell_type": "markdown",
      "metadata": {
        "id": "tpvpYzzVCvDP",
        "colab_type": "text"
      },
      "source": [
        "#Data Preprocessing"
      ]
    },
    {
      "cell_type": "markdown",
      "metadata": {
        "id": "_1IWfhrAC0GZ",
        "colab_type": "text"
      },
      "source": [
        "as we can see **User ID** is not an important column so we drop it"
      ]
    },
    {
      "cell_type": "code",
      "metadata": {
        "id": "asKRejdiYyUd",
        "colab_type": "code",
        "outputId": "8cae4ea4-c70c-4dee-88fb-6638e231397d",
        "colab": {
          "base_uri": "https://localhost:8080/",
          "height": 142
        }
      },
      "source": [
        "evaluation = df.loc[np.random.randint(0, len(df), 3)]\n",
        "evaluation"
      ],
      "execution_count": 17,
      "outputs": [
        {
          "output_type": "execute_result",
          "data": {
            "text/html": [
              "<div>\n",
              "<style scoped>\n",
              "    .dataframe tbody tr th:only-of-type {\n",
              "        vertical-align: middle;\n",
              "    }\n",
              "\n",
              "    .dataframe tbody tr th {\n",
              "        vertical-align: top;\n",
              "    }\n",
              "\n",
              "    .dataframe thead th {\n",
              "        text-align: right;\n",
              "    }\n",
              "</style>\n",
              "<table border=\"1\" class=\"dataframe\">\n",
              "  <thead>\n",
              "    <tr style=\"text-align: right;\">\n",
              "      <th></th>\n",
              "      <th>User ID</th>\n",
              "      <th>Gender</th>\n",
              "      <th>Age</th>\n",
              "      <th>EstimatedSalary</th>\n",
              "      <th>Purchased</th>\n",
              "    </tr>\n",
              "  </thead>\n",
              "  <tbody>\n",
              "    <tr>\n",
              "      <th>130</th>\n",
              "      <td>15675185</td>\n",
              "      <td>Male</td>\n",
              "      <td>31</td>\n",
              "      <td>58000</td>\n",
              "      <td>0</td>\n",
              "    </tr>\n",
              "    <tr>\n",
              "      <th>74</th>\n",
              "      <td>15592877</td>\n",
              "      <td>Male</td>\n",
              "      <td>32</td>\n",
              "      <td>18000</td>\n",
              "      <td>0</td>\n",
              "    </tr>\n",
              "    <tr>\n",
              "      <th>84</th>\n",
              "      <td>15798659</td>\n",
              "      <td>Female</td>\n",
              "      <td>30</td>\n",
              "      <td>62000</td>\n",
              "      <td>0</td>\n",
              "    </tr>\n",
              "  </tbody>\n",
              "</table>\n",
              "</div>"
            ],
            "text/plain": [
              "      User ID  Gender  Age  EstimatedSalary  Purchased\n",
              "130  15675185    Male   31            58000          0\n",
              "74   15592877    Male   32            18000          0\n",
              "84   15798659  Female   30            62000          0"
            ]
          },
          "metadata": {
            "tags": []
          },
          "execution_count": 17
        }
      ]
    },
    {
      "cell_type": "code",
      "metadata": {
        "id": "8idffRkjZS5p",
        "colab_type": "code",
        "outputId": "4f7036ec-220e-40e0-b21c-b4af7f186f3e",
        "colab": {
          "base_uri": "https://localhost:8080/",
          "height": 34
        }
      },
      "source": [
        "df = df.drop(evaluation.index.values)\n",
        "df.shape"
      ],
      "execution_count": 18,
      "outputs": [
        {
          "output_type": "execute_result",
          "data": {
            "text/plain": [
              "(397, 5)"
            ]
          },
          "metadata": {
            "tags": []
          },
          "execution_count": 18
        }
      ]
    },
    {
      "cell_type": "code",
      "metadata": {
        "id": "Km7Q1Q3xDA9L",
        "colab_type": "code",
        "outputId": "b152bd52-9b84-4408-8140-0ed8137d7540",
        "colab": {
          "base_uri": "https://localhost:8080/",
          "height": 204
        }
      },
      "source": [
        "X = df.drop(['User ID', 'Purchased'], axis = 1)\n",
        "X.head()"
      ],
      "execution_count": 19,
      "outputs": [
        {
          "output_type": "execute_result",
          "data": {
            "text/html": [
              "<div>\n",
              "<style scoped>\n",
              "    .dataframe tbody tr th:only-of-type {\n",
              "        vertical-align: middle;\n",
              "    }\n",
              "\n",
              "    .dataframe tbody tr th {\n",
              "        vertical-align: top;\n",
              "    }\n",
              "\n",
              "    .dataframe thead th {\n",
              "        text-align: right;\n",
              "    }\n",
              "</style>\n",
              "<table border=\"1\" class=\"dataframe\">\n",
              "  <thead>\n",
              "    <tr style=\"text-align: right;\">\n",
              "      <th></th>\n",
              "      <th>Gender</th>\n",
              "      <th>Age</th>\n",
              "      <th>EstimatedSalary</th>\n",
              "    </tr>\n",
              "  </thead>\n",
              "  <tbody>\n",
              "    <tr>\n",
              "      <th>0</th>\n",
              "      <td>Male</td>\n",
              "      <td>19</td>\n",
              "      <td>19000</td>\n",
              "    </tr>\n",
              "    <tr>\n",
              "      <th>1</th>\n",
              "      <td>Male</td>\n",
              "      <td>35</td>\n",
              "      <td>20000</td>\n",
              "    </tr>\n",
              "    <tr>\n",
              "      <th>2</th>\n",
              "      <td>Female</td>\n",
              "      <td>26</td>\n",
              "      <td>43000</td>\n",
              "    </tr>\n",
              "    <tr>\n",
              "      <th>3</th>\n",
              "      <td>Female</td>\n",
              "      <td>27</td>\n",
              "      <td>57000</td>\n",
              "    </tr>\n",
              "    <tr>\n",
              "      <th>4</th>\n",
              "      <td>Male</td>\n",
              "      <td>19</td>\n",
              "      <td>76000</td>\n",
              "    </tr>\n",
              "  </tbody>\n",
              "</table>\n",
              "</div>"
            ],
            "text/plain": [
              "   Gender  Age  EstimatedSalary\n",
              "0    Male   19            19000\n",
              "1    Male   35            20000\n",
              "2  Female   26            43000\n",
              "3  Female   27            57000\n",
              "4    Male   19            76000"
            ]
          },
          "metadata": {
            "tags": []
          },
          "execution_count": 19
        }
      ]
    },
    {
      "cell_type": "code",
      "metadata": {
        "id": "0cm-AGhbDL2s",
        "colab_type": "code",
        "outputId": "de5e76a7-89cc-43d5-d434-0a8ca5e59f7e",
        "colab": {
          "base_uri": "https://localhost:8080/",
          "height": 68
        }
      },
      "source": [
        "y = df.Purchased\n",
        "y[:2]"
      ],
      "execution_count": 20,
      "outputs": [
        {
          "output_type": "execute_result",
          "data": {
            "text/plain": [
              "0    0\n",
              "1    0\n",
              "Name: Purchased, dtype: int64"
            ]
          },
          "metadata": {
            "tags": []
          },
          "execution_count": 20
        }
      ]
    },
    {
      "cell_type": "code",
      "metadata": {
        "id": "6jcI8FZ0aPIM",
        "colab_type": "code",
        "outputId": "e37e8e4c-837a-457b-f690-1b607e3305a1",
        "colab": {
          "base_uri": "https://localhost:8080/",
          "height": 80
        }
      },
      "source": [
        "X.head(1)"
      ],
      "execution_count": 21,
      "outputs": [
        {
          "output_type": "execute_result",
          "data": {
            "text/html": [
              "<div>\n",
              "<style scoped>\n",
              "    .dataframe tbody tr th:only-of-type {\n",
              "        vertical-align: middle;\n",
              "    }\n",
              "\n",
              "    .dataframe tbody tr th {\n",
              "        vertical-align: top;\n",
              "    }\n",
              "\n",
              "    .dataframe thead th {\n",
              "        text-align: right;\n",
              "    }\n",
              "</style>\n",
              "<table border=\"1\" class=\"dataframe\">\n",
              "  <thead>\n",
              "    <tr style=\"text-align: right;\">\n",
              "      <th></th>\n",
              "      <th>Gender</th>\n",
              "      <th>Age</th>\n",
              "      <th>EstimatedSalary</th>\n",
              "    </tr>\n",
              "  </thead>\n",
              "  <tbody>\n",
              "    <tr>\n",
              "      <th>0</th>\n",
              "      <td>Male</td>\n",
              "      <td>19</td>\n",
              "      <td>19000</td>\n",
              "    </tr>\n",
              "  </tbody>\n",
              "</table>\n",
              "</div>"
            ],
            "text/plain": [
              "  Gender  Age  EstimatedSalary\n",
              "0   Male   19            19000"
            ]
          },
          "metadata": {
            "tags": []
          },
          "execution_count": 21
        }
      ]
    },
    {
      "cell_type": "markdown",
      "metadata": {
        "id": "jCQdHP6RDeol",
        "colab_type": "text"
      },
      "source": [
        "## Dummy variable"
      ]
    },
    {
      "cell_type": "code",
      "metadata": {
        "id": "0rlpd_45NbB5",
        "colab_type": "code",
        "colab": {}
      },
      "source": [
        "ohe = MyDummyVariable()"
      ],
      "execution_count": 0,
      "outputs": []
    },
    {
      "cell_type": "code",
      "metadata": {
        "id": "IhG060fiNh39",
        "colab_type": "code",
        "outputId": "6d3e18cd-5bc4-4fe3-e4e1-461d5bef0cc4",
        "colab": {
          "base_uri": "https://localhost:8080/",
          "height": 51
        }
      },
      "source": [
        "X = ohe.fit_transform(X)\n",
        "X[:2]"
      ],
      "execution_count": 23,
      "outputs": [
        {
          "output_type": "execute_result",
          "data": {
            "text/plain": [
              "array([[1.0e+00, 1.9e+01, 1.9e+04],\n",
              "       [1.0e+00, 3.5e+01, 2.0e+04]])"
            ]
          },
          "metadata": {
            "tags": []
          },
          "execution_count": 23
        }
      ]
    },
    {
      "cell_type": "code",
      "metadata": {
        "id": "zeqs6PX3NraL",
        "colab_type": "code",
        "outputId": "8919162c-c75f-4b19-e2a8-082e972181c5",
        "colab": {
          "base_uri": "https://localhost:8080/",
          "height": 142
        }
      },
      "source": [
        "evaluation"
      ],
      "execution_count": 24,
      "outputs": [
        {
          "output_type": "execute_result",
          "data": {
            "text/html": [
              "<div>\n",
              "<style scoped>\n",
              "    .dataframe tbody tr th:only-of-type {\n",
              "        vertical-align: middle;\n",
              "    }\n",
              "\n",
              "    .dataframe tbody tr th {\n",
              "        vertical-align: top;\n",
              "    }\n",
              "\n",
              "    .dataframe thead th {\n",
              "        text-align: right;\n",
              "    }\n",
              "</style>\n",
              "<table border=\"1\" class=\"dataframe\">\n",
              "  <thead>\n",
              "    <tr style=\"text-align: right;\">\n",
              "      <th></th>\n",
              "      <th>User ID</th>\n",
              "      <th>Gender</th>\n",
              "      <th>Age</th>\n",
              "      <th>EstimatedSalary</th>\n",
              "      <th>Purchased</th>\n",
              "    </tr>\n",
              "  </thead>\n",
              "  <tbody>\n",
              "    <tr>\n",
              "      <th>130</th>\n",
              "      <td>15675185</td>\n",
              "      <td>Male</td>\n",
              "      <td>31</td>\n",
              "      <td>58000</td>\n",
              "      <td>0</td>\n",
              "    </tr>\n",
              "    <tr>\n",
              "      <th>74</th>\n",
              "      <td>15592877</td>\n",
              "      <td>Male</td>\n",
              "      <td>32</td>\n",
              "      <td>18000</td>\n",
              "      <td>0</td>\n",
              "    </tr>\n",
              "    <tr>\n",
              "      <th>84</th>\n",
              "      <td>15798659</td>\n",
              "      <td>Female</td>\n",
              "      <td>30</td>\n",
              "      <td>62000</td>\n",
              "      <td>0</td>\n",
              "    </tr>\n",
              "  </tbody>\n",
              "</table>\n",
              "</div>"
            ],
            "text/plain": [
              "      User ID  Gender  Age  EstimatedSalary  Purchased\n",
              "130  15675185    Male   31            58000          0\n",
              "74   15592877    Male   32            18000          0\n",
              "84   15798659  Female   30            62000          0"
            ]
          },
          "metadata": {
            "tags": []
          },
          "execution_count": 24
        }
      ]
    },
    {
      "cell_type": "code",
      "metadata": {
        "id": "ZHKJFBtVNyd6",
        "colab_type": "code",
        "outputId": "4e0c32f7-8f05-45d3-d5c8-cd4ed1cd7b4f",
        "colab": {
          "base_uri": "https://localhost:8080/",
          "height": 142
        }
      },
      "source": [
        "evaluation_X = evaluation.drop(['User ID', 'Purchased'], axis = 1)\n",
        "evaluation_X"
      ],
      "execution_count": 25,
      "outputs": [
        {
          "output_type": "execute_result",
          "data": {
            "text/html": [
              "<div>\n",
              "<style scoped>\n",
              "    .dataframe tbody tr th:only-of-type {\n",
              "        vertical-align: middle;\n",
              "    }\n",
              "\n",
              "    .dataframe tbody tr th {\n",
              "        vertical-align: top;\n",
              "    }\n",
              "\n",
              "    .dataframe thead th {\n",
              "        text-align: right;\n",
              "    }\n",
              "</style>\n",
              "<table border=\"1\" class=\"dataframe\">\n",
              "  <thead>\n",
              "    <tr style=\"text-align: right;\">\n",
              "      <th></th>\n",
              "      <th>Gender</th>\n",
              "      <th>Age</th>\n",
              "      <th>EstimatedSalary</th>\n",
              "    </tr>\n",
              "  </thead>\n",
              "  <tbody>\n",
              "    <tr>\n",
              "      <th>130</th>\n",
              "      <td>Male</td>\n",
              "      <td>31</td>\n",
              "      <td>58000</td>\n",
              "    </tr>\n",
              "    <tr>\n",
              "      <th>74</th>\n",
              "      <td>Male</td>\n",
              "      <td>32</td>\n",
              "      <td>18000</td>\n",
              "    </tr>\n",
              "    <tr>\n",
              "      <th>84</th>\n",
              "      <td>Female</td>\n",
              "      <td>30</td>\n",
              "      <td>62000</td>\n",
              "    </tr>\n",
              "  </tbody>\n",
              "</table>\n",
              "</div>"
            ],
            "text/plain": [
              "     Gender  Age  EstimatedSalary\n",
              "130    Male   31            58000\n",
              "74     Male   32            18000\n",
              "84   Female   30            62000"
            ]
          },
          "metadata": {
            "tags": []
          },
          "execution_count": 25
        }
      ]
    },
    {
      "cell_type": "code",
      "metadata": {
        "id": "joJ9rZ_UOHpn",
        "colab_type": "code",
        "outputId": "c05be9d1-db2c-40ac-fe7c-47ae297e899e",
        "colab": {
          "base_uri": "https://localhost:8080/",
          "height": 68
        }
      },
      "source": [
        "evaluation_X = ohe.transform(evaluation_X)\n",
        "evaluation_X"
      ],
      "execution_count": 26,
      "outputs": [
        {
          "output_type": "execute_result",
          "data": {
            "text/plain": [
              "array([[1.0e+00, 3.1e+01, 5.8e+04],\n",
              "       [1.0e+00, 3.2e+01, 1.8e+04],\n",
              "       [0.0e+00, 3.0e+01, 6.2e+04]])"
            ]
          },
          "metadata": {
            "tags": []
          },
          "execution_count": 26
        }
      ]
    },
    {
      "cell_type": "code",
      "metadata": {
        "id": "JVK9ZrH3N8U6",
        "colab_type": "code",
        "outputId": "ad61ccf7-0f64-4576-ec4b-0bea1f611074",
        "colab": {
          "base_uri": "https://localhost:8080/",
          "height": 85
        }
      },
      "source": [
        "evaluation_y = evaluation.Purchased\n",
        "evaluation_y"
      ],
      "execution_count": 27,
      "outputs": [
        {
          "output_type": "execute_result",
          "data": {
            "text/plain": [
              "130    0\n",
              "74     0\n",
              "84     0\n",
              "Name: Purchased, dtype: int64"
            ]
          },
          "metadata": {
            "tags": []
          },
          "execution_count": 27
        }
      ]
    },
    {
      "cell_type": "markdown",
      "metadata": {
        "id": "-Kb6pfWQBx7k",
        "colab_type": "text"
      },
      "source": [
        "### for Better visualisation of our predictive model we are dropping Gender Column\n",
        "so"
      ]
    },
    {
      "cell_type": "code",
      "metadata": {
        "id": "q0P-D7TQB5vZ",
        "colab_type": "code",
        "outputId": "d3029bf8-354d-40c0-b8fc-4441ef5f0fbe",
        "colab": {
          "base_uri": "https://localhost:8080/",
          "height": 34
        }
      },
      "source": [
        "X = X[:, 1:]\n",
        "evaluation_X = evaluation_X[:, 1:]\n",
        "X.shape, evaluation_X.shape"
      ],
      "execution_count": 28,
      "outputs": [
        {
          "output_type": "execute_result",
          "data": {
            "text/plain": [
              "((397, 2), (3, 2))"
            ]
          },
          "metadata": {
            "tags": []
          },
          "execution_count": 28
        }
      ]
    },
    {
      "cell_type": "markdown",
      "metadata": {
        "id": "1GiZai1nAWPm",
        "colab_type": "text"
      },
      "source": [
        "#Visualisation"
      ]
    },
    {
      "cell_type": "code",
      "metadata": {
        "id": "LXWKZLk-AYQJ",
        "colab_type": "code",
        "colab": {}
      },
      "source": [
        "import seaborn as sns"
      ],
      "execution_count": 0,
      "outputs": []
    },
    {
      "cell_type": "code",
      "metadata": {
        "id": "3LVSWUBcAm-E",
        "colab_type": "code",
        "outputId": "301351f3-f74d-496d-c181-368be227a19c",
        "colab": {
          "base_uri": "https://localhost:8080/",
          "height": 34
        }
      },
      "source": [
        "df.columns"
      ],
      "execution_count": 30,
      "outputs": [
        {
          "output_type": "execute_result",
          "data": {
            "text/plain": [
              "Index(['User ID', 'Gender', 'Age', 'EstimatedSalary', 'Purchased'], dtype='object')"
            ]
          },
          "metadata": {
            "tags": []
          },
          "execution_count": 30
        }
      ]
    },
    {
      "cell_type": "code",
      "metadata": {
        "id": "3xARZ_nDAZpH",
        "colab_type": "code",
        "outputId": "e162e414-f45b-4567-c8a1-464410d174cb",
        "colab": {
          "base_uri": "https://localhost:8080/",
          "height": 300
        }
      },
      "source": [
        "sns.distplot(df.EstimatedSalary, bins = 20)"
      ],
      "execution_count": 31,
      "outputs": [
        {
          "output_type": "execute_result",
          "data": {
            "text/plain": [
              "<matplotlib.axes._subplots.AxesSubplot at 0x7fa92ea4c668>"
            ]
          },
          "metadata": {
            "tags": []
          },
          "execution_count": 31
        },
        {
          "output_type": "display_data",
          "data": {
            "image/png": "[encoded data removed]",
            "text/plain": [
              "<Figure size 432x288 with 1 Axes>"
            ]
          },
          "metadata": {
            "tags": []
          }
        }
      ]
    },
    {
      "cell_type": "code",
      "metadata": {
        "id": "tj5du8mqA0Zh",
        "colab_type": "code",
        "outputId": "1a4783e0-42d8-4270-ad5a-6f7d04ec8361",
        "colab": {
          "base_uri": "https://localhost:8080/",
          "height": 272
        }
      },
      "source": [
        "sns.boxplot(x = 'EstimatedSalary', orient = 'vertical', hue = 'Gender', data = df)"
      ],
      "execution_count": 32,
      "outputs": [
        {
          "output_type": "execute_result",
          "data": {
            "text/plain": [
              "<matplotlib.axes._subplots.AxesSubplot at 0x7fa92e97b4a8>"
            ]
          },
          "metadata": {
            "tags": []
          },
          "execution_count": 32
        },
        {
          "output_type": "display_data",
          "data": {
            "image/png": "[encoded data removed]",
            "text/plain": [
              "<Figure size 432x288 with 1 Axes>"
            ]
          },
          "metadata": {
            "tags": []
          }
        }
      ]
    },
    {
      "cell_type": "code",
      "metadata": {
        "id": "ih2ZGtJ0BzDd",
        "colab_type": "code",
        "outputId": "d233d409-b61b-4248-d3bd-d4226a26d0a2",
        "colab": {
          "base_uri": "https://localhost:8080/",
          "height": 272
        }
      },
      "source": [
        "sns.boxplot(x = 'Age', orient = 'vertical', data = df)"
      ],
      "execution_count": 33,
      "outputs": [
        {
          "output_type": "execute_result",
          "data": {
            "text/plain": [
              "<matplotlib.axes._subplots.AxesSubplot at 0x7fa92e9860f0>"
            ]
          },
          "metadata": {
            "tags": []
          },
          "execution_count": 33
        },
        {
          "output_type": "display_data",
          "data": {
            "image/png": "[encoded data removed]",
            "text/plain": [
              "<Figure size 432x288 with 1 Axes>"
            ]
          },
          "metadata": {
            "tags": []
          }
        }
      ]
    },
    {
      "cell_type": "markdown",
      "metadata": {
        "id": "XqoI5A46CAZ8",
        "colab_type": "text"
      },
      "source": [
        "#Build Model"
      ]
    },
    {
      "cell_type": "code",
      "metadata": {
        "id": "tQoAbCMGOFjl",
        "colab_type": "code",
        "colab": {}
      },
      "source": [
        "from sklearn.neighbors import KNeighborsClassifier"
      ],
      "execution_count": 0,
      "outputs": []
    },
    {
      "cell_type": "code",
      "metadata": {
        "id": "qbM0ONyvCXSo",
        "colab_type": "code",
        "colab": {}
      },
      "source": [
        "from sklearn.model_selection import train_test_split"
      ],
      "execution_count": 0,
      "outputs": []
    },
    {
      "cell_type": "code",
      "metadata": {
        "id": "0YdI9QdICa0i",
        "colab_type": "code",
        "outputId": "81f7ae9e-dd83-443c-984b-572de0ee483d",
        "colab": {
          "base_uri": "https://localhost:8080/",
          "height": 34
        }
      },
      "source": [
        "X_train, X_test, y_train, y_test = train_test_split(X, y, test_size = .2, random_state  = 0)\n",
        "X_train.shape, X_test.shape, y_train.shape, y_test.shape"
      ],
      "execution_count": 36,
      "outputs": [
        {
          "output_type": "execute_result",
          "data": {
            "text/plain": [
              "((317, 2), (80, 2), (317,), (80,))"
            ]
          },
          "metadata": {
            "tags": []
          },
          "execution_count": 36
        }
      ]
    },
    {
      "cell_type": "markdown",
      "metadata": {
        "id": "HHsGc9rM-035",
        "colab_type": "text"
      },
      "source": [
        "##Feature scaling for accurate prediction"
      ]
    },
    {
      "cell_type": "code",
      "metadata": {
        "id": "4VdXBHeo-6HX",
        "colab_type": "code",
        "colab": {}
      },
      "source": [
        "from sklearn.preprocessing import StandardScaler"
      ],
      "execution_count": 0,
      "outputs": []
    },
    {
      "cell_type": "code",
      "metadata": {
        "id": "sZCiUTeU--tj",
        "colab_type": "code",
        "outputId": "852078ee-0ead-49d3-8090-60b31a89404b",
        "colab": {
          "base_uri": "https://localhost:8080/",
          "height": 51
        }
      },
      "source": [
        "sc_X = StandardScaler()\n",
        "X_train = sc_X.fit_transform(X_train)\n",
        "X_train[:2]"
      ],
      "execution_count": 38,
      "outputs": [
        {
          "output_type": "execute_result",
          "data": {
            "text/plain": [
              "array([[ 2.02258636,  0.37462063],\n",
              "       [-1.32825666, -0.44016318]])"
            ]
          },
          "metadata": {
            "tags": []
          },
          "execution_count": 38
        }
      ]
    },
    {
      "cell_type": "code",
      "metadata": {
        "id": "O2xwk0ta_cJW",
        "colab_type": "code",
        "outputId": "450624a8-cc3e-4921-a545-4d9f4ff37e46",
        "colab": {
          "base_uri": "https://localhost:8080/",
          "height": 34
        }
      },
      "source": [
        "X_test = sc_X.transform(X_test)\n",
        "X_test[0]"
      ],
      "execution_count": 39,
      "outputs": [
        {
          "output_type": "execute_result",
          "data": {
            "text/plain": [
              "array([-1.32825666, -0.35286491])"
            ]
          },
          "metadata": {
            "tags": []
          },
          "execution_count": 39
        }
      ]
    },
    {
      "cell_type": "code",
      "metadata": {
        "id": "9lJFaERvCC1D",
        "colab_type": "code",
        "outputId": "06818f5f-eac8-4e8c-ac4a-d36692a57451",
        "colab": {
          "base_uri": "https://localhost:8080/",
          "height": 68
        }
      },
      "source": [
        "model = KNeighborsClassifier(n_neighbors = 5)\n",
        "model.fit(X_train, y_train)"
      ],
      "execution_count": 40,
      "outputs": [
        {
          "output_type": "execute_result",
          "data": {
            "text/plain": [
              "KNeighborsClassifier(algorithm='auto', leaf_size=30, metric='minkowski',\n",
              "                     metric_params=None, n_jobs=None, n_neighbors=5, p=2,\n",
              "                     weights='uniform')"
            ]
          },
          "metadata": {
            "tags": []
          },
          "execution_count": 40
        }
      ]
    },
    {
      "cell_type": "code",
      "metadata": {
        "id": "5JG8381ZFNZ0",
        "colab_type": "code",
        "colab": {}
      },
      "source": [
        "from sklearn.metrics import classification_report, confusion_matrix"
      ],
      "execution_count": 0,
      "outputs": []
    },
    {
      "cell_type": "markdown",
      "metadata": {
        "id": "evdpOZocGd5x",
        "colab_type": "text"
      },
      "source": [
        "## Training dataset evaluation"
      ]
    },
    {
      "cell_type": "code",
      "metadata": {
        "id": "Z-AYRejMFrYR",
        "colab_type": "code",
        "outputId": "d3f0b267-7d3b-4252-bd23-f3b9f92de7b8",
        "colab": {
          "base_uri": "https://localhost:8080/",
          "height": 170
        }
      },
      "source": [
        "#training classification report\n",
        "\n",
        "print(classification_report(y_train, model.predict(X_train)))"
      ],
      "execution_count": 42,
      "outputs": [
        {
          "output_type": "stream",
          "text": [
            "              precision    recall  f1-score   support\n",
            "\n",
            "           0       0.95      0.91      0.93       202\n",
            "           1       0.85      0.91      0.88       115\n",
            "\n",
            "    accuracy                           0.91       317\n",
            "   macro avg       0.90      0.91      0.91       317\n",
            "weighted avg       0.91      0.91      0.91       317\n",
            "\n"
          ],
          "name": "stdout"
        }
      ]
    },
    {
      "cell_type": "code",
      "metadata": {
        "id": "0WJik-8DF1lt",
        "colab_type": "code",
        "outputId": "f337d7d4-50ea-454c-e087-ba6409d7c9c2",
        "colab": {
          "base_uri": "https://localhost:8080/",
          "height": 51
        }
      },
      "source": [
        "#confusion matrix\n",
        "confusion_matrix(y_train, model.predict(X_train))"
      ],
      "execution_count": 43,
      "outputs": [
        {
          "output_type": "execute_result",
          "data": {
            "text/plain": [
              "array([[184,  18],\n",
              "       [ 10, 105]])"
            ]
          },
          "metadata": {
            "tags": []
          },
          "execution_count": 43
        }
      ]
    },
    {
      "cell_type": "markdown",
      "metadata": {
        "id": "Mkqr66w0Grj4",
        "colab_type": "text"
      },
      "source": [
        "## Test set evaluation"
      ]
    },
    {
      "cell_type": "code",
      "metadata": {
        "id": "n92LR1GbGwhi",
        "colab_type": "code",
        "outputId": "5c345512-fe7a-4d43-d1d5-3403b5daad2a",
        "colab": {
          "base_uri": "https://localhost:8080/",
          "height": 170
        }
      },
      "source": [
        "print(classification_report(y_test, model.predict(X_test)))"
      ],
      "execution_count": 44,
      "outputs": [
        {
          "output_type": "stream",
          "text": [
            "              precision    recall  f1-score   support\n",
            "\n",
            "           0       0.98      0.92      0.95        52\n",
            "           1       0.87      0.96      0.92        28\n",
            "\n",
            "    accuracy                           0.94        80\n",
            "   macro avg       0.93      0.94      0.93        80\n",
            "weighted avg       0.94      0.94      0.94        80\n",
            "\n"
          ],
          "name": "stdout"
        }
      ]
    },
    {
      "cell_type": "code",
      "metadata": {
        "id": "_K4q11gRG2tg",
        "colab_type": "code",
        "outputId": "c8fc1edc-b2c9-4c6c-f549-9ebf5a1601d8",
        "colab": {
          "base_uri": "https://localhost:8080/",
          "height": 51
        }
      },
      "source": [
        "confusion_matrix(y_test, model.predict(X_test))"
      ],
      "execution_count": 45,
      "outputs": [
        {
          "output_type": "execute_result",
          "data": {
            "text/plain": [
              "array([[48,  4],\n",
              "       [ 1, 27]])"
            ]
          },
          "metadata": {
            "tags": []
          },
          "execution_count": 45
        }
      ]
    },
    {
      "cell_type": "markdown",
      "metadata": {
        "id": "q0_fFENzCobH",
        "colab_type": "text"
      },
      "source": [
        "#Visualise our model"
      ]
    },
    {
      "cell_type": "code",
      "metadata": {
        "id": "fiAR1nmND8_E",
        "colab_type": "code",
        "outputId": "5eaf57be-729f-4422-ece6-27fe8965ed62",
        "colab": {
          "base_uri": "https://localhost:8080/",
          "height": 661
        }
      },
      "source": [
        "import warnings\n",
        "warnings.filterwarnings(action = 'ignore')\n",
        "visualise_classifier_performance(X_train, X_test, y_train, y_test, model)"
      ],
      "execution_count": 46,
      "outputs": [
        {
          "output_type": "stream",
          "text": [
            "'c' argument looks like a single numeric RGB or RGBA sequence, which should be avoided as value-mapping will have precedence in case its length matches with 'x' & 'y'.  Please use a 2-D array with a single row if you really want to specify the same RGB or RGBA value for all points.\n",
            "'c' argument looks like a single numeric RGB or RGBA sequence, which should be avoided as value-mapping will have precedence in case its length matches with 'x' & 'y'.  Please use a 2-D array with a single row if you really want to specify the same RGB or RGBA value for all points.\n"
          ],
          "name": "stderr"
        },
        {
          "output_type": "display_data",
          "data": {
            "image/png": "[encoded data removed]",
            "text/plain": [
              "<Figure size 432x288 with 1 Axes>"
            ]
          },
          "metadata": {
            "tags": []
          }
        },
        {
          "output_type": "stream",
          "text": [
            "'c' argument looks like a single numeric RGB or RGBA sequence, which should be avoided as value-mapping will have precedence in case its length matches with 'x' & 'y'.  Please use a 2-D array with a single row if you really want to specify the same RGB or RGBA value for all points.\n",
            "'c' argument looks like a single numeric RGB or RGBA sequence, which should be avoided as value-mapping will have precedence in case its length matches with 'x' & 'y'.  Please use a 2-D array with a single row if you really want to specify the same RGB or RGBA value for all points.\n"
          ],
          "name": "stderr"
        },
        {
          "output_type": "display_data",
          "data": {
            "image/png": "[encoded data removed]",
            "text/plain": [
              "<Figure size 432x288 with 1 Axes>"
            ]
          },
          "metadata": {
            "tags": []
          }
        }
      ]
    },
    {
      "cell_type": "code",
      "metadata": {
        "id": "Dac1Co2tBbb7",
        "colab_type": "code",
        "colab": {}
      },
      "source": [
        ""
      ],
      "execution_count": 0,
      "outputs": []
    }
  ]
}