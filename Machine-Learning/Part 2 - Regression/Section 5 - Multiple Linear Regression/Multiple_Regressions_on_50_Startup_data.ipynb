{
  "nbformat": 4,
  "nbformat_minor": 0,
  "metadata": {
    "colab": {
      "name": "Multiple Regressions on 50 Startup data.ipynb",
      "provenance": [],
      "collapsed_sections": [],
      "include_colab_link": true
    },
    "kernelspec": {
      "name": "python3",
      "display_name": "Python 3"
    }
  },
  "cells": [
    {
      "cell_type": "markdown",
      "metadata": {
        "id": "view-in-github",
        "colab_type": "text"
      },
      "source": [
        "<a href=\"https://colab.research.google.com/github/noushadkhan01/ML-and-DL-by-SuperDataScience/blob/master/Machine-Learning/Part%202%20-%20Regression/Section%205%20-%20Multiple%20Linear%20Regression/Multiple_Regressions_on_50_Startup_data.ipynb\" target=\"_parent\"><img src=\"https://colab.research.google.com/assets/colab-badge.svg\" alt=\"Open In Colab\"/></a>"
      ]
    },
    {
      "cell_type": "code",
      "metadata": {
        "id": "DtW10oavLtrs",
        "colab_type": "code",
        "outputId": "71c5aa55-fddc-483f-d696-cf739aa4b99d",
        "colab": {
          "base_uri": "https://localhost:8080/",
          "height": 141
        }
      },
      "source": [
        "!git clone https://github.com/noushadkhan01/ML-and-DL-by-SuperDataScience.git"
      ],
      "execution_count": 1,
      "outputs": [
        {
          "output_type": "stream",
          "text": [
            "Cloning into 'ML-and-DL-by-SuperDataScience'...\n",
            "remote: Enumerating objects: 12, done.\u001b[K\n",
            "remote: Counting objects:   8% (1/12)\u001b[K\rremote: Counting objects:  16% (2/12)\u001b[K\rremote: Counting objects:  25% (3/12)\u001b[K\rremote: Counting objects:  33% (4/12)\u001b[K\rremote: Counting objects:  41% (5/12)\u001b[K\rremote: Counting objects:  50% (6/12)\u001b[K\rremote: Counting objects:  58% (7/12)\u001b[K\rremote: Counting objects:  66% (8/12)\u001b[K\rremote: Counting objects:  75% (9/12)\u001b[K\rremote: Counting objects:  83% (10/12)\u001b[K\rremote: Counting objects:  91% (11/12)\u001b[K\rremote: Counting objects: 100% (12/12)\u001b[K\rremote: Counting objects: 100% (12/12), done.\u001b[K\n",
            "remote: Compressing objects:   8% (1/12)\u001b[K\rremote: Compressing objects:  16% (2/12)\u001b[K\rremote: Compressing objects:  25% (3/12)\u001b[K\rremote: Compressing objects:  33% (4/12)\u001b[K\rremote: Compressing objects:  41% (5/12)\u001b[K\rremote: Compressing objects:  50% (6/12)\u001b[K\rremote: Compressing objects:  58% (7/12)\u001b[K\rremote: Compressing objects:  66% (8/12)\u001b[K\rremote: Compressing objects:  75% (9/12)\u001b[K\rremote: Compressing objects:  83% (10/12)\u001b[K\rremote: Compressing objects:  91% (11/12)\u001b[K\rremote: Compressing objects: 100% (12/12)\u001b[K\rremote: Compressing objects: 100% (12/12), done.\u001b[K\n",
            "Receiving objects:   0% (1/478)   \rReceiving objects:   1% (5/478)   \rReceiving objects:   2% (10/478)   \rReceiving objects:   3% (15/478)   \rReceiving objects:   4% (20/478)   \rReceiving objects:   5% (24/478)   \rReceiving objects:   6% (29/478)   \rReceiving objects:   7% (34/478)   \rReceiving objects:   8% (39/478)   \rReceiving objects:   9% (44/478)   \rReceiving objects:  10% (48/478)   \rReceiving objects:  11% (53/478)   \rReceiving objects:  12% (58/478)   \rReceiving objects:  13% (63/478)   \rReceiving objects:  14% (67/478)   \rReceiving objects:  15% (72/478)   \rReceiving objects:  16% (77/478)   \rReceiving objects:  17% (82/478)   \rReceiving objects:  18% (87/478)   \rReceiving objects:  19% (91/478)   \rReceiving objects:  20% (96/478)   \rReceiving objects:  21% (101/478)   \rReceiving objects:  22% (106/478)   \rReceiving objects:  23% (110/478)   \rReceiving objects:  24% (115/478)   \rReceiving objects:  25% (120/478)   \rReceiving objects:  26% (125/478), 11.04 MiB | 22.08 MiB/s   \rReceiving objects:  27% (130/478), 11.04 MiB | 22.08 MiB/s   \rReceiving objects:  28% (134/478), 11.04 MiB | 22.08 MiB/s   \rReceiving objects:  29% (139/478), 11.04 MiB | 22.08 MiB/s   \rReceiving objects:  30% (144/478), 11.04 MiB | 22.08 MiB/s   \rReceiving objects:  31% (149/478), 11.04 MiB | 22.08 MiB/s   \rReceiving objects:  32% (153/478), 11.04 MiB | 22.08 MiB/s   \rReceiving objects:  33% (158/478), 11.04 MiB | 22.08 MiB/s   \rReceiving objects:  34% (163/478), 11.04 MiB | 22.08 MiB/s   \rReceiving objects:  35% (168/478), 11.04 MiB | 22.08 MiB/s   \rReceiving objects:  36% (173/478), 11.04 MiB | 22.08 MiB/s   \rReceiving objects:  37% (177/478), 11.04 MiB | 22.08 MiB/s   \rReceiving objects:  38% (182/478), 11.04 MiB | 22.08 MiB/s   \rReceiving objects:  38% (185/478), 22.34 MiB | 22.33 MiB/s   \rReceiving objects:  39% (187/478), 22.34 MiB | 22.33 MiB/s   \rReceiving objects:  40% (192/478), 22.34 MiB | 22.33 MiB/s   \rReceiving objects:  41% (196/478), 22.34 MiB | 22.33 MiB/s   \rReceiving objects:  42% (201/478), 22.34 MiB | 22.33 MiB/s   \rReceiving objects:  43% (206/478), 22.34 MiB | 22.33 MiB/s   \rReceiving objects:  44% (211/478), 22.34 MiB | 22.33 MiB/s   \rReceiving objects:  45% (216/478), 22.34 MiB | 22.33 MiB/s   \rReceiving objects:  46% (220/478), 22.34 MiB | 22.33 MiB/s   \rReceiving objects:  47% (225/478), 22.34 MiB | 22.33 MiB/s   \rReceiving objects:  48% (230/478), 22.34 MiB | 22.33 MiB/s   \rReceiving objects:  49% (235/478), 22.34 MiB | 22.33 MiB/s   \rReceiving objects:  50% (239/478), 22.34 MiB | 22.33 MiB/s   \rReceiving objects:  51% (244/478), 22.34 MiB | 22.33 MiB/s   \rReceiving objects:  52% (249/478), 22.34 MiB | 22.33 MiB/s   \rReceiving objects:  53% (254/478), 22.34 MiB | 22.33 MiB/s   \rReceiving objects:  54% (259/478), 22.34 MiB | 22.33 MiB/s   \rReceiving objects:  55% (263/478), 22.34 MiB | 22.33 MiB/s   \rReceiving objects:  56% (268/478), 22.34 MiB | 22.33 MiB/s   \rReceiving objects:  57% (273/478), 22.34 MiB | 22.33 MiB/s   \rReceiving objects:  58% (278/478), 22.34 MiB | 22.33 MiB/s   \rReceiving objects:  59% (283/478), 22.34 MiB | 22.33 MiB/s   \rReceiving objects:  60% (287/478), 22.34 MiB | 22.33 MiB/s   \rReceiving objects:  61% (292/478), 22.34 MiB | 22.33 MiB/s   \rReceiving objects:  62% (297/478), 22.34 MiB | 22.33 MiB/s   \rReceiving objects:  63% (302/478), 22.34 MiB | 22.33 MiB/s   \rReceiving objects:  64% (306/478), 22.34 MiB | 22.33 MiB/s   \rReceiving objects:  65% (311/478), 22.34 MiB | 22.33 MiB/s   \rReceiving objects:  66% (316/478), 22.34 MiB | 22.33 MiB/s   \rReceiving objects:  67% (321/478), 22.34 MiB | 22.33 MiB/s   \rReceiving objects:  68% (326/478), 22.34 MiB | 22.33 MiB/s   \rReceiving objects:  69% (330/478), 22.34 MiB | 22.33 MiB/s   \rReceiving objects:  70% (335/478), 22.34 MiB | 22.33 MiB/s   \rReceiving objects:  71% (340/478), 22.34 MiB | 22.33 MiB/s   \rReceiving objects:  72% (345/478), 22.34 MiB | 22.33 MiB/s   \rReceiving objects:  73% (349/478), 22.34 MiB | 22.33 MiB/s   \rReceiving objects:  74% (354/478), 22.34 MiB | 22.33 MiB/s   \rReceiving objects:  75% (359/478), 22.34 MiB | 22.33 MiB/s   \rReceiving objects:  76% (364/478), 22.34 MiB | 22.33 MiB/s   \rReceiving objects:  77% (369/478), 22.34 MiB | 22.33 MiB/s   \rReceiving objects:  78% (373/478), 22.34 MiB | 22.33 MiB/s   \rReceiving objects:  79% (378/478), 22.34 MiB | 22.33 MiB/s   \rReceiving objects:  80% (383/478), 22.34 MiB | 22.33 MiB/s   \rReceiving objects:  81% (388/478), 22.34 MiB | 22.33 MiB/s   \rReceiving objects:  82% (392/478), 22.34 MiB | 22.33 MiB/s   \rReceiving objects:  83% (397/478), 22.34 MiB | 22.33 MiB/s   \rReceiving objects:  84% (402/478), 22.34 MiB | 22.33 MiB/s   \rReceiving objects:  85% (407/478), 22.34 MiB | 22.33 MiB/s   \rReceiving objects:  86% (412/478), 22.34 MiB | 22.33 MiB/s   \rReceiving objects:  87% (416/478), 22.34 MiB | 22.33 MiB/s   \rReceiving objects:  88% (421/478), 22.34 MiB | 22.33 MiB/s   \rReceiving objects:  89% (426/478), 22.34 MiB | 22.33 MiB/s   \rReceiving objects:  90% (431/478), 22.34 MiB | 22.33 MiB/s   \rReceiving objects:  91% (435/478), 22.34 MiB | 22.33 MiB/s   \rReceiving objects:  92% (440/478), 22.34 MiB | 22.33 MiB/s   \rReceiving objects:  93% (445/478), 22.34 MiB | 22.33 MiB/s   \rReceiving objects:  94% (450/478), 22.34 MiB | 22.33 MiB/s   \rReceiving objects:  95% (455/478), 22.34 MiB | 22.33 MiB/s   \rReceiving objects:  96% (459/478), 22.34 MiB | 22.33 MiB/s   \rReceiving objects:  97% (464/478), 22.34 MiB | 22.33 MiB/s   \rReceiving objects:  98% (469/478), 22.34 MiB | 22.33 MiB/s   \rremote: Total 478 (delta 5), reused 0 (delta 0), pack-reused 466\u001b[K\n",
            "Receiving objects:  99% (474/478), 22.34 MiB | 22.33 MiB/s   \rReceiving objects: 100% (478/478), 22.34 MiB | 22.33 MiB/s   \rReceiving objects: 100% (478/478), 28.20 MiB | 24.47 MiB/s, done.\n",
            "Resolving deltas:   0% (0/206)   \rResolving deltas:   1% (4/206)   \rResolving deltas:   2% (6/206)   \rResolving deltas:   5% (11/206)   \rResolving deltas:   7% (15/206)   \rResolving deltas:  10% (22/206)   \rResolving deltas:  11% (23/206)   \rResolving deltas:  28% (59/206)   \rResolving deltas:  29% (61/206)   \rResolving deltas:  30% (62/206)   \rResolving deltas:  36% (75/206)   \rResolving deltas:  38% (79/206)   \rResolving deltas:  39% (81/206)   \rResolving deltas:  40% (84/206)   \rResolving deltas:  46% (96/206)   \rResolving deltas:  47% (97/206)   \rResolving deltas:  48% (99/206)   \rResolving deltas:  50% (104/206)   \rResolving deltas:  52% (108/206)   \rResolving deltas:  53% (110/206)   \rResolving deltas:  56% (116/206)   \rResolving deltas:  58% (120/206)   \rResolving deltas:  59% (122/206)   \rResolving deltas:  66% (137/206)   \rResolving deltas:  70% (146/206)   \rResolving deltas:  72% (150/206)   \rResolving deltas:  73% (152/206)   \rResolving deltas:  74% (154/206)   \rResolving deltas:  75% (155/206)   \rResolving deltas:  76% (157/206)   \rResolving deltas:  78% (161/206)   \rResolving deltas:  80% (165/206)   \rResolving deltas:  81% (168/206)   \rResolving deltas:  82% (169/206)   \rResolving deltas:  83% (171/206)   \rResolving deltas:  86% (178/206)   \rResolving deltas:  88% (183/206)   \rResolving deltas:  89% (185/206)   \rResolving deltas:  92% (191/206)   \rResolving deltas:  93% (192/206)   \rResolving deltas:  95% (197/206)   \rResolving deltas:  96% (199/206)   \rResolving deltas:  97% (200/206)   \rResolving deltas:  98% (202/206)   \rResolving deltas:  99% (204/206)   \rResolving deltas: 100% (206/206)   \rResolving deltas: 100% (206/206), done.\n"
          ],
          "name": "stdout"
        }
      ]
    },
    {
      "cell_type": "code",
      "metadata": {
        "id": "tQIGRV4WMD52",
        "colab_type": "code",
        "outputId": "f60ecfa8-3f12-494c-fb81-cc4d745d07b9",
        "colab": {
          "base_uri": "https://localhost:8080/",
          "height": 34
        }
      },
      "source": [
        "%cd ML-and-DL-by-SuperDataScience/Machine-Learning/Part 2 - Regression/Section 5 - Multiple Linear Regression/"
      ],
      "execution_count": 2,
      "outputs": [
        {
          "output_type": "stream",
          "text": [
            "/content/ML-and-DL-by-SuperDataScience/Machine-Learning/Part 2 - Regression/Section 5 - Multiple Linear Regression\n"
          ],
          "name": "stdout"
        }
      ]
    },
    {
      "cell_type": "code",
      "metadata": {
        "id": "_0Heki7FMTD3",
        "colab_type": "code",
        "outputId": "1ff6395d-72ee-4eb4-9586-c68399031e38",
        "colab": {
          "base_uri": "https://localhost:8080/",
          "height": 70
        }
      },
      "source": [
        "!ls"
      ],
      "execution_count": 3,
      "outputs": [
        {
          "output_type": "stream",
          "text": [
            "50_Startups.csv\t\t\tmultiple_linear_regression.py\n",
            "data_preprocessing_template.py\tmultiple_linear_regression.R\n",
            "data_preprocessing_template.R\tMultiple_Regressions_on_50_Startup_data.ipynb\n"
          ],
          "name": "stdout"
        }
      ]
    },
    {
      "cell_type": "code",
      "metadata": {
        "id": "j2jgztRJMT5N",
        "colab_type": "code",
        "colab": {}
      },
      "source": [
        "import pandas as pd\n",
        "import matplotlib.pyplot as plt\n",
        "import seaborn as sns\n",
        "import numpy as np\n",
        "%matplotlib inline"
      ],
      "execution_count": 0,
      "outputs": []
    },
    {
      "cell_type": "code",
      "metadata": {
        "id": "nBSsz2yVMgLv",
        "colab_type": "code",
        "outputId": "18e0ee5f-a467-4e16-b32d-e5d9d327099a",
        "colab": {
          "base_uri": "https://localhost:8080/",
          "height": 197
        }
      },
      "source": [
        "df = pd.read_csv('50_Startups.csv')\n",
        "df.head()"
      ],
      "execution_count": 5,
      "outputs": [
        {
          "output_type": "execute_result",
          "data": {
            "text/html": [
              "<div>\n",
              "<style scoped>\n",
              "    .dataframe tbody tr th:only-of-type {\n",
              "        vertical-align: middle;\n",
              "    }\n",
              "\n",
              "    .dataframe tbody tr th {\n",
              "        vertical-align: top;\n",
              "    }\n",
              "\n",
              "    .dataframe thead th {\n",
              "        text-align: right;\n",
              "    }\n",
              "</style>\n",
              "<table border=\"1\" class=\"dataframe\">\n",
              "  <thead>\n",
              "    <tr style=\"text-align: right;\">\n",
              "      <th></th>\n",
              "      <th>R&amp;D Spend</th>\n",
              "      <th>Administration</th>\n",
              "      <th>Marketing Spend</th>\n",
              "      <th>State</th>\n",
              "      <th>Profit</th>\n",
              "    </tr>\n",
              "  </thead>\n",
              "  <tbody>\n",
              "    <tr>\n",
              "      <th>0</th>\n",
              "      <td>165349.20</td>\n",
              "      <td>136897.80</td>\n",
              "      <td>471784.10</td>\n",
              "      <td>New York</td>\n",
              "      <td>192261.83</td>\n",
              "    </tr>\n",
              "    <tr>\n",
              "      <th>1</th>\n",
              "      <td>162597.70</td>\n",
              "      <td>151377.59</td>\n",
              "      <td>443898.53</td>\n",
              "      <td>California</td>\n",
              "      <td>191792.06</td>\n",
              "    </tr>\n",
              "    <tr>\n",
              "      <th>2</th>\n",
              "      <td>153441.51</td>\n",
              "      <td>101145.55</td>\n",
              "      <td>407934.54</td>\n",
              "      <td>Florida</td>\n",
              "      <td>191050.39</td>\n",
              "    </tr>\n",
              "    <tr>\n",
              "      <th>3</th>\n",
              "      <td>144372.41</td>\n",
              "      <td>118671.85</td>\n",
              "      <td>383199.62</td>\n",
              "      <td>New York</td>\n",
              "      <td>182901.99</td>\n",
              "    </tr>\n",
              "    <tr>\n",
              "      <th>4</th>\n",
              "      <td>142107.34</td>\n",
              "      <td>91391.77</td>\n",
              "      <td>366168.42</td>\n",
              "      <td>Florida</td>\n",
              "      <td>166187.94</td>\n",
              "    </tr>\n",
              "  </tbody>\n",
              "</table>\n",
              "</div>"
            ],
            "text/plain": [
              "   R&D Spend  Administration  Marketing Spend       State     Profit\n",
              "0  165349.20       136897.80        471784.10    New York  192261.83\n",
              "1  162597.70       151377.59        443898.53  California  191792.06\n",
              "2  153441.51       101145.55        407934.54     Florida  191050.39\n",
              "3  144372.41       118671.85        383199.62    New York  182901.99\n",
              "4  142107.34        91391.77        366168.42     Florida  166187.94"
            ]
          },
          "metadata": {
            "tags": []
          },
          "execution_count": 5
        }
      ]
    },
    {
      "cell_type": "markdown",
      "metadata": {
        "id": "g8r4ELBf71IJ",
        "colab_type": "text"
      },
      "source": [
        "## Evaluation Set"
      ]
    },
    {
      "cell_type": "code",
      "metadata": {
        "id": "80KN6aTM73sD",
        "colab_type": "code",
        "outputId": "6718ba6a-299a-485e-fddc-7a9ca90bb23a",
        "colab": {
          "base_uri": "https://localhost:8080/",
          "height": 107
        }
      },
      "source": [
        "np.random.seed(2)\n",
        "l = 2 #no of rows we need\n",
        "evaluation = df.loc[np.random.randint(0, len(df), l)]\n",
        "evaluation"
      ],
      "execution_count": 7,
      "outputs": [
        {
          "output_type": "execute_result",
          "data": {
            "text/html": [
              "<div>\n",
              "<style scoped>\n",
              "    .dataframe tbody tr th:only-of-type {\n",
              "        vertical-align: middle;\n",
              "    }\n",
              "\n",
              "    .dataframe tbody tr th {\n",
              "        vertical-align: top;\n",
              "    }\n",
              "\n",
              "    .dataframe thead th {\n",
              "        text-align: right;\n",
              "    }\n",
              "</style>\n",
              "<table border=\"1\" class=\"dataframe\">\n",
              "  <thead>\n",
              "    <tr style=\"text-align: right;\">\n",
              "      <th></th>\n",
              "      <th>R&amp;D Spend</th>\n",
              "      <th>Administration</th>\n",
              "      <th>Marketing Spend</th>\n",
              "      <th>State</th>\n",
              "      <th>Profit</th>\n",
              "    </tr>\n",
              "  </thead>\n",
              "  <tbody>\n",
              "    <tr>\n",
              "      <th>40</th>\n",
              "      <td>28754.33</td>\n",
              "      <td>118546.05</td>\n",
              "      <td>172795.67</td>\n",
              "      <td>California</td>\n",
              "      <td>78239.91</td>\n",
              "    </tr>\n",
              "    <tr>\n",
              "      <th>15</th>\n",
              "      <td>114523.61</td>\n",
              "      <td>122616.84</td>\n",
              "      <td>261776.23</td>\n",
              "      <td>New York</td>\n",
              "      <td>129917.04</td>\n",
              "    </tr>\n",
              "  </tbody>\n",
              "</table>\n",
              "</div>"
            ],
            "text/plain": [
              "    R&D Spend  Administration  Marketing Spend       State     Profit\n",
              "40   28754.33       118546.05        172795.67  California   78239.91\n",
              "15  114523.61       122616.84        261776.23    New York  129917.04"
            ]
          },
          "metadata": {
            "tags": []
          },
          "execution_count": 7
        }
      ]
    },
    {
      "cell_type": "code",
      "metadata": {
        "id": "q15c_WHE-kG-",
        "colab_type": "code",
        "outputId": "b0d4cf77-56d2-4d98-8989-fc4690d068f0",
        "colab": {
          "base_uri": "https://localhost:8080/",
          "height": 34
        }
      },
      "source": [
        "evaluation.index.values"
      ],
      "execution_count": 8,
      "outputs": [
        {
          "output_type": "execute_result",
          "data": {
            "text/plain": [
              "array([40, 15])"
            ]
          },
          "metadata": {
            "tags": []
          },
          "execution_count": 8
        }
      ]
    },
    {
      "cell_type": "code",
      "metadata": {
        "id": "xxCyahqC8yjm",
        "colab_type": "code",
        "outputId": "5fe6d9ff-28a3-4443-b9e7-57aad3139b0c",
        "colab": {
          "base_uri": "https://localhost:8080/",
          "height": 34
        }
      },
      "source": [
        "df = df.drop(evaluation.index.values)\n",
        "df.shape"
      ],
      "execution_count": 9,
      "outputs": [
        {
          "output_type": "execute_result",
          "data": {
            "text/plain": [
              "(48, 5)"
            ]
          },
          "metadata": {
            "tags": []
          },
          "execution_count": 9
        }
      ]
    },
    {
      "cell_type": "code",
      "metadata": {
        "id": "hpKg7_BhMmgH",
        "colab_type": "code",
        "outputId": "b529daec-29f2-44a5-8b63-f88d69c9be95",
        "colab": {
          "base_uri": "https://localhost:8080/",
          "height": 77
        }
      },
      "source": [
        "X = df.drop('Profit', axis = 1)\n",
        "X.head(1)"
      ],
      "execution_count": 10,
      "outputs": [
        {
          "output_type": "execute_result",
          "data": {
            "text/html": [
              "<div>\n",
              "<style scoped>\n",
              "    .dataframe tbody tr th:only-of-type {\n",
              "        vertical-align: middle;\n",
              "    }\n",
              "\n",
              "    .dataframe tbody tr th {\n",
              "        vertical-align: top;\n",
              "    }\n",
              "\n",
              "    .dataframe thead th {\n",
              "        text-align: right;\n",
              "    }\n",
              "</style>\n",
              "<table border=\"1\" class=\"dataframe\">\n",
              "  <thead>\n",
              "    <tr style=\"text-align: right;\">\n",
              "      <th></th>\n",
              "      <th>R&amp;D Spend</th>\n",
              "      <th>Administration</th>\n",
              "      <th>Marketing Spend</th>\n",
              "      <th>State</th>\n",
              "    </tr>\n",
              "  </thead>\n",
              "  <tbody>\n",
              "    <tr>\n",
              "      <th>0</th>\n",
              "      <td>165349.2</td>\n",
              "      <td>136897.8</td>\n",
              "      <td>471784.1</td>\n",
              "      <td>New York</td>\n",
              "    </tr>\n",
              "  </tbody>\n",
              "</table>\n",
              "</div>"
            ],
            "text/plain": [
              "   R&D Spend  Administration  Marketing Spend     State\n",
              "0   165349.2        136897.8         471784.1  New York"
            ]
          },
          "metadata": {
            "tags": []
          },
          "execution_count": 10
        }
      ]
    },
    {
      "cell_type": "markdown",
      "metadata": {
        "id": "pyVu18f4Bzzz",
        "colab_type": "text"
      },
      "source": [
        "## visualisation"
      ]
    },
    {
      "cell_type": "code",
      "metadata": {
        "id": "9KF68F-sB50f",
        "colab_type": "code",
        "colab": {}
      },
      "source": [
        "import seaborn as sns"
      ],
      "execution_count": 0,
      "outputs": []
    },
    {
      "cell_type": "code",
      "metadata": {
        "id": "OR0uMbSzB7eu",
        "colab_type": "code",
        "outputId": "1ecb1b38-66ec-40fd-abeb-5927af87c837",
        "colab": {
          "base_uri": "https://localhost:8080/",
          "height": 746
        }
      },
      "source": [
        "sns.pairplot(df,  palette = 'rainbow', hue = 'State')"
      ],
      "execution_count": 15,
      "outputs": [
        {
          "output_type": "execute_result",
          "data": {
            "text/plain": [
              "<seaborn.axisgrid.PairGrid at 0x7fa9e03089b0>"
            ]
          },
          "metadata": {
            "tags": []
          },
          "execution_count": 15
        },
        {
          "output_type": "display_data",
          "data": {
            "image/png": "[encoded data removed]",
            "text/plain": [
              "<Figure size 803.875x720 with 20 Axes>"
            ]
          },
          "metadata": {
            "tags": []
          }
        }
      ]
    },
    {
      "cell_type": "code",
      "metadata": {
        "id": "hhdNRgDnC4cI",
        "colab_type": "code",
        "outputId": "0f786706-c60b-447a-9a6a-15c9b3cd514e",
        "colab": {
          "base_uri": "https://localhost:8080/",
          "height": 301
        }
      },
      "source": [
        "sns.boxplot('R&D Spend', data = df)"
      ],
      "execution_count": 17,
      "outputs": [
        {
          "output_type": "execute_result",
          "data": {
            "text/plain": [
              "<matplotlib.axes._subplots.AxesSubplot at 0x7fa9de5ee2b0>"
            ]
          },
          "metadata": {
            "tags": []
          },
          "execution_count": 17
        },
        {
          "output_type": "display_data",
          "data": {
            "image/png": "[encoded data removed]",
            "text/plain": [
              "<Figure size 432x288 with 1 Axes>"
            ]
          },
          "metadata": {
            "tags": []
          }
        }
      ]
    },
    {
      "cell_type": "code",
      "metadata": {
        "id": "gpA200zdCGLe",
        "colab_type": "code",
        "outputId": "f8232a7c-7b8c-495b-faaf-c9e0a350f855",
        "colab": {
          "base_uri": "https://localhost:8080/",
          "height": 731
        }
      },
      "source": [
        "for i in df.columns[:-2]:\n",
        "  sns.boxplot(y = i, data = df)\n",
        "  plt.show()"
      ],
      "execution_count": 0,
      "outputs": [
        {
          "output_type": "display_data",
          "data": {
            "image/png": "[encoded data removed]",
            "text/plain": [
              "<Figure size 432x288 with 1 Axes>"
            ]
          },
          "metadata": {
            "tags": []
          }
        },
        {
          "output_type": "display_data",
          "data": {
            "image/png": "[encoded data removed]",
            "text/plain": [
              "<Figure size 432x288 with 1 Axes>"
            ]
          },
          "metadata": {
            "tags": []
          }
        },
        {
          "output_type": "display_data",
          "data": {
            "image/png": "[encoded data removed]",
            "text/plain": [
              "<Figure size 432x288 with 1 Axes>"
            ]
          },
          "metadata": {
            "tags": []
          }
        }
      ]
    },
    {
      "cell_type": "markdown",
      "metadata": {
        "id": "8m7YCmxlGwjG",
        "colab_type": "text"
      },
      "source": [
        "## train_test_split"
      ]
    },
    {
      "cell_type": "code",
      "metadata": {
        "id": "QgLvgANRG6Hc",
        "colab_type": "code",
        "outputId": "7c7c10b8-5caf-4660-c07b-026fed3a3ac3",
        "colab": {
          "base_uri": "https://localhost:8080/",
          "height": 77
        }
      },
      "source": [
        "X = df.drop('Profit', 1)\n",
        "X.head(1)"
      ],
      "execution_count": 18,
      "outputs": [
        {
          "output_type": "execute_result",
          "data": {
            "text/html": [
              "<div>\n",
              "<style scoped>\n",
              "    .dataframe tbody tr th:only-of-type {\n",
              "        vertical-align: middle;\n",
              "    }\n",
              "\n",
              "    .dataframe tbody tr th {\n",
              "        vertical-align: top;\n",
              "    }\n",
              "\n",
              "    .dataframe thead th {\n",
              "        text-align: right;\n",
              "    }\n",
              "</style>\n",
              "<table border=\"1\" class=\"dataframe\">\n",
              "  <thead>\n",
              "    <tr style=\"text-align: right;\">\n",
              "      <th></th>\n",
              "      <th>R&amp;D Spend</th>\n",
              "      <th>Administration</th>\n",
              "      <th>Marketing Spend</th>\n",
              "      <th>State</th>\n",
              "    </tr>\n",
              "  </thead>\n",
              "  <tbody>\n",
              "    <tr>\n",
              "      <th>0</th>\n",
              "      <td>165349.2</td>\n",
              "      <td>136897.8</td>\n",
              "      <td>471784.1</td>\n",
              "      <td>New York</td>\n",
              "    </tr>\n",
              "  </tbody>\n",
              "</table>\n",
              "</div>"
            ],
            "text/plain": [
              "   R&D Spend  Administration  Marketing Spend     State\n",
              "0   165349.2        136897.8         471784.1  New York"
            ]
          },
          "metadata": {
            "tags": []
          },
          "execution_count": 18
        }
      ]
    },
    {
      "cell_type": "code",
      "metadata": {
        "id": "P695E5rDHGcS",
        "colab_type": "code",
        "outputId": "b45c97b2-e7d9-46cc-db82-e54e67207edd",
        "colab": {
          "base_uri": "https://localhost:8080/",
          "height": 70
        }
      },
      "source": [
        "y = df.Profit\n",
        "y[:2]"
      ],
      "execution_count": 19,
      "outputs": [
        {
          "output_type": "execute_result",
          "data": {
            "text/plain": [
              "0    192261.83\n",
              "1    191792.06\n",
              "Name: Profit, dtype: float64"
            ]
          },
          "metadata": {
            "tags": []
          },
          "execution_count": 19
        }
      ]
    },
    {
      "cell_type": "markdown",
      "metadata": {
        "id": "-sFmK2oLlFyy",
        "colab_type": "text"
      },
      "source": [
        "## dummy_variable"
      ]
    },
    {
      "cell_type": "code",
      "metadata": {
        "id": "AqwhnVK-HMOI",
        "colab_type": "code",
        "colab": {}
      },
      "source": [
        "from sklearn.preprocessing import LabelEncoder, OneHotEncoder"
      ],
      "execution_count": 0,
      "outputs": []
    },
    {
      "cell_type": "code",
      "metadata": {
        "id": "q6YExbE0d7ef",
        "colab_type": "code",
        "colab": {
          "base_uri": "https://localhost:8080/",
          "height": 212
        },
        "outputId": "e478195e-d437-4860-9ab5-5a7edd35cfef"
      },
      "source": [
        "!git clone https://github.com/noushadkhan01/my_methods.git\n",
        "!ls"
      ],
      "execution_count": 21,
      "outputs": [
        {
          "output_type": "stream",
          "text": [
            "Cloning into 'my_methods'...\n",
            "remote: Enumerating objects: 35, done.\u001b[K\n",
            "remote: Counting objects:   2% (1/35)\u001b[K\rremote: Counting objects:   5% (2/35)\u001b[K\rremote: Counting objects:   8% (3/35)\u001b[K\rremote: Counting objects:  11% (4/35)\u001b[K\rremote: Counting objects:  14% (5/35)\u001b[K\rremote: Counting objects:  17% (6/35)\u001b[K\rremote: Counting objects:  20% (7/35)\u001b[K\rremote: Counting objects:  22% (8/35)\u001b[K\rremote: Counting objects:  25% (9/35)\u001b[K\rremote: Counting objects:  28% (10/35)\u001b[K\rremote: Counting objects:  31% (11/35)\u001b[K\rremote: Counting objects:  34% (12/35)\u001b[K\rremote: Counting objects:  37% (13/35)\u001b[K\rremote: Counting objects:  40% (14/35)\u001b[K\rremote: Counting objects:  42% (15/35)\u001b[K\rremote: Counting objects:  45% (16/35)\u001b[K\rremote: Counting objects:  48% (17/35)\u001b[K\rremote: Counting objects:  51% (18/35)\u001b[K\rremote: Counting objects:  54% (19/35)\u001b[K\rremote: Counting objects:  57% (20/35)\u001b[K\rremote: Counting objects:  60% (21/35)\u001b[K\rremote: Counting objects:  62% (22/35)\u001b[K\rremote: Counting objects:  65% (23/35)\u001b[K\rremote: Counting objects:  68% (24/35)\u001b[K\rremote: Counting objects:  71% (25/35)\u001b[K\rremote: Counting objects:  74% (26/35)\u001b[K\rremote: Counting objects:  77% (27/35)\u001b[K\rremote: Counting objects:  80% (28/35)\u001b[K\rremote: Counting objects:  82% (29/35)\u001b[K\rremote: Counting objects:  85% (30/35)\u001b[K\rremote: Counting objects:  88% (31/35)\u001b[K\rremote: Counting objects:  91% (32/35)\u001b[K\rremote: Counting objects:  94% (33/35)\u001b[K\rremote: Counting objects:  97% (34/35)\u001b[K\rremote: Counting objects: 100% (35/35)\u001b[K\rremote: Counting objects: 100% (35/35), done.\u001b[K\n",
            "remote: Compressing objects: 100% (35/35), done.\u001b[K\n",
            "remote: Total 342 (delta 17), reused 0 (delta 0), pack-reused 307\u001b[K\n",
            "Receiving objects: 100% (342/342), 89.39 KiB | 888.00 KiB/s, done.\n",
            "Resolving deltas: 100% (202/202), done.\n",
            "50_Startups.csv\t\t\tmultiple_linear_regression.R\n",
            "data_preprocessing_template.py\tMultiple_Regressions_on_50_Startup_data.ipynb\n",
            "data_preprocessing_template.R\tmy_methods\n",
            "multiple_linear_regression.py\n"
          ],
          "name": "stdout"
        }
      ]
    },
    {
      "cell_type": "code",
      "metadata": {
        "id": "ubelL3WWeRnA",
        "colab_type": "code",
        "colab": {
          "base_uri": "https://localhost:8080/",
          "height": 176
        },
        "outputId": "0033b63e-05d9-450b-f810-7c926c921aa4"
      },
      "source": [
        "%cd my_methods/\n",
        "!ls"
      ],
      "execution_count": 22,
      "outputs": [
        {
          "output_type": "stream",
          "text": [
            "/content/ML-and-DL-by-SuperDataScience/Machine-Learning/Part 2 - Regression/Section 5 - Multiple Linear Regression/my_methods\n",
            "choose_best_classifier.py\t      my_global_variables.py\n",
            "choose_best_regressor.py\t      my_roc_curve.py\n",
            "choose_optimal_number_of_clusters.py  plot_text.py\n",
            "get_cross_validation.py\t\t      print_model_results.py\n",
            "initialize_weights.py\t\t      README.md\n",
            "my_backward_propagation.py\t      sgd_neural_net.py\n",
            "my_cap_curve.py\t\t\t      visualise_classifier_performance.py\n",
            "my_dummy_variable_creator.py\n"
          ],
          "name": "stdout"
        }
      ]
    },
    {
      "cell_type": "code",
      "metadata": {
        "id": "ORSyrWaVeXHl",
        "colab_type": "code",
        "colab": {}
      },
      "source": [
        "import my_global_variables\n",
        "my_global_variables.init()"
      ],
      "execution_count": 0,
      "outputs": []
    },
    {
      "cell_type": "code",
      "metadata": {
        "id": "ssPrc6ktedbA",
        "colab_type": "code",
        "colab": {}
      },
      "source": [
        "from my_dummy_variable_creator import MyDummyVariable"
      ],
      "execution_count": 0,
      "outputs": []
    },
    {
      "cell_type": "code",
      "metadata": {
        "id": "XxFhbEVfe_IJ",
        "colab_type": "code",
        "colab": {}
      },
      "source": [
        "ohe = MyDummyVariable(categorical_features = [3])"
      ],
      "execution_count": 0,
      "outputs": []
    },
    {
      "cell_type": "code",
      "metadata": {
        "id": "rIheuir8fQ8K",
        "colab_type": "code",
        "colab": {
          "base_uri": "https://localhost:8080/",
          "height": 197
        },
        "outputId": "4fae8f26-6342-4f8a-f04c-a13900331a30"
      },
      "source": [
        "X = ohe.fit_transform(X)\n",
        "X.head()"
      ],
      "execution_count": 29,
      "outputs": [
        {
          "output_type": "execute_result",
          "data": {
            "text/html": [
              "<div>\n",
              "<style scoped>\n",
              "    .dataframe tbody tr th:only-of-type {\n",
              "        vertical-align: middle;\n",
              "    }\n",
              "\n",
              "    .dataframe tbody tr th {\n",
              "        vertical-align: top;\n",
              "    }\n",
              "\n",
              "    .dataframe thead th {\n",
              "        text-align: right;\n",
              "    }\n",
              "</style>\n",
              "<table border=\"1\" class=\"dataframe\">\n",
              "  <thead>\n",
              "    <tr style=\"text-align: right;\">\n",
              "      <th></th>\n",
              "      <th>State_Florida</th>\n",
              "      <th>State_New York</th>\n",
              "      <th>R&amp;D Spend</th>\n",
              "      <th>Administration</th>\n",
              "      <th>Marketing Spend</th>\n",
              "    </tr>\n",
              "  </thead>\n",
              "  <tbody>\n",
              "    <tr>\n",
              "      <th>0</th>\n",
              "      <td>0.0</td>\n",
              "      <td>1.0</td>\n",
              "      <td>165349.20</td>\n",
              "      <td>136897.80</td>\n",
              "      <td>471784.10</td>\n",
              "    </tr>\n",
              "    <tr>\n",
              "      <th>1</th>\n",
              "      <td>0.0</td>\n",
              "      <td>0.0</td>\n",
              "      <td>162597.70</td>\n",
              "      <td>151377.59</td>\n",
              "      <td>443898.53</td>\n",
              "    </tr>\n",
              "    <tr>\n",
              "      <th>2</th>\n",
              "      <td>1.0</td>\n",
              "      <td>0.0</td>\n",
              "      <td>153441.51</td>\n",
              "      <td>101145.55</td>\n",
              "      <td>407934.54</td>\n",
              "    </tr>\n",
              "    <tr>\n",
              "      <th>3</th>\n",
              "      <td>0.0</td>\n",
              "      <td>1.0</td>\n",
              "      <td>144372.41</td>\n",
              "      <td>118671.85</td>\n",
              "      <td>383199.62</td>\n",
              "    </tr>\n",
              "    <tr>\n",
              "      <th>4</th>\n",
              "      <td>1.0</td>\n",
              "      <td>0.0</td>\n",
              "      <td>142107.34</td>\n",
              "      <td>91391.77</td>\n",
              "      <td>366168.42</td>\n",
              "    </tr>\n",
              "  </tbody>\n",
              "</table>\n",
              "</div>"
            ],
            "text/plain": [
              "   State_Florida  State_New York  R&D Spend  Administration  Marketing Spend\n",
              "0            0.0             1.0  165349.20       136897.80        471784.10\n",
              "1            0.0             0.0  162597.70       151377.59        443898.53\n",
              "2            1.0             0.0  153441.51       101145.55        407934.54\n",
              "3            0.0             1.0  144372.41       118671.85        383199.62\n",
              "4            1.0             0.0  142107.34        91391.77        366168.42"
            ]
          },
          "metadata": {
            "tags": []
          },
          "execution_count": 29
        }
      ]
    },
    {
      "cell_type": "code",
      "metadata": {
        "id": "Rw8US00FeA7b",
        "colab_type": "code",
        "colab": {
          "base_uri": "https://localhost:8080/",
          "height": 107
        },
        "outputId": "8a338fa1-e289-4c3d-9205-6065481a1df0"
      },
      "source": [
        "evaluation"
      ],
      "execution_count": 30,
      "outputs": [
        {
          "output_type": "execute_result",
          "data": {
            "text/html": [
              "<div>\n",
              "<style scoped>\n",
              "    .dataframe tbody tr th:only-of-type {\n",
              "        vertical-align: middle;\n",
              "    }\n",
              "\n",
              "    .dataframe tbody tr th {\n",
              "        vertical-align: top;\n",
              "    }\n",
              "\n",
              "    .dataframe thead th {\n",
              "        text-align: right;\n",
              "    }\n",
              "</style>\n",
              "<table border=\"1\" class=\"dataframe\">\n",
              "  <thead>\n",
              "    <tr style=\"text-align: right;\">\n",
              "      <th></th>\n",
              "      <th>R&amp;D Spend</th>\n",
              "      <th>Administration</th>\n",
              "      <th>Marketing Spend</th>\n",
              "      <th>State</th>\n",
              "      <th>Profit</th>\n",
              "    </tr>\n",
              "  </thead>\n",
              "  <tbody>\n",
              "    <tr>\n",
              "      <th>40</th>\n",
              "      <td>28754.33</td>\n",
              "      <td>118546.05</td>\n",
              "      <td>172795.67</td>\n",
              "      <td>California</td>\n",
              "      <td>78239.91</td>\n",
              "    </tr>\n",
              "    <tr>\n",
              "      <th>15</th>\n",
              "      <td>114523.61</td>\n",
              "      <td>122616.84</td>\n",
              "      <td>261776.23</td>\n",
              "      <td>New York</td>\n",
              "      <td>129917.04</td>\n",
              "    </tr>\n",
              "  </tbody>\n",
              "</table>\n",
              "</div>"
            ],
            "text/plain": [
              "    R&D Spend  Administration  Marketing Spend       State     Profit\n",
              "40   28754.33       118546.05        172795.67  California   78239.91\n",
              "15  114523.61       122616.84        261776.23    New York  129917.04"
            ]
          },
          "metadata": {
            "tags": []
          },
          "execution_count": 30
        }
      ]
    },
    {
      "cell_type": "code",
      "metadata": {
        "id": "l6H1pNQof6jW",
        "colab_type": "code",
        "colab": {
          "base_uri": "https://localhost:8080/",
          "height": 107
        },
        "outputId": "d8e054b2-1abc-4aaf-dff4-dcccca2d92b8"
      },
      "source": [
        "evaluation = ohe.transform(evaluation)\n",
        "evaluation"
      ],
      "execution_count": 31,
      "outputs": [
        {
          "output_type": "execute_result",
          "data": {
            "text/html": [
              "<div>\n",
              "<style scoped>\n",
              "    .dataframe tbody tr th:only-of-type {\n",
              "        vertical-align: middle;\n",
              "    }\n",
              "\n",
              "    .dataframe tbody tr th {\n",
              "        vertical-align: top;\n",
              "    }\n",
              "\n",
              "    .dataframe thead th {\n",
              "        text-align: right;\n",
              "    }\n",
              "</style>\n",
              "<table border=\"1\" class=\"dataframe\">\n",
              "  <thead>\n",
              "    <tr style=\"text-align: right;\">\n",
              "      <th></th>\n",
              "      <th>State_Florida</th>\n",
              "      <th>State_New York</th>\n",
              "      <th>R&amp;D Spend</th>\n",
              "      <th>Administration</th>\n",
              "      <th>Marketing Spend</th>\n",
              "      <th>Profit</th>\n",
              "    </tr>\n",
              "  </thead>\n",
              "  <tbody>\n",
              "    <tr>\n",
              "      <th>0</th>\n",
              "      <td>0.0</td>\n",
              "      <td>0.0</td>\n",
              "      <td>28754.33</td>\n",
              "      <td>118546.05</td>\n",
              "      <td>172795.67</td>\n",
              "      <td>78239.91</td>\n",
              "    </tr>\n",
              "    <tr>\n",
              "      <th>1</th>\n",
              "      <td>0.0</td>\n",
              "      <td>1.0</td>\n",
              "      <td>114523.61</td>\n",
              "      <td>122616.84</td>\n",
              "      <td>261776.23</td>\n",
              "      <td>129917.04</td>\n",
              "    </tr>\n",
              "  </tbody>\n",
              "</table>\n",
              "</div>"
            ],
            "text/plain": [
              "   State_Florida  State_New York  ...  Marketing Spend     Profit\n",
              "0            0.0             0.0  ...        172795.67   78239.91\n",
              "1            0.0             1.0  ...        261776.23  129917.04\n",
              "\n",
              "[2 rows x 6 columns]"
            ]
          },
          "metadata": {
            "tags": []
          },
          "execution_count": 31
        }
      ]
    },
    {
      "cell_type": "code",
      "metadata": {
        "id": "sCNN_tpClWjS",
        "colab_type": "code",
        "colab": {}
      },
      "source": [
        "y = df.iloc[:, -1:].values"
      ],
      "execution_count": 0,
      "outputs": []
    },
    {
      "cell_type": "code",
      "metadata": {
        "id": "mtDwUNSadtLf",
        "colab_type": "code",
        "outputId": "dd40ba26-b432-486d-e5d8-9cde6478668c",
        "colab": {
          "base_uri": "https://localhost:8080/",
          "height": 51
        }
      },
      "source": [
        "y[:2]"
      ],
      "execution_count": 0,
      "outputs": [
        {
          "output_type": "execute_result",
          "data": {
            "text/plain": [
              "array([[192261.83],\n",
              "       [191792.06]])"
            ]
          },
          "metadata": {
            "tags": []
          },
          "execution_count": 25
        }
      ]
    },
    {
      "cell_type": "code",
      "metadata": {
        "id": "TewxbIXXlgir",
        "colab_type": "code",
        "colab": {}
      },
      "source": [
        "from sklearn.model_selection import train_test_split"
      ],
      "execution_count": 0,
      "outputs": []
    },
    {
      "cell_type": "code",
      "metadata": {
        "id": "Te-0NQ7Vljt2",
        "colab_type": "code",
        "colab": {}
      },
      "source": [
        "X_train, X_test, y_train, y_test = train_test_split(X, y, test_size = .2, random_state = 0)"
      ],
      "execution_count": 0,
      "outputs": []
    },
    {
      "cell_type": "code",
      "metadata": {
        "id": "cIaleKVOc8bd",
        "colab_type": "code",
        "outputId": "bb185513-c914-43a4-e7eb-9e10605df615",
        "colab": {
          "base_uri": "https://localhost:8080/",
          "height": 107
        }
      },
      "source": [
        "X_train.loc[[2, 3]]"
      ],
      "execution_count": 35,
      "outputs": [
        {
          "output_type": "execute_result",
          "data": {
            "text/html": [
              "<div>\n",
              "<style scoped>\n",
              "    .dataframe tbody tr th:only-of-type {\n",
              "        vertical-align: middle;\n",
              "    }\n",
              "\n",
              "    .dataframe tbody tr th {\n",
              "        vertical-align: top;\n",
              "    }\n",
              "\n",
              "    .dataframe thead th {\n",
              "        text-align: right;\n",
              "    }\n",
              "</style>\n",
              "<table border=\"1\" class=\"dataframe\">\n",
              "  <thead>\n",
              "    <tr style=\"text-align: right;\">\n",
              "      <th></th>\n",
              "      <th>State_Florida</th>\n",
              "      <th>State_New York</th>\n",
              "      <th>R&amp;D Spend</th>\n",
              "      <th>Administration</th>\n",
              "      <th>Marketing Spend</th>\n",
              "    </tr>\n",
              "  </thead>\n",
              "  <tbody>\n",
              "    <tr>\n",
              "      <th>2</th>\n",
              "      <td>1.0</td>\n",
              "      <td>0.0</td>\n",
              "      <td>153441.51</td>\n",
              "      <td>101145.55</td>\n",
              "      <td>407934.54</td>\n",
              "    </tr>\n",
              "    <tr>\n",
              "      <th>3</th>\n",
              "      <td>0.0</td>\n",
              "      <td>1.0</td>\n",
              "      <td>144372.41</td>\n",
              "      <td>118671.85</td>\n",
              "      <td>383199.62</td>\n",
              "    </tr>\n",
              "  </tbody>\n",
              "</table>\n",
              "</div>"
            ],
            "text/plain": [
              "   State_Florida  State_New York  R&D Spend  Administration  Marketing Spend\n",
              "2            1.0             0.0  153441.51       101145.55        407934.54\n",
              "3            0.0             1.0  144372.41       118671.85        383199.62"
            ]
          },
          "metadata": {
            "tags": []
          },
          "execution_count": 35
        }
      ]
    },
    {
      "cell_type": "code",
      "metadata": {
        "id": "k1-joyYfeDcT",
        "colab_type": "code",
        "outputId": "025962c3-ddc7-49f9-a97d-4f43c5f35b88",
        "colab": {
          "base_uri": "https://localhost:8080/",
          "height": 70
        }
      },
      "source": [
        "y_train[:2]"
      ],
      "execution_count": 36,
      "outputs": [
        {
          "output_type": "execute_result",
          "data": {
            "text/plain": [
              "11    144259.40\n",
              "32     97427.84\n",
              "Name: Profit, dtype: float64"
            ]
          },
          "metadata": {
            "tags": []
          },
          "execution_count": 36
        }
      ]
    },
    {
      "cell_type": "markdown",
      "metadata": {
        "id": "mi84rN_9eEXa",
        "colab_type": "text"
      },
      "source": [
        "# Train model"
      ]
    },
    {
      "cell_type": "code",
      "metadata": {
        "id": "6RR4mc29f4Gn",
        "colab_type": "code",
        "colab": {}
      },
      "source": [
        "from sklearn.linear_model import LinearRegression"
      ],
      "execution_count": 0,
      "outputs": []
    },
    {
      "cell_type": "code",
      "metadata": {
        "id": "t9leCowHf7WU",
        "colab_type": "code",
        "outputId": "3b657a6f-0e57-4f8a-b8f1-7c7dc7d58184",
        "colab": {
          "base_uri": "https://localhost:8080/",
          "height": 34
        }
      },
      "source": [
        "reg = LinearRegression()\n",
        "reg.fit(X_train, y_train)\n",
        "reg.score(X_train, y_train)"
      ],
      "execution_count": 38,
      "outputs": [
        {
          "output_type": "execute_result",
          "data": {
            "text/plain": [
              "0.9541394310086445"
            ]
          },
          "metadata": {
            "tags": []
          },
          "execution_count": 38
        }
      ]
    },
    {
      "cell_type": "code",
      "metadata": {
        "id": "F_sF4e_lgpGM",
        "colab_type": "code",
        "outputId": "90d447a3-8259-4457-c63f-e6ea492ec264",
        "colab": {
          "base_uri": "https://localhost:8080/",
          "height": 34
        }
      },
      "source": [
        "reg.score(X_test, y_test)"
      ],
      "execution_count": 39,
      "outputs": [
        {
          "output_type": "execute_result",
          "data": {
            "text/plain": [
              "0.9436149440330112"
            ]
          },
          "metadata": {
            "tags": []
          },
          "execution_count": 39
        }
      ]
    },
    {
      "cell_type": "markdown",
      "metadata": {
        "id": "JPqvSCCmyZ_R",
        "colab_type": "text"
      },
      "source": [
        "# Residual vs. fitted plot"
      ]
    },
    {
      "cell_type": "code",
      "metadata": {
        "id": "XhQ_dILrydVK",
        "colab_type": "code",
        "outputId": "0c09a509-7c42-4473-97b4-699a183d06de",
        "colab": {
          "base_uri": "https://localhost:8080/",
          "height": 286
        }
      },
      "source": [
        "plt.scatter(y_test, (y_test - reg.predict(X_test)))\n",
        "plt.hlines(y = 0, xmin = 0, xmax = 200000)"
      ],
      "execution_count": 40,
      "outputs": [
        {
          "output_type": "execute_result",
          "data": {
            "text/plain": [
              "<matplotlib.collections.LineCollection at 0x7fa9da9693c8>"
            ]
          },
          "metadata": {
            "tags": []
          },
          "execution_count": 40
        },
        {
          "output_type": "display_data",
          "data": {
            "image/png": "[encoded data removed]",
            "text/plain": [
              "<Figure size 432x288 with 1 Axes>"
            ]
          },
          "metadata": {
            "tags": []
          }
        }
      ]
    },
    {
      "cell_type": "markdown",
      "metadata": {
        "id": "kqFhmOlLgrOe",
        "colab_type": "text"
      },
      "source": [
        "# Predict for unseen Dataset"
      ]
    },
    {
      "cell_type": "code",
      "metadata": {
        "id": "LyJyAvWFgzLa",
        "colab_type": "code",
        "outputId": "66a1d83c-dc6a-4e01-9b06-8e758c23eaad",
        "colab": {
          "base_uri": "https://localhost:8080/",
          "height": 107
        }
      },
      "source": [
        "evaluation"
      ],
      "execution_count": 41,
      "outputs": [
        {
          "output_type": "execute_result",
          "data": {
            "text/html": [
              "<div>\n",
              "<style scoped>\n",
              "    .dataframe tbody tr th:only-of-type {\n",
              "        vertical-align: middle;\n",
              "    }\n",
              "\n",
              "    .dataframe tbody tr th {\n",
              "        vertical-align: top;\n",
              "    }\n",
              "\n",
              "    .dataframe thead th {\n",
              "        text-align: right;\n",
              "    }\n",
              "</style>\n",
              "<table border=\"1\" class=\"dataframe\">\n",
              "  <thead>\n",
              "    <tr style=\"text-align: right;\">\n",
              "      <th></th>\n",
              "      <th>State_Florida</th>\n",
              "      <th>State_New York</th>\n",
              "      <th>R&amp;D Spend</th>\n",
              "      <th>Administration</th>\n",
              "      <th>Marketing Spend</th>\n",
              "      <th>Profit</th>\n",
              "    </tr>\n",
              "  </thead>\n",
              "  <tbody>\n",
              "    <tr>\n",
              "      <th>0</th>\n",
              "      <td>0.0</td>\n",
              "      <td>0.0</td>\n",
              "      <td>28754.33</td>\n",
              "      <td>118546.05</td>\n",
              "      <td>172795.67</td>\n",
              "      <td>78239.91</td>\n",
              "    </tr>\n",
              "    <tr>\n",
              "      <th>1</th>\n",
              "      <td>0.0</td>\n",
              "      <td>1.0</td>\n",
              "      <td>114523.61</td>\n",
              "      <td>122616.84</td>\n",
              "      <td>261776.23</td>\n",
              "      <td>129917.04</td>\n",
              "    </tr>\n",
              "  </tbody>\n",
              "</table>\n",
              "</div>"
            ],
            "text/plain": [
              "   State_Florida  State_New York  ...  Marketing Spend     Profit\n",
              "0            0.0             0.0  ...        172795.67   78239.91\n",
              "1            0.0             1.0  ...        261776.23  129917.04\n",
              "\n",
              "[2 rows x 6 columns]"
            ]
          },
          "metadata": {
            "tags": []
          },
          "execution_count": 41
        }
      ]
    },
    {
      "cell_type": "code",
      "metadata": {
        "id": "zSXMThn9g0Au",
        "colab_type": "code",
        "outputId": "89699ea9-464e-4cee-ae5c-d34b26802646",
        "colab": {
          "base_uri": "https://localhost:8080/",
          "height": 107
        }
      },
      "source": [
        "evaluation_X = evaluation.drop('Profit', 1)\n",
        "evaluation_X"
      ],
      "execution_count": 42,
      "outputs": [
        {
          "output_type": "execute_result",
          "data": {
            "text/html": [
              "<div>\n",
              "<style scoped>\n",
              "    .dataframe tbody tr th:only-of-type {\n",
              "        vertical-align: middle;\n",
              "    }\n",
              "\n",
              "    .dataframe tbody tr th {\n",
              "        vertical-align: top;\n",
              "    }\n",
              "\n",
              "    .dataframe thead th {\n",
              "        text-align: right;\n",
              "    }\n",
              "</style>\n",
              "<table border=\"1\" class=\"dataframe\">\n",
              "  <thead>\n",
              "    <tr style=\"text-align: right;\">\n",
              "      <th></th>\n",
              "      <th>State_Florida</th>\n",
              "      <th>State_New York</th>\n",
              "      <th>R&amp;D Spend</th>\n",
              "      <th>Administration</th>\n",
              "      <th>Marketing Spend</th>\n",
              "    </tr>\n",
              "  </thead>\n",
              "  <tbody>\n",
              "    <tr>\n",
              "      <th>0</th>\n",
              "      <td>0.0</td>\n",
              "      <td>0.0</td>\n",
              "      <td>28754.33</td>\n",
              "      <td>118546.05</td>\n",
              "      <td>172795.67</td>\n",
              "    </tr>\n",
              "    <tr>\n",
              "      <th>1</th>\n",
              "      <td>0.0</td>\n",
              "      <td>1.0</td>\n",
              "      <td>114523.61</td>\n",
              "      <td>122616.84</td>\n",
              "      <td>261776.23</td>\n",
              "    </tr>\n",
              "  </tbody>\n",
              "</table>\n",
              "</div>"
            ],
            "text/plain": [
              "   State_Florida  State_New York  R&D Spend  Administration  Marketing Spend\n",
              "0            0.0             0.0   28754.33       118546.05        172795.67\n",
              "1            0.0             1.0  114523.61       122616.84        261776.23"
            ]
          },
          "metadata": {
            "tags": []
          },
          "execution_count": 42
        }
      ]
    },
    {
      "cell_type": "code",
      "metadata": {
        "id": "sHJ7S_Kig94W",
        "colab_type": "code",
        "colab": {}
      },
      "source": [
        "evaluation_y = evaluation.Profit"
      ],
      "execution_count": 0,
      "outputs": []
    },
    {
      "cell_type": "code",
      "metadata": {
        "id": "2zrgBb7FhrbH",
        "colab_type": "code",
        "outputId": "e9d4a4c1-a994-420f-cbbb-3c7bba3f9953",
        "colab": {
          "base_uri": "https://localhost:8080/",
          "height": 34
        }
      },
      "source": [
        "reg.score(evaluation_X, evaluation_y)"
      ],
      "execution_count": 44,
      "outputs": [
        {
          "output_type": "execute_result",
          "data": {
            "text/plain": [
              "0.7576735087074449"
            ]
          },
          "metadata": {
            "tags": []
          },
          "execution_count": 44
        }
      ]
    },
    {
      "cell_type": "code",
      "metadata": {
        "id": "8Fw0NMjkh4A3",
        "colab_type": "code",
        "outputId": "ad5a39ac-9395-4b28-e8bf-31040807f468",
        "colab": {
          "base_uri": "https://localhost:8080/",
          "height": 34
        }
      },
      "source": [
        "reg.predict(evaluation_X)"
      ],
      "execution_count": 45,
      "outputs": [
        {
          "output_type": "execute_result",
          "data": {
            "text/plain": [
              "array([ 73752.4288435 , 147336.34199933])"
            ]
          },
          "metadata": {
            "tags": []
          },
          "execution_count": 45
        }
      ]
    },
    {
      "cell_type": "code",
      "metadata": {
        "id": "BAL01ymsh9b3",
        "colab_type": "code",
        "outputId": "7cbf71be-a602-4a43-f9a4-5b46e61f8fa7",
        "colab": {
          "base_uri": "https://localhost:8080/",
          "height": 70
        }
      },
      "source": [
        "evaluation_y"
      ],
      "execution_count": 46,
      "outputs": [
        {
          "output_type": "execute_result",
          "data": {
            "text/plain": [
              "0     78239.91\n",
              "1    129917.04\n",
              "Name: Profit, dtype: float64"
            ]
          },
          "metadata": {
            "tags": []
          },
          "execution_count": 46
        }
      ]
    },
    {
      "cell_type": "markdown",
      "metadata": {
        "id": "6qNbMef54TQF",
        "colab_type": "text"
      },
      "source": [
        "# Backward Elimination"
      ]
    },
    {
      "cell_type": "code",
      "metadata": {
        "id": "yveFljQH5-wl",
        "colab_type": "code",
        "outputId": "056d8bd5-a9be-4e37-d585-d1ffc6d90bb4",
        "colab": {
          "base_uri": "https://localhost:8080/",
          "height": 282
        }
      },
      "source": [
        "!pip install scipy==1.2"
      ],
      "execution_count": 54,
      "outputs": [
        {
          "output_type": "stream",
          "text": [
            "Collecting scipy==1.2\n",
            "\u001b[?25l  Downloading https://files.pythonhosted.org/packages/67/e6/6d4edaceee6a110ecf6f318482f5229792f143e468b34a631f5a0899f56d/scipy-1.2.0-cp36-cp36m-manylinux1_x86_64.whl (26.6MB)\n",
            "\u001b[K     |████████████████████████████████| 26.6MB 1.5MB/s \n",
            "\u001b[?25hRequirement already satisfied: numpy>=1.8.2 in /usr/local/lib/python3.6/dist-packages (from scipy==1.2) (1.16.5)\n",
            "\u001b[31mERROR: albumentations 0.1.12 has requirement imgaug<0.2.7,>=0.2.5, but you'll have imgaug 0.2.9 which is incompatible.\u001b[0m\n",
            "Installing collected packages: scipy\n",
            "  Found existing installation: scipy 1.3.1\n",
            "    Uninstalling scipy-1.3.1:\n",
            "      Successfully uninstalled scipy-1.3.1\n",
            "Successfully installed scipy-1.2.0\n"
          ],
          "name": "stdout"
        },
        {
          "output_type": "display_data",
          "data": {
            "application/vnd.colab-display-data+json": {
              "pip_warning": {
                "packages": [
                  "scipy"
                ]
              }
            }
          },
          "metadata": {
            "tags": []
          }
        }
      ]
    },
    {
      "cell_type": "code",
      "metadata": {
        "id": "93RPHGQD4WDO",
        "colab_type": "code",
        "colab": {}
      },
      "source": [
        "import statsmodels.formula.api as sm"
      ],
      "execution_count": 0,
      "outputs": []
    },
    {
      "cell_type": "markdown",
      "metadata": {
        "id": "384AiQGi4bPK",
        "colab_type": "text"
      },
      "source": [
        "## Step-1"
      ]
    },
    {
      "cell_type": "markdown",
      "metadata": {
        "id": "VS6W_sR26zwz",
        "colab_type": "text"
      },
      "source": [
        "**first we need to create a constant column to get an intercept to our model because the model we are creating by statsmodel do not create intercept by default**"
      ]
    },
    {
      "cell_type": "code",
      "metadata": {
        "id": "X3JaAID57Qi0",
        "colab_type": "code",
        "outputId": "b3539b99-85ac-4e00-9ae7-c64e865503e8",
        "colab": {
          "base_uri": "https://localhost:8080/",
          "height": 185
        }
      },
      "source": [
        "X = np.append(np.ones((len(X), 1)).astype(int), values = X, axis = 1)\n",
        "X[:2]"
      ],
      "execution_count": 2,
      "outputs": [
        {
          "output_type": "error",
          "ename": "NameError",
          "evalue": "ignored",
          "traceback": [
            "\u001b[0;31m---------------------------------------------------------------------------\u001b[0m",
            "\u001b[0;31mNameError\u001b[0m                                 Traceback (most recent call last)",
            "\u001b[0;32m<ipython-input-2-f3382da2eb87>\u001b[0m in \u001b[0;36m<module>\u001b[0;34m()\u001b[0m\n\u001b[0;32m----> 1\u001b[0;31m \u001b[0mX\u001b[0m \u001b[0;34m=\u001b[0m \u001b[0mnp\u001b[0m\u001b[0;34m.\u001b[0m\u001b[0mappend\u001b[0m\u001b[0;34m(\u001b[0m\u001b[0mnp\u001b[0m\u001b[0;34m.\u001b[0m\u001b[0mones\u001b[0m\u001b[0;34m(\u001b[0m\u001b[0;34m(\u001b[0m\u001b[0mlen\u001b[0m\u001b[0;34m(\u001b[0m\u001b[0mX\u001b[0m\u001b[0;34m)\u001b[0m\u001b[0;34m,\u001b[0m \u001b[0;36m1\u001b[0m\u001b[0;34m)\u001b[0m\u001b[0;34m)\u001b[0m\u001b[0;34m.\u001b[0m\u001b[0mastype\u001b[0m\u001b[0;34m(\u001b[0m\u001b[0mint\u001b[0m\u001b[0;34m)\u001b[0m\u001b[0;34m,\u001b[0m \u001b[0mvalues\u001b[0m \u001b[0;34m=\u001b[0m \u001b[0mX\u001b[0m\u001b[0;34m,\u001b[0m \u001b[0maxis\u001b[0m \u001b[0;34m=\u001b[0m \u001b[0;36m1\u001b[0m\u001b[0;34m)\u001b[0m\u001b[0;34m\u001b[0m\u001b[0;34m\u001b[0m\u001b[0m\n\u001b[0m\u001b[1;32m      2\u001b[0m \u001b[0mX\u001b[0m\u001b[0;34m[\u001b[0m\u001b[0;34m:\u001b[0m\u001b[0;36m2\u001b[0m\u001b[0;34m]\u001b[0m\u001b[0;34m\u001b[0m\u001b[0;34m\u001b[0m\u001b[0m\n",
            "\u001b[0;31mNameError\u001b[0m: name 'np' is not defined"
          ]
        }
      ]
    },
    {
      "cell_type": "markdown",
      "metadata": {
        "id": "P_Ae9HyI8LER",
        "colab_type": "text"
      },
      "source": [
        "### optimal features for our model"
      ]
    },
    {
      "cell_type": "code",
      "metadata": {
        "id": "vCq4UWYu7u5l",
        "colab_type": "code",
        "outputId": "d38233ed-e710-4015-8a56-6407377e6deb",
        "colab": {
          "base_uri": "https://localhost:8080/",
          "height": 52
        }
      },
      "source": [
        "X_opt = X[:, [0, 1, 2, 3, 4, 5]]\n",
        "X_opt[:1]"
      ],
      "execution_count": 51,
      "outputs": [
        {
          "output_type": "execute_result",
          "data": {
            "text/plain": [
              "array([[1.000000e+00, 0.000000e+00, 1.000000e+00, 1.653492e+05,\n",
              "        1.368978e+05, 4.717841e+05]])"
            ]
          },
          "metadata": {
            "tags": []
          },
          "execution_count": 51
        }
      ]
    },
    {
      "cell_type": "markdown",
      "metadata": {
        "id": "gGfmV3Hq8RVp",
        "colab_type": "text"
      },
      "source": [
        "## Create model with all variables"
      ]
    },
    {
      "cell_type": "code",
      "metadata": {
        "id": "TgpkxUH68JHy",
        "colab_type": "code",
        "colab": {}
      },
      "source": [
        "def regressor_OLS(X_opt):\n",
        "  import statsmodels.formula.api as sm\n",
        "  regressor_OLS = sm.OLS(endog = y, exog = X_opt).fit()\n",
        "  print(regressor_OLS.summary())\n",
        "  return regressor_OLS"
      ],
      "execution_count": 0,
      "outputs": []
    },
    {
      "cell_type": "code",
      "metadata": {
        "id": "afhvizi29zx0",
        "colab_type": "code",
        "outputId": "a8fe3a61-a5d9-43c7-a1a1-5412d719dbd1",
        "colab": {
          "base_uri": "https://localhost:8080/",
          "height": 292
        }
      },
      "source": [
        "regressor_OLS(X_opt)"
      ],
      "execution_count": 53,
      "outputs": [
        {
          "output_type": "error",
          "ename": "AttributeError",
          "evalue": "ignored",
          "traceback": [
            "\u001b[0;31m---------------------------------------------------------------------------\u001b[0m",
            "\u001b[0;31mAttributeError\u001b[0m                            Traceback (most recent call last)",
            "\u001b[0;32m<ipython-input-53-78c666041632>\u001b[0m in \u001b[0;36m<module>\u001b[0;34m()\u001b[0m\n\u001b[0;32m----> 1\u001b[0;31m \u001b[0mregressor_OLS\u001b[0m\u001b[0;34m(\u001b[0m\u001b[0mX_opt\u001b[0m\u001b[0;34m)\u001b[0m\u001b[0;34m\u001b[0m\u001b[0;34m\u001b[0m\u001b[0m\n\u001b[0m",
            "\u001b[0;32m<ipython-input-52-774b9f88a21f>\u001b[0m in \u001b[0;36mregressor_OLS\u001b[0;34m(X_opt)\u001b[0m\n\u001b[1;32m      1\u001b[0m \u001b[0;32mdef\u001b[0m \u001b[0mregressor_OLS\u001b[0m\u001b[0;34m(\u001b[0m\u001b[0mX_opt\u001b[0m\u001b[0;34m)\u001b[0m\u001b[0;34m:\u001b[0m\u001b[0;34m\u001b[0m\u001b[0;34m\u001b[0m\u001b[0m\n\u001b[1;32m      2\u001b[0m   \u001b[0;32mimport\u001b[0m \u001b[0mstatsmodels\u001b[0m\u001b[0;34m.\u001b[0m\u001b[0mformula\u001b[0m\u001b[0;34m.\u001b[0m\u001b[0mapi\u001b[0m \u001b[0;32mas\u001b[0m \u001b[0msm\u001b[0m\u001b[0;34m\u001b[0m\u001b[0;34m\u001b[0m\u001b[0m\n\u001b[0;32m----> 3\u001b[0;31m   \u001b[0mregressor_OLS\u001b[0m \u001b[0;34m=\u001b[0m \u001b[0msm\u001b[0m\u001b[0;34m.\u001b[0m\u001b[0mOLS\u001b[0m\u001b[0;34m(\u001b[0m\u001b[0mendog\u001b[0m \u001b[0;34m=\u001b[0m \u001b[0my\u001b[0m\u001b[0;34m,\u001b[0m \u001b[0mexog\u001b[0m \u001b[0;34m=\u001b[0m \u001b[0mX_opt\u001b[0m\u001b[0;34m)\u001b[0m\u001b[0;34m.\u001b[0m\u001b[0mfit\u001b[0m\u001b[0;34m(\u001b[0m\u001b[0;34m)\u001b[0m\u001b[0;34m\u001b[0m\u001b[0;34m\u001b[0m\u001b[0m\n\u001b[0m\u001b[1;32m      4\u001b[0m   \u001b[0mprint\u001b[0m\u001b[0;34m(\u001b[0m\u001b[0mregressor_OLS\u001b[0m\u001b[0;34m.\u001b[0m\u001b[0msummary\u001b[0m\u001b[0;34m(\u001b[0m\u001b[0;34m)\u001b[0m\u001b[0;34m)\u001b[0m\u001b[0;34m\u001b[0m\u001b[0;34m\u001b[0m\u001b[0m\n\u001b[1;32m      5\u001b[0m   \u001b[0;32mreturn\u001b[0m \u001b[0mregressor_OLS\u001b[0m\u001b[0;34m\u001b[0m\u001b[0;34m\u001b[0m\u001b[0m\n",
            "\u001b[0;31mAttributeError\u001b[0m: module 'statsmodels.formula.api' has no attribute 'OLS'"
          ]
        }
      ]
    },
    {
      "cell_type": "markdown",
      "metadata": {
        "id": "9qrjcfH38lBy",
        "colab_type": "text"
      },
      "source": [
        "## Step-3:\n",
        "  "
      ]
    },
    {
      "cell_type": "markdown",
      "metadata": {
        "id": "8P76zYhw88BL",
        "colab_type": "text"
      },
      "source": [
        "**Drop feature with highest p value greater than Significance Leval(SL)**"
      ]
    },
    {
      "cell_type": "code",
      "metadata": {
        "id": "gaeunI649LgW",
        "colab_type": "code",
        "outputId": "8ed79348-0214-4de1-8f6d-2d5575ee56bf",
        "colab": {
          "base_uri": "https://localhost:8080/",
          "height": 544
        }
      },
      "source": [
        "X_opt = X[:, [0, 2, 3, 4, 5]]\n",
        "regressor_OLS(X_opt)"
      ],
      "execution_count": 0,
      "outputs": [
        {
          "output_type": "stream",
          "text": [
            "                            OLS Regression Results                            \n",
            "==============================================================================\n",
            "Dep. Variable:                      y   R-squared:                       0.954\n",
            "Model:                            OLS   Adj. R-squared:                  0.949\n",
            "Method:                 Least Squares   F-statistic:                     221.2\n",
            "Date:                Sun, 23 Jun 2019   Prob (F-statistic):           4.47e-28\n",
            "Time:                        14:58:06   Log-Likelihood:                -503.44\n",
            "No. Observations:                  48   AIC:                             1017.\n",
            "Df Residuals:                      43   BIC:                             1026.\n",
            "Df Model:                           4                                         \n",
            "Covariance Type:            nonrobust                                         \n",
            "==============================================================================\n",
            "                 coef    std err          t      P>|t|      [0.025      0.975]\n",
            "------------------------------------------------------------------------------\n",
            "const       5.009e+04   6637.013      7.547      0.000    3.67e+04    6.35e+04\n",
            "x1           959.7888   2818.199      0.341      0.735   -4723.651    6643.229\n",
            "x2             0.8184      0.046     17.809      0.000       0.726       0.911\n",
            "x3            -0.0313      0.051     -0.616      0.541      -0.134       0.071\n",
            "x4             0.0253      0.017      1.533      0.133      -0.008       0.059\n",
            "==============================================================================\n",
            "Omnibus:                       14.414   Durbin-Watson:                   1.385\n",
            "Prob(Omnibus):                  0.001   Jarque-Bera (JB):               21.395\n",
            "Skew:                          -0.915   Prob(JB):                     2.26e-05\n",
            "Kurtosis:                       5.711   Cond. No.                     1.40e+06\n",
            "==============================================================================\n",
            "\n",
            "Warnings:\n",
            "[1] Standard Errors assume that the covariance matrix of the errors is correctly specified.\n",
            "[2] The condition number is large, 1.4e+06. This might indicate that there are\n",
            "strong multicollinearity or other numerical problems.\n"
          ],
          "name": "stdout"
        },
        {
          "output_type": "execute_result",
          "data": {
            "text/plain": [
              "<statsmodels.regression.linear_model.RegressionResultsWrapper at 0x7f32bdcb2860>"
            ]
          },
          "metadata": {
            "tags": []
          },
          "execution_count": 71
        }
      ]
    },
    {
      "cell_type": "code",
      "metadata": {
        "id": "Tm38bg0O-Dc6",
        "colab_type": "code",
        "outputId": "7552a430-697d-41a0-e71d-ffe1922f3808",
        "colab": {
          "base_uri": "https://localhost:8080/",
          "height": 510
        }
      },
      "source": [
        "X_opt = X[:, [0, 3, 4, 5]]\n",
        "opt_regressor = regressor_OLS(X_opt)"
      ],
      "execution_count": 0,
      "outputs": [
        {
          "output_type": "stream",
          "text": [
            "                            OLS Regression Results                            \n",
            "==============================================================================\n",
            "Dep. Variable:                      y   R-squared:                       0.954\n",
            "Model:                            OLS   Adj. R-squared:                  0.950\n",
            "Method:                 Least Squares   F-statistic:                     301.0\n",
            "Date:                Sun, 23 Jun 2019   Prob (F-statistic):           2.50e-29\n",
            "Time:                        14:58:07   Log-Likelihood:                -503.50\n",
            "No. Observations:                  48   AIC:                             1015.\n",
            "Df Residuals:                      44   BIC:                             1022.\n",
            "Df Model:                           3                                         \n",
            "Covariance Type:            nonrobust                                         \n",
            "==============================================================================\n",
            "                 coef    std err          t      P>|t|      [0.025      0.975]\n",
            "------------------------------------------------------------------------------\n",
            "const       5.048e+04   6471.112      7.801      0.000    3.74e+04    6.35e+04\n",
            "x1             0.8193      0.045     18.042      0.000       0.728       0.911\n",
            "x2            -0.0317      0.050     -0.630      0.532      -0.133       0.070\n",
            "x3             0.0249      0.016      1.526      0.134      -0.008       0.058\n",
            "==============================================================================\n",
            "Omnibus:                       14.931   Durbin-Watson:                   1.403\n",
            "Prob(Omnibus):                  0.001   Jarque-Bera (JB):               23.295\n",
            "Skew:                          -0.922   Prob(JB):                     8.74e-06\n",
            "Kurtosis:                       5.872   Cond. No.                     1.38e+06\n",
            "==============================================================================\n",
            "\n",
            "Warnings:\n",
            "[1] Standard Errors assume that the covariance matrix of the errors is correctly specified.\n",
            "[2] The condition number is large, 1.38e+06. This might indicate that there are\n",
            "strong multicollinearity or other numerical problems.\n"
          ],
          "name": "stdout"
        }
      ]
    },
    {
      "cell_type": "code",
      "metadata": {
        "id": "Yap-JT_m-cf6",
        "colab_type": "code",
        "outputId": "ba40d2b0-2701-4864-a2e6-ced9e864338a",
        "colab": {
          "base_uri": "https://localhost:8080/",
          "height": 493
        }
      },
      "source": [
        "X_opt = X_opt[:, [0, 1, 3]]\n",
        "opt_regressor = regressor_OLS(X_opt)"
      ],
      "execution_count": 0,
      "outputs": [
        {
          "output_type": "stream",
          "text": [
            "                            OLS Regression Results                            \n",
            "==============================================================================\n",
            "Dep. Variable:                      y   R-squared:                       0.953\n",
            "Model:                            OLS   Adj. R-squared:                  0.951\n",
            "Method:                 Least Squares   F-statistic:                     457.4\n",
            "Date:                Sun, 23 Jun 2019   Prob (F-statistic):           1.25e-30\n",
            "Time:                        14:58:08   Log-Likelihood:                -503.72\n",
            "No. Observations:                  48   AIC:                             1013.\n",
            "Df Residuals:                      45   BIC:                             1019.\n",
            "Df Model:                           2                                         \n",
            "Covariance Type:            nonrobust                                         \n",
            "==============================================================================\n",
            "                 coef    std err          t      P>|t|      [0.025      0.975]\n",
            "------------------------------------------------------------------------------\n",
            "const       4.677e+04   2678.544     17.462      0.000    4.14e+04    5.22e+04\n",
            "x1             0.8082      0.042     19.450      0.000       0.724       0.892\n",
            "x2             0.0281      0.015      1.829      0.074      -0.003       0.059\n",
            "==============================================================================\n",
            "Omnibus:                       14.821   Durbin-Watson:                   1.383\n",
            "Prob(Omnibus):                  0.001   Jarque-Bera (JB):               23.017\n",
            "Skew:                          -0.917   Prob(JB):                     1.00e-05\n",
            "Kurtosis:                       5.854   Cond. No.                     5.29e+05\n",
            "==============================================================================\n",
            "\n",
            "Warnings:\n",
            "[1] Standard Errors assume that the covariance matrix of the errors is correctly specified.\n",
            "[2] The condition number is large, 5.29e+05. This might indicate that there are\n",
            "strong multicollinearity or other numerical problems.\n"
          ],
          "name": "stdout"
        }
      ]
    },
    {
      "cell_type": "markdown",
      "metadata": {
        "id": "3H3GXROc2dzs",
        "colab_type": "text"
      },
      "source": [
        "## Adjusted R^2"
      ]
    },
    {
      "cell_type": "code",
      "metadata": {
        "id": "bMq53Rhk2Lpq",
        "colab_type": "code",
        "outputId": "1b562c09-163d-45a5-a0db-913efc382778",
        "colab": {
          "base_uri": "https://localhost:8080/",
          "height": 34
        }
      },
      "source": [
        "opt_regressor.rsquared_adj"
      ],
      "execution_count": 0,
      "outputs": [
        {
          "output_type": "execute_result",
          "data": {
            "text/plain": [
              "0.9510321185388474"
            ]
          },
          "metadata": {
            "tags": []
          },
          "execution_count": 74
        }
      ]
    },
    {
      "cell_type": "markdown",
      "metadata": {
        "id": "XO1PigCcWK4H",
        "colab_type": "text"
      },
      "source": [
        "#Backward Elimination by Recursive function"
      ]
    },
    {
      "cell_type": "markdown",
      "metadata": {
        "id": "3lRPYBzX6G_h",
        "colab_type": "text"
      },
      "source": [
        "## by p value and significance level"
      ]
    },
    {
      "cell_type": "code",
      "metadata": {
        "id": "hK5SkY-3Apwy",
        "colab_type": "code",
        "colab": {}
      },
      "source": [
        "def my_regressor_OLS_by_pvalue(X_opt, SL = 0.08):\n",
        "  regressor_OLS = sm.OLS(endog = y, exog = X_opt).fit()\n",
        "  pvalues = regressor_OLS.pvalues\n",
        "  adj_r2 = regressor_OLS.rsquared_adj\n",
        "  if pvalues.max() > SL:\n",
        "    max_pval_col = pvalues.argmax()\n",
        "    X_opt = np.delete(X_opt, max_pval_col, 1)\n",
        "    return my_regressor_OLS(X_opt)\n",
        "  return regressor_OLS"
      ],
      "execution_count": 0,
      "outputs": []
    },
    {
      "cell_type": "code",
      "metadata": {
        "id": "Cdr2GgMZDTaY",
        "colab_type": "code",
        "colab": {}
      },
      "source": [
        "opt_regressor_p = my_regressor_OLS_by_pvalue(X)"
      ],
      "execution_count": 0,
      "outputs": []
    },
    {
      "cell_type": "code",
      "metadata": {
        "id": "w1BC0nz9Fvcd",
        "colab_type": "code",
        "outputId": "ccea62dc-e069-4807-fe9f-0eb4c8a9954f",
        "colab": {
          "base_uri": "https://localhost:8080/",
          "height": 499
        }
      },
      "source": [
        "opt_regressor_p.summary()"
      ],
      "execution_count": 0,
      "outputs": [
        {
          "output_type": "execute_result",
          "data": {
            "text/html": [
              "<table class=\"simpletable\">\n",
              "<caption>OLS Regression Results</caption>\n",
              "<tr>\n",
              "  <th>Dep. Variable:</th>            <td>y</td>        <th>  R-squared:         </th> <td>   0.953</td>\n",
              "</tr>\n",
              "<tr>\n",
              "  <th>Model:</th>                   <td>OLS</td>       <th>  Adj. R-squared:    </th> <td>   0.951</td>\n",
              "</tr>\n",
              "<tr>\n",
              "  <th>Method:</th>             <td>Least Squares</td>  <th>  F-statistic:       </th> <td>   457.4</td>\n",
              "</tr>\n",
              "<tr>\n",
              "  <th>Date:</th>             <td>Sun, 23 Jun 2019</td> <th>  Prob (F-statistic):</th> <td>1.25e-30</td>\n",
              "</tr>\n",
              "<tr>\n",
              "  <th>Time:</th>                 <td>15:14:31</td>     <th>  Log-Likelihood:    </th> <td> -503.72</td>\n",
              "</tr>\n",
              "<tr>\n",
              "  <th>No. Observations:</th>      <td>    48</td>      <th>  AIC:               </th> <td>   1013.</td>\n",
              "</tr>\n",
              "<tr>\n",
              "  <th>Df Residuals:</th>          <td>    45</td>      <th>  BIC:               </th> <td>   1019.</td>\n",
              "</tr>\n",
              "<tr>\n",
              "  <th>Df Model:</th>              <td>     2</td>      <th>                     </th>     <td> </td>   \n",
              "</tr>\n",
              "<tr>\n",
              "  <th>Covariance Type:</th>      <td>nonrobust</td>    <th>                     </th>     <td> </td>   \n",
              "</tr>\n",
              "</table>\n",
              "<table class=\"simpletable\">\n",
              "<tr>\n",
              "    <td></td>       <th>coef</th>     <th>std err</th>      <th>t</th>      <th>P>|t|</th>  <th>[0.025</th>    <th>0.975]</th>  \n",
              "</tr>\n",
              "<tr>\n",
              "  <th>const</th> <td> 4.677e+04</td> <td> 2678.544</td> <td>   17.462</td> <td> 0.000</td> <td> 4.14e+04</td> <td> 5.22e+04</td>\n",
              "</tr>\n",
              "<tr>\n",
              "  <th>x1</th>    <td>    0.8082</td> <td>    0.042</td> <td>   19.450</td> <td> 0.000</td> <td>    0.724</td> <td>    0.892</td>\n",
              "</tr>\n",
              "<tr>\n",
              "  <th>x2</th>    <td>    0.0281</td> <td>    0.015</td> <td>    1.829</td> <td> 0.074</td> <td>   -0.003</td> <td>    0.059</td>\n",
              "</tr>\n",
              "</table>\n",
              "<table class=\"simpletable\">\n",
              "<tr>\n",
              "  <th>Omnibus:</th>       <td>14.821</td> <th>  Durbin-Watson:     </th> <td>   1.383</td>\n",
              "</tr>\n",
              "<tr>\n",
              "  <th>Prob(Omnibus):</th> <td> 0.001</td> <th>  Jarque-Bera (JB):  </th> <td>  23.017</td>\n",
              "</tr>\n",
              "<tr>\n",
              "  <th>Skew:</th>          <td>-0.917</td> <th>  Prob(JB):          </th> <td>1.00e-05</td>\n",
              "</tr>\n",
              "<tr>\n",
              "  <th>Kurtosis:</th>      <td> 5.854</td> <th>  Cond. No.          </th> <td>5.29e+05</td>\n",
              "</tr>\n",
              "</table><br/><br/>Warnings:<br/>[1] Standard Errors assume that the covariance matrix of the errors is correctly specified.<br/>[2] The condition number is large, 5.29e+05. This might indicate that there are<br/>strong multicollinearity or other numerical problems."
            ],
            "text/plain": [
              "<class 'statsmodels.iolib.summary.Summary'>\n",
              "\"\"\"\n",
              "                            OLS Regression Results                            \n",
              "==============================================================================\n",
              "Dep. Variable:                      y   R-squared:                       0.953\n",
              "Model:                            OLS   Adj. R-squared:                  0.951\n",
              "Method:                 Least Squares   F-statistic:                     457.4\n",
              "Date:                Sun, 23 Jun 2019   Prob (F-statistic):           1.25e-30\n",
              "Time:                        15:14:31   Log-Likelihood:                -503.72\n",
              "No. Observations:                  48   AIC:                             1013.\n",
              "Df Residuals:                      45   BIC:                             1019.\n",
              "Df Model:                           2                                         \n",
              "Covariance Type:            nonrobust                                         \n",
              "==============================================================================\n",
              "                 coef    std err          t      P>|t|      [0.025      0.975]\n",
              "------------------------------------------------------------------------------\n",
              "const       4.677e+04   2678.544     17.462      0.000    4.14e+04    5.22e+04\n",
              "x1             0.8082      0.042     19.450      0.000       0.724       0.892\n",
              "x2             0.0281      0.015      1.829      0.074      -0.003       0.059\n",
              "==============================================================================\n",
              "Omnibus:                       14.821   Durbin-Watson:                   1.383\n",
              "Prob(Omnibus):                  0.001   Jarque-Bera (JB):               23.017\n",
              "Skew:                          -0.917   Prob(JB):                     1.00e-05\n",
              "Kurtosis:                       5.854   Cond. No.                     5.29e+05\n",
              "==============================================================================\n",
              "\n",
              "Warnings:\n",
              "[1] Standard Errors assume that the covariance matrix of the errors is correctly specified.\n",
              "[2] The condition number is large, 5.29e+05. This might indicate that there are\n",
              "strong multicollinearity or other numerical problems.\n",
              "\"\"\""
            ]
          },
          "metadata": {
            "tags": []
          },
          "execution_count": 86
        }
      ]
    },
    {
      "cell_type": "markdown",
      "metadata": {
        "id": "1xWXVB8S6PlK",
        "colab_type": "text"
      },
      "source": [
        "## By only adjusted r_squared\n",
        "\n",
        "when we eliminate feautres from our dataset then our model's adj_r2 increasing but when a certain threshold reached then it will start decreasing so the actual model is when the adj_r2 is higher"
      ]
    },
    {
      "cell_type": "code",
      "metadata": {
        "id": "z5H6PUcI3oAb",
        "colab_type": "code",
        "colab": {}
      },
      "source": [
        "def my_regressor_OLS_by_adj_r2(X_opt,model = None, adj_r2 = 0):\n",
        "  regressor_OLS = sm.OLS(endog = y, exog = X_opt).fit()\n",
        "  pvalues = regressor_OLS.pvalues\n",
        "  adj_r2_now = regressor_OLS.rsquared_adj\n",
        "  if adj_r2_now > adj_r2:\n",
        "    max_pval_col = pvalues.argmax()\n",
        "    X_opt = np.delete(X_opt, max_pval_col, 1)\n",
        "    return my_regressor_OLS(X_opt,model = regressor_OLS, adj_r2 = adj_r2_now)\n",
        "  return model"
      ],
      "execution_count": 0,
      "outputs": []
    },
    {
      "cell_type": "code",
      "metadata": {
        "id": "qHv4Guga5zQB",
        "colab_type": "code",
        "outputId": "03c915ca-cfce-462e-a8c8-b4b31f5093c4",
        "colab": {
          "base_uri": "https://localhost:8080/",
          "height": 499
        }
      },
      "source": [
        "opt_regressor_adj_r2 = my_regressor_OLS_by_pvalue(X)\n",
        "opt_regressor_adj_r2.summary()"
      ],
      "execution_count": 0,
      "outputs": [
        {
          "output_type": "execute_result",
          "data": {
            "text/html": [
              "<table class=\"simpletable\">\n",
              "<caption>OLS Regression Results</caption>\n",
              "<tr>\n",
              "  <th>Dep. Variable:</th>            <td>y</td>        <th>  R-squared:         </th> <td>   0.953</td>\n",
              "</tr>\n",
              "<tr>\n",
              "  <th>Model:</th>                   <td>OLS</td>       <th>  Adj. R-squared:    </th> <td>   0.951</td>\n",
              "</tr>\n",
              "<tr>\n",
              "  <th>Method:</th>             <td>Least Squares</td>  <th>  F-statistic:       </th> <td>   457.4</td>\n",
              "</tr>\n",
              "<tr>\n",
              "  <th>Date:</th>             <td>Sun, 23 Jun 2019</td> <th>  Prob (F-statistic):</th> <td>1.25e-30</td>\n",
              "</tr>\n",
              "<tr>\n",
              "  <th>Time:</th>                 <td>15:15:21</td>     <th>  Log-Likelihood:    </th> <td> -503.72</td>\n",
              "</tr>\n",
              "<tr>\n",
              "  <th>No. Observations:</th>      <td>    48</td>      <th>  AIC:               </th> <td>   1013.</td>\n",
              "</tr>\n",
              "<tr>\n",
              "  <th>Df Residuals:</th>          <td>    45</td>      <th>  BIC:               </th> <td>   1019.</td>\n",
              "</tr>\n",
              "<tr>\n",
              "  <th>Df Model:</th>              <td>     2</td>      <th>                     </th>     <td> </td>   \n",
              "</tr>\n",
              "<tr>\n",
              "  <th>Covariance Type:</th>      <td>nonrobust</td>    <th>                     </th>     <td> </td>   \n",
              "</tr>\n",
              "</table>\n",
              "<table class=\"simpletable\">\n",
              "<tr>\n",
              "    <td></td>       <th>coef</th>     <th>std err</th>      <th>t</th>      <th>P>|t|</th>  <th>[0.025</th>    <th>0.975]</th>  \n",
              "</tr>\n",
              "<tr>\n",
              "  <th>const</th> <td> 4.677e+04</td> <td> 2678.544</td> <td>   17.462</td> <td> 0.000</td> <td> 4.14e+04</td> <td> 5.22e+04</td>\n",
              "</tr>\n",
              "<tr>\n",
              "  <th>x1</th>    <td>    0.8082</td> <td>    0.042</td> <td>   19.450</td> <td> 0.000</td> <td>    0.724</td> <td>    0.892</td>\n",
              "</tr>\n",
              "<tr>\n",
              "  <th>x2</th>    <td>    0.0281</td> <td>    0.015</td> <td>    1.829</td> <td> 0.074</td> <td>   -0.003</td> <td>    0.059</td>\n",
              "</tr>\n",
              "</table>\n",
              "<table class=\"simpletable\">\n",
              "<tr>\n",
              "  <th>Omnibus:</th>       <td>14.821</td> <th>  Durbin-Watson:     </th> <td>   1.383</td>\n",
              "</tr>\n",
              "<tr>\n",
              "  <th>Prob(Omnibus):</th> <td> 0.001</td> <th>  Jarque-Bera (JB):  </th> <td>  23.017</td>\n",
              "</tr>\n",
              "<tr>\n",
              "  <th>Skew:</th>          <td>-0.917</td> <th>  Prob(JB):          </th> <td>1.00e-05</td>\n",
              "</tr>\n",
              "<tr>\n",
              "  <th>Kurtosis:</th>      <td> 5.854</td> <th>  Cond. No.          </th> <td>5.29e+05</td>\n",
              "</tr>\n",
              "</table><br/><br/>Warnings:<br/>[1] Standard Errors assume that the covariance matrix of the errors is correctly specified.<br/>[2] The condition number is large, 5.29e+05. This might indicate that there are<br/>strong multicollinearity or other numerical problems."
            ],
            "text/plain": [
              "<class 'statsmodels.iolib.summary.Summary'>\n",
              "\"\"\"\n",
              "                            OLS Regression Results                            \n",
              "==============================================================================\n",
              "Dep. Variable:                      y   R-squared:                       0.953\n",
              "Model:                            OLS   Adj. R-squared:                  0.951\n",
              "Method:                 Least Squares   F-statistic:                     457.4\n",
              "Date:                Sun, 23 Jun 2019   Prob (F-statistic):           1.25e-30\n",
              "Time:                        15:15:21   Log-Likelihood:                -503.72\n",
              "No. Observations:                  48   AIC:                             1013.\n",
              "Df Residuals:                      45   BIC:                             1019.\n",
              "Df Model:                           2                                         \n",
              "Covariance Type:            nonrobust                                         \n",
              "==============================================================================\n",
              "                 coef    std err          t      P>|t|      [0.025      0.975]\n",
              "------------------------------------------------------------------------------\n",
              "const       4.677e+04   2678.544     17.462      0.000    4.14e+04    5.22e+04\n",
              "x1             0.8082      0.042     19.450      0.000       0.724       0.892\n",
              "x2             0.0281      0.015      1.829      0.074      -0.003       0.059\n",
              "==============================================================================\n",
              "Omnibus:                       14.821   Durbin-Watson:                   1.383\n",
              "Prob(Omnibus):                  0.001   Jarque-Bera (JB):               23.017\n",
              "Skew:                          -0.917   Prob(JB):                     1.00e-05\n",
              "Kurtosis:                       5.854   Cond. No.                     5.29e+05\n",
              "==============================================================================\n",
              "\n",
              "Warnings:\n",
              "[1] Standard Errors assume that the covariance matrix of the errors is correctly specified.\n",
              "[2] The condition number is large, 5.29e+05. This might indicate that there are\n",
              "strong multicollinearity or other numerical problems.\n",
              "\"\"\""
            ]
          },
          "metadata": {
            "tags": []
          },
          "execution_count": 87
        }
      ]
    },
    {
      "cell_type": "markdown",
      "metadata": {
        "id": "mliPnxTYZaEJ",
        "colab_type": "text"
      },
      "source": [
        "By this we got that the most significan features are '**R & D spend** and **Marketing spend'**"
      ]
    },
    {
      "cell_type": "markdown",
      "metadata": {
        "id": "1yY4b2A6DdII",
        "colab_type": "text"
      },
      "source": [
        "# correlation matrix"
      ]
    },
    {
      "cell_type": "code",
      "metadata": {
        "id": "G5pXVfjpY7af",
        "colab_type": "code",
        "outputId": "afe62fc8-c74c-4038-d0a3-95b5371f73d9",
        "colab": {
          "base_uri": "https://localhost:8080/",
          "height": 173
        }
      },
      "source": [
        "df.corr()"
      ],
      "execution_count": 0,
      "outputs": [
        {
          "output_type": "execute_result",
          "data": {
            "text/html": [
              "<div>\n",
              "<style scoped>\n",
              "    .dataframe tbody tr th:only-of-type {\n",
              "        vertical-align: middle;\n",
              "    }\n",
              "\n",
              "    .dataframe tbody tr th {\n",
              "        vertical-align: top;\n",
              "    }\n",
              "\n",
              "    .dataframe thead th {\n",
              "        text-align: right;\n",
              "    }\n",
              "</style>\n",
              "<table border=\"1\" class=\"dataframe\">\n",
              "  <thead>\n",
              "    <tr style=\"text-align: right;\">\n",
              "      <th></th>\n",
              "      <th>R&amp;D Spend</th>\n",
              "      <th>Administration</th>\n",
              "      <th>Marketing Spend</th>\n",
              "      <th>Profit</th>\n",
              "    </tr>\n",
              "  </thead>\n",
              "  <tbody>\n",
              "    <tr>\n",
              "      <th>R&amp;D Spend</th>\n",
              "      <td>1.000000</td>\n",
              "      <td>0.243551</td>\n",
              "      <td>0.725514</td>\n",
              "      <td>0.974490</td>\n",
              "    </tr>\n",
              "    <tr>\n",
              "      <th>Administration</th>\n",
              "      <td>0.243551</td>\n",
              "      <td>1.000000</td>\n",
              "      <td>-0.033269</td>\n",
              "      <td>0.200467</td>\n",
              "    </tr>\n",
              "    <tr>\n",
              "      <th>Marketing Spend</th>\n",
              "      <td>0.725514</td>\n",
              "      <td>-0.033269</td>\n",
              "      <td>1.000000</td>\n",
              "      <td>0.747638</td>\n",
              "    </tr>\n",
              "    <tr>\n",
              "      <th>Profit</th>\n",
              "      <td>0.974490</td>\n",
              "      <td>0.200467</td>\n",
              "      <td>0.747638</td>\n",
              "      <td>1.000000</td>\n",
              "    </tr>\n",
              "  </tbody>\n",
              "</table>\n",
              "</div>"
            ],
            "text/plain": [
              "                 R&D Spend  Administration  Marketing Spend    Profit\n",
              "R&D Spend         1.000000        0.243551         0.725514  0.974490\n",
              "Administration    0.243551        1.000000        -0.033269  0.200467\n",
              "Marketing Spend   0.725514       -0.033269         1.000000  0.747638\n",
              "Profit            0.974490        0.200467         0.747638  1.000000"
            ]
          },
          "metadata": {
            "tags": []
          },
          "execution_count": 88
        }
      ]
    },
    {
      "cell_type": "code",
      "metadata": {
        "id": "YE_Z8r12Y855",
        "colab_type": "code",
        "outputId": "eedefbe7-90e7-4f3d-bbad-6f3af36e2abb",
        "colab": {
          "base_uri": "https://localhost:8080/",
          "height": 80
        }
      },
      "source": [
        "df.head(1)"
      ],
      "execution_count": 0,
      "outputs": [
        {
          "output_type": "execute_result",
          "data": {
            "text/html": [
              "<div>\n",
              "<style scoped>\n",
              "    .dataframe tbody tr th:only-of-type {\n",
              "        vertical-align: middle;\n",
              "    }\n",
              "\n",
              "    .dataframe tbody tr th {\n",
              "        vertical-align: top;\n",
              "    }\n",
              "\n",
              "    .dataframe thead th {\n",
              "        text-align: right;\n",
              "    }\n",
              "</style>\n",
              "<table border=\"1\" class=\"dataframe\">\n",
              "  <thead>\n",
              "    <tr style=\"text-align: right;\">\n",
              "      <th></th>\n",
              "      <th>R&amp;D Spend</th>\n",
              "      <th>Administration</th>\n",
              "      <th>Marketing Spend</th>\n",
              "      <th>State</th>\n",
              "      <th>Profit</th>\n",
              "    </tr>\n",
              "  </thead>\n",
              "  <tbody>\n",
              "    <tr>\n",
              "      <th>0</th>\n",
              "      <td>165349.2</td>\n",
              "      <td>136897.8</td>\n",
              "      <td>471784.1</td>\n",
              "      <td>New York</td>\n",
              "      <td>192261.83</td>\n",
              "    </tr>\n",
              "  </tbody>\n",
              "</table>\n",
              "</div>"
            ],
            "text/plain": [
              "   R&D Spend  Administration  Marketing Spend     State     Profit\n",
              "0   165349.2        136897.8         471784.1  New York  192261.83"
            ]
          },
          "metadata": {
            "tags": []
          },
          "execution_count": 89
        }
      ]
    },
    {
      "cell_type": "markdown",
      "metadata": {
        "colab_type": "text",
        "id": "OH4hfSGRZ5OF"
      },
      "source": [
        "By this we also got that the most significan features are '**R & D spend** and **Marketing spend'** with respect to profit"
      ]
    },
    {
      "cell_type": "code",
      "metadata": {
        "id": "riUaBVsxbFls",
        "colab_type": "code",
        "outputId": "cfe9818d-b7af-4f0b-9248-f3cf580c58f1",
        "colab": {
          "base_uri": "https://localhost:8080/",
          "height": 85
        }
      },
      "source": [
        "evaluation_X"
      ],
      "execution_count": 0,
      "outputs": [
        {
          "output_type": "execute_result",
          "data": {
            "text/plain": [
              "array([[0.0000000e+00, 0.0000000e+00, 2.8754330e+04, 1.1854605e+05,\n",
              "        1.7279567e+05],\n",
              "       [0.0000000e+00, 1.0000000e+00, 1.1452361e+05, 1.2261684e+05,\n",
              "        2.6177623e+05]])"
            ]
          },
          "metadata": {
            "tags": []
          },
          "execution_count": 90
        }
      ]
    },
    {
      "cell_type": "code",
      "metadata": {
        "id": "BixbryKFbJPM",
        "colab_type": "code",
        "outputId": "2b56c602-a9f8-4204-9d7d-84b4e3dd2664",
        "colab": {
          "base_uri": "https://localhost:8080/",
          "height": 85
        }
      },
      "source": [
        "evaluation_X = np.append(np.ones((len(evaluation_X), 1)).astype(int), values = evaluation_X, axis = 1)\n",
        "evaluation_X[:2]"
      ],
      "execution_count": 0,
      "outputs": [
        {
          "output_type": "execute_result",
          "data": {
            "text/plain": [
              "array([[1.0000000e+00, 0.0000000e+00, 0.0000000e+00, 2.8754330e+04,\n",
              "        1.1854605e+05, 1.7279567e+05],\n",
              "       [1.0000000e+00, 0.0000000e+00, 1.0000000e+00, 1.1452361e+05,\n",
              "        1.2261684e+05, 2.6177623e+05]])"
            ]
          },
          "metadata": {
            "tags": []
          },
          "execution_count": 91
        }
      ]
    },
    {
      "cell_type": "markdown",
      "metadata": {
        "id": "vkTzb5BdZ_jW",
        "colab_type": "text"
      },
      "source": [
        "remove columns 1, 2, 4"
      ]
    },
    {
      "cell_type": "code",
      "metadata": {
        "id": "iUEUbUmgclSc",
        "colab_type": "code",
        "outputId": "1dc6b9c2-c2eb-44f0-d6b6-94f967ee13e3",
        "colab": {
          "base_uri": "https://localhost:8080/",
          "height": 51
        }
      },
      "source": [
        "evaluation_X = np.delete(evaluation_X, [2, 4], 1)\n",
        "evaluation_X"
      ],
      "execution_count": 0,
      "outputs": [
        {
          "output_type": "execute_result",
          "data": {
            "text/plain": [
              "array([[1.0000000e+00, 0.0000000e+00, 2.8754330e+04, 1.7279567e+05],\n",
              "       [1.0000000e+00, 0.0000000e+00, 1.1452361e+05, 2.6177623e+05]])"
            ]
          },
          "metadata": {
            "tags": []
          },
          "execution_count": 92
        }
      ]
    },
    {
      "cell_type": "code",
      "metadata": {
        "id": "ZR4mCHPGcvmq",
        "colab_type": "code",
        "outputId": "8a997f01-4807-41a8-be43-920cf97159e4",
        "colab": {
          "base_uri": "https://localhost:8080/",
          "height": 51
        }
      },
      "source": [
        "evaluation_X = np.delete(evaluation_X, [1], 1)\n",
        "evaluation_X"
      ],
      "execution_count": 0,
      "outputs": [
        {
          "output_type": "execute_result",
          "data": {
            "text/plain": [
              "array([[1.0000000e+00, 2.8754330e+04, 1.7279567e+05],\n",
              "       [1.0000000e+00, 1.1452361e+05, 2.6177623e+05]])"
            ]
          },
          "metadata": {
            "tags": []
          },
          "execution_count": 93
        }
      ]
    },
    {
      "cell_type": "code",
      "metadata": {
        "id": "K-TtBmLUdIrl",
        "colab_type": "code",
        "colab": {}
      },
      "source": [
        "y_evaluation_ols = opt_regressor.predict(evaluation_X)"
      ],
      "execution_count": 0,
      "outputs": []
    },
    {
      "cell_type": "code",
      "metadata": {
        "id": "X2RPJ5dOdcHM",
        "colab_type": "code",
        "outputId": "f1b8ed32-4350-4e58-e7da-2225409be45c",
        "colab": {
          "base_uri": "https://localhost:8080/",
          "height": 34
        }
      },
      "source": [
        "y_evaluation_ols"
      ],
      "execution_count": 0,
      "outputs": [
        {
          "output_type": "execute_result",
          "data": {
            "text/plain": [
              "array([ 74864.65802953, 146681.62609026])"
            ]
          },
          "metadata": {
            "tags": []
          },
          "execution_count": 95
        }
      ]
    },
    {
      "cell_type": "code",
      "metadata": {
        "id": "VeeS_kmOddx_",
        "colab_type": "code",
        "outputId": "03fc0ca8-311b-40a4-e40f-21b267963c0d",
        "colab": {
          "base_uri": "https://localhost:8080/",
          "height": 68
        }
      },
      "source": [
        "evaluation_y"
      ],
      "execution_count": 0,
      "outputs": [
        {
          "output_type": "execute_result",
          "data": {
            "text/plain": [
              "40     78239.91\n",
              "15    129917.04\n",
              "Name: Profit, dtype: float64"
            ]
          },
          "metadata": {
            "tags": []
          },
          "execution_count": 96
        }
      ]
    },
    {
      "cell_type": "code",
      "metadata": {
        "id": "9lr5y67OdixW",
        "colab_type": "code",
        "colab": {}
      },
      "source": [
        "from sklearn.metrics import r2_score"
      ],
      "execution_count": 0,
      "outputs": []
    },
    {
      "cell_type": "code",
      "metadata": {
        "id": "8tHlSpFYeAV_",
        "colab_type": "code",
        "outputId": "8fd295c2-d2f6-49b3-aae0-bc6b2e1e75e9",
        "colab": {
          "base_uri": "https://localhost:8080/",
          "height": 34
        }
      },
      "source": [
        "r2_score(evaluation_y, y_evaluation_ols)"
      ],
      "execution_count": 0,
      "outputs": [
        {
          "output_type": "execute_result",
          "data": {
            "text/plain": [
              "0.780984196841873"
            ]
          },
          "metadata": {
            "tags": []
          },
          "execution_count": 98
        }
      ]
    }
  ]
}