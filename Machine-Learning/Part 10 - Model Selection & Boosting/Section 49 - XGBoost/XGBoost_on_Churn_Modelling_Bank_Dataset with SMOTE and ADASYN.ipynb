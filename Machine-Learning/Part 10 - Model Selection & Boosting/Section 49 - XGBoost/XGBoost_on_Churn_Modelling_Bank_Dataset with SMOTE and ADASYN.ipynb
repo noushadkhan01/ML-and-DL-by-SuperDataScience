{
  "nbformat": 4,
  "nbformat_minor": 0,
  "metadata": {
    "colab": {
      "name": "XGBoost on Churn_Modelling Bank Dataset.ipynb",
      "version": "0.3.2",
      "provenance": [],
      "include_colab_link": true
    },
    "kernelspec": {
      "name": "python3",
      "display_name": "Python 3"
    },
    "accelerator": "GPU"
  },
  "cells": [
    {
      "cell_type": "markdown",
      "metadata": {
        "id": "view-in-github",
        "colab_type": "text"
      },
      "source": [
        "<a href=\"https://colab.research.google.com/github/noushadkhan01/ML-and-DL-by-SuperDataScience/blob/master/Machine-Learning/Part%2010%20-%20Model%20Selection%20%26%20Boosting/Section%2049%20-%20XGBoost/XGBoost_on_Churn_Modelling_Bank_Dataset%20with%20SMOTE%20and%20ADASYN.ipynb\" target=\"_parent\"><img src=\"https://colab.research.google.com/assets/colab-badge.svg\" alt=\"Open In Colab\"/></a>"
      ]
    },
    {
      "cell_type": "code",
      "metadata": {
        "id": "ufD6A-igAFRp",
        "colab_type": "code",
        "colab": {}
      },
      "source": [
        "from xgboost import XGBClassifier\n",
        "import pandas as pd\n",
        "import matplotlib.pyplot as plt\n",
        "%matplotlib inline\n",
        "import numpy as np"
      ],
      "execution_count": 0,
      "outputs": []
    },
    {
      "cell_type": "code",
      "metadata": {
        "id": "i3wmsyijANF7",
        "colab_type": "code",
        "outputId": "68cc303c-2e3f-4158-85c0-b0354e3053f8",
        "colab": {
          "base_uri": "https://localhost:8080/",
          "height": 204
        }
      },
      "source": [
        "df = pd.read_csv('https://bit.ly/2QMuIPs')\n",
        "df.head()"
      ],
      "execution_count": 3,
      "outputs": [
        {
          "output_type": "execute_result",
          "data": {
            "text/html": [
              "<div>\n",
              "<style scoped>\n",
              "    .dataframe tbody tr th:only-of-type {\n",
              "        vertical-align: middle;\n",
              "    }\n",
              "\n",
              "    .dataframe tbody tr th {\n",
              "        vertical-align: top;\n",
              "    }\n",
              "\n",
              "    .dataframe thead th {\n",
              "        text-align: right;\n",
              "    }\n",
              "</style>\n",
              "<table border=\"1\" class=\"dataframe\">\n",
              "  <thead>\n",
              "    <tr style=\"text-align: right;\">\n",
              "      <th></th>\n",
              "      <th>RowNumber</th>\n",
              "      <th>CustomerId</th>\n",
              "      <th>Surname</th>\n",
              "      <th>CreditScore</th>\n",
              "      <th>Geography</th>\n",
              "      <th>Gender</th>\n",
              "      <th>Age</th>\n",
              "      <th>Tenure</th>\n",
              "      <th>Balance</th>\n",
              "      <th>NumOfProducts</th>\n",
              "      <th>HasCrCard</th>\n",
              "      <th>IsActiveMember</th>\n",
              "      <th>EstimatedSalary</th>\n",
              "      <th>Exited</th>\n",
              "    </tr>\n",
              "  </thead>\n",
              "  <tbody>\n",
              "    <tr>\n",
              "      <th>0</th>\n",
              "      <td>1</td>\n",
              "      <td>15634602</td>\n",
              "      <td>Hargrave</td>\n",
              "      <td>619</td>\n",
              "      <td>France</td>\n",
              "      <td>Female</td>\n",
              "      <td>42</td>\n",
              "      <td>2</td>\n",
              "      <td>0.00</td>\n",
              "      <td>1</td>\n",
              "      <td>1</td>\n",
              "      <td>1</td>\n",
              "      <td>101348.88</td>\n",
              "      <td>1</td>\n",
              "    </tr>\n",
              "    <tr>\n",
              "      <th>1</th>\n",
              "      <td>2</td>\n",
              "      <td>15647311</td>\n",
              "      <td>Hill</td>\n",
              "      <td>608</td>\n",
              "      <td>Spain</td>\n",
              "      <td>Female</td>\n",
              "      <td>41</td>\n",
              "      <td>1</td>\n",
              "      <td>83807.86</td>\n",
              "      <td>1</td>\n",
              "      <td>0</td>\n",
              "      <td>1</td>\n",
              "      <td>112542.58</td>\n",
              "      <td>0</td>\n",
              "    </tr>\n",
              "    <tr>\n",
              "      <th>2</th>\n",
              "      <td>3</td>\n",
              "      <td>15619304</td>\n",
              "      <td>Onio</td>\n",
              "      <td>502</td>\n",
              "      <td>France</td>\n",
              "      <td>Female</td>\n",
              "      <td>42</td>\n",
              "      <td>8</td>\n",
              "      <td>159660.80</td>\n",
              "      <td>3</td>\n",
              "      <td>1</td>\n",
              "      <td>0</td>\n",
              "      <td>113931.57</td>\n",
              "      <td>1</td>\n",
              "    </tr>\n",
              "    <tr>\n",
              "      <th>3</th>\n",
              "      <td>4</td>\n",
              "      <td>15701354</td>\n",
              "      <td>Boni</td>\n",
              "      <td>699</td>\n",
              "      <td>France</td>\n",
              "      <td>Female</td>\n",
              "      <td>39</td>\n",
              "      <td>1</td>\n",
              "      <td>0.00</td>\n",
              "      <td>2</td>\n",
              "      <td>0</td>\n",
              "      <td>0</td>\n",
              "      <td>93826.63</td>\n",
              "      <td>0</td>\n",
              "    </tr>\n",
              "    <tr>\n",
              "      <th>4</th>\n",
              "      <td>5</td>\n",
              "      <td>15737888</td>\n",
              "      <td>Mitchell</td>\n",
              "      <td>850</td>\n",
              "      <td>Spain</td>\n",
              "      <td>Female</td>\n",
              "      <td>43</td>\n",
              "      <td>2</td>\n",
              "      <td>125510.82</td>\n",
              "      <td>1</td>\n",
              "      <td>1</td>\n",
              "      <td>1</td>\n",
              "      <td>79084.10</td>\n",
              "      <td>0</td>\n",
              "    </tr>\n",
              "  </tbody>\n",
              "</table>\n",
              "</div>"
            ],
            "text/plain": [
              "   RowNumber  CustomerId   Surname  ...  IsActiveMember EstimatedSalary Exited\n",
              "0          1    15634602  Hargrave  ...               1       101348.88      1\n",
              "1          2    15647311      Hill  ...               1       112542.58      0\n",
              "2          3    15619304      Onio  ...               0       113931.57      1\n",
              "3          4    15701354      Boni  ...               0        93826.63      0\n",
              "4          5    15737888  Mitchell  ...               1        79084.10      0\n",
              "\n",
              "[5 rows x 14 columns]"
            ]
          },
          "metadata": {
            "tags": []
          },
          "execution_count": 3
        }
      ]
    },
    {
      "cell_type": "code",
      "metadata": {
        "id": "oR-bHZQ0Dq3U",
        "colab_type": "code",
        "outputId": "747e12be-cb2f-4be8-f40b-9ed57680d03f",
        "colab": {
          "base_uri": "https://localhost:8080/",
          "height": 34
        }
      },
      "source": [
        "df.shape"
      ],
      "execution_count": 4,
      "outputs": [
        {
          "output_type": "execute_result",
          "data": {
            "text/plain": [
              "(10000, 14)"
            ]
          },
          "metadata": {
            "tags": []
          },
          "execution_count": 4
        }
      ]
    },
    {
      "cell_type": "code",
      "metadata": {
        "id": "3iWoLOKbDVAu",
        "colab_type": "code",
        "outputId": "0c34d60d-dc17-4325-9e7b-b29e542d53b6",
        "colab": {
          "base_uri": "https://localhost:8080/",
          "height": 80
        }
      },
      "source": [
        "X = df.iloc[:, 3:-1]\n",
        "X.head(1)"
      ],
      "execution_count": 5,
      "outputs": [
        {
          "output_type": "execute_result",
          "data": {
            "text/html": [
              "<div>\n",
              "<style scoped>\n",
              "    .dataframe tbody tr th:only-of-type {\n",
              "        vertical-align: middle;\n",
              "    }\n",
              "\n",
              "    .dataframe tbody tr th {\n",
              "        vertical-align: top;\n",
              "    }\n",
              "\n",
              "    .dataframe thead th {\n",
              "        text-align: right;\n",
              "    }\n",
              "</style>\n",
              "<table border=\"1\" class=\"dataframe\">\n",
              "  <thead>\n",
              "    <tr style=\"text-align: right;\">\n",
              "      <th></th>\n",
              "      <th>CreditScore</th>\n",
              "      <th>Geography</th>\n",
              "      <th>Gender</th>\n",
              "      <th>Age</th>\n",
              "      <th>Tenure</th>\n",
              "      <th>Balance</th>\n",
              "      <th>NumOfProducts</th>\n",
              "      <th>HasCrCard</th>\n",
              "      <th>IsActiveMember</th>\n",
              "      <th>EstimatedSalary</th>\n",
              "    </tr>\n",
              "  </thead>\n",
              "  <tbody>\n",
              "    <tr>\n",
              "      <th>0</th>\n",
              "      <td>619</td>\n",
              "      <td>France</td>\n",
              "      <td>Female</td>\n",
              "      <td>42</td>\n",
              "      <td>2</td>\n",
              "      <td>0.0</td>\n",
              "      <td>1</td>\n",
              "      <td>1</td>\n",
              "      <td>1</td>\n",
              "      <td>101348.88</td>\n",
              "    </tr>\n",
              "  </tbody>\n",
              "</table>\n",
              "</div>"
            ],
            "text/plain": [
              "   CreditScore Geography  Gender  ...  HasCrCard  IsActiveMember  EstimatedSalary\n",
              "0          619    France  Female  ...          1               1        101348.88\n",
              "\n",
              "[1 rows x 10 columns]"
            ]
          },
          "metadata": {
            "tags": []
          },
          "execution_count": 5
        }
      ]
    },
    {
      "cell_type": "code",
      "metadata": {
        "id": "lp7Sak_mEFfL",
        "colab_type": "code",
        "outputId": "792d98a7-8cdd-40c6-9d82-8327e8846e91",
        "colab": {
          "base_uri": "https://localhost:8080/",
          "height": 34
        }
      },
      "source": [
        "X.shape"
      ],
      "execution_count": 6,
      "outputs": [
        {
          "output_type": "execute_result",
          "data": {
            "text/plain": [
              "(10000, 10)"
            ]
          },
          "metadata": {
            "tags": []
          },
          "execution_count": 6
        }
      ]
    },
    {
      "cell_type": "code",
      "metadata": {
        "id": "HRE57OwY4Qm2",
        "colab_type": "code",
        "outputId": "0581abab-8039-42a9-adae-bded77c5b8b2",
        "colab": {
          "base_uri": "https://localhost:8080/",
          "height": 68
        }
      },
      "source": [
        "y = df.Exited\n",
        "y[:2]"
      ],
      "execution_count": 7,
      "outputs": [
        {
          "output_type": "execute_result",
          "data": {
            "text/plain": [
              "0    1\n",
              "1    0\n",
              "Name: Exited, dtype: int64"
            ]
          },
          "metadata": {
            "tags": []
          },
          "execution_count": 7
        }
      ]
    },
    {
      "cell_type": "markdown",
      "metadata": {
        "id": "9CN9kp_a47ys",
        "colab_type": "text"
      },
      "source": [
        "#Check for class imbalance"
      ]
    },
    {
      "cell_type": "code",
      "metadata": {
        "id": "X8nIFW6P4uSb",
        "colab_type": "code",
        "outputId": "221dc7a7-c04e-410d-b615-2f9477a42f49",
        "colab": {
          "base_uri": "https://localhost:8080/",
          "height": 68
        }
      },
      "source": [
        "y.value_counts()"
      ],
      "execution_count": 8,
      "outputs": [
        {
          "output_type": "execute_result",
          "data": {
            "text/plain": [
              "0    7963\n",
              "1    2037\n",
              "Name: Exited, dtype: int64"
            ]
          },
          "metadata": {
            "tags": []
          },
          "execution_count": 8
        }
      ]
    },
    {
      "cell_type": "markdown",
      "metadata": {
        "id": "iSc1RkQX5CNu",
        "colab_type": "text"
      },
      "source": [
        "#check for null values"
      ]
    },
    {
      "cell_type": "code",
      "metadata": {
        "id": "TwQePn_b5EHn",
        "colab_type": "code",
        "outputId": "5d6aa770-e3d3-4ca0-99e3-acf56e1780f0",
        "colab": {
          "base_uri": "https://localhost:8080/",
          "height": 68
        }
      },
      "source": [
        "df.isnull().sum().sort_values(ascending = False)[:2]"
      ],
      "execution_count": 9,
      "outputs": [
        {
          "output_type": "execute_result",
          "data": {
            "text/plain": [
              "Exited             0\n",
              "EstimatedSalary    0\n",
              "dtype: int64"
            ]
          },
          "metadata": {
            "tags": []
          },
          "execution_count": 9
        }
      ]
    },
    {
      "cell_type": "markdown",
      "metadata": {
        "id": "r04hP0R6EJtB",
        "colab_type": "text"
      },
      "source": [
        "## get dummy variable"
      ]
    },
    {
      "cell_type": "code",
      "metadata": {
        "id": "VemBIjxxEOtV",
        "colab_type": "code",
        "outputId": "1909729a-1395-4dba-b24a-a34483b2ff9e",
        "colab": {
          "base_uri": "https://localhost:8080/",
          "height": 34
        }
      },
      "source": [
        "X = pd.get_dummies(X, drop_first = True).values\n",
        "X.shape"
      ],
      "execution_count": 10,
      "outputs": [
        {
          "output_type": "execute_result",
          "data": {
            "text/plain": [
              "(10000, 11)"
            ]
          },
          "metadata": {
            "tags": []
          },
          "execution_count": 10
        }
      ]
    },
    {
      "cell_type": "code",
      "metadata": {
        "id": "8ecgI0akEdSA",
        "colab_type": "code",
        "outputId": "5521b357-28ee-4531-a43c-76f2abcd485f",
        "colab": {
          "base_uri": "https://localhost:8080/",
          "height": 34
        }
      },
      "source": [
        "y = df.Exited\n",
        "y.shape"
      ],
      "execution_count": 11,
      "outputs": [
        {
          "output_type": "execute_result",
          "data": {
            "text/plain": [
              "(10000,)"
            ]
          },
          "metadata": {
            "tags": []
          },
          "execution_count": 11
        }
      ]
    },
    {
      "cell_type": "markdown",
      "metadata": {
        "id": "wowVbFB4EhwP",
        "colab_type": "text"
      },
      "source": [
        "### Train test split"
      ]
    },
    {
      "cell_type": "code",
      "metadata": {
        "id": "FzwgdJCeEkZY",
        "colab_type": "code",
        "colab": {}
      },
      "source": [
        "from sklearn.model_selection import train_test_split as tts"
      ],
      "execution_count": 0,
      "outputs": []
    },
    {
      "cell_type": "code",
      "metadata": {
        "id": "9AHtyXlWEp-b",
        "colab_type": "code",
        "outputId": "3edff4e9-8801-4650-b3d1-1d3cec210f98",
        "colab": {
          "base_uri": "https://localhost:8080/",
          "height": 34
        }
      },
      "source": [
        "X_train, X_test, y_train, y_test = tts(X, y, test_size = .2, random_state = 0)\n",
        "X_train.shape, X_test.shape, y_train.shape, y_test.shape"
      ],
      "execution_count": 47,
      "outputs": [
        {
          "output_type": "execute_result",
          "data": {
            "text/plain": [
              "((8000, 11), (2000, 11), (8000,), (2000,))"
            ]
          },
          "metadata": {
            "tags": []
          },
          "execution_count": 47
        }
      ]
    },
    {
      "cell_type": "markdown",
      "metadata": {
        "id": "9AT2xRNbC1eM",
        "colab_type": "text"
      },
      "source": [
        "#feature scaling"
      ]
    },
    {
      "cell_type": "code",
      "metadata": {
        "id": "019EKo7PC3z_",
        "colab_type": "code",
        "colab": {}
      },
      "source": [
        "from sklearn.preprocessing import StandardScaler"
      ],
      "execution_count": 0,
      "outputs": []
    },
    {
      "cell_type": "code",
      "metadata": {
        "id": "z8ycUEW8C76N",
        "colab_type": "code",
        "colab": {}
      },
      "source": [
        "sc = StandardScaler()\n",
        "X_train_scaled = sc.fit_transform(X_train)\n",
        "X_test_scaled = sc.transform(X_test)"
      ],
      "execution_count": 0,
      "outputs": []
    },
    {
      "cell_type": "markdown",
      "metadata": {
        "id": "f-uQ4oct5Rmg",
        "colab_type": "text"
      },
      "source": [
        "#Over Sampling using SMOTE"
      ]
    },
    {
      "cell_type": "code",
      "metadata": {
        "id": "hrpA_BMW5XZu",
        "colab_type": "code",
        "outputId": "df8f06da-2a1d-4886-8bfb-3d6acbe43098",
        "colab": {
          "base_uri": "https://localhost:8080/",
          "height": 71
        }
      },
      "source": [
        "from imblearn.over_sampling import SMOTE"
      ],
      "execution_count": 14,
      "outputs": [
        {
          "output_type": "stream",
          "text": [
            "/usr/local/lib/python3.6/dist-packages/sklearn/externals/six.py:31: DeprecationWarning: The module is deprecated in version 0.21 and will be removed in version 0.23 since we've dropped support for Python 2.7. Please rely on the official version of six (https://pypi.org/project/six/).\n",
            "  \"(https://pypi.org/project/six/).\", DeprecationWarning)\n"
          ],
          "name": "stderr"
        }
      ]
    },
    {
      "cell_type": "code",
      "metadata": {
        "id": "oaMB_t088Zmo",
        "colab_type": "code",
        "outputId": "89f5f704-3b99-406d-a986-bf5283e0ba97",
        "colab": {
          "base_uri": "https://localhost:8080/",
          "height": 34
        }
      },
      "source": [
        "X_train.shape, y_train.shape"
      ],
      "execution_count": 15,
      "outputs": [
        {
          "output_type": "execute_result",
          "data": {
            "text/plain": [
              "((8000, 11), (8000,))"
            ]
          },
          "metadata": {
            "tags": []
          },
          "execution_count": 15
        }
      ]
    },
    {
      "cell_type": "code",
      "metadata": {
        "id": "w2BNsopuJdUW",
        "colab_type": "code",
        "colab": {
          "base_uri": "https://localhost:8080/",
          "height": 34
        },
        "outputId": "6c5fcfc6-a30b-4844-fe03-038fa1f7d2a7"
      },
      "source": [
        "X_train_smote, y_train_smote = SMOTE().fit_sample(X_train, y_train)\n",
        "X_train_smote.shape, y_train_smote.shape"
      ],
      "execution_count": 85,
      "outputs": [
        {
          "output_type": "execute_result",
          "data": {
            "text/plain": [
              "((12736, 11), (12736,))"
            ]
          },
          "metadata": {
            "tags": []
          },
          "execution_count": 85
        }
      ]
    },
    {
      "cell_type": "code",
      "metadata": {
        "id": "HqLcN4tm7HjT",
        "colab_type": "code",
        "outputId": "61d5597e-b59a-4ec8-ad09-bc9e0c14366e",
        "colab": {
          "base_uri": "https://localhost:8080/",
          "height": 34
        }
      },
      "source": [
        "X_train_sc_smote, y_train_sc_smote = SMOTE().fit_sample(X_train_scaled, y_train)\n",
        "X_train_sc_smote.shape, y_train_sc_smote.shape"
      ],
      "execution_count": 87,
      "outputs": [
        {
          "output_type": "execute_result",
          "data": {
            "text/plain": [
              "((12736, 11), (12736,))"
            ]
          },
          "metadata": {
            "tags": []
          },
          "execution_count": 87
        }
      ]
    },
    {
      "cell_type": "code",
      "metadata": {
        "id": "ip2CKs3K8psH",
        "colab_type": "code",
        "outputId": "348c6291-4cc2-41fb-a511-9bbfa899ca4e",
        "colab": {
          "base_uri": "https://localhost:8080/",
          "height": 68
        }
      },
      "source": [
        "pd.Series(y_train_smote).value_counts()"
      ],
      "execution_count": 51,
      "outputs": [
        {
          "output_type": "execute_result",
          "data": {
            "text/plain": [
              "1    6368\n",
              "0    6368\n",
              "dtype: int64"
            ]
          },
          "metadata": {
            "tags": []
          },
          "execution_count": 51
        }
      ]
    },
    {
      "cell_type": "code",
      "metadata": {
        "id": "vQ9069Ld6njv",
        "colab_type": "code",
        "colab": {}
      },
      "source": [
        "from imblearn.over_sampling import ADASYN"
      ],
      "execution_count": 0,
      "outputs": []
    },
    {
      "cell_type": "code",
      "metadata": {
        "id": "sgpaH3VA9Fu5",
        "colab_type": "code",
        "outputId": "2196eeb3-088b-44d6-c01c-b7cbf0a9728a",
        "colab": {
          "base_uri": "https://localhost:8080/",
          "height": 34
        }
      },
      "source": [
        "X_train_adasyn, y_train_adasyn = ADASYN().fit_sample(X_train, y_train)\n",
        "X_train_adasyn.shape, y_train_adasyn.shape"
      ],
      "execution_count": 90,
      "outputs": [
        {
          "output_type": "execute_result",
          "data": {
            "text/plain": [
              "((12835, 11), (12835,))"
            ]
          },
          "metadata": {
            "tags": []
          },
          "execution_count": 90
        }
      ]
    },
    {
      "cell_type": "code",
      "metadata": {
        "id": "-xA8m3nJJ0We",
        "colab_type": "code",
        "colab": {
          "base_uri": "https://localhost:8080/",
          "height": 34
        },
        "outputId": "878c9f7a-d9a7-4625-c32d-dc04841400fb"
      },
      "source": [
        "X_train_sc_adasyn, y_train_sc_adasyn = ADASYN().fit_sample(X_train_scaled, y_train)\n",
        "X_train_sc_adasyn.shape, y_train_sc_adasyn.shape"
      ],
      "execution_count": 91,
      "outputs": [
        {
          "output_type": "execute_result",
          "data": {
            "text/plain": [
              "((12838, 11), (12838,))"
            ]
          },
          "metadata": {
            "tags": []
          },
          "execution_count": 91
        }
      ]
    },
    {
      "cell_type": "code",
      "metadata": {
        "id": "jEGBZ7im-N3P",
        "colab_type": "code",
        "outputId": "f223af99-e229-43a6-b5a2-491d877ff216",
        "colab": {
          "base_uri": "https://localhost:8080/",
          "height": 68
        }
      },
      "source": [
        "pd.Series(y_train_adasyn).value_counts()"
      ],
      "execution_count": 53,
      "outputs": [
        {
          "output_type": "execute_result",
          "data": {
            "text/plain": [
              "1    6470\n",
              "0    6368\n",
              "dtype: int64"
            ]
          },
          "metadata": {
            "tags": []
          },
          "execution_count": 53
        }
      ]
    },
    {
      "cell_type": "code",
      "metadata": {
        "id": "IwrvT1nNDoj9",
        "colab_type": "code",
        "colab": {
          "base_uri": "https://localhost:8080/",
          "height": 68
        },
        "outputId": "e3100f8b-8fd1-4e5a-9ee8-e85c49631a8d"
      },
      "source": [
        "X_train_adasyn[0]"
      ],
      "execution_count": 55,
      "outputs": [
        {
          "output_type": "execute_result",
          "data": {
            "text/plain": [
              "array([ 0.16958176, -0.46460796,  0.00666099, -1.21571749,  0.8095029 ,\n",
              "        0.64259497, -1.03227043,  1.10643166, -0.5698444 ,  1.74309049,\n",
              "       -1.09168714])"
            ]
          },
          "metadata": {
            "tags": []
          },
          "execution_count": 55
        }
      ]
    },
    {
      "cell_type": "markdown",
      "metadata": {
        "id": "WYS8A5EJHoc1",
        "colab_type": "text"
      },
      "source": [
        "# Train model"
      ]
    },
    {
      "cell_type": "code",
      "metadata": {
        "id": "uoieeGFcE_Qy",
        "colab_type": "code",
        "outputId": "7c9fd7f5-49e1-4b41-8515-ae16b4653441",
        "colab": {
          "base_uri": "https://localhost:8080/",
          "height": 136
        }
      },
      "source": [
        "!git clone https://github.com/noushadkhan01/my_methods"
      ],
      "execution_count": 21,
      "outputs": [
        {
          "output_type": "stream",
          "text": [
            "Cloning into 'my_methods'...\n",
            "remote: Enumerating objects: 110, done.\u001b[K\n",
            "remote: Counting objects:   0% (1/110)   \u001b[K\rremote: Counting objects:   1% (2/110)   \u001b[K\rremote: Counting objects:   2% (3/110)   \u001b[K\rremote: Counting objects:   3% (4/110)   \u001b[K\rremote: Counting objects:   4% (5/110)   \u001b[K\rremote: Counting objects:   5% (6/110)   \u001b[K\rremote: Counting objects:   6% (7/110)   \u001b[K\rremote: Counting objects:   7% (8/110)   \u001b[K\rremote: Counting objects:   8% (9/110)   \u001b[K\rremote: Counting objects:   9% (10/110)   \u001b[K\rremote: Counting objects:  10% (11/110)   \u001b[K\rremote: Counting objects:  11% (13/110)   \u001b[K\rremote: Counting objects:  12% (14/110)   \u001b[K\rremote: Counting objects:  13% (15/110)   \u001b[K\rremote: Counting objects:  14% (16/110)   \u001b[K\rremote: Counting objects:  15% (17/110)   \u001b[K\rremote: Counting objects:  16% (18/110)   \u001b[K\rremote: Counting objects:  17% (19/110)   \u001b[K\rremote: Counting objects:  18% (20/110)   \u001b[K\rremote: Counting objects:  19% (21/110)   \u001b[K\rremote: Counting objects:  20% (22/110)   \u001b[K\rremote: Counting objects:  21% (24/110)   \u001b[K\rremote: Counting objects:  22% (25/110)   \u001b[K\rremote: Counting objects:  23% (26/110)   \u001b[K\rremote: Counting objects:  24% (27/110)   \u001b[K\rremote: Counting objects:  25% (28/110)   \u001b[K\rremote: Counting objects:  26% (29/110)   \u001b[K\rremote: Counting objects:  27% (30/110)   \u001b[K\rremote: Counting objects:  28% (31/110)   \u001b[K\rremote: Counting objects:  29% (32/110)   \u001b[K\rremote: Counting objects:  30% (33/110)   \u001b[K\rremote: Counting objects:  31% (35/110)   \u001b[K\rremote: Counting objects:  32% (36/110)   \u001b[K\rremote: Counting objects:  33% (37/110)   \u001b[K\rremote: Counting objects:  34% (38/110)   \u001b[K\rremote: Counting objects:  35% (39/110)   \u001b[K\rremote: Counting objects:  36% (40/110)   \u001b[K\rremote: Counting objects:  37% (41/110)   \u001b[K\rremote: Counting objects:  38% (42/110)   \u001b[K\rremote: Counting objects:  39% (43/110)   \u001b[K\rremote: Counting objects:  40% (44/110)   \u001b[K\rremote: Counting objects:  41% (46/110)   \u001b[K\rremote: Counting objects:  42% (47/110)   \u001b[K\rremote: Counting objects:  43% (48/110)   \u001b[K\rremote: Counting objects:  44% (49/110)   \u001b[K\rremote: Counting objects:  45% (50/110)   \u001b[K\rremote: Counting objects:  46% (51/110)   \u001b[K\rremote: Counting objects:  47% (52/110)   \u001b[K\rremote: Counting objects:  48% (53/110)   \u001b[K\rremote: Counting objects:  49% (54/110)   \u001b[K\rremote: Counting objects:  50% (55/110)   \u001b[K\rremote: Counting objects:  51% (57/110)   \u001b[K\rremote: Counting objects:  52% (58/110)   \u001b[K\rremote: Counting objects:  53% (59/110)   \u001b[K\rremote: Counting objects:  54% (60/110)   \u001b[K\rremote: Counting objects:  55% (61/110)   \u001b[K\rremote: Counting objects:  56% (62/110)   \u001b[K\rremote: Counting objects:  57% (63/110)   \u001b[K\rremote: Counting objects:  58% (64/110)   \u001b[K\rremote: Counting objects:  59% (65/110)   \u001b[K\rremote: Counting objects:  60% (66/110)   \u001b[K\rremote: Counting objects:  61% (68/110)   \u001b[K\rremote: Counting objects:  62% (69/110)   \u001b[K\rremote: Counting objects:  63% (70/110)   \u001b[K\rremote: Counting objects:  64% (71/110)   \u001b[K\rremote: Counting objects:  65% (72/110)   \u001b[K\rremote: Counting objects:  66% (73/110)   \u001b[K\rremote: Counting objects:  67% (74/110)   \u001b[K\rremote: Counting objects:  68% (75/110)   \u001b[K\rremote: Counting objects:  69% (76/110)   \u001b[K\rremote: Counting objects:  70% (77/110)   \u001b[K\rremote: Counting objects:  71% (79/110)   \u001b[K\rremote: Counting objects:  72% (80/110)   \u001b[K\rremote: Counting objects:  73% (81/110)   \u001b[K\rremote: Counting objects:  74% (82/110)   \u001b[K\rremote: Counting objects:  75% (83/110)   \u001b[K\rremote: Counting objects:  76% (84/110)   \u001b[K\rremote: Counting objects:  77% (85/110)   \u001b[K\rremote: Counting objects:  78% (86/110)   \u001b[K\rremote: Counting objects:  79% (87/110)   \u001b[K\rremote: Counting objects:  80% (88/110)   \u001b[K\rremote: Counting objects:  81% (90/110)   \u001b[K\rremote: Counting objects:  82% (91/110)   \u001b[K\rremote: Counting objects:  83% (92/110)   \u001b[K\rremote: Counting objects:  84% (93/110)   \u001b[K\rremote: Counting objects:  85% (94/110)   \u001b[K\rremote: Counting objects:  86% (95/110)   \u001b[K\rremote: Counting objects:  87% (96/110)   \u001b[K\rremote: Counting objects:  88% (97/110)   \u001b[K\rremote: Counting objects:  89% (98/110)   \u001b[K\rremote: Counting objects:  90% (99/110)   \u001b[K\rremote: Counting objects:  91% (101/110)   \u001b[K\rremote: Counting objects:  92% (102/110)   \u001b[K\rremote: Counting objects:  93% (103/110)   \u001b[K\rremote: Counting objects:  94% (104/110)   \u001b[K\rremote: Counting objects:  95% (105/110)   \u001b[K\rremote: Counting objects:  96% (106/110)   \u001b[K\rremote: Counting objects:  97% (107/110)   \u001b[K\rremote: Counting objects:  98% (108/110)   \u001b[K\rremote: Counting objects:  99% (109/110)   \u001b[K\rremote: Counting objects: 100% (110/110)   \u001b[K\rremote: Counting objects: 100% (110/110), done.\u001b[K\n",
            "remote: Compressing objects: 100% (110/110), done.\u001b[K\n",
            "remote: Total 263 (delta 63), reused 0 (delta 0), pack-reused 153\u001b[K\n",
            "Receiving objects: 100% (263/263), 68.80 KiB | 757.00 KiB/s, done.\n",
            "Resolving deltas: 100% (150/150), done.\n"
          ],
          "name": "stdout"
        }
      ]
    },
    {
      "cell_type": "code",
      "metadata": {
        "id": "qtgmuAc1-62X",
        "colab_type": "code",
        "outputId": "b20f51c3-83df-4415-a0b1-2830009b8717",
        "colab": {
          "base_uri": "https://localhost:8080/",
          "height": 34
        }
      },
      "source": [
        "%cd my_methods"
      ],
      "execution_count": 22,
      "outputs": [
        {
          "output_type": "stream",
          "text": [
            "/content/my_methods\n"
          ],
          "name": "stdout"
        }
      ]
    },
    {
      "cell_type": "code",
      "metadata": {
        "id": "V-AVyJKP_Dpl",
        "colab_type": "code",
        "outputId": "e597f4f2-5709-4995-8ee4-6393e0d5ad69",
        "colab": {
          "base_uri": "https://localhost:8080/",
          "height": 119
        }
      },
      "source": [
        "!ls"
      ],
      "execution_count": 23,
      "outputs": [
        {
          "output_type": "stream",
          "text": [
            "choose_best_classifier.py\t      my_global_variables.py\n",
            "choose_optimal_number_of_clusters.py  my_roc_curve.py\n",
            "get_cross_validation.py\t\t      print_model_results.py\n",
            "my_cap_curve.py\t\t\t      README.md\n",
            "my_dummy_variable_2.py\t\t      visualise_classifier_performance.py\n",
            "my_dummy_variable_creator.py\n"
          ],
          "name": "stdout"
        }
      ]
    },
    {
      "cell_type": "code",
      "metadata": {
        "id": "F8N5XskC-_0K",
        "colab_type": "code",
        "colab": {}
      },
      "source": [
        "from print_model_results import print_model_results\n",
        "from get_cross_validation import get_cross_validation\n",
        "import my_global_variables\n",
        "my_global_variables.init()"
      ],
      "execution_count": 0,
      "outputs": []
    },
    {
      "cell_type": "code",
      "metadata": {
        "id": "EXnUefNxG_qc",
        "colab_type": "code",
        "colab": {}
      },
      "source": [
        "import warnings\n",
        "warnings.filterwarnings('ignore')"
      ],
      "execution_count": 0,
      "outputs": []
    },
    {
      "cell_type": "markdown",
      "metadata": {
        "id": "ChDRCjeXHoSp",
        "colab_type": "text"
      },
      "source": [
        "#PCA"
      ]
    },
    {
      "cell_type": "code",
      "metadata": {
        "id": "aCUCBTC4HqCi",
        "colab_type": "code",
        "colab": {}
      },
      "source": [
        "from sklearn.decomposition import PCA"
      ],
      "execution_count": 0,
      "outputs": []
    },
    {
      "cell_type": "code",
      "metadata": {
        "id": "RXd38Ae5HtIi",
        "colab_type": "code",
        "colab": {}
      },
      "source": [
        "pca = PCA()\n",
        "X_train_pca = pca.fit_transform(X_train_scaled)\n",
        "X_test_pca = pca.transform(X_test_scaled)"
      ],
      "execution_count": 0,
      "outputs": []
    },
    {
      "cell_type": "code",
      "metadata": {
        "id": "Gs49k-xyIFAs",
        "colab_type": "code",
        "colab": {
          "base_uri": "https://localhost:8080/",
          "height": 68
        },
        "outputId": "0d9ee1f5-3f1d-4c3a-ea2c-404389b83ad1"
      },
      "source": [
        "variance = pca.explained_variance_ratio_\n",
        "variance"
      ],
      "execution_count": 78,
      "outputs": [
        {
          "output_type": "execute_result",
          "data": {
            "text/plain": [
              "array([0.15034639, 0.1028392 , 0.09996458, 0.09293917, 0.09151456,\n",
              "       0.09055952, 0.08971894, 0.08848339, 0.08157563, 0.06903591,\n",
              "       0.04302272])"
            ]
          },
          "metadata": {
            "tags": []
          },
          "execution_count": 78
        }
      ]
    },
    {
      "cell_type": "code",
      "metadata": {
        "id": "sTAWO-NAIQGr",
        "colab_type": "code",
        "colab": {
          "base_uri": "https://localhost:8080/",
          "height": 68
        },
        "outputId": "04338273-1db2-4db7-9d9f-8d4b41452fcc"
      },
      "source": [
        "cum_variance = np.cumsum(variance)\n",
        "cum_variance"
      ],
      "execution_count": 79,
      "outputs": [
        {
          "output_type": "execute_result",
          "data": {
            "text/plain": [
              "array([0.15034639, 0.25318559, 0.35315016, 0.44608933, 0.53760389,\n",
              "       0.62816341, 0.71788235, 0.80636574, 0.88794137, 0.95697728,\n",
              "       1.        ])"
            ]
          },
          "metadata": {
            "tags": []
          },
          "execution_count": 79
        }
      ]
    },
    {
      "cell_type": "code",
      "metadata": {
        "id": "FvPQ9grNIUim",
        "colab_type": "code",
        "colab": {
          "base_uri": "https://localhost:8080/",
          "height": 286
        },
        "outputId": "2bafc681-f6a6-4f08-f237-a7307a3f01ce"
      },
      "source": [
        "plt.plot(range(len(variance)), cum_variance)"
      ],
      "execution_count": 80,
      "outputs": [
        {
          "output_type": "execute_result",
          "data": {
            "text/plain": [
              "[<matplotlib.lines.Line2D at 0x7f08d4b17da0>]"
            ]
          },
          "metadata": {
            "tags": []
          },
          "execution_count": 80
        },
        {
          "output_type": "display_data",
          "data": {
            "image/png": "[encoded data removed]",
            "text/plain": [
              "<Figure size 432x288 with 1 Axes>"
            ]
          },
          "metadata": {
            "tags": []
          }
        }
      ]
    },
    {
      "cell_type": "markdown",
      "metadata": {
        "id": "SaWP7vg0At9x",
        "colab_type": "text"
      },
      "source": [
        "##GridSearchCV"
      ]
    },
    {
      "cell_type": "code",
      "metadata": {
        "id": "H5afGL9sAxPt",
        "colab_type": "code",
        "colab": {}
      },
      "source": [
        "from sklearn.model_selection import GridSearchCV"
      ],
      "execution_count": 0,
      "outputs": []
    },
    {
      "cell_type": "code",
      "metadata": {
        "id": "sDNUKfEeBy8C",
        "colab_type": "code",
        "colab": {}
      },
      "source": [
        "classifier = XGBClassifier(random_state = 0)"
      ],
      "execution_count": 0,
      "outputs": []
    },
    {
      "cell_type": "code",
      "metadata": {
        "id": "NOJ4pzIRA8Yl",
        "colab_type": "code",
        "colab": {
          "base_uri": "https://localhost:8080/",
          "height": 255
        },
        "outputId": "69e86465-6011-463d-8c2b-ad27d1e15aaa"
      },
      "source": [
        "param_grid = {'max_depth': range(10)}\n",
        "grid = GridSearchCV(param_grid = param_grid, scoring = 'accuracy', estimator = classifier, verbose = 0, cv = 10)\n",
        "grid.fit(X_train, y_train)"
      ],
      "execution_count": 98,
      "outputs": [
        {
          "output_type": "execute_result",
          "data": {
            "text/plain": [
              "GridSearchCV(cv=10, error_score='raise-deprecating',\n",
              "             estimator=XGBClassifier(base_score=0.5, booster='gbtree',\n",
              "                                     colsample_bylevel=1, colsample_bynode=1,\n",
              "                                     colsample_bytree=1, gamma=0,\n",
              "                                     learning_rate=0.1, max_delta_step=0,\n",
              "                                     max_depth=3, min_child_weight=1,\n",
              "                                     missing=None, n_estimators=100, n_jobs=1,\n",
              "                                     nthread=None, objective='binary:logistic',\n",
              "                                     random_state=0, reg_alpha=0, reg_lambda=1,\n",
              "                                     scale_pos_weight=1, seed=None, silent=None,\n",
              "                                     subsample=1, verbosity=1),\n",
              "             iid='warn', n_jobs=None, param_grid={'max_depth': range(0, 10)},\n",
              "             pre_dispatch='2*n_jobs', refit=True, return_train_score=False,\n",
              "             scoring='accuracy', verbose=0)"
            ]
          },
          "metadata": {
            "tags": []
          },
          "execution_count": 98
        }
      ]
    },
    {
      "cell_type": "code",
      "metadata": {
        "id": "cTVLl377CIm2",
        "colab_type": "code",
        "colab": {
          "base_uri": "https://localhost:8080/",
          "height": 34
        },
        "outputId": "1f46924f-8a61-41b6-a7e4-c986e2509651"
      },
      "source": [
        "grid.best_params_"
      ],
      "execution_count": 99,
      "outputs": [
        {
          "output_type": "execute_result",
          "data": {
            "text/plain": [
              "{'max_depth': 4}"
            ]
          },
          "metadata": {
            "tags": []
          },
          "execution_count": 99
        }
      ]
    },
    {
      "cell_type": "code",
      "metadata": {
        "id": "jPMaSHQjEZ_B",
        "colab_type": "code",
        "colab": {
          "base_uri": "https://localhost:8080/",
          "height": 34
        },
        "outputId": "1637b0c9-bc5d-4766-8723-f66031d1d291"
      },
      "source": [
        "grid.best_score_"
      ],
      "execution_count": 100,
      "outputs": [
        {
          "output_type": "execute_result",
          "data": {
            "text/plain": [
              "0.864375"
            ]
          },
          "metadata": {
            "tags": []
          },
          "execution_count": 100
        }
      ]
    },
    {
      "cell_type": "code",
      "metadata": {
        "id": "jdB7JbBdKUOA",
        "colab_type": "code",
        "colab": {
          "base_uri": "https://localhost:8080/",
          "height": 255
        },
        "outputId": "3fc6bba7-7887-4fbe-c91a-a60bd2f5619b"
      },
      "source": [
        "classifier = XGBClassifier(random_state = 0)\n",
        "param_grid = {'max_depth': range(10)}\n",
        "grid_sc = GridSearchCV(param_grid = param_grid, scoring = 'accuracy', estimator = classifier, cv = 10)\n",
        "grid_sc.fit(X_train_scaled, y_train)"
      ],
      "execution_count": 95,
      "outputs": [
        {
          "output_type": "execute_result",
          "data": {
            "text/plain": [
              "GridSearchCV(cv=10, error_score='raise-deprecating',\n",
              "             estimator=XGBClassifier(base_score=0.5, booster='gbtree',\n",
              "                                     colsample_bylevel=1, colsample_bynode=1,\n",
              "                                     colsample_bytree=1, gamma=0,\n",
              "                                     learning_rate=0.1, max_delta_step=0,\n",
              "                                     max_depth=9, min_child_weight=1,\n",
              "                                     missing=None, n_estimators=100, n_jobs=1,\n",
              "                                     nthread=None, objective='binary:logistic',\n",
              "                                     random_state=0, reg_alpha=0, reg_lambda=1,\n",
              "                                     scale_pos_weight=1, seed=None, silent=None,\n",
              "                                     subsample=1, verbosity=1),\n",
              "             iid='warn', n_jobs=None, param_grid={'max_depth': range(0, 10)},\n",
              "             pre_dispatch='2*n_jobs', refit=True, return_train_score=False,\n",
              "             scoring='accuracy', verbose=0)"
            ]
          },
          "metadata": {
            "tags": []
          },
          "execution_count": 95
        }
      ]
    },
    {
      "cell_type": "code",
      "metadata": {
        "id": "sBYAiEp_K0mC",
        "colab_type": "code",
        "colab": {
          "base_uri": "https://localhost:8080/",
          "height": 34
        },
        "outputId": "022d5003-f9e3-46ca-9ead-08a246322c07"
      },
      "source": [
        "grid.best_params_"
      ],
      "execution_count": 96,
      "outputs": [
        {
          "output_type": "execute_result",
          "data": {
            "text/plain": [
              "{'max_depth': 4}"
            ]
          },
          "metadata": {
            "tags": []
          },
          "execution_count": 96
        }
      ]
    },
    {
      "cell_type": "code",
      "metadata": {
        "id": "4QhgHbniBqJx",
        "colab_type": "code",
        "outputId": "82264b07-8da7-48b0-f745-3ba49ace3c8b",
        "colab": {
          "base_uri": "https://localhost:8080/",
          "height": 680
        }
      },
      "source": [
        "classifier = XGBClassifier(max_depth = 4, random_state = 0)\n",
        "print_model_results(X_train, X_test, y_train, y_test, classifier, extra_name = 'simple')\n",
        "get_cross_validation(X_train, y_train, classifier, extra_name = 'simple')"
      ],
      "execution_count": 101,
      "outputs": [
        {
          "output_type": "stream",
          "text": [
            " Train score is 0.879625\n",
            "\n",
            "\n",
            "Test score is 0.866\n",
            "\n",
            "\n",
            "\n",
            "Train confusion matrix is \n",
            " [[6208  160]\n",
            " [ 803  829]]\n",
            "\n",
            "Test confusion matrix is \n",
            " [[1526   69]\n",
            " [ 199  206]]\n",
            "\n",
            "\n",
            "\n",
            "Test Set classification report is \n",
            "               precision    recall  f1-score   support\n",
            "\n",
            "           0       0.88      0.96      0.92      1595\n",
            "           1       0.75      0.51      0.61       405\n",
            "\n",
            "    accuracy                           0.87      2000\n",
            "   macro avg       0.82      0.73      0.76      2000\n",
            "weighted avg       0.86      0.87      0.86      2000\n",
            "\n",
            "10 fold cross-validation for -- XGBClassifier_simple-- Model \n",
            "\n",
            "\n",
            "cross validation score for 10 fold cross-validation is:-- \n",
            " [0.86891386 0.86267166 0.88       0.865      0.85875    0.86375\n",
            " 0.87       0.85625    0.84355444 0.87484355]\n",
            "\n",
            "\n",
            "variance in scores for 10 fold cross-validationn for XGBClassifier:-- 0.00969952339670716\n",
            "\n",
            "\n"
          ],
          "name": "stdout"
        },
        {
          "output_type": "execute_result",
          "data": {
            "text/plain": [
              "'Mean for 10 fold cross-validation score:-- 0.8643733515599242'"
            ]
          },
          "metadata": {
            "tags": []
          },
          "execution_count": 101
        }
      ]
    },
    {
      "cell_type": "markdown",
      "metadata": {
        "id": "JZeirsMCFVrj",
        "colab_type": "text"
      },
      "source": [
        "###train model with scaled features"
      ]
    },
    {
      "cell_type": "code",
      "metadata": {
        "id": "-wonlfbiF1D2",
        "colab_type": "code",
        "colab": {
          "base_uri": "https://localhost:8080/",
          "height": 68
        },
        "outputId": "9e346077-ab87-4511-9c3c-967a8292cb3e"
      },
      "source": [
        "X_train_scaled[0]"
      ],
      "execution_count": 64,
      "outputs": [
        {
          "output_type": "execute_result",
          "data": {
            "text/plain": [
              "array([ 0.16958176, -0.46460796,  0.00666099, -1.21571749,  0.8095029 ,\n",
              "        0.64259497, -1.03227043,  1.10643166, -0.5698444 ,  1.74309049,\n",
              "       -1.09168714])"
            ]
          },
          "metadata": {
            "tags": []
          },
          "execution_count": 64
        }
      ]
    },
    {
      "cell_type": "code",
      "metadata": {
        "id": "rNX3eyhjFUwX",
        "colab_type": "code",
        "colab": {
          "base_uri": "https://localhost:8080/",
          "height": 680
        },
        "outputId": "f59708fa-67c1-479c-9ad6-11ce71a56b0f"
      },
      "source": [
        "classifier = XGBClassifier(max_depth = 4, random_state = 0)\n",
        "print_model_results(X_train_scaled, X_test_scaled, y_train, y_test, classifier, extra_name = 'scaled')\n",
        "classifier = XGBClassifier(max_depth = 4, random_state = 0)\n",
        "get_cross_validation(X_train_scaled, y_train, classifier, extra_name = 'scaled')"
      ],
      "execution_count": 102,
      "outputs": [
        {
          "output_type": "stream",
          "text": [
            " Train score is 0.879625\n",
            "\n",
            "\n",
            "Test score is 0.866\n",
            "\n",
            "\n",
            "\n",
            "Train confusion matrix is \n",
            " [[6208  160]\n",
            " [ 803  829]]\n",
            "\n",
            "Test confusion matrix is \n",
            " [[1526   69]\n",
            " [ 199  206]]\n",
            "\n",
            "\n",
            "\n",
            "Test Set classification report is \n",
            "               precision    recall  f1-score   support\n",
            "\n",
            "           0       0.88      0.96      0.92      1595\n",
            "           1       0.75      0.51      0.61       405\n",
            "\n",
            "    accuracy                           0.87      2000\n",
            "   macro avg       0.82      0.73      0.76      2000\n",
            "weighted avg       0.86      0.87      0.86      2000\n",
            "\n",
            "10 fold cross-validation for -- XGBClassifier_scaled-- Model \n",
            "\n",
            "\n",
            "cross validation score for 10 fold cross-validation is:-- \n",
            " [0.86891386 0.86267166 0.88       0.865      0.85875    0.86375\n",
            " 0.87       0.85625    0.84355444 0.87484355]\n",
            "\n",
            "\n",
            "variance in scores for 10 fold cross-validationn for XGBClassifier:-- 0.00969952339670716\n",
            "\n",
            "\n"
          ],
          "name": "stdout"
        },
        {
          "output_type": "execute_result",
          "data": {
            "text/plain": [
              "'Mean for 10 fold cross-validation score:-- 0.8643733515599242'"
            ]
          },
          "metadata": {
            "tags": []
          },
          "execution_count": 102
        }
      ]
    },
    {
      "cell_type": "markdown",
      "metadata": {
        "id": "5DSB_oQ4B-6k",
        "colab_type": "text"
      },
      "source": [
        "##train model with smote features"
      ]
    },
    {
      "cell_type": "code",
      "metadata": {
        "colab_type": "code",
        "outputId": "d7584445-ba49-420c-fabf-840ad54ba7dc",
        "id": "3vnOcINtCRas",
        "colab": {
          "base_uri": "https://localhost:8080/",
          "height": 680
        }
      },
      "source": [
        "classifier = XGBClassifier(max_depth = 4, random_state = 0)\n",
        "print_model_results(X_train_smote, X_test, y_train_smote, y_test, classifier, extra_name = 'smote')\n",
        "model = XGBClassifier(max_depth = 4)\n",
        "get_cross_validation(X_train_smote, y_train_smote, model, extra_name = 'smote')"
      ],
      "execution_count": 104,
      "outputs": [
        {
          "output_type": "stream",
          "text": [
            " Train score is 0.9158291457286433\n",
            "\n",
            "\n",
            "Test score is 0.8635\n",
            "\n",
            "\n",
            "\n",
            "Train confusion matrix is \n",
            " [[6081  287]\n",
            " [ 785 5583]]\n",
            "\n",
            "Test confusion matrix is \n",
            " [[1491  104]\n",
            " [ 169  236]]\n",
            "\n",
            "\n",
            "\n",
            "Test Set classification report is \n",
            "               precision    recall  f1-score   support\n",
            "\n",
            "           0       0.90      0.93      0.92      1595\n",
            "           1       0.69      0.58      0.63       405\n",
            "\n",
            "    accuracy                           0.86      2000\n",
            "   macro avg       0.80      0.76      0.77      2000\n",
            "weighted avg       0.86      0.86      0.86      2000\n",
            "\n",
            "10 fold cross-validation for -- XGBClassifier_smote-- Model \n",
            "\n",
            "\n",
            "cross validation score for 10 fold cross-validation is:-- \n",
            " [0.72135008 0.70408163 0.84065934 0.95839874 0.96703297 0.96389325\n",
            " 0.96703297 0.96310832 0.96226415 0.96540881]\n",
            "\n",
            "\n",
            "variance in scores for 10 fold cross-validationn for XGBClassifier:-- 0.10120326346200428\n",
            "\n",
            "\n"
          ],
          "name": "stdout"
        },
        {
          "output_type": "execute_result",
          "data": {
            "text/plain": [
              "'Mean for 10 fold cross-validation score:-- 0.9013230255817856'"
            ]
          },
          "metadata": {
            "tags": []
          },
          "execution_count": 104
        }
      ]
    },
    {
      "cell_type": "code",
      "metadata": {
        "id": "9nd43VmSMD4Q",
        "colab_type": "code",
        "colab": {
          "base_uri": "https://localhost:8080/",
          "height": 680
        },
        "outputId": "15a3d5e5-c20e-43a9-f3c8-32a00eb2b6e4"
      },
      "source": [
        "classifier = XGBClassifier(max_depth = 4, random_state = 0)\n",
        "print_model_results(X_train_sc_smote, X_test_scaled, y_train_sc_smote, y_test, classifier, extra_name = 'sc_smote')\n",
        "model = XGBClassifier(max_depth = 4)\n",
        "get_cross_validation(X_train_sc_smote, y_train_sc_smote, model, extra_name = 'sc_smote')"
      ],
      "execution_count": 108,
      "outputs": [
        {
          "output_type": "stream",
          "text": [
            " Train score is 0.8983197236180904\n",
            "\n",
            "\n",
            "Test score is 0.84\n",
            "\n",
            "\n",
            "\n",
            "Train confusion matrix is \n",
            " [[5826  542]\n",
            " [ 753 5615]]\n",
            "\n",
            "Test confusion matrix is \n",
            " [[1411  184]\n",
            " [ 136  269]]\n",
            "\n",
            "\n",
            "\n",
            "Test Set classification report is \n",
            "               precision    recall  f1-score   support\n",
            "\n",
            "           0       0.91      0.88      0.90      1595\n",
            "           1       0.59      0.66      0.63       405\n",
            "\n",
            "    accuracy                           0.84      2000\n",
            "   macro avg       0.75      0.77      0.76      2000\n",
            "weighted avg       0.85      0.84      0.84      2000\n",
            "\n",
            "10 fold cross-validation for -- XGBClassifier_sc_smote-- Model \n",
            "\n",
            "\n",
            "cross validation score for 10 fold cross-validation is:-- \n",
            " [0.76295133 0.75510204 0.83908948 0.91836735 0.92307692 0.92543171\n",
            " 0.933281   0.92229199 0.91902516 0.91823899]\n",
            "\n",
            "\n",
            "variance in scores for 10 fold cross-validationn for XGBClassifier:-- 0.06629443800979158\n",
            "\n",
            "\n"
          ],
          "name": "stdout"
        },
        {
          "output_type": "execute_result",
          "data": {
            "text/plain": [
              "'Mean for 10 fold cross-validation score:-- 0.8816855987678089'"
            ]
          },
          "metadata": {
            "tags": []
          },
          "execution_count": 108
        }
      ]
    },
    {
      "cell_type": "markdown",
      "metadata": {
        "id": "3rf_heQ5D_Z7",
        "colab_type": "text"
      },
      "source": [
        "##train model with adasyn features"
      ]
    },
    {
      "cell_type": "code",
      "metadata": {
        "colab_type": "code",
        "outputId": "09043777-721d-43fa-b503-ce02155fa56c",
        "id": "xb3wiPg2ECaL",
        "colab": {
          "base_uri": "https://localhost:8080/",
          "height": 680
        }
      },
      "source": [
        "classifier = XGBClassifier(max_depth = 4, random_state = 0)\n",
        "model = print_model_results(X_train_adasyn, X_test, y_train_adasyn, y_test, classifier, extra_name = 'adasyn')\n",
        "model = XGBClassifier(max_depth = 4)\n",
        "get_cross_validation(X_train_adasyn, y_train_adasyn, model, extra_name = 'adasyn')"
      ],
      "execution_count": 106,
      "outputs": [
        {
          "output_type": "stream",
          "text": [
            " Train score is 0.9177249707830152\n",
            "\n",
            "\n",
            "Test score is 0.862\n",
            "\n",
            "\n",
            "\n",
            "Train confusion matrix is \n",
            " [[6085  283]\n",
            " [ 773 5694]]\n",
            "\n",
            "Test confusion matrix is \n",
            " [[1489  106]\n",
            " [ 170  235]]\n",
            "\n",
            "\n",
            "\n",
            "Test Set classification report is \n",
            "               precision    recall  f1-score   support\n",
            "\n",
            "           0       0.90      0.93      0.92      1595\n",
            "           1       0.69      0.58      0.63       405\n",
            "\n",
            "    accuracy                           0.86      2000\n",
            "   macro avg       0.79      0.76      0.77      2000\n",
            "weighted avg       0.86      0.86      0.86      2000\n",
            "\n",
            "10 fold cross-validation for -- XGBClassifier_adasyn-- Model \n",
            "\n",
            "\n",
            "cross validation score for 10 fold cross-validation is:-- \n",
            " [0.7211838  0.69781931 0.85981308 0.96261682 0.9665109  0.97040498\n",
            " 0.9665109  0.96336711 0.96177847 0.96411856]\n",
            "\n",
            "\n",
            "variance in scores for 10 fold cross-validationn for XGBClassifier:-- 0.101989752204021\n",
            "\n",
            "\n"
          ],
          "name": "stdout"
        },
        {
          "output_type": "execute_result",
          "data": {
            "text/plain": [
              "'Mean for 10 fold cross-validation score:-- 0.9034123957305376'"
            ]
          },
          "metadata": {
            "tags": []
          },
          "execution_count": 106
        }
      ]
    },
    {
      "cell_type": "code",
      "metadata": {
        "id": "UONbeuuzMc5G",
        "colab_type": "code",
        "colab": {
          "base_uri": "https://localhost:8080/",
          "height": 680
        },
        "outputId": "999985d9-7d02-4e30-fccd-3364c280d4aa"
      },
      "source": [
        "classifier = XGBClassifier(max_depth = 9, random_state = 0)\n",
        "model = print_model_results(X_train_sc_adasyn, X_test_scaled, y_train_sc_adasyn, y_test, classifier, extra_name = 'sc_adasyn')\n",
        "model = XGBClassifier(max_depth = 9)\n",
        "get_cross_validation(X_train_sc_adasyn, y_train_sc_adasyn, model, extra_name = 'sc_adasyn')"
      ],
      "execution_count": 107,
      "outputs": [
        {
          "output_type": "stream",
          "text": [
            " Train score is 0.964947811185543\n",
            "\n",
            "\n",
            "Test score is 0.854\n",
            "\n",
            "\n",
            "\n",
            "Train confusion matrix is \n",
            " [[6229  139]\n",
            " [ 311 6159]]\n",
            "\n",
            "Test confusion matrix is \n",
            " [[1465  130]\n",
            " [ 162  243]]\n",
            "\n",
            "\n",
            "\n",
            "Test Set classification report is \n",
            "               precision    recall  f1-score   support\n",
            "\n",
            "           0       0.90      0.92      0.91      1595\n",
            "           1       0.65      0.60      0.62       405\n",
            "\n",
            "    accuracy                           0.85      2000\n",
            "   macro avg       0.78      0.76      0.77      2000\n",
            "weighted avg       0.85      0.85      0.85      2000\n",
            "\n",
            "10 fold cross-validation for -- XGBClassifier_sc_adasyn-- Model \n",
            "\n",
            "\n",
            "cross validation score for 10 fold cross-validation is:-- \n",
            " [0.74610592 0.73286604 0.86760125 0.93535826 0.95482866 0.95093458\n",
            " 0.95794393 0.94626168 0.94154326 0.94777864]\n",
            "\n",
            "\n",
            "variance in scores for 10 fold cross-validationn for XGBClassifier:-- 0.08305935750401146\n",
            "\n",
            "\n"
          ],
          "name": "stdout"
        },
        {
          "output_type": "execute_result",
          "data": {
            "text/plain": [
              "'Mean for 10 fold cross-validation score:-- 0.8981222213319155'"
            ]
          },
          "metadata": {
            "tags": []
          },
          "execution_count": 107
        }
      ]
    },
    {
      "cell_type": "code",
      "metadata": {
        "id": "ECMqWDJgHTI4",
        "colab_type": "code",
        "outputId": "88393f85-b112-4eab-ef37-55dce7f7ba4c",
        "colab": {
          "base_uri": "https://localhost:8080/",
          "height": 366
        }
      },
      "source": [
        "x = range(1, 7)\n",
        "means = []\n",
        "variances = []\n",
        "import sys\n",
        "for i in x:\n",
        "  sys.stdout.write(f'\\r Running {i}/{len(x)}')\n",
        "  model = XGBClassifier(max_depth = i)\n",
        "  mean, variance = get_cross_validation(X, y, model, cv = 10, out = False, variance = True)\n",
        "  means.append(mean)\n",
        "  variances.append(variance)\n",
        "  sys.stdout.flush()\n",
        "  if i == x[-1]:\n",
        "    sys.stdout.write(f'\\r Done {i}/{len(x)}')\n",
        "\n",
        "plt.figure(figsize = (12, 5))\n",
        "plt.subplot(1, 2, 1)\n",
        "plt.title('Mean score vs max_depth')\n",
        "plt.xlabel('max_depth')\n",
        "plt.ylabel('Mean Score')\n",
        "plt.plot(x, means, c = 'r', label = 'Mean Scores')\n",
        "plt.legend()\n",
        "plt.subplot(1, 2, 2)\n",
        "plt.title('Variance vs max_depth')\n",
        "plt.xlabel('max_depth')\n",
        "plt.ylabel('Variance')\n",
        "plt.plot(x, variances, c = 'r', label = 'Mean Scores')\n",
        "plt.legend()\n",
        "plt.show()"
      ],
      "execution_count": 0,
      "outputs": [
        {
          "output_type": "stream",
          "text": [
            " Done 6/6"
          ],
          "name": "stdout"
        },
        {
          "output_type": "display_data",
          "data": {
            "image/png": "[encoded data removed]",
            "text/plain": [
              "<matplotlib.figure.Figure at 0x7f1ba3014f98>"
            ]
          },
          "metadata": {
            "tags": []
          }
        }
      ]
    },
    {
      "cell_type": "code",
      "metadata": {
        "id": "cD4hb7n1EicI",
        "colab_type": "code",
        "outputId": "8c305d61-49af-4566-fb7b-787ba7e1b0c4",
        "colab": {
          "base_uri": "https://localhost:8080/",
          "height": 323
        }
      },
      "source": [
        "my_global_variables.model_cm"
      ],
      "execution_count": 109,
      "outputs": [
        {
          "output_type": "execute_result",
          "data": {
            "text/plain": [
              "{'XGBClassifier_adasyn': {'test': array([[1489,  106],\n",
              "         [ 170,  235]]), 'train': array([[6085,  283],\n",
              "         [ 773, 5694]])},\n",
              " 'XGBClassifier_sc_adasyn': {'test': array([[1465,  130],\n",
              "         [ 162,  243]]), 'train': array([[6229,  139],\n",
              "         [ 311, 6159]])},\n",
              " 'XGBClassifier_sc_smote': {'test': array([[1411,  184],\n",
              "         [ 136,  269]]), 'train': array([[5826,  542],\n",
              "         [ 753, 5615]])},\n",
              " 'XGBClassifier_scaled': {'test': array([[1526,   69],\n",
              "         [ 199,  206]]), 'train': array([[6208,  160],\n",
              "         [ 803,  829]])},\n",
              " 'XGBClassifier_simple': {'test': array([[1526,   69],\n",
              "         [ 199,  206]]), 'train': array([[6208,  160],\n",
              "         [ 803,  829]])},\n",
              " 'XGBClassifier_smote': {'test': array([[1491,  104],\n",
              "         [ 169,  236]]), 'train': array([[6081,  287],\n",
              "         [ 785, 5583]])}}"
            ]
          },
          "metadata": {
            "tags": []
          },
          "execution_count": 109
        }
      ]
    },
    {
      "cell_type": "code",
      "metadata": {
        "id": "edc7dDB5Enbx",
        "colab_type": "code",
        "outputId": "2c5c8d96-ed0b-4a0f-9370-ffca446ed38c",
        "colab": {
          "base_uri": "https://localhost:8080/",
          "height": 221
        }
      },
      "source": [
        "my_global_variables.model_cross_validation"
      ],
      "execution_count": 110,
      "outputs": [
        {
          "output_type": "execute_result",
          "data": {
            "text/plain": [
              "{'XGBClassifier_adasyn': {'mean': 0.9034123957305376,\n",
              "  'variance': 0.101989752204021},\n",
              " 'XGBClassifier_sc_adasyn': {'mean': 0.8981222213319155,\n",
              "  'variance': 0.08305935750401146},\n",
              " 'XGBClassifier_sc_smote': {'mean': 0.8816855987678089,\n",
              "  'variance': 0.06629443800979158},\n",
              " 'XGBClassifier_scaled': {'mean': 0.8643733515599242,\n",
              "  'variance': 0.00969952339670716},\n",
              " 'XGBClassifier_simple': {'mean': 0.8643733515599242,\n",
              "  'variance': 0.00969952339670716},\n",
              " 'XGBClassifier_smote': {'mean': 0.9013230255817856,\n",
              "  'variance': 0.10120326346200428}}"
            ]
          },
          "metadata": {
            "tags": []
          },
          "execution_count": 110
        }
      ]
    },
    {
      "cell_type": "code",
      "metadata": {
        "id": "quJz9cfmGm98",
        "colab_type": "code",
        "outputId": "180e7a61-24fc-432e-b8ce-f4dbc7611ff7",
        "colab": {
          "base_uri": "https://localhost:8080/",
          "height": 119
        }
      },
      "source": [
        "my_global_variables.model_score"
      ],
      "execution_count": 111,
      "outputs": [
        {
          "output_type": "execute_result",
          "data": {
            "text/plain": [
              "{'XGBClassifier_adasyn': {'test': 0.862, 'train': 0.9177249707830152},\n",
              " 'XGBClassifier_sc_adasyn': {'test': 0.854, 'train': 0.964947811185543},\n",
              " 'XGBClassifier_sc_smote': {'test': 0.84, 'train': 0.8983197236180904},\n",
              " 'XGBClassifier_scaled': {'test': 0.866, 'train': 0.879625},\n",
              " 'XGBClassifier_simple': {'test': 0.866, 'train': 0.879625},\n",
              " 'XGBClassifier_smote': {'test': 0.8635, 'train': 0.9158291457286433}}"
            ]
          },
          "metadata": {
            "tags": []
          },
          "execution_count": 111
        }
      ]
    },
    {
      "cell_type": "markdown",
      "metadata": {
        "id": "oPKDU_EBPsK1",
        "colab_type": "text"
      },
      "source": [
        "#Visualise All model Performance with heatmap"
      ]
    },
    {
      "cell_type": "code",
      "metadata": {
        "id": "E6ZSZUYUG8ON",
        "colab_type": "code",
        "outputId": "78a6e6c8-04c7-472c-ef0e-e642e94b78eb",
        "colab": {
          "base_uri": "https://localhost:8080/",
          "height": 1000
        }
      },
      "source": [
        "import seaborn as sns\n",
        "plt.figure(figsize = (7, 20))\n",
        "n = 1\n",
        "for i, j in my_global_variables.model_cm.items():\n",
        "  plt.subplot(6, 2, n)\n",
        "  plt.title(f'{i} Train')\n",
        "  sns.heatmap(j.get('train'), annot = True, cmap = 'coolwarm', lw = 2, fmt = 'd')\n",
        "  n += 1\n",
        "  plt.subplot(6, 2, n)\n",
        "  plt.title(f'{i} Test')\n",
        "  sns.heatmap(j.get('test'), annot = True, cmap = 'coolwarm', lw = 2, fmt = 'd')\n",
        "  n += 1\n",
        "  \n",
        "plt.show()"
      ],
      "execution_count": 115,
      "outputs": [
        {
          "output_type": "display_data",
          "data": {
            "image/png": "[encoded data removed]",
            "text/plain": [
              "<Figure size 504x1440 with 24 Axes>"
            ]
          },
          "metadata": {
            "tags": []
          }
        }
      ]
    },
    {
      "cell_type": "code",
      "metadata": {
        "id": "nhGgv6MhHeWS",
        "colab_type": "code",
        "colab": {}
      },
      "source": [
        ""
      ],
      "execution_count": 0,
      "outputs": []
    }
  ]
}